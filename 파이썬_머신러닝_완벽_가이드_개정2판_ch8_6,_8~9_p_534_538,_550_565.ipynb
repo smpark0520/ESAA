{
  "nbformat": 4,
  "nbformat_minor": 0,
  "metadata": {
    "colab": {
      "provenance": [],
      "authorship_tag": "ABX9TyMGvySO30UWH3TdX1etRnrg",
      "include_colab_link": true
    },
    "kernelspec": {
      "name": "python3",
      "display_name": "Python 3"
    },
    "language_info": {
      "name": "python"
    }
  },
  "cells": [
    {
      "cell_type": "markdown",
      "metadata": {
        "id": "view-in-github",
        "colab_type": "text"
      },
      "source": [
        "<a href=\"https://colab.research.google.com/github/smpark0520/ESAA/blob/main/%ED%8C%8C%EC%9D%B4%EC%8D%AC_%EB%A8%B8%EC%8B%A0%EB%9F%AC%EB%8B%9D_%EC%99%84%EB%B2%BD_%EA%B0%80%EC%9D%B4%EB%93%9C_%EA%B0%9C%EC%A0%952%ED%8C%90_ch8_6%2C_8~9_p_534_538%2C_550_565.ipynb\" target=\"_parent\"><img src=\"https://colab.research.google.com/assets/colab-badge.svg\" alt=\"Open In Colab\"/></a>"
      ]
    },
    {
      "cell_type": "markdown",
      "source": [
        "# 토픽 모델링(Topic Modeling) — 20 뉴스그룹"
      ],
      "metadata": {
        "id": "H8VNVpb1pykN"
      }
    },
    {
      "cell_type": "markdown",
      "source": [
        "### 토픽 모델링(Topic Modeling) 개요  \n",
        "- 문서 집합에서 숨겨진 주제를 효과적으로 찾아내는 기법\n",
        "- 사람이 문서를 읽고 핵심 주제를 찾는 대신, 머신러닝 기반 방법론을 활용하여 주요 단어를 추출.  \n",
        "\n",
        "### 주요 기법  \n",
        "- **LSA (Latent Semantic Analysis)**  \n",
        "- **LDA (Latent Dirichlet Allocation)**  \n",
        "\n",
        "> ⚠ LDA에는 **Latent Dirichlet Allocation**과 **Linear Discriminant Analysis**가 있으며, 서로 다른 알고리즘이므로 구분이 필요  \n",
        "\n",
        "### 데이터셋  \n",
        "- **20 뉴스그룹(20 Newsgroups) 데이터**  \n",
        "  - 20가지 주제 중 **8개 주제(모터사이클, 야구, 그래픽스, 윈도우, 중동, 기독교, 전자공학, 의학)**를 선택하여 분석  \n",
        "\n",
        "### 사이킷런을 이용한 LDA 토픽 모델링  \n",
        "- `LatentDirichletAllocation` 클래스 제공  \n",
        "- `fetch_20newsgroups(categories=…)`로 특정 주제만 필터링  \n",
        "- **Count 기반 벡터화 사용** (`max_features=1000`, `ngram_range=(1,2)`)  \n"
      ],
      "metadata": {
        "id": "6Q9ZBNdnYs9i"
      }
    },
    {
      "cell_type": "code",
      "execution_count": 38,
      "metadata": {
        "colab": {
          "base_uri": "https://localhost:8080/"
        },
        "id": "IUimWHC-pmyy",
        "outputId": "00c3aece-9d01-40cd-dab6-a27aa88b7ec9"
      },
      "outputs": [
        {
          "output_type": "stream",
          "name": "stdout",
          "text": [
            "CountVectorizer Shape: (7862, 1000)\n"
          ]
        }
      ],
      "source": [
        "from sklearn.datasets import fetch_20newsgroups\n",
        "from sklearn.feature_extraction.text import CountVectorizer\n",
        "from sklearn.decomposition import LatentDirichletAllocation\n",
        "\n",
        "# 모터사이클, 야구, 그래픽스, 윈도우즈, 중동, 기독교, 전자공학, 의학 8개 주제를 추출\n",
        "cats = ['rec.motorcycles', 'rec.sport.baseball', 'comp.graphics', 'comp.windows.x', 'talk.politics.mideast', 'soc.religion.christian', 'sci.electronics', 'sci.med']\n",
        "\n",
        "# 위에서 cats 변수로 기재된 카테고리만 추출.\n",
        "# featch_20newsgroups( )의 categories 파라미터에 cats 입력\n",
        "news_df = fetch_20newsgroups(subset='all', remove=('headers', 'footers', 'quotes'),\n",
        "                             categories=cats, random_state=0)\n",
        "\n",
        "# LDA는 Count 기반의 벡터화만 적용함.\n",
        "count_vect = CountVectorizer(max_df=0.95, max_features=1000, min_df=2, stop_words='english', ngram_range=(1,2))\n",
        "feat_vect = count_vect.fit_transform(news_df.data)\n",
        "print('CountVectorizer Shape:', feat_vect.shape)"
      ]
    },
    {
      "cell_type": "markdown",
      "source": [
        "- 피처 벡터화된 데이터 세트를 기반으로 LDA 토픽 모델링을 수행\n",
        "- 토픽의 개수 : 8개"
      ],
      "metadata": {
        "id": "hhVlU4RKacvf"
      }
    },
    {
      "cell_type": "code",
      "source": [
        "lda = LatentDirichletAllocation(n_components=8, random_state=0)\n",
        "lda.fit(feat_vect)"
      ],
      "metadata": {
        "colab": {
          "base_uri": "https://localhost:8080/",
          "height": 80
        },
        "id": "i5jfjOfirIPv",
        "outputId": "10b5a995-bfd5-40eb-e7c8-8c3fb48cc667"
      },
      "execution_count": 39,
      "outputs": [
        {
          "output_type": "execute_result",
          "data": {
            "text/plain": [
              "LatentDirichletAllocation(n_components=8, random_state=0)"
            ],
            "text/html": [
              "<style>#sk-container-id-4 {\n",
              "  /* Definition of color scheme common for light and dark mode */\n",
              "  --sklearn-color-text: #000;\n",
              "  --sklearn-color-text-muted: #666;\n",
              "  --sklearn-color-line: gray;\n",
              "  /* Definition of color scheme for unfitted estimators */\n",
              "  --sklearn-color-unfitted-level-0: #fff5e6;\n",
              "  --sklearn-color-unfitted-level-1: #f6e4d2;\n",
              "  --sklearn-color-unfitted-level-2: #ffe0b3;\n",
              "  --sklearn-color-unfitted-level-3: chocolate;\n",
              "  /* Definition of color scheme for fitted estimators */\n",
              "  --sklearn-color-fitted-level-0: #f0f8ff;\n",
              "  --sklearn-color-fitted-level-1: #d4ebff;\n",
              "  --sklearn-color-fitted-level-2: #b3dbfd;\n",
              "  --sklearn-color-fitted-level-3: cornflowerblue;\n",
              "\n",
              "  /* Specific color for light theme */\n",
              "  --sklearn-color-text-on-default-background: var(--sg-text-color, var(--theme-code-foreground, var(--jp-content-font-color1, black)));\n",
              "  --sklearn-color-background: var(--sg-background-color, var(--theme-background, var(--jp-layout-color0, white)));\n",
              "  --sklearn-color-border-box: var(--sg-text-color, var(--theme-code-foreground, var(--jp-content-font-color1, black)));\n",
              "  --sklearn-color-icon: #696969;\n",
              "\n",
              "  @media (prefers-color-scheme: dark) {\n",
              "    /* Redefinition of color scheme for dark theme */\n",
              "    --sklearn-color-text-on-default-background: var(--sg-text-color, var(--theme-code-foreground, var(--jp-content-font-color1, white)));\n",
              "    --sklearn-color-background: var(--sg-background-color, var(--theme-background, var(--jp-layout-color0, #111)));\n",
              "    --sklearn-color-border-box: var(--sg-text-color, var(--theme-code-foreground, var(--jp-content-font-color1, white)));\n",
              "    --sklearn-color-icon: #878787;\n",
              "  }\n",
              "}\n",
              "\n",
              "#sk-container-id-4 {\n",
              "  color: var(--sklearn-color-text);\n",
              "}\n",
              "\n",
              "#sk-container-id-4 pre {\n",
              "  padding: 0;\n",
              "}\n",
              "\n",
              "#sk-container-id-4 input.sk-hidden--visually {\n",
              "  border: 0;\n",
              "  clip: rect(1px 1px 1px 1px);\n",
              "  clip: rect(1px, 1px, 1px, 1px);\n",
              "  height: 1px;\n",
              "  margin: -1px;\n",
              "  overflow: hidden;\n",
              "  padding: 0;\n",
              "  position: absolute;\n",
              "  width: 1px;\n",
              "}\n",
              "\n",
              "#sk-container-id-4 div.sk-dashed-wrapped {\n",
              "  border: 1px dashed var(--sklearn-color-line);\n",
              "  margin: 0 0.4em 0.5em 0.4em;\n",
              "  box-sizing: border-box;\n",
              "  padding-bottom: 0.4em;\n",
              "  background-color: var(--sklearn-color-background);\n",
              "}\n",
              "\n",
              "#sk-container-id-4 div.sk-container {\n",
              "  /* jupyter's `normalize.less` sets `[hidden] { display: none; }`\n",
              "     but bootstrap.min.css set `[hidden] { display: none !important; }`\n",
              "     so we also need the `!important` here to be able to override the\n",
              "     default hidden behavior on the sphinx rendered scikit-learn.org.\n",
              "     See: https://github.com/scikit-learn/scikit-learn/issues/21755 */\n",
              "  display: inline-block !important;\n",
              "  position: relative;\n",
              "}\n",
              "\n",
              "#sk-container-id-4 div.sk-text-repr-fallback {\n",
              "  display: none;\n",
              "}\n",
              "\n",
              "div.sk-parallel-item,\n",
              "div.sk-serial,\n",
              "div.sk-item {\n",
              "  /* draw centered vertical line to link estimators */\n",
              "  background-image: linear-gradient(var(--sklearn-color-text-on-default-background), var(--sklearn-color-text-on-default-background));\n",
              "  background-size: 2px 100%;\n",
              "  background-repeat: no-repeat;\n",
              "  background-position: center center;\n",
              "}\n",
              "\n",
              "/* Parallel-specific style estimator block */\n",
              "\n",
              "#sk-container-id-4 div.sk-parallel-item::after {\n",
              "  content: \"\";\n",
              "  width: 100%;\n",
              "  border-bottom: 2px solid var(--sklearn-color-text-on-default-background);\n",
              "  flex-grow: 1;\n",
              "}\n",
              "\n",
              "#sk-container-id-4 div.sk-parallel {\n",
              "  display: flex;\n",
              "  align-items: stretch;\n",
              "  justify-content: center;\n",
              "  background-color: var(--sklearn-color-background);\n",
              "  position: relative;\n",
              "}\n",
              "\n",
              "#sk-container-id-4 div.sk-parallel-item {\n",
              "  display: flex;\n",
              "  flex-direction: column;\n",
              "}\n",
              "\n",
              "#sk-container-id-4 div.sk-parallel-item:first-child::after {\n",
              "  align-self: flex-end;\n",
              "  width: 50%;\n",
              "}\n",
              "\n",
              "#sk-container-id-4 div.sk-parallel-item:last-child::after {\n",
              "  align-self: flex-start;\n",
              "  width: 50%;\n",
              "}\n",
              "\n",
              "#sk-container-id-4 div.sk-parallel-item:only-child::after {\n",
              "  width: 0;\n",
              "}\n",
              "\n",
              "/* Serial-specific style estimator block */\n",
              "\n",
              "#sk-container-id-4 div.sk-serial {\n",
              "  display: flex;\n",
              "  flex-direction: column;\n",
              "  align-items: center;\n",
              "  background-color: var(--sklearn-color-background);\n",
              "  padding-right: 1em;\n",
              "  padding-left: 1em;\n",
              "}\n",
              "\n",
              "\n",
              "/* Toggleable style: style used for estimator/Pipeline/ColumnTransformer box that is\n",
              "clickable and can be expanded/collapsed.\n",
              "- Pipeline and ColumnTransformer use this feature and define the default style\n",
              "- Estimators will overwrite some part of the style using the `sk-estimator` class\n",
              "*/\n",
              "\n",
              "/* Pipeline and ColumnTransformer style (default) */\n",
              "\n",
              "#sk-container-id-4 div.sk-toggleable {\n",
              "  /* Default theme specific background. It is overwritten whether we have a\n",
              "  specific estimator or a Pipeline/ColumnTransformer */\n",
              "  background-color: var(--sklearn-color-background);\n",
              "}\n",
              "\n",
              "/* Toggleable label */\n",
              "#sk-container-id-4 label.sk-toggleable__label {\n",
              "  cursor: pointer;\n",
              "  display: flex;\n",
              "  width: 100%;\n",
              "  margin-bottom: 0;\n",
              "  padding: 0.5em;\n",
              "  box-sizing: border-box;\n",
              "  text-align: center;\n",
              "  align-items: start;\n",
              "  justify-content: space-between;\n",
              "  gap: 0.5em;\n",
              "}\n",
              "\n",
              "#sk-container-id-4 label.sk-toggleable__label .caption {\n",
              "  font-size: 0.6rem;\n",
              "  font-weight: lighter;\n",
              "  color: var(--sklearn-color-text-muted);\n",
              "}\n",
              "\n",
              "#sk-container-id-4 label.sk-toggleable__label-arrow:before {\n",
              "  /* Arrow on the left of the label */\n",
              "  content: \"▸\";\n",
              "  float: left;\n",
              "  margin-right: 0.25em;\n",
              "  color: var(--sklearn-color-icon);\n",
              "}\n",
              "\n",
              "#sk-container-id-4 label.sk-toggleable__label-arrow:hover:before {\n",
              "  color: var(--sklearn-color-text);\n",
              "}\n",
              "\n",
              "/* Toggleable content - dropdown */\n",
              "\n",
              "#sk-container-id-4 div.sk-toggleable__content {\n",
              "  max-height: 0;\n",
              "  max-width: 0;\n",
              "  overflow: hidden;\n",
              "  text-align: left;\n",
              "  /* unfitted */\n",
              "  background-color: var(--sklearn-color-unfitted-level-0);\n",
              "}\n",
              "\n",
              "#sk-container-id-4 div.sk-toggleable__content.fitted {\n",
              "  /* fitted */\n",
              "  background-color: var(--sklearn-color-fitted-level-0);\n",
              "}\n",
              "\n",
              "#sk-container-id-4 div.sk-toggleable__content pre {\n",
              "  margin: 0.2em;\n",
              "  border-radius: 0.25em;\n",
              "  color: var(--sklearn-color-text);\n",
              "  /* unfitted */\n",
              "  background-color: var(--sklearn-color-unfitted-level-0);\n",
              "}\n",
              "\n",
              "#sk-container-id-4 div.sk-toggleable__content.fitted pre {\n",
              "  /* unfitted */\n",
              "  background-color: var(--sklearn-color-fitted-level-0);\n",
              "}\n",
              "\n",
              "#sk-container-id-4 input.sk-toggleable__control:checked~div.sk-toggleable__content {\n",
              "  /* Expand drop-down */\n",
              "  max-height: 200px;\n",
              "  max-width: 100%;\n",
              "  overflow: auto;\n",
              "}\n",
              "\n",
              "#sk-container-id-4 input.sk-toggleable__control:checked~label.sk-toggleable__label-arrow:before {\n",
              "  content: \"▾\";\n",
              "}\n",
              "\n",
              "/* Pipeline/ColumnTransformer-specific style */\n",
              "\n",
              "#sk-container-id-4 div.sk-label input.sk-toggleable__control:checked~label.sk-toggleable__label {\n",
              "  color: var(--sklearn-color-text);\n",
              "  background-color: var(--sklearn-color-unfitted-level-2);\n",
              "}\n",
              "\n",
              "#sk-container-id-4 div.sk-label.fitted input.sk-toggleable__control:checked~label.sk-toggleable__label {\n",
              "  background-color: var(--sklearn-color-fitted-level-2);\n",
              "}\n",
              "\n",
              "/* Estimator-specific style */\n",
              "\n",
              "/* Colorize estimator box */\n",
              "#sk-container-id-4 div.sk-estimator input.sk-toggleable__control:checked~label.sk-toggleable__label {\n",
              "  /* unfitted */\n",
              "  background-color: var(--sklearn-color-unfitted-level-2);\n",
              "}\n",
              "\n",
              "#sk-container-id-4 div.sk-estimator.fitted input.sk-toggleable__control:checked~label.sk-toggleable__label {\n",
              "  /* fitted */\n",
              "  background-color: var(--sklearn-color-fitted-level-2);\n",
              "}\n",
              "\n",
              "#sk-container-id-4 div.sk-label label.sk-toggleable__label,\n",
              "#sk-container-id-4 div.sk-label label {\n",
              "  /* The background is the default theme color */\n",
              "  color: var(--sklearn-color-text-on-default-background);\n",
              "}\n",
              "\n",
              "/* On hover, darken the color of the background */\n",
              "#sk-container-id-4 div.sk-label:hover label.sk-toggleable__label {\n",
              "  color: var(--sklearn-color-text);\n",
              "  background-color: var(--sklearn-color-unfitted-level-2);\n",
              "}\n",
              "\n",
              "/* Label box, darken color on hover, fitted */\n",
              "#sk-container-id-4 div.sk-label.fitted:hover label.sk-toggleable__label.fitted {\n",
              "  color: var(--sklearn-color-text);\n",
              "  background-color: var(--sklearn-color-fitted-level-2);\n",
              "}\n",
              "\n",
              "/* Estimator label */\n",
              "\n",
              "#sk-container-id-4 div.sk-label label {\n",
              "  font-family: monospace;\n",
              "  font-weight: bold;\n",
              "  display: inline-block;\n",
              "  line-height: 1.2em;\n",
              "}\n",
              "\n",
              "#sk-container-id-4 div.sk-label-container {\n",
              "  text-align: center;\n",
              "}\n",
              "\n",
              "/* Estimator-specific */\n",
              "#sk-container-id-4 div.sk-estimator {\n",
              "  font-family: monospace;\n",
              "  border: 1px dotted var(--sklearn-color-border-box);\n",
              "  border-radius: 0.25em;\n",
              "  box-sizing: border-box;\n",
              "  margin-bottom: 0.5em;\n",
              "  /* unfitted */\n",
              "  background-color: var(--sklearn-color-unfitted-level-0);\n",
              "}\n",
              "\n",
              "#sk-container-id-4 div.sk-estimator.fitted {\n",
              "  /* fitted */\n",
              "  background-color: var(--sklearn-color-fitted-level-0);\n",
              "}\n",
              "\n",
              "/* on hover */\n",
              "#sk-container-id-4 div.sk-estimator:hover {\n",
              "  /* unfitted */\n",
              "  background-color: var(--sklearn-color-unfitted-level-2);\n",
              "}\n",
              "\n",
              "#sk-container-id-4 div.sk-estimator.fitted:hover {\n",
              "  /* fitted */\n",
              "  background-color: var(--sklearn-color-fitted-level-2);\n",
              "}\n",
              "\n",
              "/* Specification for estimator info (e.g. \"i\" and \"?\") */\n",
              "\n",
              "/* Common style for \"i\" and \"?\" */\n",
              "\n",
              ".sk-estimator-doc-link,\n",
              "a:link.sk-estimator-doc-link,\n",
              "a:visited.sk-estimator-doc-link {\n",
              "  float: right;\n",
              "  font-size: smaller;\n",
              "  line-height: 1em;\n",
              "  font-family: monospace;\n",
              "  background-color: var(--sklearn-color-background);\n",
              "  border-radius: 1em;\n",
              "  height: 1em;\n",
              "  width: 1em;\n",
              "  text-decoration: none !important;\n",
              "  margin-left: 0.5em;\n",
              "  text-align: center;\n",
              "  /* unfitted */\n",
              "  border: var(--sklearn-color-unfitted-level-1) 1pt solid;\n",
              "  color: var(--sklearn-color-unfitted-level-1);\n",
              "}\n",
              "\n",
              ".sk-estimator-doc-link.fitted,\n",
              "a:link.sk-estimator-doc-link.fitted,\n",
              "a:visited.sk-estimator-doc-link.fitted {\n",
              "  /* fitted */\n",
              "  border: var(--sklearn-color-fitted-level-1) 1pt solid;\n",
              "  color: var(--sklearn-color-fitted-level-1);\n",
              "}\n",
              "\n",
              "/* On hover */\n",
              "div.sk-estimator:hover .sk-estimator-doc-link:hover,\n",
              ".sk-estimator-doc-link:hover,\n",
              "div.sk-label-container:hover .sk-estimator-doc-link:hover,\n",
              ".sk-estimator-doc-link:hover {\n",
              "  /* unfitted */\n",
              "  background-color: var(--sklearn-color-unfitted-level-3);\n",
              "  color: var(--sklearn-color-background);\n",
              "  text-decoration: none;\n",
              "}\n",
              "\n",
              "div.sk-estimator.fitted:hover .sk-estimator-doc-link.fitted:hover,\n",
              ".sk-estimator-doc-link.fitted:hover,\n",
              "div.sk-label-container:hover .sk-estimator-doc-link.fitted:hover,\n",
              ".sk-estimator-doc-link.fitted:hover {\n",
              "  /* fitted */\n",
              "  background-color: var(--sklearn-color-fitted-level-3);\n",
              "  color: var(--sklearn-color-background);\n",
              "  text-decoration: none;\n",
              "}\n",
              "\n",
              "/* Span, style for the box shown on hovering the info icon */\n",
              ".sk-estimator-doc-link span {\n",
              "  display: none;\n",
              "  z-index: 9999;\n",
              "  position: relative;\n",
              "  font-weight: normal;\n",
              "  right: .2ex;\n",
              "  padding: .5ex;\n",
              "  margin: .5ex;\n",
              "  width: min-content;\n",
              "  min-width: 20ex;\n",
              "  max-width: 50ex;\n",
              "  color: var(--sklearn-color-text);\n",
              "  box-shadow: 2pt 2pt 4pt #999;\n",
              "  /* unfitted */\n",
              "  background: var(--sklearn-color-unfitted-level-0);\n",
              "  border: .5pt solid var(--sklearn-color-unfitted-level-3);\n",
              "}\n",
              "\n",
              ".sk-estimator-doc-link.fitted span {\n",
              "  /* fitted */\n",
              "  background: var(--sklearn-color-fitted-level-0);\n",
              "  border: var(--sklearn-color-fitted-level-3);\n",
              "}\n",
              "\n",
              ".sk-estimator-doc-link:hover span {\n",
              "  display: block;\n",
              "}\n",
              "\n",
              "/* \"?\"-specific style due to the `<a>` HTML tag */\n",
              "\n",
              "#sk-container-id-4 a.estimator_doc_link {\n",
              "  float: right;\n",
              "  font-size: 1rem;\n",
              "  line-height: 1em;\n",
              "  font-family: monospace;\n",
              "  background-color: var(--sklearn-color-background);\n",
              "  border-radius: 1rem;\n",
              "  height: 1rem;\n",
              "  width: 1rem;\n",
              "  text-decoration: none;\n",
              "  /* unfitted */\n",
              "  color: var(--sklearn-color-unfitted-level-1);\n",
              "  border: var(--sklearn-color-unfitted-level-1) 1pt solid;\n",
              "}\n",
              "\n",
              "#sk-container-id-4 a.estimator_doc_link.fitted {\n",
              "  /* fitted */\n",
              "  border: var(--sklearn-color-fitted-level-1) 1pt solid;\n",
              "  color: var(--sklearn-color-fitted-level-1);\n",
              "}\n",
              "\n",
              "/* On hover */\n",
              "#sk-container-id-4 a.estimator_doc_link:hover {\n",
              "  /* unfitted */\n",
              "  background-color: var(--sklearn-color-unfitted-level-3);\n",
              "  color: var(--sklearn-color-background);\n",
              "  text-decoration: none;\n",
              "}\n",
              "\n",
              "#sk-container-id-4 a.estimator_doc_link.fitted:hover {\n",
              "  /* fitted */\n",
              "  background-color: var(--sklearn-color-fitted-level-3);\n",
              "}\n",
              "</style><div id=\"sk-container-id-4\" class=\"sk-top-container\"><div class=\"sk-text-repr-fallback\"><pre>LatentDirichletAllocation(n_components=8, random_state=0)</pre><b>In a Jupyter environment, please rerun this cell to show the HTML representation or trust the notebook. <br />On GitHub, the HTML representation is unable to render, please try loading this page with nbviewer.org.</b></div><div class=\"sk-container\" hidden><div class=\"sk-item\"><div class=\"sk-estimator fitted sk-toggleable\"><input class=\"sk-toggleable__control sk-hidden--visually\" id=\"sk-estimator-id-4\" type=\"checkbox\" checked><label for=\"sk-estimator-id-4\" class=\"sk-toggleable__label fitted sk-toggleable__label-arrow\"><div><div>LatentDirichletAllocation</div></div><div><a class=\"sk-estimator-doc-link fitted\" rel=\"noreferrer\" target=\"_blank\" href=\"https://scikit-learn.org/1.6/modules/generated/sklearn.decomposition.LatentDirichletAllocation.html\">?<span>Documentation for LatentDirichletAllocation</span></a><span class=\"sk-estimator-doc-link fitted\">i<span>Fitted</span></span></div></label><div class=\"sk-toggleable__content fitted\"><pre>LatentDirichletAllocation(n_components=8, random_state=0)</pre></div> </div></div></div></div>"
            ]
          },
          "metadata": {},
          "execution_count": 39
        }
      ]
    },
    {
      "cell_type": "markdown",
      "source": [
        "- components_의 형태와 속성값 확인"
      ],
      "metadata": {
        "id": "zg8FshEvazr0"
      }
    },
    {
      "cell_type": "code",
      "source": [
        "print(lda.components_.shape)\n",
        "lda.components_"
      ],
      "metadata": {
        "colab": {
          "base_uri": "https://localhost:8080/"
        },
        "id": "jf8F7VbjraRC",
        "outputId": "6019f2f0-314b-468c-ae60-b96c3ade2a82"
      },
      "execution_count": 40,
      "outputs": [
        {
          "output_type": "stream",
          "name": "stdout",
          "text": [
            "(8, 1000)\n"
          ]
        },
        {
          "output_type": "execute_result",
          "data": {
            "text/plain": [
              "array([[2.69030238e+02, 1.87798026e+02, 7.09003824e+01, ...,\n",
              "        1.22710343e+01, 1.06329639e+02, 7.25995512e+01],\n",
              "       [1.25091799e-01, 2.46049106e+00, 1.25051902e-01, ...,\n",
              "        2.80071176e+02, 1.25089783e-01, 5.05669662e+01],\n",
              "       [1.33978420e+02, 1.25042012e-01, 9.98277256e+01, ...,\n",
              "        1.25092219e-01, 3.31078261e+01, 1.25028398e-01],\n",
              "       ...,\n",
              "       [2.98813886e+01, 1.88071366e+01, 1.14748730e+01, ...,\n",
              "        1.93022584e+01, 5.29368271e+00, 1.44478198e+01],\n",
              "       [1.25074899e-01, 1.25105300e-01, 1.25004235e-01, ...,\n",
              "        1.03576436e+02, 1.25100535e-01, 7.22276359e+01],\n",
              "       [1.25172284e-01, 1.03967760e+00, 1.25221075e-01, ...,\n",
              "        5.31740996e+01, 1.25025929e-01, 1.25062991e-01]])"
            ]
          },
          "metadata": {},
          "execution_count": 40
        }
      ]
    },
    {
      "cell_type": "markdown",
      "source": [
        "### LDA 모델의 `components_` 설명  \n",
        "- `components_`는 **(8, 1000) 크기의 배열**로 구성됨  \n",
        "- **8개의 토픽별로 1000개의 단어(feature)**가 각 토픽과의 연관도 값을 가짐  \n",
        "- 예를 들어, `components_[0, 10]`은 **Topic #0**에서 **10번째 단어의 연관도 값**을 의미  \n",
        "\n",
        "### 토픽별 주요 단어 추출  \n",
        "- `lda_model.components_` 값만으로는 **각 토픽별 단어 연관도를 직접 해석하기 어려움**  \n",
        "- 이를 해결하기 위해 `display_topics()` 함수를 생성하여 **각 토픽별 연관도가 높은 단어를 정렬**하여 표시  \n"
      ],
      "metadata": {
        "id": "q2REcY6hbcel"
      }
    },
    {
      "cell_type": "code",
      "source": [
        "# display_topics( ) 함수 -> 각 토픽별로 연관도가 높은 순으로 Word 나열\n",
        "\n",
        "def display_topics(model, feature_names, no_top_words):\n",
        "    for topic_index, topic in enumerate(model.components_):\n",
        "        print('Topic #', topic_index)\n",
        "\n",
        "        # components_array에서 가장 값이 큰 순으로 정렬했을 때, 그 값의 array 인덱스를 반환.\n",
        "        topic_word_indexes = topic.argsort()[::-1]\n",
        "        top_indexes = topic_word_indexes[:no_top_words]\n",
        "\n",
        "        # top_indexes대상인 인덱스별로 feature_names에 해당하는 word feature 추출 후 join으로 concat\n",
        "        feature_concat = ' '.join([feature_names[i] for i in top_indexes])\n",
        "        print(feature_concat)\n",
        "\n",
        "# CountVectorizer 객체 내의 전체 word의 명칭을 get_features_names( )를 통해 추출\n",
        "feature_names = count_vect.get_feature_names_out()\n",
        "\n",
        "# Topic별 가장 연관도가 높은 word를 15개만 추출\n",
        "display_topics(lda, feature_names, 15)"
      ],
      "metadata": {
        "id": "wJiQoRA9rjS6",
        "colab": {
          "base_uri": "https://localhost:8080/"
        },
        "outputId": "d9667672-52bc-4e41-cd50-00f057dfddf4"
      },
      "execution_count": 41,
      "outputs": [
        {
          "output_type": "stream",
          "name": "stdout",
          "text": [
            "Topic # 0\n",
            "10 year medical health 1993 20 12 disease cancer team patients research number new 11\n",
            "Topic # 1\n",
            "don just like know think good time ve does way really people want ll right\n",
            "Topic # 2\n",
            "image file jpeg output program gif images format files color entry use bit 03 02\n",
            "Topic # 3\n",
            "armenian armenians turkish people said turkey armenia government genocide turks muslim russian greek azerbaijan killed\n",
            "Topic # 4\n",
            "israel jews dos jewish israeli dos dos arab state people arabs palestinian adl ed anti peace\n",
            "Topic # 5\n",
            "edu com available graphics ftp window use mail data motif software version pub information server\n",
            "Topic # 6\n",
            "god people jesus church believe say christ does christian think christians did know bible man\n",
            "Topic # 7\n",
            "thanks use using does help like display need problem know server screen windows window program\n"
          ]
        }
      ]
    },
    {
      "cell_type": "markdown",
      "source": [
        "### LDA 토픽 모델링 결과 분석  \n",
        "\n",
        "- **Topic #0**: 주로 **의학 관련 주제어**가 추출됨  \n",
        "- **Topic #1**: 명확하지 않으며 **일반적인 단어**가 많음  \n",
        "- **Topic #2**: **컴퓨터 그래픽스** 관련 주제어 포함  \n",
        "- **Topic #3**: 일반적인 단어로 구성되어 **주제가 불명확**  \n",
        "- **Topic #4**: **중동(Middle East) 관련 주제어**가 명확히 추출됨  \n",
        "- **Topic #5**: 일부 **컴퓨터 그래픽스** 단어 포함, 하지만 명확한 주제 매핑 어려움  \n",
        "- **Topic #6**: **기독교 관련 주제어**가 명확히 추출됨  \n",
        "- **Topic #7**: **윈도우 운영체제** 관련 주제어 포함  \n",
        "\n",
        "### 주요 문제점  \n",
        "- **Topic #1, #3, #5**는 **일반적인 단어가 많아 주제가 불분명**  \n",
        "- **모터사이클, 야구 관련 주제어가 명확히 추출되지 않음**  \n"
      ],
      "metadata": {
        "id": "80djnnbadEIh"
      }
    },
    {
      "cell_type": "markdown",
      "source": [
        "## 문서 유사도"
      ],
      "metadata": {
        "id": "Kfg8WI0ZegO6"
      }
    },
    {
      "cell_type": "markdown",
      "source": [
        "## 문서 유사도 측정 - 코사인 유사도  \n",
        "\n",
        "- **코사인 유사도(Cosine Similarity)**는 문서 간 유사도 비교에 사용됨  \n",
        "- 벡터의 **크기보다 방향성을 비교**하여 유사도를 측정  \n",
        "- 두 벡터 사이의 **사잇각을 이용해 유사도를 수치화**"
      ],
      "metadata": {
        "id": "iY6JTC0tewWk"
      }
    },
    {
      "cell_type": "markdown",
      "source": [
        "![image.png](data:image/png;base64,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)"
      ],
      "metadata": {
        "id": "XxggFzRoezme"
      }
    },
    {
      "cell_type": "markdown",
      "source": [
        "## 두 벡터의 사잇각과 코사인 유사도  \n",
        "\n",
        "- **두 벡터의 코사인 유사도**는 벡터의 방향성을 비교하여 유사도를 측정  \n",
        "- 두 벡터 $\\mathbf{A}$, $\\mathbf{B}$의 내적은 다음과 같음  \n",
        "\n",
        "  $$\n",
        "  \\mathbf{A} \\cdot \\mathbf{B} = ||\\mathbf{A}|| ||\\mathbf{B}|| \\cos\\theta\n",
        "  $$\n",
        "\n",
        "- 코사인 유사도는 내적을 벡터 크기로 정규화한 값  \n",
        "\n",
        "$$\n",
        "\\text{similarity} = \\cos\\theta = \\frac{\\mathbf{A} \\cdot \\mathbf{B}}{||\\mathbf{A}|| ||\\mathbf{B}||} = \\frac{\\sum_{i=1}^{n} A_i B_i}{\\sqrt{\\sum_{i=1}^{n} A_i^2} \\sqrt{\\sum_{i=1}^{n} B_i^2}}\n",
        "$$\n",
        "\n",
        "- **분자**: 두 벡터의 내적 $ \\sum_{i=1}^{n} A_i B_i $  \n",
        "- **분모**: 각 벡터의 크기(유클리드 노름)  \n",
        "  - $ ||\\mathbf{A}|| = \\sqrt{\\sum_{i=1}^{n} A_i^2} $  \n",
        "  - $ ||\\mathbf{B}|| = \\sqrt{\\sum_{i=1}^{n} B_i^2} $  \n",
        "\n",
        "## 문서 유사도 측정에서 코사인 유사도 활용 이유  \n",
        "1. **희소 행렬(Sparse Matrix)에서 효과적**  \n",
        "   - 문서를 벡터화하면 차원이 매우 크고 희소한 형태가 됨  \n",
        "   - 유클리드 거리 기반 지표보다 **코사인 유사도가 정확도 면에서 유리**  \n",
        "\n",
        "2. **문서 길이에 영향을 받지 않음**  \n",
        "   - 단어 빈도수만으로 유사도를 비교하면 문서 길이에 따라 왜곡 가능  \n",
        "   - 코사인 유사도는 **단어 빈도의 상대적 비율을 고려**하여 공정한 비교 가능  \n"
      ],
      "metadata": {
        "id": "ZemrVsRke002"
      }
    },
    {
      "cell_type": "markdown",
      "source": [
        "- 간단한 문서에 대해서 서로 간의 문서 유사도를 코사인 유사도 기반으로 구하는 코드"
      ],
      "metadata": {
        "id": "ZSIZUxgMggDT"
      }
    },
    {
      "cell_type": "code",
      "source": [
        "import numpy as np\n",
        "\n",
        "def cos_similarity(v1, v2):\n",
        "    dot_product = np.dot(v1, v2)\n",
        "    l2_norm = (np.sqrt(sum(np.square(v1))) * np.sqrt(sum(np.square(v2))))\n",
        "    similarity = dot_product / l2_norm\n",
        "\n",
        "    return similarity"
      ],
      "metadata": {
        "id": "b6eHd3n7giAi"
      },
      "execution_count": 42,
      "outputs": []
    },
    {
      "cell_type": "markdown",
      "source": [
        "- dot_list로 정의된 3개의 간단한 문서의 유사도를 비교하기 위해 이 문서를 TF-IDF로 벡터화된 행렬로 변환"
      ],
      "metadata": {
        "id": "h7CFOaMQg8Oo"
      }
    },
    {
      "cell_type": "code",
      "source": [
        "from sklearn.feature_extraction.text import TfidfVectorizer\n",
        "\n",
        "doc_list = ['if you take the blue pill, the story ends',\n",
        "            'if you take the red pill, you stay in wonderland',\n",
        "            'if you take the red pill, I show you how deep the rabbit hole goes']\n",
        "\n",
        "tfidf_vect_simple = TfidfVectorizer()\n",
        "feature_vect_simple = tfidf_vect_simple.fit_transform(doc_list)\n",
        "print(feature_vect_simple.shape)"
      ],
      "metadata": {
        "colab": {
          "base_uri": "https://localhost:8080/"
        },
        "id": "Ty8_0LrMhBoM",
        "outputId": "322f44fe-ca38-44e4-9501-83ef8edeb71e"
      },
      "execution_count": 43,
      "outputs": [
        {
          "output_type": "stream",
          "name": "stdout",
          "text": [
            "(3, 18)\n"
          ]
        }
      ]
    },
    {
      "cell_type": "markdown",
      "source": [
        "### 문서 유사도 측정 과정\n",
        "\n",
        "1. **희소 행렬(Sparse Matrix) → 밀집 행렬(Dense Matrix) 변환**  \n",
        "2. 각 문서를 배열로 변환 (`feature_vect_dense[0]`, `feature_vect_dense[1]`)  \n",
        "3. `cos_similarity()` 함수를 사용하여 두 문서 간 유사도 계산  \n"
      ],
      "metadata": {
        "id": "OkHC6v2dhy5f"
      }
    },
    {
      "cell_type": "code",
      "source": [
        "# TFidfVectorizer로 transform()한 결과는 희소 행렬이므로 밀집 행렬로 변환.\n",
        "feature_vect_dense = feature_vect_simple.todense()\n",
        "\n",
        "# 첫 번째 문장과 두 번째 문장의 피처 벡터 추출\n",
        "vect1 = np.array(feature_vect_dense[0]).reshape(-1, )\n",
        "vect2 = np.array(feature_vect_dense[1]).reshape(-1, )\n",
        "\n",
        "# 첫 번째 문장과 두 번째 문장의 피처 벡터로 두 개 문장의 코사인 유사도 추출\n",
        "similarity_simple = cos_similarity(vect1, vect2)\n",
        "print('문장 1, 문장 2 Cosine 유사도: {0:.3f}'.format(similarity_simple))"
      ],
      "metadata": {
        "colab": {
          "base_uri": "https://localhost:8080/"
        },
        "id": "bmE8InFbh57y",
        "outputId": "8ed6d3b2-3ed7-4176-f279-3d8e9074def1"
      },
      "execution_count": 44,
      "outputs": [
        {
          "output_type": "stream",
          "name": "stdout",
          "text": [
            "문장 1, 문장 2 Cosine 유사도: 0.402\n"
          ]
        }
      ]
    },
    {
      "cell_type": "markdown",
      "source": [
        "- 첫 번째 문장과 세 번째 문장,\n",
        "그리고 두 번째 문장과 세 번째 문장의 유사도도 측정"
      ],
      "metadata": {
        "id": "VftXsBP3idYk"
      }
    },
    {
      "cell_type": "code",
      "source": [
        "vect1 = np.array(feature_vect_dense[0]).reshape(-1, )\n",
        "vect3 = np.array(feature_vect_dense[2]).reshape(-1, )\n",
        "\n",
        "similarity_simple = cos_similarity(vect1, vect3)\n",
        "print('문장 1, 문장 3 Cosine 유사도: {0:.3f}'.format(similarity_simple))\n",
        "\n",
        "vect2 = np.array(feature_vect_dense[1]).reshape(-1, )\n",
        "vect3 = np.array(feature_vect_dense[2]).reshape(-1, )\n",
        "\n",
        "similarity_simple = cos_similarity(vect2, vect3)\n",
        "print('문장 2, 문장 3 Cosine 유사도: {0:.3f}'.format(similarity_simple))"
      ],
      "metadata": {
        "colab": {
          "base_uri": "https://localhost:8080/"
        },
        "id": "vNKfzlVYifq5",
        "outputId": "8287243e-ada0-4841-de17-778f56737a73"
      },
      "execution_count": 45,
      "outputs": [
        {
          "output_type": "stream",
          "name": "stdout",
          "text": [
            "문장 1, 문장 3 Cosine 유사도: 0.404\n",
            "문장 2, 문장 3 Cosine 유사도: 0.456\n"
          ]
        }
      ]
    },
    {
      "cell_type": "markdown",
      "source": [
        "### 사이킷런의 코사인 유사도 측정  \n",
        "- `sklearn.metrics.pairwise.cosine_similarity()`를 사용하여 문서 유사도 계산  \n",
        "- 첫 번째 파라미터: 기준 문서의 피처 행렬  \n",
        "- 두 번째 파라미터: 비교할 문서의 피처 행렬  \n",
        "- 희소 행렬과 밀집 행렬 모두 지원하며, 별도 변환 없이 사용 가능  \n",
        "- 첫 번째 문서와 나머지 문서들의 유사도를 측정  "
      ],
      "metadata": {
        "id": "i0penvWHivYB"
      }
    },
    {
      "cell_type": "code",
      "source": [
        "from sklearn.metrics.pairwise import cosine_similarity\n",
        "\n",
        "similarity_simple_pair = cosine_similarity(feature_vect_simple[0], feature_vect_simple)\n",
        "print(similarity_simple_pair)"
      ],
      "metadata": {
        "colab": {
          "base_uri": "https://localhost:8080/"
        },
        "id": "6qUC7h_ekDGJ",
        "outputId": "528d8d16-76c5-4ae0-a13e-0fa5e89e8006"
      },
      "execution_count": 46,
      "outputs": [
        {
          "output_type": "stream",
          "name": "stdout",
          "text": [
            "[[1.         0.40207758 0.40425045]]\n"
          ]
        }
      ]
    },
    {
      "cell_type": "markdown",
      "source": [
        "### 유사도 결과 해석  \n",
        "- **1.0** → 첫 번째 문서와 자기 자신과의 유사도  \n",
        "- **0.40207758** → 첫 번째 문서와 두 번째 문서의 유사도  \n",
        "- **0.40425045** → 첫 번째 문서와 세 번째 문서의 유사도  \n",
        "- 기준 문서를 제외하려면 `feature_vect[1:]`을 사용하여 비교  \n"
      ],
      "metadata": {
        "id": "5mFfG6s7lObs"
      }
    },
    {
      "cell_type": "code",
      "source": [
        "from sklearn.metrics.pairwise import cosine_similarity\n",
        "\n",
        "similarity_simple_pair = cosine_similarity(feature_vect_simple[0], feature_vect_simple[1:])\n",
        "print(similarity_simple_pair)"
      ],
      "metadata": {
        "colab": {
          "base_uri": "https://localhost:8080/"
        },
        "id": "07hkSqohlTbu",
        "outputId": "9732cc4a-bcf1-4011-d3e9-f55de954774d"
      },
      "execution_count": 47,
      "outputs": [
        {
          "output_type": "stream",
          "name": "stdout",
          "text": [
            "[[0.40207758 0.40425045]]\n"
          ]
        }
      ]
    },
    {
      "cell_type": "markdown",
      "source": [
        "### 모든 문서 간 코사인 유사도 계산  \n",
        "- `cosine_similarity()`는 **쌍(pair) 단위**로 유사도를 계산  \n",
        "- 각 문서 간의 유사도를 **ndarray 형태**로 반환  \n",
        "- 예)  \n",
        "  - 1번째 문서 ↔ 2, 3번째 문서  \n",
        "  - 2번째 문서 ↔ 1, 3번째 문서  \n",
        "  - 3번째 문서 ↔ 1, 2번째 문서  "
      ],
      "metadata": {
        "id": "kuMIKF-zl7lG"
      }
    },
    {
      "cell_type": "code",
      "source": [
        "similarity_simple_pair = cosine_similarity(feature_vect_simple, feature_vect_simple)\n",
        "print(similarity_simple_pair)\n",
        "print('shape:', similarity_simple_pair.shape)"
      ],
      "metadata": {
        "colab": {
          "base_uri": "https://localhost:8080/"
        },
        "id": "OcAq3w2ElqEc",
        "outputId": "21f6a558-3fbc-4c71-afbb-0cc9f981bc87"
      },
      "execution_count": 48,
      "outputs": [
        {
          "output_type": "stream",
          "name": "stdout",
          "text": [
            "[[1.         0.40207758 0.40425045]\n",
            " [0.40207758 1.         0.45647296]\n",
            " [0.40425045 0.45647296 1.        ]]\n",
            "shape: (3, 3)\n"
          ]
        }
      ]
    },
    {
      "cell_type": "markdown",
      "source": [
        "## Opinion Review 데이터 세트를 이용한 문서 유사도 측정"
      ],
      "metadata": {
        "id": "GgKdJEsEmcUq"
      }
    },
    {
      "cell_type": "markdown",
      "source": [
        "- Opinion Review 데이터 세트를 이용해 이들 문서 간의 유사도를 측정"
      ],
      "metadata": {
        "id": "OL09ufzVmkDu"
      }
    },
    {
      "cell_type": "code",
      "source": [
        "import pandas as pd\n",
        "import glob, os\n",
        "import nltk\n",
        "from nltk.tokenize import word_tokenize\n",
        "from nltk.stem import WordNetLemmatizer\n",
        "\n",
        "from sklearn.feature_extraction.text import TfidfVectorizer\n",
        "from sklearn.cluster import KMeans\n",
        "\n",
        "# 필수 NLTK 데이터 다운로드\n",
        "nltk.download('punkt')\n",
        "nltk.download('wordnet')\n",
        "\n",
        "# 데이터 파일 경로 설정\n",
        "path = r'/content/drive/My Drive/25-1 ESAA OB/OpinosisDataset1.0/topics'\n",
        "\n",
        "# 모든 .data 파일 가져오기\n",
        "# ✅ 모든 .data 파일 경로 가져오기\n",
        "all_files = glob.glob(os.path.join(path, \"*.data\"))\n",
        "\n",
        "filename_list = []\n",
        "opinion_text = []\n",
        "\n",
        "# ✅ 파일 반복해서 불러오기\n",
        "for file_ in all_files:\n",
        "    with open(file_, encoding='latin1') as f:\n",
        "        text = f.read()\n",
        "        opinion_text.append(text)\n",
        "\n",
        "    filename = os.path.basename(file_).split('.')[0]\n",
        "    filename_list.append(filename)\n",
        "\n",
        "# ✅ DataFrame 생성\n",
        "document_df = pd.DataFrame({'filename': filename_list, 'opinion_text': opinion_text})\n",
        "\n",
        "# 텍스트 정규화 및 토큰화\n",
        "def LemNormalize(text):\n",
        "    wordnet_lemmatizer = WordNetLemmatizer()\n",
        "    words = word_tokenize(text)  # nltk 토큰화 적용\n",
        "    return [wordnet_lemmatizer.lemmatize(word) for word in words]\n",
        "\n",
        "\n",
        "# 빈 문서 제거\n",
        "document_df = document_df.dropna(subset=['opinion_text'])\n",
        "\n",
        "# Ensure the 'opinion_text' column contains strings\n",
        "document_df['opinion_text'] = document_df['opinion_text'].astype(str)\n",
        "\n",
        "document_df = document_df[document_df['opinion_text'].str.len() > 0]\n",
        "\n",
        "# TF-IDF 벡터화 (stop_words 제거, min_df 완화)\n",
        "tfidf_vect = TfidfVectorizer(tokenizer=None, preprocessor=None,\n",
        "                             ngram_range=(1,2), min_df=0.01, max_df=0.95)\n",
        "feature_vect = tfidf_vect.fit_transform(document_df['opinion_text'])\n",
        "\n",
        "\n",
        "# KMeans 클러스터링\n",
        "km_cluster = KMeans(n_clusters=3, max_iter=10000, random_state=0, n_init='auto')\n",
        "km_cluster.fit(feature_vect)\n",
        "\n",
        "# 클러스터 결과 저장\n",
        "document_df['cluster_label'] = km_cluster.labels_\n",
        "\n",
        "# 희소 행렬 변환 후 cluster_centers_ 접근\n",
        "cluster_centers = km_cluster.cluster_centers_"
      ],
      "metadata": {
        "colab": {
          "base_uri": "https://localhost:8080/"
        },
        "id": "Nhb29pLammgY",
        "outputId": "fa07ec54-0c88-4f63-a61e-78fa3785ec1d"
      },
      "execution_count": 104,
      "outputs": [
        {
          "output_type": "stream",
          "name": "stderr",
          "text": [
            "[nltk_data] Downloading package punkt to /root/nltk_data...\n",
            "[nltk_data]   Package punkt is already up-to-date!\n",
            "[nltk_data] Downloading package wordnet to /root/nltk_data...\n",
            "[nltk_data]   Package wordnet is already up-to-date!\n"
          ]
        }
      ]
    },
    {
      "cell_type": "markdown",
      "source": [
        "1️⃣ 호텔 군집화된 문서만 추출\n",
        "\n",
        "2️⃣ 기존 TF-IDF 벡터화된 데이터에서 호텔 문서의 벡터만 선택\n",
        "\n",
        "3️⃣ Cosine Similarity 계산 → 문서 간 유사도 비교"
      ],
      "metadata": {
        "id": "AfC0QDPqA5jo"
      }
    },
    {
      "cell_type": "code",
      "source": [
        "from sklearn.metrics.pairwise import cosine_similarity\n",
        "\n",
        "# cluster_label=2인 데이터는 호텔로 군집화된 데이터임. DataFrame에서 해당 인덱스를 추출\n",
        "hotel_indexes = document_df[document_df['cluster_label'] == 2].index\n",
        "print('호텔로 클러스터링된 문서들의 Dataframe Index',hotel_indexes)"
      ],
      "metadata": {
        "colab": {
          "base_uri": "https://localhost:8080/"
        },
        "id": "RbuqLjWQzx7Q",
        "outputId": "53dc778a-3374-4cd0-9bd2-90e3cc184acc"
      },
      "execution_count": 105,
      "outputs": [
        {
          "output_type": "stream",
          "name": "stdout",
          "text": [
            "호텔로 클러스터링된 문서들의 Dataframe Index Index([0, 3, 12, 13, 15, 17, 23, 24, 26, 29, 32, 33, 37, 40, 48], dtype='int64')\n"
          ]
        }
      ]
    },
    {
      "cell_type": "code",
      "source": [
        "# 호텔로 군집화된 데이터 중 첫 번째 문서를 추출해 파일명 표시.\n",
        "comparison_docname = document_df.iloc[hotel_indexes[0]]['filename']\n",
        "print('#### 비교 기준 문서명:', comparison_docname, '와 타 문서 유사도 ####')"
      ],
      "metadata": {
        "colab": {
          "base_uri": "https://localhost:8080/"
        },
        "id": "meSYdxGewMB3",
        "outputId": "56cd0139-f646-4e9a-89af-b8260a9a6bc9"
      },
      "execution_count": 106,
      "outputs": [
        {
          "output_type": "stream",
          "name": "stdout",
          "text": [
            "#### 비교 기준 문서명: staff_bestwestern_hotel_sfo 와 타 문서 유사도 ####\n"
          ]
        }
      ]
    },
    {
      "cell_type": "code",
      "source": [
        "''' document_df에서 추출한 Index 객체를 feature_vect로 입력해 호텔 군집화된 feature_vect 추출\n",
        "이를 이용해 호텔로 군집화된 문서 중 첫 번째 문서와 다른 문서 간의 코사인 유사도 측정. '''\n",
        "similarity_pair = cosine_similarity(feature_vect[hotel_indexes[0]], feature_vect[hotel_indexes])\n",
        "print(similarity_pair)"
      ],
      "metadata": {
        "colab": {
          "base_uri": "https://localhost:8080/"
        },
        "id": "x1v1iJYo9qST",
        "outputId": "245671b2-4a9c-4719-bca5-7d0da2c63c5e"
      },
      "execution_count": 107,
      "outputs": [
        {
          "output_type": "stream",
          "name": "stdout",
          "text": [
            "[[1.         0.01980255 0.22439353 0.20228928 0.01287639 0.27781149\n",
            "  0.16051259 0.08800145 0.01501632 0.12110374 0.23414442 0.01290684\n",
            "  0.03751251 0.04380178 0.88301136]]\n"
          ]
        }
      ]
    },
    {
      "cell_type": "markdown",
      "source": [
        "단순 숫자 비교로는 직관적으로 이해하기 어려우므로,\n",
        "유사도가 높은 순으로 정렬 & 시각화"
      ],
      "metadata": {
        "id": "A6VTNnxQBLtK"
      }
    },
    {
      "cell_type": "code",
      "source": [
        "import seaborn as sns\n",
        "import numpy as np\n",
        "import matplotlib.pyplot as plt\n",
        "%matplotlib inline\n",
        "\n",
        "# 첫 번째 문서와 타 문서 간 유사도가 큰 순으로 정렬한 인덱스 추출하되 자기 자신은 제외\n",
        "sorted_index = similarity_pair.argsort()[:,::-1]\n",
        "sorted_index = sorted_index[:, 1:]\n",
        "\n",
        "# 유사도가 큰 순으로 hotel_indexes를 추출하여 재정렬\n",
        "hotel_sorted_indexes = hotel_indexes[sorted_index.reshape(-1)]\n",
        "\n",
        "# 유사도가 큰 순으로 유사도 값을 재정렬하되 자기 자신은 제외\n",
        "hotel_1_sim_value = np.sort(similarity_pair.reshape(-1))[::-1]\n",
        "hotel_1_sim_value = hotel_1_sim_value[1:]\n",
        "\n",
        "# 유사도가 큰 수능로 정렬된 인덱스와 유사도 값을 이용해 파일명과 유사도값을 막대 그래프로 시각화\n",
        "hotel_1_sim_df = pd.DataFrame()\n",
        "hotel_1_sim_df['filename'] = document_df.iloc[hotel_sorted_indexes]['filename']\n",
        "hotel_1_sim_df['similarity'] = hotel_1_sim_value\n",
        "print('가장 유사도가 큰 파일명 및 유사도:\\n', hotel_1_sim_df.iloc[0,:])\n",
        "\n",
        "sns.barplot(x='similarity', y='filename', data=hotel_1_sim_df)\n",
        "plt.title(comparison_docname)"
      ],
      "metadata": {
        "colab": {
          "base_uri": "https://localhost:8080/",
          "height": 562
        },
        "id": "ZIRZH2L29saQ",
        "outputId": "70ac9035-1c34-462e-baee-1479010098c6"
      },
      "execution_count": 108,
      "outputs": [
        {
          "output_type": "stream",
          "name": "stdout",
          "text": [
            "가장 유사도가 큰 파일명 및 유사도:\n",
            " filename      staff_swissotel_chicago\n",
            "similarity                   0.883011\n",
            "Name: 48, dtype: object\n"
          ]
        },
        {
          "output_type": "execute_result",
          "data": {
            "text/plain": [
              "Text(0.5, 1.0, 'staff_bestwestern_hotel_sfo')"
            ]
          },
          "metadata": {},
          "execution_count": 108
        },
        {
          "output_type": "display_data",
          "data": {
            "text/plain": [
              "<Figure size 640x480 with 1 Axes>"
            ],
            "image/png": "[encoded data removed]"
          },
          "metadata": {}
        }
      ]
    },
    {
      "cell_type": "markdown",
      "source": [
        "## 09 한글 텍스트 처리 - 네이버 영화 평점 감성 분석"
      ],
      "metadata": {
        "id": "ygLyvq02BS4j"
      }
    },
    {
      "cell_type": "markdown",
      "source": [
        "## 한글 NLP 처리의 어려움\n",
        "\n",
        "✅ 1. 띄어쓰기 문제\n",
        "\n",
        "띄어쓰기에 따라 의미가 왜곡될 가능성 높음\n",
        "\n",
        "- 예: \"아버지가 방에 들어가신다\" → \"아버지 가방에 들어가신다\"\n",
        "\n",
        "- 영어는 띄어쓰기 실수가 단어 분석에서 제외되는 수준\n",
        "\n",
        "- 예: \"My father enters a room\" → \"My fatherenters a room\" (오타로 인식)\n",
        "\n",
        "- 한글 띄어쓰기 규칙이 복잡 → 고등교육을 받은 사람도 종종 실수\n",
        "\n",
        "✅ 2. 조사(어미) 문제\n",
        "\n",
        "조사의 종류가 많아 어근 추출(Stemming)이 어려움\n",
        "\n",
        "- 예: 집 → 집은, 집이, 집으로, 집에서, 집에 …\n",
        "\n",
        "- 조사가 단어인지, 다른 의미(예: ‘은’ → 은(銀))인지 구별이 어려움\n",
        "\n",
        "- 띄어쓰기 오류가 있을 경우 의미 파악이 더욱 힘들어짐"
      ],
      "metadata": {
        "id": "0pME5_Y7BU9O"
      }
    },
    {
      "cell_type": "markdown",
      "source": [
        "## KoNLPy 소개\n",
        ": 파이썬에서 사용할 수 있는 대표적인 한글 형태소 분석(Morphological Analysis) 패키지"
      ],
      "metadata": {
        "id": "K0mYtC57BokX"
      }
    },
    {
      "cell_type": "code",
      "source": [
        "!pip install konlpy"
      ],
      "metadata": {
        "colab": {
          "base_uri": "https://localhost:8080/"
        },
        "id": "mN-jKzpT9xCk",
        "outputId": "b7eb3688-2817-4735-ffcd-598dce3dee6f"
      },
      "execution_count": 109,
      "outputs": [
        {
          "output_type": "stream",
          "name": "stdout",
          "text": [
            "Collecting konlpy\n",
            "  Downloading konlpy-0.6.0-py2.py3-none-any.whl.metadata (1.9 kB)\n",
            "Collecting JPype1>=0.7.0 (from konlpy)\n",
            "  Downloading jpype1-1.5.2-cp311-cp311-manylinux_2_17_x86_64.manylinux2014_x86_64.whl.metadata (4.9 kB)\n",
            "Requirement already satisfied: lxml>=4.1.0 in /usr/local/lib/python3.11/dist-packages (from konlpy) (5.3.1)\n",
            "Requirement already satisfied: numpy>=1.6 in /usr/local/lib/python3.11/dist-packages (from konlpy) (2.0.2)\n",
            "Requirement already satisfied: packaging in /usr/local/lib/python3.11/dist-packages (from JPype1>=0.7.0->konlpy) (24.2)\n",
            "Downloading konlpy-0.6.0-py2.py3-none-any.whl (19.4 MB)\n",
            "\u001b[2K   \u001b[90m━━━━━━━━━━━━━━━━━━━━━━━━━━━━━━━━━━━━━━━━\u001b[0m \u001b[32m19.4/19.4 MB\u001b[0m \u001b[31m35.6 MB/s\u001b[0m eta \u001b[36m0:00:00\u001b[0m\n",
            "\u001b[?25hDownloading jpype1-1.5.2-cp311-cp311-manylinux_2_17_x86_64.manylinux2014_x86_64.whl (494 kB)\n",
            "\u001b[2K   \u001b[90m━━━━━━━━━━━━━━━━━━━━━━━━━━━━━━━━━━━━━━━━\u001b[0m \u001b[32m494.1/494.1 kB\u001b[0m \u001b[31m24.0 MB/s\u001b[0m eta \u001b[36m0:00:00\u001b[0m\n",
            "\u001b[?25hInstalling collected packages: JPype1, konlpy\n",
            "Successfully installed JPype1-1.5.2 konlpy-0.6.0\n"
          ]
        }
      ]
    },
    {
      "cell_type": "code",
      "source": [
        "import pandas as pd\n",
        "train_df = pd.read_csv('/content/drive/MyDrive/25-1 ESAA OB/ratings_train.txt', sep='\\t', encoding='utf-8')\n",
        "train_df.head(3)"
      ],
      "metadata": {
        "colab": {
          "base_uri": "https://localhost:8080/",
          "height": 143
        },
        "id": "v3I-EgTq-IGK",
        "outputId": "fae95ee5-dd2f-4655-d61c-353538944c88"
      },
      "execution_count": 113,
      "outputs": [
        {
          "output_type": "execute_result",
          "data": {
            "text/plain": [
              "         id                           document  label\n",
              "0   9976970                아 더빙.. 진짜 짜증나네요 목소리      0\n",
              "1   3819312  흠...포스터보고 초딩영화줄....오버연기조차 가볍지 않구나      1\n",
              "2  10265843                  너무재밓었다그래서보는것을추천한다      0"
            ],
            "text/html": [
              "\n",
              "  <div id=\"df-7d25754f-74a6-4d5e-a51d-6bc77cab03b2\" class=\"colab-df-container\">\n",
              "    <div>\n",
              "<style scoped>\n",
              "    .dataframe tbody tr th:only-of-type {\n",
              "        vertical-align: middle;\n",
              "    }\n",
              "\n",
              "    .dataframe tbody tr th {\n",
              "        vertical-align: top;\n",
              "    }\n",
              "\n",
              "    .dataframe thead th {\n",
              "        text-align: right;\n",
              "    }\n",
              "</style>\n",
              "<table border=\"1\" class=\"dataframe\">\n",
              "  <thead>\n",
              "    <tr style=\"text-align: right;\">\n",
              "      <th></th>\n",
              "      <th>id</th>\n",
              "      <th>document</th>\n",
              "      <th>label</th>\n",
              "    </tr>\n",
              "  </thead>\n",
              "  <tbody>\n",
              "    <tr>\n",
              "      <th>0</th>\n",
              "      <td>9976970</td>\n",
              "      <td>아 더빙.. 진짜 짜증나네요 목소리</td>\n",
              "      <td>0</td>\n",
              "    </tr>\n",
              "    <tr>\n",
              "      <th>1</th>\n",
              "      <td>3819312</td>\n",
              "      <td>흠...포스터보고 초딩영화줄....오버연기조차 가볍지 않구나</td>\n",
              "      <td>1</td>\n",
              "    </tr>\n",
              "    <tr>\n",
              "      <th>2</th>\n",
              "      <td>10265843</td>\n",
              "      <td>너무재밓었다그래서보는것을추천한다</td>\n",
              "      <td>0</td>\n",
              "    </tr>\n",
              "  </tbody>\n",
              "</table>\n",
              "</div>\n",
              "    <div class=\"colab-df-buttons\">\n",
              "\n",
              "  <div class=\"colab-df-container\">\n",
              "    <button class=\"colab-df-convert\" onclick=\"convertToInteractive('df-7d25754f-74a6-4d5e-a51d-6bc77cab03b2')\"\n",
              "            title=\"Convert this dataframe to an interactive table.\"\n",
              "            style=\"display:none;\">\n",
              "\n",
              "  <svg xmlns=\"http://www.w3.org/2000/svg\" height=\"24px\" viewBox=\"0 -960 960 960\">\n",
              "    <path d=\"M120-120v-720h720v720H120Zm60-500h600v-160H180v160Zm220 220h160v-160H400v160Zm0 220h160v-160H400v160ZM180-400h160v-160H180v160Zm440 0h160v-160H620v160ZM180-180h160v-160H180v160Zm440 0h160v-160H620v160Z\"/>\n",
              "  </svg>\n",
              "    </button>\n",
              "\n",
              "  <style>\n",
              "    .colab-df-container {\n",
              "      display:flex;\n",
              "      gap: 12px;\n",
              "    }\n",
              "\n",
              "    .colab-df-convert {\n",
              "      background-color: #E8F0FE;\n",
              "      border: none;\n",
              "      border-radius: 50%;\n",
              "      cursor: pointer;\n",
              "      display: none;\n",
              "      fill: #1967D2;\n",
              "      height: 32px;\n",
              "      padding: 0 0 0 0;\n",
              "      width: 32px;\n",
              "    }\n",
              "\n",
              "    .colab-df-convert:hover {\n",
              "      background-color: #E2EBFA;\n",
              "      box-shadow: 0px 1px 2px rgba(60, 64, 67, 0.3), 0px 1px 3px 1px rgba(60, 64, 67, 0.15);\n",
              "      fill: #174EA6;\n",
              "    }\n",
              "\n",
              "    .colab-df-buttons div {\n",
              "      margin-bottom: 4px;\n",
              "    }\n",
              "\n",
              "    [theme=dark] .colab-df-convert {\n",
              "      background-color: #3B4455;\n",
              "      fill: #D2E3FC;\n",
              "    }\n",
              "\n",
              "    [theme=dark] .colab-df-convert:hover {\n",
              "      background-color: #434B5C;\n",
              "      box-shadow: 0px 1px 3px 1px rgba(0, 0, 0, 0.15);\n",
              "      filter: drop-shadow(0px 1px 2px rgba(0, 0, 0, 0.3));\n",
              "      fill: #FFFFFF;\n",
              "    }\n",
              "  </style>\n",
              "\n",
              "    <script>\n",
              "      const buttonEl =\n",
              "        document.querySelector('#df-7d25754f-74a6-4d5e-a51d-6bc77cab03b2 button.colab-df-convert');\n",
              "      buttonEl.style.display =\n",
              "        google.colab.kernel.accessAllowed ? 'block' : 'none';\n",
              "\n",
              "      async function convertToInteractive(key) {\n",
              "        const element = document.querySelector('#df-7d25754f-74a6-4d5e-a51d-6bc77cab03b2');\n",
              "        const dataTable =\n",
              "          await google.colab.kernel.invokeFunction('convertToInteractive',\n",
              "                                                    [key], {});\n",
              "        if (!dataTable) return;\n",
              "\n",
              "        const docLinkHtml = 'Like what you see? Visit the ' +\n",
              "          '<a target=\"_blank\" href=https://colab.research.google.com/notebooks/data_table.ipynb>data table notebook</a>'\n",
              "          + ' to learn more about interactive tables.';\n",
              "        element.innerHTML = '';\n",
              "        dataTable['output_type'] = 'display_data';\n",
              "        await google.colab.output.renderOutput(dataTable, element);\n",
              "        const docLink = document.createElement('div');\n",
              "        docLink.innerHTML = docLinkHtml;\n",
              "        element.appendChild(docLink);\n",
              "      }\n",
              "    </script>\n",
              "  </div>\n",
              "\n",
              "\n",
              "<div id=\"df-790c7d95-7acf-4d9b-917b-2bd9b3e4d7ed\">\n",
              "  <button class=\"colab-df-quickchart\" onclick=\"quickchart('df-790c7d95-7acf-4d9b-917b-2bd9b3e4d7ed')\"\n",
              "            title=\"Suggest charts\"\n",
              "            style=\"display:none;\">\n",
              "\n",
              "<svg xmlns=\"http://www.w3.org/2000/svg\" height=\"24px\"viewBox=\"0 0 24 24\"\n",
              "     width=\"24px\">\n",
              "    <g>\n",
              "        <path d=\"M19 3H5c-1.1 0-2 .9-2 2v14c0 1.1.9 2 2 2h14c1.1 0 2-.9 2-2V5c0-1.1-.9-2-2-2zM9 17H7v-7h2v7zm4 0h-2V7h2v10zm4 0h-2v-4h2v4z\"/>\n",
              "    </g>\n",
              "</svg>\n",
              "  </button>\n",
              "\n",
              "<style>\n",
              "  .colab-df-quickchart {\n",
              "      --bg-color: #E8F0FE;\n",
              "      --fill-color: #1967D2;\n",
              "      --hover-bg-color: #E2EBFA;\n",
              "      --hover-fill-color: #174EA6;\n",
              "      --disabled-fill-color: #AAA;\n",
              "      --disabled-bg-color: #DDD;\n",
              "  }\n",
              "\n",
              "  [theme=dark] .colab-df-quickchart {\n",
              "      --bg-color: #3B4455;\n",
              "      --fill-color: #D2E3FC;\n",
              "      --hover-bg-color: #434B5C;\n",
              "      --hover-fill-color: #FFFFFF;\n",
              "      --disabled-bg-color: #3B4455;\n",
              "      --disabled-fill-color: #666;\n",
              "  }\n",
              "\n",
              "  .colab-df-quickchart {\n",
              "    background-color: var(--bg-color);\n",
              "    border: none;\n",
              "    border-radius: 50%;\n",
              "    cursor: pointer;\n",
              "    display: none;\n",
              "    fill: var(--fill-color);\n",
              "    height: 32px;\n",
              "    padding: 0;\n",
              "    width: 32px;\n",
              "  }\n",
              "\n",
              "  .colab-df-quickchart:hover {\n",
              "    background-color: var(--hover-bg-color);\n",
              "    box-shadow: 0 1px 2px rgba(60, 64, 67, 0.3), 0 1px 3px 1px rgba(60, 64, 67, 0.15);\n",
              "    fill: var(--button-hover-fill-color);\n",
              "  }\n",
              "\n",
              "  .colab-df-quickchart-complete:disabled,\n",
              "  .colab-df-quickchart-complete:disabled:hover {\n",
              "    background-color: var(--disabled-bg-color);\n",
              "    fill: var(--disabled-fill-color);\n",
              "    box-shadow: none;\n",
              "  }\n",
              "\n",
              "  .colab-df-spinner {\n",
              "    border: 2px solid var(--fill-color);\n",
              "    border-color: transparent;\n",
              "    border-bottom-color: var(--fill-color);\n",
              "    animation:\n",
              "      spin 1s steps(1) infinite;\n",
              "  }\n",
              "\n",
              "  @keyframes spin {\n",
              "    0% {\n",
              "      border-color: transparent;\n",
              "      border-bottom-color: var(--fill-color);\n",
              "      border-left-color: var(--fill-color);\n",
              "    }\n",
              "    20% {\n",
              "      border-color: transparent;\n",
              "      border-left-color: var(--fill-color);\n",
              "      border-top-color: var(--fill-color);\n",
              "    }\n",
              "    30% {\n",
              "      border-color: transparent;\n",
              "      border-left-color: var(--fill-color);\n",
              "      border-top-color: var(--fill-color);\n",
              "      border-right-color: var(--fill-color);\n",
              "    }\n",
              "    40% {\n",
              "      border-color: transparent;\n",
              "      border-right-color: var(--fill-color);\n",
              "      border-top-color: var(--fill-color);\n",
              "    }\n",
              "    60% {\n",
              "      border-color: transparent;\n",
              "      border-right-color: var(--fill-color);\n",
              "    }\n",
              "    80% {\n",
              "      border-color: transparent;\n",
              "      border-right-color: var(--fill-color);\n",
              "      border-bottom-color: var(--fill-color);\n",
              "    }\n",
              "    90% {\n",
              "      border-color: transparent;\n",
              "      border-bottom-color: var(--fill-color);\n",
              "    }\n",
              "  }\n",
              "</style>\n",
              "\n",
              "  <script>\n",
              "    async function quickchart(key) {\n",
              "      const quickchartButtonEl =\n",
              "        document.querySelector('#' + key + ' button');\n",
              "      quickchartButtonEl.disabled = true;  // To prevent multiple clicks.\n",
              "      quickchartButtonEl.classList.add('colab-df-spinner');\n",
              "      try {\n",
              "        const charts = await google.colab.kernel.invokeFunction(\n",
              "            'suggestCharts', [key], {});\n",
              "      } catch (error) {\n",
              "        console.error('Error during call to suggestCharts:', error);\n",
              "      }\n",
              "      quickchartButtonEl.classList.remove('colab-df-spinner');\n",
              "      quickchartButtonEl.classList.add('colab-df-quickchart-complete');\n",
              "    }\n",
              "    (() => {\n",
              "      let quickchartButtonEl =\n",
              "        document.querySelector('#df-790c7d95-7acf-4d9b-917b-2bd9b3e4d7ed button');\n",
              "      quickchartButtonEl.style.display =\n",
              "        google.colab.kernel.accessAllowed ? 'block' : 'none';\n",
              "    })();\n",
              "  </script>\n",
              "</div>\n",
              "\n",
              "    </div>\n",
              "  </div>\n"
            ],
            "application/vnd.google.colaboratory.intrinsic+json": {
              "type": "dataframe",
              "variable_name": "train_df"
            }
          },
          "metadata": {},
          "execution_count": 113
        }
      ]
    },
    {
      "cell_type": "code",
      "source": [
        "train_df['label'].value_counts()"
      ],
      "metadata": {
        "colab": {
          "base_uri": "https://localhost:8080/",
          "height": 178
        },
        "id": "Nld1fXgP-f_m",
        "outputId": "b3310a0e-688e-4bb2-ffb8-1cedc2d4ce69"
      },
      "execution_count": 114,
      "outputs": [
        {
          "output_type": "execute_result",
          "data": {
            "text/plain": [
              "label\n",
              "0    75173\n",
              "1    74827\n",
              "Name: count, dtype: int64"
            ],
            "text/html": [
              "<div>\n",
              "<style scoped>\n",
              "    .dataframe tbody tr th:only-of-type {\n",
              "        vertical-align: middle;\n",
              "    }\n",
              "\n",
              "    .dataframe tbody tr th {\n",
              "        vertical-align: top;\n",
              "    }\n",
              "\n",
              "    .dataframe thead th {\n",
              "        text-align: right;\n",
              "    }\n",
              "</style>\n",
              "<table border=\"1\" class=\"dataframe\">\n",
              "  <thead>\n",
              "    <tr style=\"text-align: right;\">\n",
              "      <th></th>\n",
              "      <th>count</th>\n",
              "    </tr>\n",
              "    <tr>\n",
              "      <th>label</th>\n",
              "      <th></th>\n",
              "    </tr>\n",
              "  </thead>\n",
              "  <tbody>\n",
              "    <tr>\n",
              "      <th>0</th>\n",
              "      <td>75173</td>\n",
              "    </tr>\n",
              "    <tr>\n",
              "      <th>1</th>\n",
              "      <td>74827</td>\n",
              "    </tr>\n",
              "  </tbody>\n",
              "</table>\n",
              "</div><br><label><b>dtype:</b> int64</label>"
            ]
          },
          "metadata": {},
          "execution_count": 114
        }
      ]
    },
    {
      "cell_type": "markdown",
      "source": [
        "- 레이블(0:부정 과 1:긍정)의 비율이 균등함 → 데이터 불균형 문제 없음\n",
        "\n",
        "- 결측치 처리: document 칼럼의 Null 값 → 공백으로 변환\n",
        "\n",
        "- 숫자 제거: 정규 표현식(re 모듈 사용) → 공백으로 변환\n",
        "\n",
        "- 테스트 데이터도 동일한 방식으로 전처리"
      ],
      "metadata": {
        "id": "h2C7tesyB9dA"
      }
    },
    {
      "cell_type": "code",
      "source": [
        "import re\n",
        "\n",
        "train_df = train_df.fillna('')\n",
        "# 정규 표현식을 이용해 숫자를 공백으로 변경 (정규 표현식으로 \\d는 숫자를 의미함)\n",
        "train_df['document'] = train_df['document'].apply(lambda x : re.sub(r'\\d+', '', x))\n",
        "\n",
        "test_df = pd.read_csv('/content/drive/MyDrive/25-1 ESAA OB/ratings_test.txt', sep='\\t', encoding='utf-8')\n",
        "test_df = test_df.fillna('')\n",
        "test_df['document'] = test_df['document'].apply(lambda x : re.sub(r'\\d+', '', x))\n",
        "\n",
        "# id 칼럼 삭제 수행\n",
        "train_df.drop('id', axis=1, inplace=True)\n",
        "test_df.drop('id', axis=1, inplace=True)"
      ],
      "metadata": {
        "id": "ml1Nkv4f-let"
      },
      "execution_count": 116,
      "outputs": []
    },
    {
      "cell_type": "markdown",
      "source": [
        "- 형태소 분석: SNS 분석에 적합한 Twitter 클래스 사용\n",
        "\n",
        "- 토큰화: Twitter.morphs() → 문장을 형태소 단어 리스트로 변환\n",
        "\n",
        "- 토크나이저 함수 생성: tw_tokenizer() → TfidfVectorizer의 tokenizer로 활용"
      ],
      "metadata": {
        "id": "hqDjXgmWCSSD"
      }
    },
    {
      "cell_type": "code",
      "source": [
        "from konlpy.tag import Twitter\n",
        "\n",
        "twitter = Twitter()\n",
        "def tw_tokenizer(text):\n",
        "    # 입력 인자로 들어온 텍스트를 형태소 단어로 토큰화해 리스트 형태로 반환\n",
        "    tokens_ko = twitter.morphs(text)\n",
        "    return tokens_ko"
      ],
      "metadata": {
        "colab": {
          "base_uri": "https://localhost:8080/"
        },
        "id": "c8owTSf5-rIn",
        "outputId": "b23fb2f9-06d7-454f-f29c-458610ab023c"
      },
      "execution_count": 117,
      "outputs": [
        {
          "output_type": "stream",
          "name": "stderr",
          "text": [
            "/usr/local/lib/python3.11/dist-packages/konlpy/tag/_okt.py:17: UserWarning: \"Twitter\" has changed to \"Okt\" since KoNLPy v0.4.5.\n",
            "  warn('\"Twitter\" has changed to \"Okt\" since KoNLPy v0.4.5.')\n"
          ]
        }
      ]
    },
    {
      "cell_type": "code",
      "source": [
        "from sklearn.feature_extraction.text import TfidfVectorizer\n",
        "from sklearn.linear_model import LogisticRegression\n",
        "from sklearn.model_selection import GridSearchCV\n",
        "\n",
        "# Twitter 객체의 morphs() 객체를 이용한 tokenizer를 사용. ngram_range는 (1,2)\n",
        "tfidf_vect = TfidfVectorizer(tokenizer=tw_tokenizer, ngram_range=(1,2), min_df=3, max_df=0.9)\n",
        "tfidf_vect.fit(train_df['document'])\n",
        "tfidf_matrix_train = tfidf_vect.transform(train_df['document'])"
      ],
      "metadata": {
        "colab": {
          "base_uri": "https://localhost:8080/"
        },
        "id": "aE67Rio6-u0z",
        "outputId": "ef05e870-f4b5-4d4a-efe1-82969c9d8007"
      },
      "execution_count": 118,
      "outputs": [
        {
          "output_type": "stream",
          "name": "stderr",
          "text": [
            "/usr/local/lib/python3.11/dist-packages/sklearn/feature_extraction/text.py:517: UserWarning: The parameter 'token_pattern' will not be used since 'tokenizer' is not None'\n",
            "  warnings.warn(\n"
          ]
        }
      ]
    },
    {
      "cell_type": "code",
      "source": [
        "# 로지스틱 회귀를 이용해 감성 분석 분류 수행\n",
        "lg_clf = LogisticRegression(random_state=0, solver='liblinear')\n",
        "\n",
        "# 파라미터 C 최적화를 위해 GridSearchCV를 이용\n",
        "params = {'C': [1,3.5,4.5,5.5,10]}\n",
        "grid_cv = GridSearchCV(lg_clf, param_grid=params, cv=3, scoring='accuracy', verbose=1)\n",
        "grid_cv.fit(tfidf_matrix_train, train_df['label'])\n",
        "print(grid_cv.best_params_, round(grid_cv.best_score_, 4))"
      ],
      "metadata": {
        "colab": {
          "base_uri": "https://localhost:8080/"
        },
        "id": "133GOkQG-xHB",
        "outputId": "37918db5-f08f-4a70-de73-4d9fb2d54e46"
      },
      "execution_count": 119,
      "outputs": [
        {
          "output_type": "stream",
          "name": "stdout",
          "text": [
            "Fitting 3 folds for each of 5 candidates, totalling 15 fits\n",
            "{'C': 3.5} 0.8591\n"
          ]
        }
      ]
    },
    {
      "cell_type": "code",
      "source": [
        "from sklearn.metrics import accuracy_score\n",
        "\n",
        "# 학습 데이터를 적용한 TfidVectorizer를 이용해 테스트 데이터를 TF-IDF 값으로 피처 변환함\n",
        "tfidf_matrix_test = tfidf_vect.transform(test_df['document'])\n",
        "\n",
        "# classifier는 GridSearchCV에서 최적 파라미터로 학습된 classifier를 그대로 이용\n",
        "best_estimator = grid_cv.best_estimator_\n",
        "preds = best_estimator.predict(tfidf_matrix_test)\n",
        "\n",
        "print('Logistic Regression 정확도:', accuracy_score(test_df['label'], preds))"
      ],
      "metadata": {
        "colab": {
          "base_uri": "https://localhost:8080/"
        },
        "id": "kxXsh0ZX-zAd",
        "outputId": "f933b593-0544-4d1b-9afc-2f8336bc0739"
      },
      "execution_count": 120,
      "outputs": [
        {
          "output_type": "stream",
          "name": "stdout",
          "text": [
            "Logistic Regression 정확도: 0.86196\n"
          ]
        }
      ]
    }
  ]
}