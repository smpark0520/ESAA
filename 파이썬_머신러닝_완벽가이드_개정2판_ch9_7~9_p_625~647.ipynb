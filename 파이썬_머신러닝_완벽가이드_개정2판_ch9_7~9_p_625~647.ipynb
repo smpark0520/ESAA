{
  "cells": [
    {
      "cell_type": "markdown",
      "metadata": {
        "id": "view-in-github",
        "colab_type": "text"
      },
      "source": [
        "<a href=\"https://colab.research.google.com/github/smpark0520/ESAA/blob/main/%ED%8C%8C%EC%9D%B4%EC%8D%AC_%EB%A8%B8%EC%8B%A0%EB%9F%AC%EB%8B%9D_%EC%99%84%EB%B2%BD%EA%B0%80%EC%9D%B4%EB%93%9C_%EA%B0%9C%EC%A0%952%ED%8C%90_ch9_7~9_p_625~647.ipynb\" target=\"_parent\"><img src=\"https://colab.research.google.com/assets/colab-badge.svg\" alt=\"Open In Colab\"/></a>"
      ]
    },
    {
      "cell_type": "markdown",
      "source": [
        "# 행렬 분해를 이용한 잠재 요인 협업 필터링 실습\n",
        "\n",
        "## SGD 기반 잠재 요인 협업 필터링\n",
        "\n",
        "- 목표: 행렬 분해(Matrix Factorization)를 이용한 영화 추천 시스템 구현\n",
        "- 방법: 확률적 경사 하강법(SGD)을 활용한 행렬 분해\n",
        "- 배경:\n",
        "  - SVD는 결측치에 민감 → 사용자-아이템 평점 행렬엔 널(null)이 많아 적합하지 않음\n",
        "  - SGD나 ALS 기반 행렬 분해가 일반적으로 사용됨\n",
        "- 활용 코드:\n",
        "  - `get_rmse()` 함수: RMSE 계산용\n",
        "  - `matrix_factorization()` 함수 정의:\n",
        "    - 입력:  \n",
        "      - `R`: 사용자-아이템 평점 행렬  \n",
        "      - `K`: 잠재 요인의 수  \n",
        "      - `steps`: 반복 횟수 (기본 200)  \n",
        "      - `learning_rate`: 학습률 (기본 0.01)  \n",
        "      - `r_lambda`: L2 규제 계수 (기본 0.01)\n",
        "- 활용 예제: 사용자에게 개인화된 영화 추천 제공"
      ],
      "metadata": {
        "id": "UQgQBSKz_HfZ"
      }
    },
    {
      "cell_type": "markdown",
      "source": [
        "✅ get_rmse() 함수 설명\n",
        "\n",
        "목적: 실제 평점 행렬 R과 예측 평점 행렬(P×Qᵀ) 사이의 RMSE를 계산\n",
        "\n",
        "입력값:\n",
        "\n",
        "- R: 원본 사용자-아이템 평점 행렬\n",
        "\n",
        "- P: 사용자 × 잠재요인 행렬\n",
        "\n",
        "- Q: 아이템 × 잠재요인 행렬\n",
        "\n",
        "- non_zeros: 실제 평점이 존재하는 위치 인덱스 리스트 (예: [(0,0), (0,1), ...])\n",
        "\n",
        "절차:\n",
        "\n",
        "1. P와 Q.T의 내적으로 예측 평점 행렬 생성\n",
        "\n",
        "2. 실제 평점이 있는 위치의 값만 추출\n",
        "\n",
        "3. 해당 위치의 실제 평점과 예측값으로 MSE 계산 → RMSE 반환"
      ],
      "metadata": {
        "id": "EzWa5oAO_Jcr"
      }
    },
    {
      "cell_type": "code",
      "source": [
        "import numpy as np\n",
        "from sklearn.metrics import mean_squared_error\n",
        "\n",
        "def get_rmse(R, P, Q, non_zeros):\n",
        "    error = 0\n",
        "    # 두개의 분해된 행렬 P와 Q.T의 내적 곱으로 예측 R 행렬 생성\n",
        "    full_pred_matrix = np.dot(P, Q.T)\n",
        "\n",
        "    # 실제 R 행렬에서 널이 아닌 값의 위치 인덱스 추출하여 실제 R 행렬과 예측 행렬의 RMSE 추출\n",
        "    x_non_zero_ind = [non_zero[0] for non_zero in non_zeros]\n",
        "    y_non_zero_ind = [non_zero[1] for non_zero in non_zeros]\n",
        "    R_non_zeros = R[x_non_zero_ind, y_non_zero_ind]\n",
        "\n",
        "    full_pred_matrix_non_zeros = full_pred_matrix[x_non_zero_ind, y_non_zero_ind]\n",
        "\n",
        "    mse = mean_squared_error(R_non_zeros, full_pred_matrix_non_zeros)\n",
        "    rmse = np.sqrt(mse)\n",
        "\n",
        "    return rmse"
      ],
      "metadata": {
        "id": "UlCx5DMJ_LyP"
      },
      "execution_count": 1,
      "outputs": []
    },
    {
      "cell_type": "markdown",
      "source": [
        "📌 matrix_factorization() 함수 설명\n",
        "\n",
        "✅ 목적\n",
        "\n",
        "SGD(확률적 경사 하강법)를 이용해 사용자-아이템 평점 행렬을 두 개의 잠재 요인 행렬(P, Q)로 분해하여 학습\n",
        "\n",
        "\n",
        "⚙️ 절차\n",
        "\n",
        "1. 사용자 행렬 `P`와 아이템 행렬 `Q`를 정규분포로 무작위 초기화\n",
        "2. 실제 평점이 존재하는 위치만 추출하여 `non_zeros` 리스트 생성\n",
        "3. 각 스텝(step)마다 다음을 반복:\n",
        "   - 각 평점 위치에 대해 예측값과 실제값의 차이(`eij`) 계산\n",
        "   - L2 정규화를 반영해 `P`와 `Q`를 SGD 방식으로 업데이트\n",
        "   - 10 step마다 RMSE 출력\n",
        "4. 최종적으로 학습된 `P`, `Q` 행렬 반환\n",
        "\n",
        "📤 출력값\n",
        "\n",
        "- `P`: 사용자 잠재 요인 행렬 (shape: 사용자 수 × K)\n",
        "- `Q`: 아이템 잠재 요인 행렬 (shape: 아이템 수 × K)"
      ],
      "metadata": {
        "id": "aMka4GQ8_PIj"
      }
    },
    {
      "cell_type": "code",
      "source": [
        "def matrix_factorization(R, K, steps=200, learning_rate=0.01, r_lambda = 0.01):\n",
        "    num_users, num_items = R.shape\n",
        "    # P와 Q 매트릭스의 크기를 지정하고 정규분포를 가진 랜덤한 값으로 입력합니다.\n",
        "    np.random.seed(1)\n",
        "    P = np.random.normal(scale=1./K, size=(num_users, K))\n",
        "    Q = np.random.normal(scale=1./K, size=(num_items, K))\n",
        "\n",
        "    # R > 0 인 행 위치, 열 위치, 값을 non_zeros 리스트 객체에 저장.\n",
        "    non_zeros = [ (i, j, R[i,j]) for i in range(num_users) for j in range(num_items) if R[i,j] > 0 ]\n",
        "\n",
        "    # SGD기법으로 P와 Q 매트릭스를 계속 업데이트.\n",
        "    for step in range(steps):\n",
        "        for i, j, r in non_zeros:\n",
        "            # 실제 값과 예측 값의 차이인 오류 값 구함\n",
        "            eij = r - np.dot(P[i, :], Q[j, :].T)\n",
        "            # Regularization을 반영한 SGD 업데이트 공식 적용\n",
        "            P[i,:] = P[i,:] + learning_rate*(eij * Q[j, :] - r_lambda*P[i,:])\n",
        "            Q[j,:] = Q[j,:] + learning_rate*(eij * P[i, :] - r_lambda*Q[j,:])\n",
        "\n",
        "        rmse = get_rmse(R, P, Q, non_zeros)\n",
        "        if (step % 10) == 0 :\n",
        "            print(\"### iteration step : \", step,\" rmse : \", rmse)\n",
        "\n",
        "    return P, Q"
      ],
      "metadata": {
        "id": "uIuc1Jv3_RdU"
      },
      "execution_count": 2,
      "outputs": []
    },
    {
      "cell_type": "markdown",
      "source": [
        "- 영화 평점 행렬 데이터를 새롭게 DataFrame으로 로딩한 뒤에 다시 사용자-아이템 평점 행렬로 만들기"
      ],
      "metadata": {
        "id": "y_ueyRt3_TwB"
      }
    },
    {
      "cell_type": "code",
      "source": [
        "from google.colab import drive\n",
        "drive.mount('/content/drive')"
      ],
      "metadata": {
        "colab": {
          "base_uri": "https://localhost:8080/"
        },
        "id": "xOkmzVOk_Wfx",
        "outputId": "a8099ee5-b827-4bc8-b21d-2e8d2b41d4af"
      },
      "execution_count": 4,
      "outputs": [
        {
          "output_type": "stream",
          "name": "stdout",
          "text": [
            "Mounted at /content/drive\n"
          ]
        }
      ]
    },
    {
      "cell_type": "code",
      "source": [
        "import pandas as pd\n",
        "import numpy as np\n",
        "\n",
        "movies = pd.read_csv('/content/drive/MyDrive/25-1 ESAA OB/movies.csv')\n",
        "ratings = pd.read_csv('/content/drive/MyDrive/25-1 ESAA OB/ratings.csv')\n",
        "ratings = ratings[['userId', 'movieId', 'rating']]\n",
        "ratings_matrix = ratings.pivot_table('rating', index='userId', columns='movieId')\n",
        "\n",
        "# title 칼럼을 얻기 위해 movies와 조인 수행\n",
        "rating_movies = pd.merge(ratings, movies, on='movieId')"
      ],
      "metadata": {
        "id": "aKKRwC3P_VYf"
      },
      "execution_count": 5,
      "outputs": []
    },
    {
      "cell_type": "code",
      "source": [
        "# columns='title'로 title 칼럼으로 pivot 수행\n",
        "ratings_matrix = rating_movies.pivot_table('rating', index='userId', columns='title')"
      ],
      "metadata": {
        "id": "F29PSBTa_dU0"
      },
      "execution_count": 6,
      "outputs": []
    },
    {
      "cell_type": "markdown",
      "source": [
        "- matrix_factorization() 함수를 사용해 평점 행렬을 분해\n",
        "- K=50, steps=200, 학습률과 정규화 계수는 0.01로 설정"
      ],
      "metadata": {
        "id": "7skjsLFZ_e6z"
      }
    },
    {
      "cell_type": "code",
      "source": [
        "P, Q = matrix_factorization(ratings_matrix.values, K=50, steps=200, learning_rate=0.01,\n",
        "                            r_lambda=0.01)\n",
        "pred_matrix = np.dot(P, Q.T) # 원래 평점 행렬의 빈 부분까지 예측값으로 채워진 형태"
      ],
      "metadata": {
        "colab": {
          "base_uri": "https://localhost:8080/"
        },
        "id": "4YD78EeN_gYG",
        "outputId": "5b2d5916-dab2-463e-dd76-c710d270c77f"
      },
      "execution_count": 7,
      "outputs": [
        {
          "output_type": "stream",
          "name": "stdout",
          "text": [
            "### iteration step :  0  rmse :  2.9023619751336867\n",
            "### iteration step :  10  rmse :  0.7335768591017927\n",
            "### iteration step :  20  rmse :  0.5115539026853442\n",
            "### iteration step :  30  rmse :  0.37261628282537446\n",
            "### iteration step :  40  rmse :  0.2960818299181014\n",
            "### iteration step :  50  rmse :  0.2520353192341642\n",
            "### iteration step :  60  rmse :  0.22487503275269854\n",
            "### iteration step :  70  rmse :  0.2068545530233154\n",
            "### iteration step :  80  rmse :  0.19413418783028685\n",
            "### iteration step :  90  rmse :  0.18470082002720406\n",
            "### iteration step :  100  rmse :  0.17742927527209104\n",
            "### iteration step :  110  rmse :  0.1716522696470749\n",
            "### iteration step :  120  rmse :  0.16695181946871726\n",
            "### iteration step :  130  rmse :  0.16305292191997542\n",
            "### iteration step :  140  rmse :  0.15976691929679646\n",
            "### iteration step :  150  rmse :  0.1569598699945732\n",
            "### iteration step :  160  rmse :  0.15453398186715425\n",
            "### iteration step :  170  rmse :  0.15241618551077643\n",
            "### iteration step :  180  rmse :  0.1505508073962831\n",
            "### iteration step :  190  rmse :  0.1488947091323209\n"
          ]
        }
      ]
    },
    {
      "cell_type": "markdown",
      "source": [
        "- 반환된 예측 사용자一아이템 평점 행렬을 영화 타이틀을 칼럼명으로 가지는 DataFrame으로 변경"
      ],
      "metadata": {
        "id": "WziNXcrs_ibY"
      }
    },
    {
      "cell_type": "code",
      "source": [
        "ratings_pred_matrix = pd.DataFrame(data=pred_matrix, index=ratings_matrix.index,\n",
        "                                   columns=ratings_matrix.columns)\n",
        "ratings_pred_matrix.head(3)"
      ],
      "metadata": {
        "colab": {
          "base_uri": "https://localhost:8080/",
          "height": 345
        },
        "id": "dZHOGDMr_jsu",
        "outputId": "75465be1-f495-40ee-c0af-bd26bfa286e2"
      },
      "execution_count": 8,
      "outputs": [
        {
          "output_type": "execute_result",
          "data": {
            "text/plain": [
              "title   '71 (2014)  'Hellboy': The Seeds of Creation (2004)  \\\n",
              "userId                                                        \n",
              "1         3.055084                                 4.092018   \n",
              "2         3.170119                                 3.657992   \n",
              "3         2.307073                                 1.658853   \n",
              "\n",
              "title   'Round Midnight (1986)  'Salem's Lot (2004)  \\\n",
              "userId                                                \n",
              "1                     3.564130             4.502167   \n",
              "2                     3.308707             4.166521   \n",
              "3                     1.443538             2.208859   \n",
              "\n",
              "title   'Til There Was You (1997)  'Tis the Season for Love (2015)  \\\n",
              "userId                                                               \n",
              "1                        3.981215                         1.271694   \n",
              "2                        4.311890                         1.275469   \n",
              "3                        2.229486                         0.780760   \n",
              "\n",
              "title   'burbs, The (1989)  'night Mother (1986)  (500) Days of Summer (2009)  \\\n",
              "userId                                                                          \n",
              "1                 3.603274              2.333266                     5.091749   \n",
              "2                 4.237972              1.900366                     3.392859   \n",
              "3                 1.997043              0.924908                     2.970700   \n",
              "\n",
              "title   *batteries not included (1987)  ...  Zulu (2013)  [REC] (2007)  \\\n",
              "userId                                  ...                              \n",
              "1                             3.972454  ...     1.402608      4.208382   \n",
              "2                             3.647421  ...     0.973811      3.528264   \n",
              "3                             2.551446  ...     0.520354      1.709494   \n",
              "\n",
              "title   [REC]² (2009)  [REC]³ 3 Génesis (2012)  \\\n",
              "userId                                           \n",
              "1            3.705957                 2.720514   \n",
              "2            3.361532                 2.672535   \n",
              "3            2.281596                 1.782833   \n",
              "\n",
              "title   anohana: The Flower We Saw That Day - The Movie (2013)  \\\n",
              "userId                                                           \n",
              "1                                                2.787331        \n",
              "2                                                2.404456        \n",
              "3                                                1.635173        \n",
              "\n",
              "title   eXistenZ (1999)  xXx (2002)  xXx: State of the Union (2005)  \\\n",
              "userId                                                                \n",
              "1              3.475076    3.253458                        2.161087   \n",
              "2              4.232789    2.911602                        1.634576   \n",
              "3              1.323276    2.887580                        1.042618   \n",
              "\n",
              "title   ¡Three Amigos! (1986)  À nous la liberté (Freedom for Us) (1931)  \n",
              "userId                                                                    \n",
              "1                    4.010495                                   0.859474  \n",
              "2                    4.135735                                   0.725684  \n",
              "3                    2.293890                                   0.396941  \n",
              "\n",
              "[3 rows x 9719 columns]"
            ],
            "text/html": [
              "\n",
              "  <div id=\"df-a961fe90-1495-4deb-a9ca-a32ccd9587b8\" class=\"colab-df-container\">\n",
              "    <div>\n",
              "<style scoped>\n",
              "    .dataframe tbody tr th:only-of-type {\n",
              "        vertical-align: middle;\n",
              "    }\n",
              "\n",
              "    .dataframe tbody tr th {\n",
              "        vertical-align: top;\n",
              "    }\n",
              "\n",
              "    .dataframe thead th {\n",
              "        text-align: right;\n",
              "    }\n",
              "</style>\n",
              "<table border=\"1\" class=\"dataframe\">\n",
              "  <thead>\n",
              "    <tr style=\"text-align: right;\">\n",
              "      <th>title</th>\n",
              "      <th>'71 (2014)</th>\n",
              "      <th>'Hellboy': The Seeds of Creation (2004)</th>\n",
              "      <th>'Round Midnight (1986)</th>\n",
              "      <th>'Salem's Lot (2004)</th>\n",
              "      <th>'Til There Was You (1997)</th>\n",
              "      <th>'Tis the Season for Love (2015)</th>\n",
              "      <th>'burbs, The (1989)</th>\n",
              "      <th>'night Mother (1986)</th>\n",
              "      <th>(500) Days of Summer (2009)</th>\n",
              "      <th>*batteries not included (1987)</th>\n",
              "      <th>...</th>\n",
              "      <th>Zulu (2013)</th>\n",
              "      <th>[REC] (2007)</th>\n",
              "      <th>[REC]² (2009)</th>\n",
              "      <th>[REC]³ 3 Génesis (2012)</th>\n",
              "      <th>anohana: The Flower We Saw That Day - The Movie (2013)</th>\n",
              "      <th>eXistenZ (1999)</th>\n",
              "      <th>xXx (2002)</th>\n",
              "      <th>xXx: State of the Union (2005)</th>\n",
              "      <th>¡Three Amigos! (1986)</th>\n",
              "      <th>À nous la liberté (Freedom for Us) (1931)</th>\n",
              "    </tr>\n",
              "    <tr>\n",
              "      <th>userId</th>\n",
              "      <th></th>\n",
              "      <th></th>\n",
              "      <th></th>\n",
              "      <th></th>\n",
              "      <th></th>\n",
              "      <th></th>\n",
              "      <th></th>\n",
              "      <th></th>\n",
              "      <th></th>\n",
              "      <th></th>\n",
              "      <th></th>\n",
              "      <th></th>\n",
              "      <th></th>\n",
              "      <th></th>\n",
              "      <th></th>\n",
              "      <th></th>\n",
              "      <th></th>\n",
              "      <th></th>\n",
              "      <th></th>\n",
              "      <th></th>\n",
              "      <th></th>\n",
              "    </tr>\n",
              "  </thead>\n",
              "  <tbody>\n",
              "    <tr>\n",
              "      <th>1</th>\n",
              "      <td>3.055084</td>\n",
              "      <td>4.092018</td>\n",
              "      <td>3.564130</td>\n",
              "      <td>4.502167</td>\n",
              "      <td>3.981215</td>\n",
              "      <td>1.271694</td>\n",
              "      <td>3.603274</td>\n",
              "      <td>2.333266</td>\n",
              "      <td>5.091749</td>\n",
              "      <td>3.972454</td>\n",
              "      <td>...</td>\n",
              "      <td>1.402608</td>\n",
              "      <td>4.208382</td>\n",
              "      <td>3.705957</td>\n",
              "      <td>2.720514</td>\n",
              "      <td>2.787331</td>\n",
              "      <td>3.475076</td>\n",
              "      <td>3.253458</td>\n",
              "      <td>2.161087</td>\n",
              "      <td>4.010495</td>\n",
              "      <td>0.859474</td>\n",
              "    </tr>\n",
              "    <tr>\n",
              "      <th>2</th>\n",
              "      <td>3.170119</td>\n",
              "      <td>3.657992</td>\n",
              "      <td>3.308707</td>\n",
              "      <td>4.166521</td>\n",
              "      <td>4.311890</td>\n",
              "      <td>1.275469</td>\n",
              "      <td>4.237972</td>\n",
              "      <td>1.900366</td>\n",
              "      <td>3.392859</td>\n",
              "      <td>3.647421</td>\n",
              "      <td>...</td>\n",
              "      <td>0.973811</td>\n",
              "      <td>3.528264</td>\n",
              "      <td>3.361532</td>\n",
              "      <td>2.672535</td>\n",
              "      <td>2.404456</td>\n",
              "      <td>4.232789</td>\n",
              "      <td>2.911602</td>\n",
              "      <td>1.634576</td>\n",
              "      <td>4.135735</td>\n",
              "      <td>0.725684</td>\n",
              "    </tr>\n",
              "    <tr>\n",
              "      <th>3</th>\n",
              "      <td>2.307073</td>\n",
              "      <td>1.658853</td>\n",
              "      <td>1.443538</td>\n",
              "      <td>2.208859</td>\n",
              "      <td>2.229486</td>\n",
              "      <td>0.780760</td>\n",
              "      <td>1.997043</td>\n",
              "      <td>0.924908</td>\n",
              "      <td>2.970700</td>\n",
              "      <td>2.551446</td>\n",
              "      <td>...</td>\n",
              "      <td>0.520354</td>\n",
              "      <td>1.709494</td>\n",
              "      <td>2.281596</td>\n",
              "      <td>1.782833</td>\n",
              "      <td>1.635173</td>\n",
              "      <td>1.323276</td>\n",
              "      <td>2.887580</td>\n",
              "      <td>1.042618</td>\n",
              "      <td>2.293890</td>\n",
              "      <td>0.396941</td>\n",
              "    </tr>\n",
              "  </tbody>\n",
              "</table>\n",
              "<p>3 rows × 9719 columns</p>\n",
              "</div>\n",
              "    <div class=\"colab-df-buttons\">\n",
              "\n",
              "  <div class=\"colab-df-container\">\n",
              "    <button class=\"colab-df-convert\" onclick=\"convertToInteractive('df-a961fe90-1495-4deb-a9ca-a32ccd9587b8')\"\n",
              "            title=\"Convert this dataframe to an interactive table.\"\n",
              "            style=\"display:none;\">\n",
              "\n",
              "  <svg xmlns=\"http://www.w3.org/2000/svg\" height=\"24px\" viewBox=\"0 -960 960 960\">\n",
              "    <path d=\"M120-120v-720h720v720H120Zm60-500h600v-160H180v160Zm220 220h160v-160H400v160Zm0 220h160v-160H400v160ZM180-400h160v-160H180v160Zm440 0h160v-160H620v160ZM180-180h160v-160H180v160Zm440 0h160v-160H620v160Z\"/>\n",
              "  </svg>\n",
              "    </button>\n",
              "\n",
              "  <style>\n",
              "    .colab-df-container {\n",
              "      display:flex;\n",
              "      gap: 12px;\n",
              "    }\n",
              "\n",
              "    .colab-df-convert {\n",
              "      background-color: #E8F0FE;\n",
              "      border: none;\n",
              "      border-radius: 50%;\n",
              "      cursor: pointer;\n",
              "      display: none;\n",
              "      fill: #1967D2;\n",
              "      height: 32px;\n",
              "      padding: 0 0 0 0;\n",
              "      width: 32px;\n",
              "    }\n",
              "\n",
              "    .colab-df-convert:hover {\n",
              "      background-color: #E2EBFA;\n",
              "      box-shadow: 0px 1px 2px rgba(60, 64, 67, 0.3), 0px 1px 3px 1px rgba(60, 64, 67, 0.15);\n",
              "      fill: #174EA6;\n",
              "    }\n",
              "\n",
              "    .colab-df-buttons div {\n",
              "      margin-bottom: 4px;\n",
              "    }\n",
              "\n",
              "    [theme=dark] .colab-df-convert {\n",
              "      background-color: #3B4455;\n",
              "      fill: #D2E3FC;\n",
              "    }\n",
              "\n",
              "    [theme=dark] .colab-df-convert:hover {\n",
              "      background-color: #434B5C;\n",
              "      box-shadow: 0px 1px 3px 1px rgba(0, 0, 0, 0.15);\n",
              "      filter: drop-shadow(0px 1px 2px rgba(0, 0, 0, 0.3));\n",
              "      fill: #FFFFFF;\n",
              "    }\n",
              "  </style>\n",
              "\n",
              "    <script>\n",
              "      const buttonEl =\n",
              "        document.querySelector('#df-a961fe90-1495-4deb-a9ca-a32ccd9587b8 button.colab-df-convert');\n",
              "      buttonEl.style.display =\n",
              "        google.colab.kernel.accessAllowed ? 'block' : 'none';\n",
              "\n",
              "      async function convertToInteractive(key) {\n",
              "        const element = document.querySelector('#df-a961fe90-1495-4deb-a9ca-a32ccd9587b8');\n",
              "        const dataTable =\n",
              "          await google.colab.kernel.invokeFunction('convertToInteractive',\n",
              "                                                    [key], {});\n",
              "        if (!dataTable) return;\n",
              "\n",
              "        const docLinkHtml = 'Like what you see? Visit the ' +\n",
              "          '<a target=\"_blank\" href=https://colab.research.google.com/notebooks/data_table.ipynb>data table notebook</a>'\n",
              "          + ' to learn more about interactive tables.';\n",
              "        element.innerHTML = '';\n",
              "        dataTable['output_type'] = 'display_data';\n",
              "        await google.colab.output.renderOutput(dataTable, element);\n",
              "        const docLink = document.createElement('div');\n",
              "        docLink.innerHTML = docLinkHtml;\n",
              "        element.appendChild(docLink);\n",
              "      }\n",
              "    </script>\n",
              "  </div>\n",
              "\n",
              "\n",
              "    <div id=\"df-7dc27dc1-593c-4adb-8ed9-a5e03f8c9d7d\">\n",
              "      <button class=\"colab-df-quickchart\" onclick=\"quickchart('df-7dc27dc1-593c-4adb-8ed9-a5e03f8c9d7d')\"\n",
              "                title=\"Suggest charts\"\n",
              "                style=\"display:none;\">\n",
              "\n",
              "<svg xmlns=\"http://www.w3.org/2000/svg\" height=\"24px\"viewBox=\"0 0 24 24\"\n",
              "     width=\"24px\">\n",
              "    <g>\n",
              "        <path d=\"M19 3H5c-1.1 0-2 .9-2 2v14c0 1.1.9 2 2 2h14c1.1 0 2-.9 2-2V5c0-1.1-.9-2-2-2zM9 17H7v-7h2v7zm4 0h-2V7h2v10zm4 0h-2v-4h2v4z\"/>\n",
              "    </g>\n",
              "</svg>\n",
              "      </button>\n",
              "\n",
              "<style>\n",
              "  .colab-df-quickchart {\n",
              "      --bg-color: #E8F0FE;\n",
              "      --fill-color: #1967D2;\n",
              "      --hover-bg-color: #E2EBFA;\n",
              "      --hover-fill-color: #174EA6;\n",
              "      --disabled-fill-color: #AAA;\n",
              "      --disabled-bg-color: #DDD;\n",
              "  }\n",
              "\n",
              "  [theme=dark] .colab-df-quickchart {\n",
              "      --bg-color: #3B4455;\n",
              "      --fill-color: #D2E3FC;\n",
              "      --hover-bg-color: #434B5C;\n",
              "      --hover-fill-color: #FFFFFF;\n",
              "      --disabled-bg-color: #3B4455;\n",
              "      --disabled-fill-color: #666;\n",
              "  }\n",
              "\n",
              "  .colab-df-quickchart {\n",
              "    background-color: var(--bg-color);\n",
              "    border: none;\n",
              "    border-radius: 50%;\n",
              "    cursor: pointer;\n",
              "    display: none;\n",
              "    fill: var(--fill-color);\n",
              "    height: 32px;\n",
              "    padding: 0;\n",
              "    width: 32px;\n",
              "  }\n",
              "\n",
              "  .colab-df-quickchart:hover {\n",
              "    background-color: var(--hover-bg-color);\n",
              "    box-shadow: 0 1px 2px rgba(60, 64, 67, 0.3), 0 1px 3px 1px rgba(60, 64, 67, 0.15);\n",
              "    fill: var(--button-hover-fill-color);\n",
              "  }\n",
              "\n",
              "  .colab-df-quickchart-complete:disabled,\n",
              "  .colab-df-quickchart-complete:disabled:hover {\n",
              "    background-color: var(--disabled-bg-color);\n",
              "    fill: var(--disabled-fill-color);\n",
              "    box-shadow: none;\n",
              "  }\n",
              "\n",
              "  .colab-df-spinner {\n",
              "    border: 2px solid var(--fill-color);\n",
              "    border-color: transparent;\n",
              "    border-bottom-color: var(--fill-color);\n",
              "    animation:\n",
              "      spin 1s steps(1) infinite;\n",
              "  }\n",
              "\n",
              "  @keyframes spin {\n",
              "    0% {\n",
              "      border-color: transparent;\n",
              "      border-bottom-color: var(--fill-color);\n",
              "      border-left-color: var(--fill-color);\n",
              "    }\n",
              "    20% {\n",
              "      border-color: transparent;\n",
              "      border-left-color: var(--fill-color);\n",
              "      border-top-color: var(--fill-color);\n",
              "    }\n",
              "    30% {\n",
              "      border-color: transparent;\n",
              "      border-left-color: var(--fill-color);\n",
              "      border-top-color: var(--fill-color);\n",
              "      border-right-color: var(--fill-color);\n",
              "    }\n",
              "    40% {\n",
              "      border-color: transparent;\n",
              "      border-right-color: var(--fill-color);\n",
              "      border-top-color: var(--fill-color);\n",
              "    }\n",
              "    60% {\n",
              "      border-color: transparent;\n",
              "      border-right-color: var(--fill-color);\n",
              "    }\n",
              "    80% {\n",
              "      border-color: transparent;\n",
              "      border-right-color: var(--fill-color);\n",
              "      border-bottom-color: var(--fill-color);\n",
              "    }\n",
              "    90% {\n",
              "      border-color: transparent;\n",
              "      border-bottom-color: var(--fill-color);\n",
              "    }\n",
              "  }\n",
              "</style>\n",
              "\n",
              "      <script>\n",
              "        async function quickchart(key) {\n",
              "          const quickchartButtonEl =\n",
              "            document.querySelector('#' + key + ' button');\n",
              "          quickchartButtonEl.disabled = true;  // To prevent multiple clicks.\n",
              "          quickchartButtonEl.classList.add('colab-df-spinner');\n",
              "          try {\n",
              "            const charts = await google.colab.kernel.invokeFunction(\n",
              "                'suggestCharts', [key], {});\n",
              "          } catch (error) {\n",
              "            console.error('Error during call to suggestCharts:', error);\n",
              "          }\n",
              "          quickchartButtonEl.classList.remove('colab-df-spinner');\n",
              "          quickchartButtonEl.classList.add('colab-df-quickchart-complete');\n",
              "        }\n",
              "        (() => {\n",
              "          let quickchartButtonEl =\n",
              "            document.querySelector('#df-7dc27dc1-593c-4adb-8ed9-a5e03f8c9d7d button');\n",
              "          quickchartButtonEl.style.display =\n",
              "            google.colab.kernel.accessAllowed ? 'block' : 'none';\n",
              "        })();\n",
              "      </script>\n",
              "    </div>\n",
              "\n",
              "    </div>\n",
              "  </div>\n"
            ],
            "application/vnd.google.colaboratory.intrinsic+json": {
              "type": "dataframe",
              "variable_name": "ratings_pred_matrix"
            }
          },
          "metadata": {},
          "execution_count": 8
        }
      ]
    },
    {
      "cell_type": "markdown",
      "source": [
        "- 사용자 9번이 보지 않은 영화 목록을 get_unseen_movies()로 추출\n",
        "\n",
        "- 잠재 요인 기반 예측 평점 행렬을 이용해 recomm_movie_by_userid()로 상위 10개 영화 추천\n",
        "\n",
        "- 추천 결과를 DataFrame으로 정리하여 예측 평점(pred_score) 확인"
      ],
      "metadata": {
        "id": "FDWNzkqv_lfK"
      }
    },
    {
      "cell_type": "code",
      "source": [
        "def get_unseen_movies(ratings_matrix, userId):\n",
        "    # userId로 입력받은 사용자의 모든 영화정보 추출하여 Series로 반환함.\n",
        "    # 반환된 user_rating 은 영화명(title)을 index로 가지는 Series 객체임.\n",
        "    user_rating = ratings_matrix.loc[userId,:]\n",
        "\n",
        "    # user_rating이 0보다 크면 기존에 관람한 영화임. 대상 index를 추출하여 list 객체로 만듬\n",
        "    already_seen = user_rating[ user_rating > 0].index.tolist()\n",
        "\n",
        "    # 모든 영화명을 list 객체로 만듬.\n",
        "    movies_list = ratings_matrix.columns.tolist()\n",
        "\n",
        "    # list comprehension으로 already_seen에 해당하는 movie는 movies_list에서 제외함.\n",
        "    unseen_list = [ movie for movie in movies_list if movie not in already_seen]\n",
        "\n",
        "    return unseen_list"
      ],
      "metadata": {
        "id": "OKoMNuHZ_nLV"
      },
      "execution_count": 9,
      "outputs": []
    },
    {
      "cell_type": "code",
      "source": [
        "def recomm_movie_by_userid(pred_df, userId, unseen_list, top_n=10):\n",
        "    # 예측 평점 DataFrame에서 사용자id index와 unseen_list로 들어온 영화명 컬럼을 추출하여\n",
        "    # 가장 예측 평점이 높은 순으로 정렬함.\n",
        "    recomm_movies = pred_df.loc[userId, unseen_list].sort_values(ascending=False)[:top_n]\n",
        "    return recomm_movies"
      ],
      "metadata": {
        "id": "VTCQMoGg_oi1"
      },
      "execution_count": 10,
      "outputs": []
    },
    {
      "cell_type": "code",
      "source": [
        "# 사용자가 관람하지 않은 영화명 추출\n",
        "unseen_list = get_unseen_movies(ratings_matrix, 9)\n",
        "\n",
        "# 잠재 요인 협업 필터링으로 영화 추천\n",
        "recomm_movies =recomm_movie_by_userid(ratings_pred_matrix, 9, unseen_list, top_n=10)\n",
        "\n",
        "# 평점 데이터를 DataFrame으로 생성\n",
        "recomm_movies =pd.DataFrame(data=recomm_movies.values, index=recomm_movies.index,\n",
        "                            columns=['pred_score'])\n",
        "recomm_movies"
      ],
      "metadata": {
        "colab": {
          "base_uri": "https://localhost:8080/",
          "height": 394
        },
        "id": "tSNFUGLs_qi9",
        "outputId": "b95a3ab4-20b0-475a-9b36-98e1fd69776c"
      },
      "execution_count": 11,
      "outputs": [
        {
          "output_type": "execute_result",
          "data": {
            "text/plain": [
              "                                                    pred_score\n",
              "title                                                         \n",
              "Rear Window (1954)                                    5.704612\n",
              "South Park: Bigger, Longer and Uncut (1999)           5.451100\n",
              "Rounders (1998)                                       5.298393\n",
              "Blade Runner (1982)                                   5.244951\n",
              "Roger & Me (1989)                                     5.191962\n",
              "Gattaca (1997)                                        5.183179\n",
              "Ben-Hur (1959)                                        5.130463\n",
              "Rosencrantz and Guildenstern Are Dead (1990)          5.087375\n",
              "Big Lebowski, The (1998)                              5.038690\n",
              "Star Wars: Episode V - The Empire Strikes Back ...    4.989601"
            ],
            "text/html": [
              "\n",
              "  <div id=\"df-045869ff-2ec1-44d6-b357-edaa84392567\" class=\"colab-df-container\">\n",
              "    <div>\n",
              "<style scoped>\n",
              "    .dataframe tbody tr th:only-of-type {\n",
              "        vertical-align: middle;\n",
              "    }\n",
              "\n",
              "    .dataframe tbody tr th {\n",
              "        vertical-align: top;\n",
              "    }\n",
              "\n",
              "    .dataframe thead th {\n",
              "        text-align: right;\n",
              "    }\n",
              "</style>\n",
              "<table border=\"1\" class=\"dataframe\">\n",
              "  <thead>\n",
              "    <tr style=\"text-align: right;\">\n",
              "      <th></th>\n",
              "      <th>pred_score</th>\n",
              "    </tr>\n",
              "    <tr>\n",
              "      <th>title</th>\n",
              "      <th></th>\n",
              "    </tr>\n",
              "  </thead>\n",
              "  <tbody>\n",
              "    <tr>\n",
              "      <th>Rear Window (1954)</th>\n",
              "      <td>5.704612</td>\n",
              "    </tr>\n",
              "    <tr>\n",
              "      <th>South Park: Bigger, Longer and Uncut (1999)</th>\n",
              "      <td>5.451100</td>\n",
              "    </tr>\n",
              "    <tr>\n",
              "      <th>Rounders (1998)</th>\n",
              "      <td>5.298393</td>\n",
              "    </tr>\n",
              "    <tr>\n",
              "      <th>Blade Runner (1982)</th>\n",
              "      <td>5.244951</td>\n",
              "    </tr>\n",
              "    <tr>\n",
              "      <th>Roger &amp; Me (1989)</th>\n",
              "      <td>5.191962</td>\n",
              "    </tr>\n",
              "    <tr>\n",
              "      <th>Gattaca (1997)</th>\n",
              "      <td>5.183179</td>\n",
              "    </tr>\n",
              "    <tr>\n",
              "      <th>Ben-Hur (1959)</th>\n",
              "      <td>5.130463</td>\n",
              "    </tr>\n",
              "    <tr>\n",
              "      <th>Rosencrantz and Guildenstern Are Dead (1990)</th>\n",
              "      <td>5.087375</td>\n",
              "    </tr>\n",
              "    <tr>\n",
              "      <th>Big Lebowski, The (1998)</th>\n",
              "      <td>5.038690</td>\n",
              "    </tr>\n",
              "    <tr>\n",
              "      <th>Star Wars: Episode V - The Empire Strikes Back (1980)</th>\n",
              "      <td>4.989601</td>\n",
              "    </tr>\n",
              "  </tbody>\n",
              "</table>\n",
              "</div>\n",
              "    <div class=\"colab-df-buttons\">\n",
              "\n",
              "  <div class=\"colab-df-container\">\n",
              "    <button class=\"colab-df-convert\" onclick=\"convertToInteractive('df-045869ff-2ec1-44d6-b357-edaa84392567')\"\n",
              "            title=\"Convert this dataframe to an interactive table.\"\n",
              "            style=\"display:none;\">\n",
              "\n",
              "  <svg xmlns=\"http://www.w3.org/2000/svg\" height=\"24px\" viewBox=\"0 -960 960 960\">\n",
              "    <path d=\"M120-120v-720h720v720H120Zm60-500h600v-160H180v160Zm220 220h160v-160H400v160Zm0 220h160v-160H400v160ZM180-400h160v-160H180v160Zm440 0h160v-160H620v160ZM180-180h160v-160H180v160Zm440 0h160v-160H620v160Z\"/>\n",
              "  </svg>\n",
              "    </button>\n",
              "\n",
              "  <style>\n",
              "    .colab-df-container {\n",
              "      display:flex;\n",
              "      gap: 12px;\n",
              "    }\n",
              "\n",
              "    .colab-df-convert {\n",
              "      background-color: #E8F0FE;\n",
              "      border: none;\n",
              "      border-radius: 50%;\n",
              "      cursor: pointer;\n",
              "      display: none;\n",
              "      fill: #1967D2;\n",
              "      height: 32px;\n",
              "      padding: 0 0 0 0;\n",
              "      width: 32px;\n",
              "    }\n",
              "\n",
              "    .colab-df-convert:hover {\n",
              "      background-color: #E2EBFA;\n",
              "      box-shadow: 0px 1px 2px rgba(60, 64, 67, 0.3), 0px 1px 3px 1px rgba(60, 64, 67, 0.15);\n",
              "      fill: #174EA6;\n",
              "    }\n",
              "\n",
              "    .colab-df-buttons div {\n",
              "      margin-bottom: 4px;\n",
              "    }\n",
              "\n",
              "    [theme=dark] .colab-df-convert {\n",
              "      background-color: #3B4455;\n",
              "      fill: #D2E3FC;\n",
              "    }\n",
              "\n",
              "    [theme=dark] .colab-df-convert:hover {\n",
              "      background-color: #434B5C;\n",
              "      box-shadow: 0px 1px 3px 1px rgba(0, 0, 0, 0.15);\n",
              "      filter: drop-shadow(0px 1px 2px rgba(0, 0, 0, 0.3));\n",
              "      fill: #FFFFFF;\n",
              "    }\n",
              "  </style>\n",
              "\n",
              "    <script>\n",
              "      const buttonEl =\n",
              "        document.querySelector('#df-045869ff-2ec1-44d6-b357-edaa84392567 button.colab-df-convert');\n",
              "      buttonEl.style.display =\n",
              "        google.colab.kernel.accessAllowed ? 'block' : 'none';\n",
              "\n",
              "      async function convertToInteractive(key) {\n",
              "        const element = document.querySelector('#df-045869ff-2ec1-44d6-b357-edaa84392567');\n",
              "        const dataTable =\n",
              "          await google.colab.kernel.invokeFunction('convertToInteractive',\n",
              "                                                    [key], {});\n",
              "        if (!dataTable) return;\n",
              "\n",
              "        const docLinkHtml = 'Like what you see? Visit the ' +\n",
              "          '<a target=\"_blank\" href=https://colab.research.google.com/notebooks/data_table.ipynb>data table notebook</a>'\n",
              "          + ' to learn more about interactive tables.';\n",
              "        element.innerHTML = '';\n",
              "        dataTable['output_type'] = 'display_data';\n",
              "        await google.colab.output.renderOutput(dataTable, element);\n",
              "        const docLink = document.createElement('div');\n",
              "        docLink.innerHTML = docLinkHtml;\n",
              "        element.appendChild(docLink);\n",
              "      }\n",
              "    </script>\n",
              "  </div>\n",
              "\n",
              "\n",
              "    <div id=\"df-5e063ecb-b1d7-418d-8f1f-44cb0964f724\">\n",
              "      <button class=\"colab-df-quickchart\" onclick=\"quickchart('df-5e063ecb-b1d7-418d-8f1f-44cb0964f724')\"\n",
              "                title=\"Suggest charts\"\n",
              "                style=\"display:none;\">\n",
              "\n",
              "<svg xmlns=\"http://www.w3.org/2000/svg\" height=\"24px\"viewBox=\"0 0 24 24\"\n",
              "     width=\"24px\">\n",
              "    <g>\n",
              "        <path d=\"M19 3H5c-1.1 0-2 .9-2 2v14c0 1.1.9 2 2 2h14c1.1 0 2-.9 2-2V5c0-1.1-.9-2-2-2zM9 17H7v-7h2v7zm4 0h-2V7h2v10zm4 0h-2v-4h2v4z\"/>\n",
              "    </g>\n",
              "</svg>\n",
              "      </button>\n",
              "\n",
              "<style>\n",
              "  .colab-df-quickchart {\n",
              "      --bg-color: #E8F0FE;\n",
              "      --fill-color: #1967D2;\n",
              "      --hover-bg-color: #E2EBFA;\n",
              "      --hover-fill-color: #174EA6;\n",
              "      --disabled-fill-color: #AAA;\n",
              "      --disabled-bg-color: #DDD;\n",
              "  }\n",
              "\n",
              "  [theme=dark] .colab-df-quickchart {\n",
              "      --bg-color: #3B4455;\n",
              "      --fill-color: #D2E3FC;\n",
              "      --hover-bg-color: #434B5C;\n",
              "      --hover-fill-color: #FFFFFF;\n",
              "      --disabled-bg-color: #3B4455;\n",
              "      --disabled-fill-color: #666;\n",
              "  }\n",
              "\n",
              "  .colab-df-quickchart {\n",
              "    background-color: var(--bg-color);\n",
              "    border: none;\n",
              "    border-radius: 50%;\n",
              "    cursor: pointer;\n",
              "    display: none;\n",
              "    fill: var(--fill-color);\n",
              "    height: 32px;\n",
              "    padding: 0;\n",
              "    width: 32px;\n",
              "  }\n",
              "\n",
              "  .colab-df-quickchart:hover {\n",
              "    background-color: var(--hover-bg-color);\n",
              "    box-shadow: 0 1px 2px rgba(60, 64, 67, 0.3), 0 1px 3px 1px rgba(60, 64, 67, 0.15);\n",
              "    fill: var(--button-hover-fill-color);\n",
              "  }\n",
              "\n",
              "  .colab-df-quickchart-complete:disabled,\n",
              "  .colab-df-quickchart-complete:disabled:hover {\n",
              "    background-color: var(--disabled-bg-color);\n",
              "    fill: var(--disabled-fill-color);\n",
              "    box-shadow: none;\n",
              "  }\n",
              "\n",
              "  .colab-df-spinner {\n",
              "    border: 2px solid var(--fill-color);\n",
              "    border-color: transparent;\n",
              "    border-bottom-color: var(--fill-color);\n",
              "    animation:\n",
              "      spin 1s steps(1) infinite;\n",
              "  }\n",
              "\n",
              "  @keyframes spin {\n",
              "    0% {\n",
              "      border-color: transparent;\n",
              "      border-bottom-color: var(--fill-color);\n",
              "      border-left-color: var(--fill-color);\n",
              "    }\n",
              "    20% {\n",
              "      border-color: transparent;\n",
              "      border-left-color: var(--fill-color);\n",
              "      border-top-color: var(--fill-color);\n",
              "    }\n",
              "    30% {\n",
              "      border-color: transparent;\n",
              "      border-left-color: var(--fill-color);\n",
              "      border-top-color: var(--fill-color);\n",
              "      border-right-color: var(--fill-color);\n",
              "    }\n",
              "    40% {\n",
              "      border-color: transparent;\n",
              "      border-right-color: var(--fill-color);\n",
              "      border-top-color: var(--fill-color);\n",
              "    }\n",
              "    60% {\n",
              "      border-color: transparent;\n",
              "      border-right-color: var(--fill-color);\n",
              "    }\n",
              "    80% {\n",
              "      border-color: transparent;\n",
              "      border-right-color: var(--fill-color);\n",
              "      border-bottom-color: var(--fill-color);\n",
              "    }\n",
              "    90% {\n",
              "      border-color: transparent;\n",
              "      border-bottom-color: var(--fill-color);\n",
              "    }\n",
              "  }\n",
              "</style>\n",
              "\n",
              "      <script>\n",
              "        async function quickchart(key) {\n",
              "          const quickchartButtonEl =\n",
              "            document.querySelector('#' + key + ' button');\n",
              "          quickchartButtonEl.disabled = true;  // To prevent multiple clicks.\n",
              "          quickchartButtonEl.classList.add('colab-df-spinner');\n",
              "          try {\n",
              "            const charts = await google.colab.kernel.invokeFunction(\n",
              "                'suggestCharts', [key], {});\n",
              "          } catch (error) {\n",
              "            console.error('Error during call to suggestCharts:', error);\n",
              "          }\n",
              "          quickchartButtonEl.classList.remove('colab-df-spinner');\n",
              "          quickchartButtonEl.classList.add('colab-df-quickchart-complete');\n",
              "        }\n",
              "        (() => {\n",
              "          let quickchartButtonEl =\n",
              "            document.querySelector('#df-5e063ecb-b1d7-418d-8f1f-44cb0964f724 button');\n",
              "          quickchartButtonEl.style.display =\n",
              "            google.colab.kernel.accessAllowed ? 'block' : 'none';\n",
              "        })();\n",
              "      </script>\n",
              "    </div>\n",
              "\n",
              "  <div id=\"id_762961bc-a6f1-491b-b563-06d617b5a6e3\">\n",
              "    <style>\n",
              "      .colab-df-generate {\n",
              "        background-color: #E8F0FE;\n",
              "        border: none;\n",
              "        border-radius: 50%;\n",
              "        cursor: pointer;\n",
              "        display: none;\n",
              "        fill: #1967D2;\n",
              "        height: 32px;\n",
              "        padding: 0 0 0 0;\n",
              "        width: 32px;\n",
              "      }\n",
              "\n",
              "      .colab-df-generate:hover {\n",
              "        background-color: #E2EBFA;\n",
              "        box-shadow: 0px 1px 2px rgba(60, 64, 67, 0.3), 0px 1px 3px 1px rgba(60, 64, 67, 0.15);\n",
              "        fill: #174EA6;\n",
              "      }\n",
              "\n",
              "      [theme=dark] .colab-df-generate {\n",
              "        background-color: #3B4455;\n",
              "        fill: #D2E3FC;\n",
              "      }\n",
              "\n",
              "      [theme=dark] .colab-df-generate:hover {\n",
              "        background-color: #434B5C;\n",
              "        box-shadow: 0px 1px 3px 1px rgba(0, 0, 0, 0.15);\n",
              "        filter: drop-shadow(0px 1px 2px rgba(0, 0, 0, 0.3));\n",
              "        fill: #FFFFFF;\n",
              "      }\n",
              "    </style>\n",
              "    <button class=\"colab-df-generate\" onclick=\"generateWithVariable('recomm_movies')\"\n",
              "            title=\"Generate code using this dataframe.\"\n",
              "            style=\"display:none;\">\n",
              "\n",
              "  <svg xmlns=\"http://www.w3.org/2000/svg\" height=\"24px\"viewBox=\"0 0 24 24\"\n",
              "       width=\"24px\">\n",
              "    <path d=\"M7,19H8.4L18.45,9,17,7.55,7,17.6ZM5,21V16.75L18.45,3.32a2,2,0,0,1,2.83,0l1.4,1.43a1.91,1.91,0,0,1,.58,1.4,1.91,1.91,0,0,1-.58,1.4L9.25,21ZM18.45,9,17,7.55Zm-12,3A5.31,5.31,0,0,0,4.9,8.1,5.31,5.31,0,0,0,1,6.5,5.31,5.31,0,0,0,4.9,4.9,5.31,5.31,0,0,0,6.5,1,5.31,5.31,0,0,0,8.1,4.9,5.31,5.31,0,0,0,12,6.5,5.46,5.46,0,0,0,6.5,12Z\"/>\n",
              "  </svg>\n",
              "    </button>\n",
              "    <script>\n",
              "      (() => {\n",
              "      const buttonEl =\n",
              "        document.querySelector('#id_762961bc-a6f1-491b-b563-06d617b5a6e3 button.colab-df-generate');\n",
              "      buttonEl.style.display =\n",
              "        google.colab.kernel.accessAllowed ? 'block' : 'none';\n",
              "\n",
              "      buttonEl.onclick = () => {\n",
              "        google.colab.notebook.generateWithVariable('recomm_movies');\n",
              "      }\n",
              "      })();\n",
              "    </script>\n",
              "  </div>\n",
              "\n",
              "    </div>\n",
              "  </div>\n"
            ],
            "application/vnd.google.colaboratory.intrinsic+json": {
              "type": "dataframe",
              "variable_name": "recomm_movies",
              "summary": "{\n  \"name\": \"recomm_movies\",\n  \"rows\": 10,\n  \"fields\": [\n    {\n      \"column\": \"title\",\n      \"properties\": {\n        \"dtype\": \"string\",\n        \"num_unique_values\": 10,\n        \"samples\": [\n          \"Big Lebowski, The (1998)\",\n          \"South Park: Bigger, Longer and Uncut (1999)\",\n          \"Gattaca (1997)\"\n        ],\n        \"semantic_type\": \"\",\n        \"description\": \"\"\n      }\n    },\n    {\n      \"column\": \"pred_score\",\n      \"properties\": {\n        \"dtype\": \"number\",\n        \"std\": 0.21272885538651393,\n        \"min\": 4.989601238872484,\n        \"max\": 5.704612469838172,\n        \"num_unique_values\": 10,\n        \"samples\": [\n          5.0386897288205725,\n          5.451100205772531,\n          5.183178550884765\n        ],\n        \"semantic_type\": \"\",\n        \"description\": \"\"\n      }\n    }\n  ]\n}"
            }
          },
          "metadata": {},
          "execution_count": 11
        }
      ]
    },
    {
      "cell_type": "markdown",
      "source": [
        "* 잠재 요인 협업 필터링은 아이템 기반 협업 필터링과 다른 추천 결과를 보임\n",
        "* ‘이창’, ‘사우스파크’, ‘라운더스’, ‘블레이드 러너’, ‘가타카’ 등 다소 무거운 주제의 영화들이 추천됨"
      ],
      "metadata": {
        "id": "vTJjNPR6_saA"
      }
    },
    {
      "cell_type": "markdown",
      "source": [
        "# 파이썬 추천 시스템 패키지 一 Surprise\n",
        "\n",
        "* 추천 시스템 전용 파이썬 패키지인 Surprise를 소개\n",
        "* 사이킷런처럼 사용하기 쉬운 API를 제공하며, pip 또는 conda로 설치 가능\n",
        "* 기존 구현보다 최적화된 추천 시스템 개발에 유용함"
      ],
      "metadata": {
        "id": "4Wc0iBkN_ueR"
      }
    },
    {
      "cell_type": "code",
      "execution_count": null,
      "metadata": {
        "id": "G7PJ4HWn365c",
        "outputId": "9db17b6e-69e1-4805-cd6b-60c8ae1aa071"
      },
      "outputs": [
        {
          "name": "stdout",
          "output_type": "stream",
          "text": [
            "1.1.1\n"
          ]
        }
      ],
      "source": [
        "import surprise\n",
        "\n",
        "print(surprise.__version__)"
      ]
    },
    {
      "cell_type": "markdown",
      "metadata": {
        "id": "7XGwazNz365f"
      },
      "source": [
        "## Surprise 를 이용한 추천 시스템 구축"
      ]
    },
    {
      "cell_type": "code",
      "execution_count": null,
      "metadata": {
        "id": "Gpd-NJnH365h"
      },
      "outputs": [],
      "source": [
        "from surprise import SVD\n",
        "from surprise import Dataset\n",
        "from surprise import accuracy\n",
        "from surprise.model_selection import train_test_split"
      ]
    },
    {
      "cell_type": "markdown",
      "source": [
        "- Dataset 클래스를 사용하여 데이터를 로딩\n",
        "- MovieLens 데이터셋을 `load_builtin()`으로 로딩\n",
        "- `train_test_split()`을 사용해 데이터를 학습용과 테스트용으로 분리"
      ],
      "metadata": {
        "id": "vTl25ruR5MZr"
      }
    },
    {
      "cell_type": "code",
      "execution_count": null,
      "metadata": {
        "scrolled": false,
        "id": "FveurPFy365h"
      },
      "outputs": [],
      "source": [
        "data = Dataset.load_builtin('ml-100k')\n",
        "# 수행 시마다 동일하게 데이터를 분할하기 위해 random_state 값 부여\n",
        "trainset, testset = train_test_split(data, test_size=.25, random_state=0)"
      ]
    },
    {
      "cell_type": "markdown",
      "source": [
        "- SVD 알고리즘 객체 생성: `algo = SVD()`\n",
        "- `fit()`을 사용해 학습 데이터 세트로 추천 알고리즘 학습\n"
      ],
      "metadata": {
        "id": "fEyGynvf5Z2C"
      }
    },
    {
      "cell_type": "code",
      "execution_count": null,
      "metadata": {
        "id": "WC29ZVKg365i",
        "outputId": "b51cdbc7-59ae-4a90-eba2-c98bae9bcc4f"
      },
      "outputs": [
        {
          "data": {
            "text/plain": [
              "<surprise.prediction_algorithms.matrix_factorization.SVD at 0x1c835e4aa90>"
            ]
          },
          "execution_count": 4,
          "metadata": {},
          "output_type": "execute_result"
        }
      ],
      "source": [
        "algo = SVD(random_state=0)\n",
        "algo.fit(trainset)"
      ]
    },
    {
      "cell_type": "markdown",
      "source": [
        "- test(): 테스트 데이터 세트 전체에 대해 추천 평점 예측\n",
        "- 예제: 테스트 데이터 세트에서 추천 평점 생성 후, 첫 5개 항목 추출\n"
      ],
      "metadata": {
        "id": "gshhZqs85po_"
      }
    },
    {
      "cell_type": "code",
      "execution_count": null,
      "metadata": {
        "id": "CRT--ifO365i",
        "outputId": "11c4f0de-9c90-4f20-da7a-816801e933bc"
      },
      "outputs": [
        {
          "name": "stdout",
          "output_type": "stream",
          "text": [
            "prediction type : <class 'list'>  size: 25000\n",
            "prediction 결과의 최초 5개 추출\n"
          ]
        },
        {
          "data": {
            "text/plain": [
              "[Prediction(uid='120', iid='282', r_ui=4.0, est=3.5114147666251547, details={'was_impossible': False}),\n",
              " Prediction(uid='882', iid='291', r_ui=4.0, est=3.573872419581491, details={'was_impossible': False}),\n",
              " Prediction(uid='535', iid='507', r_ui=5.0, est=4.033583485472447, details={'was_impossible': False}),\n",
              " Prediction(uid='697', iid='244', r_ui=5.0, est=3.8463639495936905, details={'was_impossible': False}),\n",
              " Prediction(uid='751', iid='385', r_ui=4.0, est=3.1807542478219157, details={'was_impossible': False})]"
            ]
          },
          "execution_count": 6,
          "metadata": {},
          "output_type": "execute_result"
        }
      ],
      "source": [
        "predictions = algo.test( testset )\n",
        "print('prediction type :',type(predictions), ' size:',len(predictions))\n",
        "print('prediction 결과의 최초 5개 추출')\n",
        "predictions[:5]"
      ]
    },
    {
      "cell_type": "markdown",
      "source": [
        "- test() 메서드는 25,000개의 `Prediction` 객체 리스트를 반환\n",
        "- `Prediction` 객체는 사용자 아이디(uid), 영화 아이디(iid), 실제 평점(r_ui), 예측 평점(est)을 포함\n",
        "- `was_impossible` 속성은 예측 불가능한 데이터에 대해 True로 설정됨 (여기선 모두 False)\n",
        "- `Prediction` 객체 속성 접근: `객체명.uid`, `객체명.iid`, `객체명.est`와 같은 형식으로 사용\n"
      ],
      "metadata": {
        "id": "sP756oiT5ytt"
      }
    },
    {
      "cell_type": "code",
      "execution_count": null,
      "metadata": {
        "id": "-9VtaWNV365j",
        "outputId": "3f053858-855e-411e-db86-99c0a7ed2f70"
      },
      "outputs": [
        {
          "data": {
            "text/plain": [
              "[('120', '282', 3.5114147666251547),\n",
              " ('882', '291', 3.573872419581491),\n",
              " ('535', '507', 4.033583485472447)]"
            ]
          },
          "execution_count": 7,
          "metadata": {},
          "output_type": "execute_result"
        }
      ],
      "source": [
        "[ (pred.uid, pred.iid, pred.est) for pred in predictions[:3] ]"
      ]
    },
    {
      "cell_type": "markdown",
      "source": [
        "- predict() 메서드는 개별 사용자와 아이템에 대한 추천 평점을 예측\n",
        "- 사용자 아이디와 아이템 아이디를 인자로 입력하면, 추천 예측 평점을 포함한 정보를 반환\n",
        "- 기존 평점 정보(r_ui)는 선택 사항이며, 사용자 아이디와 아이템 아이디는 문자열로 입력\n"
      ],
      "metadata": {
        "id": "biwKlNjD6DHQ"
      }
    },
    {
      "cell_type": "code",
      "execution_count": null,
      "metadata": {
        "id": "Ub29P2po365j",
        "outputId": "2935d1c1-04ae-46ea-d5bf-f0f372083b17"
      },
      "outputs": [
        {
          "name": "stdout",
          "output_type": "stream",
          "text": [
            "user: 196        item: 302        r_ui = None   est = 4.49   {'was_impossible': False}\n"
          ]
        }
      ],
      "source": [
        "# 사용자 아이디, 아이템 아이디는 문자열로 입력해야 함.\n",
        "uid = str(196)\n",
        "iid = str(302)\n",
        "pred = algo.predict(uid, iid)\n",
        "print(pred)"
      ]
    },
    {
      "cell_type": "markdown",
      "source": [
        "- predict()는 개별 사용자와 아이템에 대해 추천 예측 평점(est)을 반환\n",
        "- test()는 모든 사용자와 아이템에 대해 predict()를 반복하여 실행한 결과\n",
        "- 테스트 데이터 세트로 추천 예측 평점과 실제 평점의 차이를 평가\n",
        "- accuracy 모듈의 rmse()를 사용하여 RMSE로 성능 평가\n"
      ],
      "metadata": {
        "id": "6EKJC3NA6Ogb"
      }
    },
    {
      "cell_type": "code",
      "execution_count": null,
      "metadata": {
        "id": "XX5mYRVj365j",
        "outputId": "ce6bb1d3-c599-4831-dae7-fbfa0ff853c1"
      },
      "outputs": [
        {
          "name": "stdout",
          "output_type": "stream",
          "text": [
            "RMSE: 0.9467\n"
          ]
        },
        {
          "data": {
            "text/plain": [
              "0.9466860806937948"
            ]
          },
          "execution_count": 9,
          "metadata": {},
          "output_type": "execute_result"
        }
      ],
      "source": [
        "accuracy.rmse(predictions)"
      ]
    },
    {
      "cell_type": "markdown",
      "metadata": {
        "id": "7N9B6L6V365k"
      },
      "source": [
        "## Surprise 주요 모듈 소개"
      ]
    },
    {
      "cell_type": "markdown",
      "source": [
        "- **Dataset.load_builtin(name='ml-100k')**\n",
        "  - 무비렌즈 아카이브 FTP 서버에서 데이터를 내려받습니다\n",
        "  - `ml-100k` 또는 `ml-1M` 데이터를 선택하여 로딩\n",
        "  \n",
        "- **Dataset.load_from_file(file_path, reader)**\n",
        "  - OS 파일에서 데이터를 로딩. 콤마, 탭 등으로 구분된 포맷을 처리\n",
        "  \n",
        "- **Dataset.load_from_df(df, reader)**\n",
        "  - 판다스 DataFrame에서 데이터를 로딩.\n",
        "  - 데이터는 반드시 `사용자 아이디`, `아이템 아이디`, `평점` 순으로 칼럼이 정렬되어야 함"
      ],
      "metadata": {
        "id": "uAJAJMzt6tKy"
      }
    },
    {
      "cell_type": "markdown",
      "source": [
        "### OS 파일 데이터를 Surprise 데이터 세트로 로딩\n",
        "\n",
        "- **Dataset.load_from_file** API를 사용해 사용자-아이템 평점 데이터를 로딩\n",
        "- **주의사항**: 데이터 파일에 칼럼명 헤더가 포함되지 않도록 해야 함\n",
        "- 예시:\n",
        "  - `ratings.csv` 파일은 헤더를 포함하므로, `pandas`의 `to_csv()`를 이용해 헤더를 제거한 후 `ratings_noh.csv`로 저장\n"
      ],
      "metadata": {
        "id": "m8HmKOjj7CqA"
      }
    },
    {
      "cell_type": "code",
      "execution_count": null,
      "metadata": {
        "id": "9TRS7-r_365k"
      },
      "outputs": [],
      "source": [
        "import pandas as pd\n",
        "\n",
        "ratings = pd.read_csv('./ml-latest-small/ratings.csv')\n",
        "# ratings_noh.csv 파일로 unload 시 index 와 header를 모두 제거한 새로운 파일 생성.\n",
        "ratings.to_csv('./ml-latest-small/ratings_noh.csv', index=False, header=False)\n"
      ]
    },
    {
      "cell_type": "markdown",
      "source": [
        "###ratings_noh.csv 파일 로딩\n",
        "\n",
        "- **Reader 클래스**: 데이터 파일의 파싱 포맷을 정의\n",
        "  - 칼럼: 사용자 아이디, 아이템 아이디, 평점, 타임스탬프\n",
        "  - 분리문자: 콤마, 평점 단위: 0.5, 최대 평점: 5\n",
        "- **Dataset.load_from_file()**: `ratings_noh.csv` 파일에서 사용자-아이템 평점 데이터를 로딩하며, `timestamp` 칼럼은 제외\n"
      ],
      "metadata": {
        "id": "J33YUAs27mVI"
      }
    },
    {
      "cell_type": "code",
      "execution_count": null,
      "metadata": {
        "id": "_V5qSpAq365k"
      },
      "outputs": [],
      "source": [
        "from surprise import Reader\n",
        "\n",
        "reader = Reader(line_format='user item rating timestamp', sep=',', rating_scale=(0.5, 5))\n",
        "data=Dataset.load_from_file('./ml-latest-small/ratings_noh.csv',reader=reader)"
      ]
    },
    {
      "cell_type": "markdown",
      "source": [
        "- line_format: 칼럼 순서를 공백으로 구분해 문자열로 입력\n",
        "- sep: 칼럼을 구분하는 문자 (디폴트: 콤마)\n",
        "- rating_scale: 평점의 최소-최대 범위 (디폴트: (1, 5), 예시: (0.5, 5))"
      ],
      "metadata": {
        "id": "sHSTp4xQ7xnU"
      }
    },
    {
      "cell_type": "markdown",
      "source": [
        "- n_factors: 잠재 요인 크기 K 값을 50으로 설정\n",
        "- 학습 후 테스트 데이터 세트에서 예측 평점 계산\n",
        "- 예측 평점과 실제 평점의 차이를 RMSE로 평가"
      ],
      "metadata": {
        "id": "6nHPUs7N78KZ"
      }
    },
    {
      "cell_type": "code",
      "execution_count": null,
      "metadata": {
        "id": "30Kv89Va365l",
        "outputId": "24d0387d-86a6-46c6-bb62-2899e847bf09"
      },
      "outputs": [
        {
          "name": "stdout",
          "output_type": "stream",
          "text": [
            "RMSE: 0.8682\n"
          ]
        },
        {
          "data": {
            "text/plain": [
              "0.8681952927143516"
            ]
          },
          "execution_count": 13,
          "metadata": {},
          "output_type": "execute_result"
        }
      ],
      "source": [
        "trainset, testset = train_test_split(data, test_size=.25, random_state=0)\n",
        "\n",
        "# 수행시마다 동일한 결과 도출을 위해 random_state 설정\n",
        "algo = SVD(n_factors=50, random_state=0)\n",
        "\n",
        "# 학습 데이터 세트로 학습 후 테스트 데이터 세트로 평점 예측 후 RMSE 평가\n",
        "algo.fit(trainset)\n",
        "predictions = algo.test( testset )\n",
        "accuracy.rmse(predictions)\n"
      ]
    },
    {
      "cell_type": "markdown",
      "source": [
        "### 판다스 DataFrame에서 Surprise 데이터 세트로 로딩\n",
        "\n",
        "- Dataset.load_from_df() 사용하여 판다스 DataFrame에서 Surprise 데이터 세트로 로딩\n",
        "- 주의: DataFrame은 사용자 아이디, 아이템 아이디, 평점 칼럼 순서를 따라야 함\n",
        "- 예시 코드: `Dataset.load_from_df(ratings[['userid', 'movield', 'rating']], reader)`\n",
        "- 이후 SVD 추천 예측 적용"
      ],
      "metadata": {
        "id": "knRIME2S8Hvb"
      }
    },
    {
      "cell_type": "code",
      "execution_count": null,
      "metadata": {
        "id": "AtzuSh0F365l",
        "outputId": "e213e805-8f04-45f8-91f6-f15396fe8276"
      },
      "outputs": [
        {
          "name": "stdout",
          "output_type": "stream",
          "text": [
            "RMSE: 0.8682\n"
          ]
        },
        {
          "data": {
            "text/plain": [
              "0.8681952927143516"
            ]
          },
          "execution_count": 14,
          "metadata": {},
          "output_type": "execute_result"
        }
      ],
      "source": [
        "import pandas as pd\n",
        "from surprise import Reader, Dataset\n",
        "\n",
        "ratings = pd.read_csv('./ml-latest-small/ratings.csv')\n",
        "reader = Reader(rating_scale=(0.5, 5.0))\n",
        "\n",
        "# ratings DataFrame 에서 컬럼은 사용자 아이디, 아이템 아이디, 평점 순서를 지켜야 합니다.\n",
        "data = Dataset.load_from_df(ratings[['userId', 'movieId', 'rating']], reader)\n",
        "trainset, testset = train_test_split(data, test_size=.25, random_state=0)\n",
        "\n",
        "algo = SVD(n_factors=50, random_state=0)\n",
        "algo.fit(trainset)\n",
        "predictions = algo.test( testset )\n",
        "accuracy.rmse(predictions)\n"
      ]
    },
    {
      "cell_type": "markdown",
      "source": [
        "### Surprise 추천 알고리즘 클래스\n",
        "\n",
        "Surprise에서 자주 사용되는 추천 알고리즘 클래스:\n",
        "\n",
        "- SVD: 행렬 분해를 통한 잠재 요인 협업 필터링\n",
        "- KNNBasic: 최근접 이웃 협업 필터링.\n",
        "- BaselineOnly: 사용자 및 아이템 Bias를 감안한 SGD 베이스라인 알고리즘\n",
        "- 추가로 SVD++, NMF 등 다양한 알고리즘을 지원\n",
        "\n",
        "#### SVD 알고리즘\n",
        "SVD 알고리즘의 비용 함수는 사용자 베이스라인 편향을 고려하며 Regularization을 적용하여 예측 평점을 구함.\n",
        "\n",
        "주요 파라미터:\n",
        "\n",
        "- n_factors: 잠재 요인 수\n",
        "- n_epochs: 반복 횟수\n",
        "- biased: 베이스라인 사용자 편향 적용 여부\n",
        "\n",
        "#### 벤치마크 결과\n",
        "\n",
        "- SVD++: 가장 낮은 RMSE와 MAE를 기록했으나 시간이 오래 걸림\n",
        "- SVD와 k-NN Baseline: 상대적으로 좋은 성능을 보였고, k-NN Baseline은 Baseline을 결합한 경우 성능이 크게 향상됨\n"
      ],
      "metadata": {
        "id": "Dw3JwYqm8Z2o"
      }
    },
    {
      "cell_type": "markdown",
      "source": [
        "### 베이스라인 평점\n",
        "\n",
        "베이스라인 평점은 개인의 평점 성향을 반영하여 아이템에 대한 편향성을 고려한 평점 계산 방식\n",
        "\n",
        "일반적으로 베이스라인 평점은 다음의 공식을 사용하여 계산:\n",
        "\n",
        "- **전체 평균 평점**: 모든 사용자가 평가한 아이템의 평균 평점\n",
        "- **사용자 편향 점수**: 각 사용자가 평가한 아이템의 평균 평점에서 전체 평균 평점을 뺀 값\n",
        "- **아이템 편향 점수**: 각 아이템에 대한 평균 평점에서 전체 평균 평점을 뺀 값\n",
        "\n",
        "### 예시:\n",
        "1. 전체 평균 평점: 3.5\n",
        "2. 사용자 A의 평균 평점: 3.0 → 사용자 편향 점수: 3.0 - 3.5 = -0.5\n",
        "3. '어벤저스 3편'의 평균 평점: 4.2 → 아이템 편향 점수: 4.2 - 3.5 = 0.7\n",
        "\n",
        "따라서 사용자 A의 '어벤저스 3편'에 대한 베이스라인 평점은: 3.5 - 0.5 + 0.7 = 3.7\n"
      ],
      "metadata": {
        "id": "RTcLE8yX83H-"
      }
    },
    {
      "cell_type": "markdown",
      "metadata": {
        "id": "Zz6vVp9m365l"
      },
      "source": [
        "### 교차 검증과 하이퍼 파라미터 튜닝"
      ]
    },
    {
      "cell_type": "markdown",
      "source": [
        "- Surprise는 교차 검증과 하이퍼 파라미터 튜닝을 위해 사이킷런과 유사한 `cross_validate()`와 `GridSearchCV` 클래스를 제공\n",
        "\n",
        "- `cross_validate()` 함수는 `surprise.model_selection` 모듈에 포함되어 있으며, 폴드된 데이터 세트의 개수와 성능 측정 방법을 설정하여 교차 검증을 수행\n",
        "\n",
        "- 다음 예제에서는 `cross_validate()`를 사용하여 `ratings.csv` 파일을 DataFrame으로 로딩한 데이터를 5개의 학습/검증 폴드로 나누고, RMSE와 MAE를 성능 평가 지표로 사용하여 교차 검증을 수행\n",
        "\n",
        "- `cross_validate()` 함수의 주요 인자:\n",
        "  - 알고리즘 객체\n",
        "  - 데이터\n",
        "  - 성능 평가 방법 (`measures`)\n",
        "  - 폴드 데이터 세트 개수 (`cv`)\n"
      ],
      "metadata": {
        "id": "wz-BrhIp9Z5U"
      }
    },
    {
      "cell_type": "code",
      "execution_count": null,
      "metadata": {
        "id": "l4aMH1Yt365m",
        "outputId": "9460ede2-3381-483a-d290-8e576424ed95"
      },
      "outputs": [
        {
          "name": "stdout",
          "output_type": "stream",
          "text": [
            "Evaluating RMSE, MAE of algorithm SVD on 5 split(s).\n",
            "\n",
            "                  Fold 1  Fold 2  Fold 3  Fold 4  Fold 5  Mean    Std     \n",
            "RMSE (testset)    0.8738  0.8725  0.8702  0.8726  0.8850  0.8748  0.0052  \n",
            "MAE (testset)     0.6724  0.6704  0.6712  0.6688  0.6795  0.6725  0.0037  \n",
            "Fit time          12.18   12.06   12.06   12.26   11.64   12.04   0.21    \n",
            "Test time         0.27    0.28    0.43    0.26    0.24    0.30    0.07    \n"
          ]
        },
        {
          "data": {
            "text/plain": [
              "{'test_rmse': array([0.87379402, 0.87245487, 0.87022605, 0.87255353, 0.88504587]),\n",
              " 'test_mae': array([0.67242816, 0.67037854, 0.67123931, 0.66883741, 0.67948228]),\n",
              " 'fit_time': (12.17864179611206,\n",
              "  12.05741286277771,\n",
              "  12.057470083236694,\n",
              "  12.255924940109253,\n",
              "  11.644625186920166),\n",
              " 'test_time': (0.27306103706359863,\n",
              "  0.28406333923339844,\n",
              "  0.4320967197418213,\n",
              "  0.2600581645965576,\n",
              "  0.24205303192138672)}"
            ]
          },
          "execution_count": 15,
          "metadata": {},
          "output_type": "execute_result"
        }
      ],
      "source": [
        "from surprise.model_selection import cross_validate\n",
        "\n",
        "# 판다스 DataFrame에서 Surprise 데이터 세트로 데이터 로딩\n",
        "ratings = pd.read_csv('./ml-latest-small/ratings.csv') # reading data in pandas df\n",
        "reader = Reader(rating_scale=(0.5, 5.0))\n",
        "data = Dataset.load_from_df(ratings[['userId', 'movieId', 'rating']], reader)\n",
        "\n",
        "algo = SVD(random_state=0)\n",
        "cross_validate(algo, data, measures=['RMSE', 'MAE'], cv=5, verbose=True)"
      ]
    },
    {
      "cell_type": "markdown",
      "source": [
        "- `cross_validate()`:\n",
        "  - 폴드별 성능 평가 수치와 전체 폴드의 평균 성능 평가 수치를 출력\n",
        "  - 교차 검증 세트의 분할 방식에 따라 출력 결과가 달라질 수 있음\n",
        "\n",
        "- `GridSearchCV`:\n",
        "  - 사이킷런의 `GridSearchCV`와 유사하게 하이퍼 파라미터 최적화 수행\n",
        "  - SVD의 경우 `n_epochs` (반복 횟수)와 `n_factors` (잠재 요인 크기)를 튜닝\n",
        "  - 예시: `n_epochs: [20, 40, 60]`, `n_factors: [50, 100, 200]`로 변경하여 최적 하이퍼 파라미터 도출\n",
        "  - 데이터: `ratings.csv` 사용\n"
      ],
      "metadata": {
        "id": "EBYErQO89vxJ"
      }
    },
    {
      "cell_type": "code",
      "execution_count": null,
      "metadata": {
        "id": "xHqgS64G365m",
        "outputId": "7c683b7d-8bee-4121-ac6f-21e34c45bd5e"
      },
      "outputs": [
        {
          "name": "stdout",
          "output_type": "stream",
          "text": [
            "0.8769381880851433\n",
            "{'n_epochs': 20, 'n_factors': 50}\n"
          ]
        }
      ],
      "source": [
        "from surprise.model_selection import GridSearchCV\n",
        "\n",
        "# 최적화할 파라미터를 딕셔너리 형태로 지정.\n",
        "param_grid = {'n_epochs': [20, 40, 60], 'n_factors': [50, 100, 200] }\n",
        "\n",
        "# CV를 3개 폴드 세트로 지정, 성능 평가는 rmse, mse로 수행하도록 GridSearchCV 구성\n",
        "gs = GridSearchCV(SVD, param_grid, measures=['rmse', 'mae'], cv=3)\n",
        "gs.fit(data)\n",
        "\n",
        "# 최고 RMSE Evaluation 점수와 그때의 하이퍼 파라미터\n",
        "print(gs.best_score['rmse'])\n",
        "print(gs.best_params['rmse'])"
      ]
    },
    {
      "cell_type": "markdown",
      "metadata": {
        "id": "BEGmv8Nu365m"
      },
      "source": [
        "### Surprise 를 이용한 개인화 영화 추천 시스템 구축"
      ]
    },
    {
      "cell_type": "markdown",
      "source": [
        "- Surprise를 이용해 개인화된 영화 추천 구현\n",
        "- 기존 예제는 `fit()`으로 학습하고 `test()`로 예측, MSE/RMSE로 성능 평가\n",
        "- 새로운 예제에서는 학습 데이터와 테스트 데이터 분리 없이 전체 데이터를 학습에 사용\n",
        "- Surprise에서 데이터 세트를 `train_test_split()`을 통해 `TrainSet` 객체로 변환해야 `fit()`을 사용할 수 있음\n"
      ],
      "metadata": {
        "id": "dzQHRSXY97Kg"
      }
    },
    {
      "cell_type": "code",
      "execution_count": null,
      "metadata": {
        "scrolled": true,
        "id": "iLd-nvEg365m",
        "outputId": "26edabbf-c89c-4118-ba7b-08acd82a36fe"
      },
      "outputs": [
        {
          "ename": "AttributeError",
          "evalue": "'DatasetAutoFolds' object has no attribute 'global_mean'",
          "output_type": "error",
          "traceback": [
            "\u001b[1;31m---------------------------------------------------------------------------\u001b[0m",
            "\u001b[1;31mAttributeError\u001b[0m                            Traceback (most recent call last)",
            "\u001b[1;32m~\\AppData\\Local\\Temp/ipykernel_23908/2627253998.py\u001b[0m in \u001b[0;36m<module>\u001b[1;34m\u001b[0m\n\u001b[0;32m      2\u001b[0m \u001b[0mdata\u001b[0m \u001b[1;33m=\u001b[0m \u001b[0mDataset\u001b[0m\u001b[1;33m.\u001b[0m\u001b[0mload_from_df\u001b[0m\u001b[1;33m(\u001b[0m\u001b[0mratings\u001b[0m\u001b[1;33m[\u001b[0m\u001b[1;33m[\u001b[0m\u001b[1;34m'userId'\u001b[0m\u001b[1;33m,\u001b[0m \u001b[1;34m'movieId'\u001b[0m\u001b[1;33m,\u001b[0m \u001b[1;34m'rating'\u001b[0m\u001b[1;33m]\u001b[0m\u001b[1;33m]\u001b[0m\u001b[1;33m,\u001b[0m \u001b[0mreader\u001b[0m\u001b[1;33m)\u001b[0m\u001b[1;33m\u001b[0m\u001b[1;33m\u001b[0m\u001b[0m\n\u001b[0;32m      3\u001b[0m \u001b[0malgo\u001b[0m \u001b[1;33m=\u001b[0m \u001b[0mSVD\u001b[0m\u001b[1;33m(\u001b[0m\u001b[0mn_factors\u001b[0m\u001b[1;33m=\u001b[0m\u001b[1;36m50\u001b[0m\u001b[1;33m,\u001b[0m \u001b[0mrandom_state\u001b[0m\u001b[1;33m=\u001b[0m\u001b[1;36m0\u001b[0m\u001b[1;33m)\u001b[0m\u001b[1;33m\u001b[0m\u001b[1;33m\u001b[0m\u001b[0m\n\u001b[1;32m----> 4\u001b[1;33m \u001b[0malgo\u001b[0m\u001b[1;33m.\u001b[0m\u001b[0mfit\u001b[0m\u001b[1;33m(\u001b[0m\u001b[0mdata\u001b[0m\u001b[1;33m)\u001b[0m\u001b[1;33m\u001b[0m\u001b[1;33m\u001b[0m\u001b[0m\n\u001b[0m",
            "\u001b[1;32m~\\anaconda3\\lib\\site-packages\\surprise\\prediction_algorithms\\matrix_factorization.pyx\u001b[0m in \u001b[0;36msurprise.prediction_algorithms.matrix_factorization.SVD.fit\u001b[1;34m()\u001b[0m\n",
            "\u001b[1;32m~\\anaconda3\\lib\\site-packages\\surprise\\prediction_algorithms\\matrix_factorization.pyx\u001b[0m in \u001b[0;36msurprise.prediction_algorithms.matrix_factorization.SVD.sgd\u001b[1;34m()\u001b[0m\n",
            "\u001b[1;31mAttributeError\u001b[0m: 'DatasetAutoFolds' object has no attribute 'global_mean'"
          ]
        }
      ],
      "source": [
        "# 다음 코드는 train_test_split( )으로 분리되지 않는 데이터 세트에 fit( )을 호출해 오류가 발생합니다.\n",
        "data = Dataset.load_from_df(ratings[['userId', 'movieId', 'rating']], reader)\n",
        "algo = SVD(n_factors=50, random_state=0)\n",
        "algo.fit(data)\n"
      ]
    },
    {
      "cell_type": "markdown",
      "source": [
        "- 데이터 세트 전체를 학습 데이터로 사용하려면 `DatasetAutoFolds` 클래스를 이용\n",
        "- `DatasetAutoFolds` 객체 생성 후 `build_full_trainset()` 메서드를 호출하면 전체 데이터를 학습 데이터 세트로 사용 가능\n"
      ],
      "metadata": {
        "id": "Aym-6HMI-GjJ"
      }
    },
    {
      "cell_type": "code",
      "execution_count": null,
      "metadata": {
        "id": "jkZwHb6E365n"
      },
      "outputs": [],
      "source": [
        "from surprise.dataset import DatasetAutoFolds\n",
        "\n",
        "reader = Reader(line_format='user item rating timestamp', sep=',', rating_scale=(0.5, 5))\n",
        "# DatasetAutoFolds 클래스를 ratings_noh.csv 파일 기반으로 생성.\n",
        "data_folds = DatasetAutoFolds(ratings_file='./ml-latest-small/ratings_noh.csv', reader=reader)\n",
        "\n",
        "#전체 데이터를 학습데이터로 생성함.\n",
        "trainset = data_folds.build_full_trainset()"
      ]
    },
    {
      "cell_type": "markdown",
      "source": [
        "- `DatasetAutoFolds`의 `build_full_trainset()` 메서드를 이용해 전체 데이터를 학습 데이터로 생성\n",
        "- SVD 알고리즘을 사용해 학습 수행\n",
        "- 학습 후, 특정 사용자가 아직 보지 않은 영화 목록을 확인하여 추천 진행\n"
      ],
      "metadata": {
        "id": "W9PCjTyD-XZc"
      }
    },
    {
      "cell_type": "code",
      "execution_count": null,
      "metadata": {
        "id": "RDXzEqi2365n",
        "outputId": "a8c9dd0b-48f2-4fdc-8b82-34b63da023fa"
      },
      "outputs": [
        {
          "data": {
            "text/plain": [
              "<surprise.prediction_algorithms.matrix_factorization.SVD at 0x1c835e4ae50>"
            ]
          },
          "execution_count": 20,
          "metadata": {},
          "output_type": "execute_result"
        }
      ],
      "source": [
        "algo = SVD(n_epochs=20, n_factors=50, random_state=0)\n",
        "algo.fit(trainset)"
      ]
    },
    {
      "cell_type": "markdown",
      "source": [
        "- 특정 사용자(userid = 9)를 지정하여 예측 수행\n",
        "- 영화 ID 42번에 대한 평점을 예측\n",
        "- 영화의 상세 정보는 `movies.csv` 파일에서 로딩하여 DataFrame으로 사용\n"
      ],
      "metadata": {
        "id": "wspi46LI-fUO"
      }
    },
    {
      "cell_type": "code",
      "execution_count": null,
      "metadata": {
        "id": "noWQjnYB365n",
        "outputId": "149f98ba-8c55-4d04-d0a4-34fefe400f1c"
      },
      "outputs": [
        {
          "name": "stdout",
          "output_type": "stream",
          "text": [
            "사용자 아이디 9는 영화 아이디 42의 평점 없음\n",
            "    movieId                   title              genres\n",
            "38       42  Dead Presidents (1995)  Action|Crime|Drama\n"
          ]
        }
      ],
      "source": [
        "# 영화에 대한 상세 속성 정보 DataFrame로딩\n",
        "movies = pd.read_csv('./ml-latest-small/movies.csv')\n",
        "\n",
        "# userId=9 의 movieId 데이터 추출하여 movieId=42 데이터가 있는지 확인.\n",
        "movieIds = ratings[ratings['userId']==9]['movieId']\n",
        "if movieIds[movieIds==42].count() == 0:\n",
        "    print('사용자 아이디 9는 영화 아이디 42의 평점 없음')\n",
        "\n",
        "print(movies[movies['movieId']==42])\n"
      ]
    },
    {
      "cell_type": "markdown",
      "source": [
        "- `predict()` 메서드를 사용하여 영화 ID 42에 대한 사용자 ID 9의 예상 평점 계산\n",
        "- `predict()` 메서드 내 `userid`와 `movielid`는 문자열 값으로 입력해야 함\n"
      ],
      "metadata": {
        "id": "vyK4DKF2-lyG"
      }
    },
    {
      "cell_type": "code",
      "execution_count": null,
      "metadata": {
        "id": "o8dXUEYW365n",
        "outputId": "61be4022-6532-43f8-c5cc-d3a80e93f1b7"
      },
      "outputs": [
        {
          "name": "stdout",
          "output_type": "stream",
          "text": [
            "user: 9          item: 42         r_ui = None   est = 3.13   {'was_impossible': False}\n"
          ]
        }
      ],
      "source": [
        "uid = str(9)\n",
        "iid = str(42)\n",
        "\n",
        "pred = algo.predict(uid, iid, verbose=True)"
      ]
    },
    {
      "cell_type": "markdown",
      "source": [
        "- 추천 예측 평점은 `est` 값으로 확인, 예: 3.13\n",
        "- 사용자가 평점을 매기지 않은 전체 영화를 추출하고 예측 평점 순으로 추천\n",
        "- 기존 `get_unseen_movies()` 대신 `get_unseen_surprise()` 함수 사용\n",
        "- 이 함수는 사용자 ID 9가 아직 평점을 매기지 않은 영화 정보를 반환\n"
      ],
      "metadata": {
        "id": "h7szbN8u-q2K"
      }
    },
    {
      "cell_type": "code",
      "execution_count": null,
      "metadata": {
        "id": "oLGPW3Ul365n",
        "outputId": "36a3e163-fac2-4823-88d1-d70fe49c416d"
      },
      "outputs": [
        {
          "name": "stdout",
          "output_type": "stream",
          "text": [
            "평점 매긴 영화수: 46 추천대상 영화수: 9696 전체 영화수: 9742\n"
          ]
        }
      ],
      "source": [
        "def get_unseen_surprise(ratings, movies, userId):\n",
        "    #입력값으로 들어온 userId에 해당하는 사용자가 평점을 매긴 모든 영화를 리스트로 생성\n",
        "    seen_movies = ratings[ratings['userId']== userId]['movieId'].tolist()\n",
        "\n",
        "    # 모든 영화들의 movieId를 리스트로 생성.\n",
        "    total_movies = movies['movieId'].tolist()\n",
        "\n",
        "    # 모든 영화들의 movieId중 이미 평점을 매긴 영화의 movieId를 제외하여 리스트로 생성\n",
        "    unseen_movies= [movie for movie in total_movies if movie not in seen_movies]\n",
        "    print('평점 매긴 영화수:',len(seen_movies), '추천대상 영화수:',len(unseen_movies), \\\n",
        "          '전체 영화수:',len(total_movies))\n",
        "\n",
        "    return unseen_movies\n",
        "\n",
        "unseen_movies = get_unseen_surprise(ratings, movies, 9)"
      ]
    },
    {
      "cell_type": "markdown",
      "source": [
        "- 사용자 9번은 9742개 영화 중 46개만 평점 매김\n",
        "- 추천 대상 영화는 9696개\n",
        "- `recomm_movie_by_surprise()` 함수 생성:\n",
        "  - 인자: 학습된 추천 알고리즘 객체, 사용자 아이디, 추천 대상 영화 리스트, 추천 상위 N개 개수\n",
        "  - `predict()` 메서드 호출 후 Prediction 객체 리스트로 저장\n",
        "  - 리스트를 예측 평점 순으로 정렬 후, Top-N개의 영화 정보 반환 (영화 아이디, 제목, 예측 평점)\n"
      ],
      "metadata": {
        "id": "WlvWiwOu-1OH"
      }
    },
    {
      "cell_type": "code",
      "execution_count": null,
      "metadata": {
        "id": "Lp5xbJ8c365o",
        "outputId": "50160aa2-87e3-45c4-aacc-7c43a4012852"
      },
      "outputs": [
        {
          "name": "stdout",
          "output_type": "stream",
          "text": [
            "평점 매긴 영화수: 46 추천대상 영화수: 9696 전체 영화수: 9742\n",
            "##### Top-10 추천 영화 리스트 #####\n",
            "Usual Suspects, The (1995) : 4.306302135700814\n",
            "Star Wars: Episode IV - A New Hope (1977) : 4.281663842987387\n",
            "Pulp Fiction (1994) : 4.278152632122759\n",
            "Silence of the Lambs, The (1991) : 4.226073566460876\n",
            "Godfather, The (1972) : 4.1918097904381995\n",
            "Streetcar Named Desire, A (1951) : 4.154746591122658\n",
            "Star Wars: Episode V - The Empire Strikes Back (1980) : 4.122016128534504\n",
            "Star Wars: Episode VI - Return of the Jedi (1983) : 4.108009609093436\n",
            "Goodfellas (1990) : 4.083464936588478\n",
            "Glory (1989) : 4.07887165526957\n"
          ]
        }
      ],
      "source": [
        "def recomm_movie_by_surprise(algo, userId, unseen_movies, top_n=10):\n",
        "    # 알고리즘 객체의 predict() 메서드를 평점이 없는 영화에 반복 수행한 후 결과를 list 객체로 저장\n",
        "    predictions = [algo.predict(str(userId), str(movieId)) for movieId in unseen_movies]\n",
        "\n",
        "    # predictions list 객체는 surprise의 Predictions 객체를 원소로 가지고 있음.\n",
        "    # [Prediction(uid='9', iid='1', est=3.69), Prediction(uid='9', iid='2', est=2.98),,,,]\n",
        "    # 이를 est 값으로 정렬하기 위해서 아래의 sortkey_est 함수를 정의함.\n",
        "    # sortkey_est 함수는 list 객체의 sort() 함수의 키 값으로 사용되어 정렬 수행.\n",
        "    def sortkey_est(pred):\n",
        "        return pred.est\n",
        "\n",
        "    # sortkey_est( ) 반환값의 내림 차순으로 정렬 수행하고 top_n개의 최상위 값 추출.\n",
        "    predictions.sort(key=sortkey_est, reverse=True)\n",
        "    top_predictions= predictions[:top_n]\n",
        "\n",
        "    # top_n으로 추출된 영화의 정보 추출. 영화 아이디, 추천 예상 평점, 제목 추출\n",
        "    top_movie_ids = [ int(pred.iid) for pred in top_predictions]\n",
        "    top_movie_rating = [ pred.est for pred in top_predictions]\n",
        "    top_movie_titles = movies[movies.movieId.isin(top_movie_ids)]['title']\n",
        "    top_movie_preds = [ (id, title, rating) for id, title, rating in zip(top_movie_ids, top_movie_titles, top_movie_rating)]\n",
        "\n",
        "    return top_movie_preds\n",
        "\n",
        "unseen_movies = get_unseen_surprise(ratings, movies, 9)\n",
        "top_movie_preds = recomm_movie_by_surprise(algo, 9, unseen_movies, top_n=10)\n",
        "print('##### Top-10 추천 영화 리스트 #####')\n",
        "\n",
        "for top_movie in top_movie_preds:\n",
        "    print(top_movie[1], \":\", top_movie[2])"
      ]
    },
    {
      "cell_type": "markdown",
      "source": [
        "- 9번 사용자에게 추천된 영화:\n",
        "  - '유주얼 서스펙트', '펄프픽션', '양들의 침묵', '대부', '좋은 친구들' (서스펜스/스릴러/범죄)\n",
        "  - '스타워즈' (액션 영화)\n",
        "- Surprise 패키지는 복잡한 알고리즘 구현 없이 간결한 API로 추천 시스템 구축 가능\n"
      ],
      "metadata": {
        "id": "uCC5JHYi_BCp"
      }
    }
  ],
  "metadata": {
    "kernelspec": {
      "display_name": "Python 3 (ipykernel)",
      "language": "python",
      "name": "python3"
    },
    "language_info": {
      "codemirror_mode": {
        "name": "ipython",
        "version": 3
      },
      "file_extension": ".py",
      "mimetype": "text/x-python",
      "name": "python",
      "nbconvert_exporter": "python",
      "pygments_lexer": "ipython3",
      "version": "3.9.7"
    },
    "colab": {
      "provenance": [],
      "include_colab_link": true
    }
  },
  "nbformat": 4,
  "nbformat_minor": 0
}