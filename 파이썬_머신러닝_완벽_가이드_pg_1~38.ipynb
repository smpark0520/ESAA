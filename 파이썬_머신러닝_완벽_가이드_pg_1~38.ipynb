{
  "cells": [
    {
      "cell_type": "markdown",
      "metadata": {
        "id": "view-in-github",
        "colab_type": "text"
      },
      "source": [
        "<a href=\"https://colab.research.google.com/github/smpark0520/ESAA/blob/main/%ED%8C%8C%EC%9D%B4%EC%8D%AC_%EB%A8%B8%EC%8B%A0%EB%9F%AC%EB%8B%9D_%EC%99%84%EB%B2%BD_%EA%B0%80%EC%9D%B4%EB%93%9C_pg_1~38.ipynb\" target=\"_parent\"><img src=\"https://colab.research.google.com/assets/colab-badge.svg\" alt=\"Open In Colab\"/></a>"
      ]
    },
    {
      "cell_type": "markdown",
      "source": [
        "# 넘파이(Numpy)\n",
        "\n",
        "\n",
        "*   Numerical Python의 약자, 선형대수 기반의 프로그램을 쉽게 만들 수 있도록 지원함\n",
        "*   배열 기반의 연산을 물론이고 다양한 데이터 핸들링 기능을 제공함"
      ],
      "metadata": {
        "id": "b5BFOFlkXUBz"
      }
    },
    {
      "cell_type": "code",
      "source": [
        "import numpy as np"
      ],
      "metadata": {
        "id": "3IGMGcBNugcZ"
      },
      "execution_count": null,
      "outputs": []
    },
    {
      "cell_type": "markdown",
      "source": [
        "- 넘파이 모듈 임포드\n",
        "- 넘파이 기반 데이터 타입 : ndarray -> 다차원 배열을 쉽게 생성하고 다양한 연산 수행 가능\n",
        "- np.array() :  ndarray로 변환\n",
        "- ndarray.shape() : ndarray 배열의 차원과 크기를 튜플 형태로 나타내줌"
      ],
      "metadata": {
        "id": "Nl3LZfrUX7HV"
      }
    },
    {
      "cell_type": "code",
      "source": [
        "array1=np.array([1,2,3])\n",
        "print('array1 type:',type(array1))\n",
        "print('array1 array 형태:',array1.shape)\n",
        "\n",
        "array2=np.array([[1,2,3],\n",
        "                [2,3,4]])\n",
        "print('array1 type:',type(array2))\n",
        "print('array2 array 형태:',array2.shape)\n",
        "\n",
        "array3=np.array([[1,2,3]])\n",
        "print('array3 type:',type(array3))\n",
        "print('array3 array 형태:',array3.shape)"
      ],
      "metadata": {
        "id": "tu4hWgpkui7z",
        "outputId": "af9b4b1d-803d-4eba-fa73-163a159b4f1a",
        "colab": {
          "base_uri": "https://localhost:8080/"
        }
      },
      "execution_count": null,
      "outputs": [
        {
          "output_type": "stream",
          "name": "stdout",
          "text": [
            "array1 type: <class 'numpy.ndarray'>\n",
            "array1 array 형태: (3,)\n",
            "array1 type: <class 'numpy.ndarray'>\n",
            "array2 array 형태: (2, 3)\n",
            "array3 type: <class 'numpy.ndarray'>\n",
            "array3 array 형태: (1, 3)\n"
          ]
        }
      ]
    },
    {
      "cell_type": "markdown",
      "source": [
        "- array1 array 형태: (3,) -> 1차원 array, 3개의 데이터를 가지고 있음\n",
        "- array2 array 형태: (2, 3) -> 2차원 array, 2개의 row & 3개의 column으로 구성되어 6개의 데이터를 가지고 있음\n",
        "- array3 array 형태: (1, 3) -> 2차원이며, 1개의 row와 3개의 column으로 구성됨"
      ],
      "metadata": {
        "id": "dGigOPsRYx1f"
      }
    },
    {
      "cell_type": "code",
      "source": [
        "print('array1: {0}차원, array2: {1}차원, array3: {2}차원'.format(array1.ndim,array2.ndim,array3.ndim))"
      ],
      "metadata": {
        "id": "0MuaCIJlvJFc",
        "outputId": "687b42dd-2d6a-4063-ace7-e0ccce3d6b2a",
        "colab": {
          "base_uri": "https://localhost:8080/"
        }
      },
      "execution_count": null,
      "outputs": [
        {
          "output_type": "stream",
          "name": "stdout",
          "text": [
            "array1: 1차원, array2: 2차원, array3: 2차원\n"
          ]
        }
      ]
    },
    {
      "cell_type": "markdown",
      "source": [
        "- 리스트 []는 1차원, 리스트의 리스트인 [[ ]]는 2차원!"
      ],
      "metadata": {
        "id": "_-_0M0SIZXf7"
      }
    },
    {
      "cell_type": "markdown",
      "source": [
        "# ndarray의 데이터 타입\n",
        "\n",
        "\n",
        "*   숫자, 문자역, 불 값 모두 가능\n",
        "*   숫자 -> int형, unsigned int형, float형, complex 타임(더 큰 숫자 값이나 정밀도)\n",
        "- 같은 데이터 타입끼리만 연산 가능\n",
        "\n"
      ],
      "metadata": {
        "id": "qtIDxh4PZs1x"
      }
    },
    {
      "cell_type": "code",
      "source": [
        "list1=[1,2,3]\n",
        "print(type(list1))\n",
        "array1=np.array(list1)\n",
        "print(type(array1))\n",
        "print(array1,array1.dtype)"
      ],
      "metadata": {
        "id": "ChVWe5gHvXns",
        "outputId": "9a2b7934-96a4-49d6-9fe0-42373d12e865",
        "colab": {
          "base_uri": "https://localhost:8080/"
        }
      },
      "execution_count": null,
      "outputs": [
        {
          "output_type": "stream",
          "name": "stdout",
          "text": [
            "<class 'list'>\n",
            "<class 'numpy.ndarray'>\n",
            "[1 2 3] int64\n"
          ]
        }
      ]
    },
    {
      "cell_type": "code",
      "source": [
        "list2=[1,2,'test']\n",
        "array2=np.array(list2)\n",
        "print(array2,array2.dtype)\n",
        "\n",
        "list3=[1,2,3.0]\n",
        "array3=np.array(list3)\n",
        "print(array3,array3.dtype)"
      ],
      "metadata": {
        "id": "7-MO3bylvh1c",
        "outputId": "7bf34514-3398-4643-9d3f-043529d2e0ec",
        "colab": {
          "base_uri": "https://localhost:8080/"
        }
      },
      "execution_count": null,
      "outputs": [
        {
          "output_type": "stream",
          "name": "stdout",
          "text": [
            "['1' '2' 'test'] <U21\n",
            "[1. 2. 3.] float64\n"
          ]
        }
      ]
    },
    {
      "cell_type": "markdown",
      "source": [
        "- int형 값과 문자열이 섞여 있는 list2를 ndarray로 변환한 array2는 숫자 1,2가 모두 문자 1,2로 변환됨\n",
        "- 모두 같은 데이터 타입이어야 하므로 다른 데이터 타입이 섞여 있을 경우 더 큰 데이터 타입으로 변환되기에 int형이 유니코드 문자열 값으로 변환\n",
        "- list3의 경우 int형과 float형이 섞여 있는데, int인 1,2가 float64형으로 바뀜"
      ],
      "metadata": {
        "id": "H7okSUnjaGtQ"
      }
    },
    {
      "cell_type": "markdown",
      "source": [
        "- astype() : ndarray 내의 데이터값의 타입 변경\n",
        "- astype()에 인자로 원하는 타입을 문자열로 지정\n",
        "- 이렇게 하는 이유는, 메모리 절감이 가능하기 때문임"
      ],
      "metadata": {
        "id": "DwN7RIljaud-"
      }
    },
    {
      "cell_type": "code",
      "source": [
        "array_int=np.array([1,2,3])\n",
        "array_float=array_int.astype('float64')\n",
        "print(array_float,array_float.dtype)\n",
        "\n",
        "array_int1=array_float.astype('int32')\n",
        "print(array_int1,array_int1.dtype)\n",
        "\n",
        "array_float1=np.array([1.1,2.1,3.1])\n",
        "array_int2=array_float1.astype('int32')\n",
        "print(array_int2,array_int2.dtype)"
      ],
      "metadata": {
        "id": "Tp9rkOF9wCZ1",
        "outputId": "6bf10cb7-2baf-4b79-d36d-5fc827f6a20f",
        "colab": {
          "base_uri": "https://localhost:8080/"
        }
      },
      "execution_count": null,
      "outputs": [
        {
          "output_type": "stream",
          "name": "stdout",
          "text": [
            "[1. 2. 3.] float64\n",
            "[1 2 3] int32\n",
            "[1 2 3] int32\n"
          ]
        }
      ]
    },
    {
      "cell_type": "markdown",
      "source": [
        "- int32형 데이터를 float64로 변환하고, 다시 float64를 int32로 변경"
      ],
      "metadata": {
        "id": "HaWJoyTXbEWM"
      }
    },
    {
      "cell_type": "markdown",
      "source": [
        "# ndarray를 편리하게 생성하기 - arange, zeros, ones\n",
        "\n",
        "\n",
        "*   주로 테스트용으로 데이터를 만들거나 대규모의 데이터를 일괄적으로 초기화해야 할 경우에 사용\n",
        "*  arange() : array를 range()로 표현, 0부터 함수 인자 값-1까지의 값을 순차적으로 ndarray의 데이터값으로 변환\n",
        "\n"
      ],
      "metadata": {
        "id": "0-WYIaIdbMlH"
      }
    },
    {
      "cell_type": "code",
      "source": [
        "sequence_array=np.arange(10)\n",
        "print(sequence_array)\n",
        "print(sequence_array.dtype,sequence_array.shape)"
      ],
      "metadata": {
        "id": "aVpJhVoPwgEN",
        "outputId": "2e7c6765-c09c-49ad-d112-a4e11d3aeb21",
        "colab": {
          "base_uri": "https://localhost:8080/"
        }
      },
      "execution_count": null,
      "outputs": [
        {
          "output_type": "stream",
          "name": "stdout",
          "text": [
            "[0 1 2 3 4 5 6 7 8 9]\n",
            "int64 (10,)\n"
          ]
        }
      ]
    },
    {
      "cell_type": "markdown",
      "source": [
        "- sequence_array : 0부터 (10-1 = )9까지의 연속 숫자 값으로 구성된 1차원 array"
      ],
      "metadata": {
        "id": "eCmGuqq5bpOJ"
      }
    },
    {
      "cell_type": "markdown",
      "source": [
        "- zeros() : 튜플 형태의 shape 값을 입력하면 모든 값을 0으로 채운 해당 shape를 가진 ndarray로 반환\n",
        "- ones() : 튜플 형태의 shape 값을 입력하면 모든 값을 1로 채운 해당 shape를 가진 ndarray로 반환, dtype을 정해주지 않으면 default로 float64 형의 데이터로 ndarray를 채움"
      ],
      "metadata": {
        "id": "vLQ3g7l3cH34"
      }
    },
    {
      "cell_type": "code",
      "source": [
        "zero_array=np.zeros((3,2),dtype='int32')\n",
        "print(zero_array)\n",
        "print(zero_array.dtype,zero_array.shape)\n",
        "\n",
        "one_array=np.ones((3,2))\n",
        "print(one_array)\n",
        "print(one_array.dtype,one_array.shape)"
      ],
      "metadata": {
        "id": "TpbnuFyMwpFT",
        "outputId": "7dd6801d-a822-4ba8-a1df-71a8d552a99e",
        "colab": {
          "base_uri": "https://localhost:8080/"
        }
      },
      "execution_count": null,
      "outputs": [
        {
          "output_type": "stream",
          "name": "stdout",
          "text": [
            "[[0 0]\n",
            " [0 0]\n",
            " [0 0]]\n",
            "int32 (3, 2)\n",
            "[[1. 1.]\n",
            " [1. 1.]\n",
            " [1. 1.]]\n",
            "float64 (3, 2)\n"
          ]
        }
      ]
    },
    {
      "cell_type": "markdown",
      "source": [
        "# ndarray의 차원과 크기를 변경하는 reshape()\n",
        "\n",
        "\n",
        "*   reshape() : ndarray를 특정 차언 및 크기로 변환\n"
      ],
      "metadata": {
        "id": "XQOwBT4AciJB"
      }
    },
    {
      "cell_type": "code",
      "source": [
        "array1=np.arange(10)\n",
        "print('array1:\\n',array1)\n",
        "\n",
        "array2=array1.reshape(2,5)\n",
        "print('array2:\\n',array2)\n",
        "\n",
        "array3=array1.reshape(5,2)\n",
        "print('array3:\\n',array3)"
      ],
      "metadata": {
        "id": "ZJVvprNzw9sp",
        "outputId": "63861b97-f473-457b-da57-c9e21bac6f63",
        "colab": {
          "base_uri": "https://localhost:8080/"
        }
      },
      "execution_count": null,
      "outputs": [
        {
          "output_type": "stream",
          "name": "stdout",
          "text": [
            "array1:\n",
            " [0 1 2 3 4 5 6 7 8 9]\n",
            "array2:\n",
            " [[0 1 2 3 4]\n",
            " [5 6 7 8 9]]\n",
            "array3:\n",
            " [[0 1]\n",
            " [2 3]\n",
            " [4 5]\n",
            " [6 7]\n",
            " [8 9]]\n"
          ]
        }
      ]
    },
    {
      "cell_type": "markdown",
      "source": [
        "- 0~9까지의 1차원 ndarray를 2 row x 5 col과 5 row x 2 col 형태로 2차원 ndarray로 변환"
      ],
      "metadata": {
        "id": "e7IYzgN9ct0l"
      }
    },
    {
      "cell_type": "markdown",
      "source": [
        "- (10,) 데이터를 (4,3) shape 형태로 변경할 수 없기에 오류 발생"
      ],
      "metadata": {
        "id": "11Z_O_jnc9HN"
      }
    },
    {
      "cell_type": "code",
      "source": [
        "array1.reshape(4,3)"
      ],
      "metadata": {
        "id": "_cFhkXj0xVz8",
        "outputId": "d8417fbe-106f-4f07-e1b8-4e2c44d82536",
        "colab": {
          "base_uri": "https://localhost:8080/",
          "height": 146
        }
      },
      "execution_count": null,
      "outputs": [
        {
          "output_type": "error",
          "ename": "ValueError",
          "evalue": "cannot reshape array of size 10 into shape (4,3)",
          "traceback": [
            "\u001b[0;31m---------------------------------------------------------------------------\u001b[0m",
            "\u001b[0;31mValueError\u001b[0m                                Traceback (most recent call last)",
            "\u001b[0;32m<ipython-input-10-a40469ec5825>\u001b[0m in \u001b[0;36m<cell line: 1>\u001b[0;34m()\u001b[0m\n\u001b[0;32m----> 1\u001b[0;31m \u001b[0marray1\u001b[0m\u001b[0;34m.\u001b[0m\u001b[0mreshape\u001b[0m\u001b[0;34m(\u001b[0m\u001b[0;36m4\u001b[0m\u001b[0;34m,\u001b[0m\u001b[0;36m3\u001b[0m\u001b[0;34m)\u001b[0m\u001b[0;34m\u001b[0m\u001b[0;34m\u001b[0m\u001b[0m\n\u001b[0m",
            "\u001b[0;31mValueError\u001b[0m: cannot reshape array of size 10 into shape (4,3)"
          ]
        }
      ]
    },
    {
      "cell_type": "code",
      "source": [
        "array1=np.arange(10)\n",
        "print(array1)\n",
        "array2=array1.reshape(-1,5)\n",
        "print('array2.shape:',array2.shape)\n",
        "array3=array1.reshape(5,-1)\n",
        "print('array3.shape:',array3.shape)"
      ],
      "metadata": {
        "id": "SWslWjfJxYT0",
        "outputId": "f6a524fa-ed34-4c20-d966-3a5853bce337",
        "colab": {
          "base_uri": "https://localhost:8080/"
        }
      },
      "execution_count": null,
      "outputs": [
        {
          "output_type": "stream",
          "name": "stdout",
          "text": [
            "[0 1 2 3 4 5 6 7 8 9]\n",
            "array2.shape: (2, 5)\n",
            "array3.shape: (5, 2)\n"
          ]
        }
      ]
    },
    {
      "cell_type": "markdown",
      "source": [
        "- array2=array1.reshape(-1,5) -> row인자가 -1, col인자가 5\n",
        "- 10개의 1차원 데이터와 호환될 수 있는 고정된 5개 col에 맞는 row 개수는 2개이므로, 2 x 5의 2차원 ndarray로 변환\n",
        "- array3=array1.reshape(5,-1) -> 10개의 1차원 데이터와 호환될 수 있는 고정된 5개의 row에 맞는 col은 2이므로 5 x 2의 2차원 ndarray로 변환"
      ],
      "metadata": {
        "id": "fxOnB9I7dLIR"
      }
    },
    {
      "cell_type": "code",
      "source": [
        "array1=np.arange(10)\n",
        "array4=array1.reshape(-1,4)"
      ],
      "metadata": {
        "id": "tLMX43Vwxpkb",
        "outputId": "16872d06-e495-446e-8263-2b00f40d2302",
        "colab": {
          "base_uri": "https://localhost:8080/",
          "height": 164
        }
      },
      "execution_count": null,
      "outputs": [
        {
          "output_type": "error",
          "ename": "ValueError",
          "evalue": "cannot reshape array of size 10 into shape (4)",
          "traceback": [
            "\u001b[0;31m---------------------------------------------------------------------------\u001b[0m",
            "\u001b[0;31mValueError\u001b[0m                                Traceback (most recent call last)",
            "\u001b[0;32m<ipython-input-13-7f01f0f59baa>\u001b[0m in \u001b[0;36m<cell line: 2>\u001b[0;34m()\u001b[0m\n\u001b[1;32m      1\u001b[0m \u001b[0marray1\u001b[0m\u001b[0;34m=\u001b[0m\u001b[0mnp\u001b[0m\u001b[0;34m.\u001b[0m\u001b[0marange\u001b[0m\u001b[0;34m(\u001b[0m\u001b[0;36m10\u001b[0m\u001b[0;34m)\u001b[0m\u001b[0;34m\u001b[0m\u001b[0;34m\u001b[0m\u001b[0m\n\u001b[0;32m----> 2\u001b[0;31m \u001b[0marray4\u001b[0m\u001b[0;34m=\u001b[0m\u001b[0marray1\u001b[0m\u001b[0;34m.\u001b[0m\u001b[0mreshape\u001b[0m\u001b[0;34m(\u001b[0m\u001b[0;34m-\u001b[0m\u001b[0;36m1\u001b[0m\u001b[0;34m,\u001b[0m\u001b[0;36m4\u001b[0m\u001b[0;34m)\u001b[0m\u001b[0;34m\u001b[0m\u001b[0;34m\u001b[0m\u001b[0m\n\u001b[0m",
            "\u001b[0;31mValueError\u001b[0m: cannot reshape array of size 10 into shape (4)"
          ]
        }
      ]
    },
    {
      "cell_type": "markdown",
      "source": [
        "- 하지만, 10개의 1차원 데이터롤 고정된 4개의 col을 가진 row로는 변경할 수 없기에 오류뜸"
      ],
      "metadata": {
        "id": "3l7wPSr4d30j"
      }
    },
    {
      "cell_type": "markdown",
      "source": [
        "- reshape(-1,1) : 2차원, 여러 개의 row을 가지되 반드시 1개의 col을 가진 ndarray로 변환됨을 보장"
      ],
      "metadata": {
        "id": "3HnH6ZPBeETz"
      }
    },
    {
      "cell_type": "code",
      "source": [
        "array1=np.arange(8)\n",
        "array3d=array1.reshape((2,2,2))\n",
        "print('array3d:\\n',array3d.tolist())\n",
        "\n",
        "#3차원 ndarray를 2차원 ndarray로 변환\n",
        "array5=array3d.reshape(-1,1)\n",
        "print('array5:\\n',array5.tolist())\n",
        "print('array5 shape',array5.shape)\n",
        "\n",
        "#1차원 ndarray를 2차원 ndarray로 변환\n",
        "array6=array3d.reshape(-1,1)\n",
        "print('array6:\\n',array5.tolist())\n",
        "print('array6 shape',array6.shape)"
      ],
      "metadata": {
        "id": "dX5Mqz4yxyea",
        "outputId": "2e42b679-81e6-44ab-f8a8-a7045437f8a9",
        "colab": {
          "base_uri": "https://localhost:8080/"
        }
      },
      "execution_count": null,
      "outputs": [
        {
          "output_type": "stream",
          "name": "stdout",
          "text": [
            "array3d:\n",
            " [[[0, 1], [2, 3]], [[4, 5], [6, 7]]]\n",
            "array5:\n",
            " [[0], [1], [2], [3], [4], [5], [6], [7]]\n",
            "array5 shape (8, 1)\n",
            "array6:\n",
            " [[0], [1], [2], [3], [4], [5], [6], [7]]\n",
            "array6 shape (8, 1)\n"
          ]
        }
      ]
    },
    {
      "cell_type": "markdown",
      "source": [
        "- reshape(-1,1)을 이용해 3차원을 2차원으로, 1차원을 2차원으로 변경\n",
        "- ndarray는 tolist()를 이용해리스트 자료형으로 변환"
      ],
      "metadata": {
        "id": "BD4VSFe4eSXH"
      }
    },
    {
      "cell_type": "markdown",
      "source": [
        "# 넘파이의 ndarray의 데이터 세트 선택하기 - 인덱싱(Indexing)\n",
        "\n",
        "\n",
        "*   특정 데이터만 추출\n",
        "*   슬라이싱 : 연속된 인덱스상의 ndarray를 추출\n",
        "- 팬시 인덱싱 : 일정한 인덱싱 집합을 list나 ndarray 형태로 지정해 해당 위치에 있는 데이터의 ndarray로 반환\n",
        "- 불린 인덱싱 : True/False 인덱싱 집합을 기반으로 True에 해당하ㅡㄴ 인덱스 위치에 있는 데이터의 ndarray를 반환\n",
        "\n"
      ],
      "metadata": {
        "id": "lBr2MfLCeh9p"
      }
    },
    {
      "cell_type": "code",
      "source": [
        "#1부터 9까지의 1차원 ndarray 생성\n",
        "array1=np.arange(start=1,stop=10)\n",
        "print('array1:',array1)\n",
        "\n",
        "#index는 0부터 시작하므로 array1[2]는 3번째 index 위치의 데이터값을 의미\n",
        "value=array1[2]\n",
        "print('value:',value)\n",
        "print(type(value))"
      ],
      "metadata": {
        "id": "_u5rJZC7ybLk",
        "outputId": "670c55b0-cb31-4623-d83e-d1451237a0ab",
        "colab": {
          "base_uri": "https://localhost:8080/"
        }
      },
      "execution_count": null,
      "outputs": [
        {
          "output_type": "stream",
          "name": "stdout",
          "text": [
            "array1: [1 2 3 4 5 6 7 8 9]\n",
            "value: 3\n",
            "<class 'numpy.int64'>\n"
          ]
        }
      ]
    },
    {
      "cell_type": "markdown",
      "source": [
        "- array1[2] : 3번째 인덱스 위치의 데이터 값 = 3"
      ],
      "metadata": {
        "id": "9eYHGLR7fMhZ"
      }
    },
    {
      "cell_type": "code",
      "source": [
        "print('맨 뒤의 값:',array1[-1],'맨 뒤에서 두 번째 값:',array1[-2])"
      ],
      "metadata": {
        "id": "OIuVbxfZyyTv",
        "outputId": "36399bd9-933f-4dce-b5dc-b7db7bc60e89",
        "colab": {
          "base_uri": "https://localhost:8080/"
        }
      },
      "execution_count": null,
      "outputs": [
        {
          "output_type": "stream",
          "name": "stdout",
          "text": [
            "맨 뒤의 값: 9 맨 뒤에서 두 번째 값: 8\n"
          ]
        }
      ]
    },
    {
      "cell_type": "code",
      "source": [
        "array1[0]=9\n",
        "array1[8]=0\n",
        "print('array1:',array1)"
      ],
      "metadata": {
        "id": "E_6_ogely5i6",
        "outputId": "7bf4abe4-afc4-4e9e-8f60-04028e501061",
        "colab": {
          "base_uri": "https://localhost:8080/"
        }
      },
      "execution_count": null,
      "outputs": [
        {
          "output_type": "stream",
          "name": "stdout",
          "text": [
            "array1: [9 2 3 4 5 6 7 8 0]\n"
          ]
        }
      ]
    },
    {
      "cell_type": "code",
      "source": [
        "array1d=np.arange(start=1,stop=10)\n",
        "array2d=array1d.reshape(3,3)\n",
        "print(array2d)\n",
        "\n",
        "print('(row=0,col=0) index 가리키는 값:',array2d[0,0])\n",
        "print('(row=0,col=1) index 가리키는 값:',array2d[0,1])\n",
        "print('(row=1,col=0) index 가리키는 값:',array2d[1,0])\n",
        "print('(row=2,col=2) index 가리키는 값:',array2d[2,2])"
      ],
      "metadata": {
        "id": "955Bz2R5y_bD",
        "outputId": "728f77ed-b88c-4f5b-9271-f8344546b996",
        "colab": {
          "base_uri": "https://localhost:8080/"
        }
      },
      "execution_count": null,
      "outputs": [
        {
          "output_type": "stream",
          "name": "stdout",
          "text": [
            "[[1 2 3]\n",
            " [4 5 6]\n",
            " [7 8 9]]\n",
            "(row=0,col=0) index 가리키는 값: 1\n",
            "(row=0,col=1) index 가리키는 값: 2\n",
            "(row=1,col=0) index 가리키는 값: 4\n",
            "(row=2,col=2) index 가리키는 값: 9\n"
          ]
        }
      ]
    },
    {
      "cell_type": "markdown",
      "source": [
        "- 앞 예제의 1차원 ndarray를 2차원의 3x3 ndarray로 변환 후, [row, col]을 이용해 2차원 ndarray에서 데이터 추출\n",
        "- array2d[0,0] : 첫 번째 row, 첫 번째 col 위치의 데이터인 1\n",
        "- array2d[0,1] : 첫 번째 row, 두 번째 col 위치의 데이터인 2\n",
        "- array2d[2,2] : 세 번째 row, 세 번째 col 위치의 데이터인 9\n",
        "- axis 0 : row 방향의 축, axis 1 : col 방향의 축"
      ],
      "metadata": {
        "id": "ys4bbHdAfae0"
      }
    },
    {
      "cell_type": "code",
      "source": [
        "array1=np.arange(start=1,stop=10)\n",
        "array3=array1[0:3]\n",
        "print(array3)\n",
        "print(type(array3))"
      ],
      "metadata": {
        "id": "B5bNxj_5zYwa",
        "outputId": "1f60c7df-08d2-439c-b005-0778f6efe78a",
        "colab": {
          "base_uri": "https://localhost:8080/"
        }
      },
      "execution_count": null,
      "outputs": [
        {
          "output_type": "stream",
          "name": "stdout",
          "text": [
            "[1 2 3]\n",
            "<class 'numpy.ndarray'>\n"
          ]
        }
      ]
    },
    {
      "cell_type": "markdown",
      "source": [
        "- 시작:종료 -> 시작 인덱스에서 종료 인덱스-1 위치에 있는 데이터의 ndarray를 반환"
      ],
      "metadata": {
        "id": "CX11r3lNgM3d"
      }
    },
    {
      "cell_type": "code",
      "source": [
        "array1=np.arange(start=1,stop=10)\n",
        "array4=array1[:3]\n",
        "print(array4)\n",
        "\n",
        "array5=array1[3:]\n",
        "print(array5)\n",
        "\n",
        "array6=array1[:]\n",
        "print(array6)"
      ],
      "metadata": {
        "id": "-nQHOPsRzsUQ",
        "outputId": "1b1d9178-f939-4ae9-f567-81b696f4212b",
        "colab": {
          "base_uri": "https://localhost:8080/"
        }
      },
      "execution_count": null,
      "outputs": [
        {
          "output_type": "stream",
          "name": "stdout",
          "text": [
            "[1 2 3]\n",
            "[4 5 6 7 8 9]\n",
            "[1 2 3 4 5 6 7 8 9]\n"
          ]
        }
      ]
    },
    {
      "cell_type": "code",
      "source": [
        "array1=np.arange(start=1,stop=10)\n",
        "array2d=array1d.reshape(3,3)\n",
        "print('array2d:\\n',array2d)\n",
        "\n",
        "print('array2d[0:2,0:2] \\n',array2d[0:2,0:2])\n",
        "print('array2d[1:3,0:3] \\n',array2d[1:3,0:3])\n",
        "print('array2d[1:3,:] \\n',array2d[1:3,:])\n",
        "print('array2d[:,:] \\n',array2d[:,:])\n",
        "print('array2d[:2,1:] \\n',array2d[:2,1:])\n",
        "print('array2d[:2,0] \\n',array2d[:2,0])"
      ],
      "metadata": {
        "id": "nuJwUjhCz6QY",
        "outputId": "4a4b7150-81dd-4780-c38b-0f5a18a41b62",
        "colab": {
          "base_uri": "https://localhost:8080/"
        }
      },
      "execution_count": null,
      "outputs": [
        {
          "output_type": "stream",
          "name": "stdout",
          "text": [
            "array2d:\n",
            " [[1 2 3]\n",
            " [4 5 6]\n",
            " [7 8 9]]\n",
            "array2d[0:2,0:2] \n",
            " [[1 2]\n",
            " [4 5]]\n",
            "array2d[1:3,0:3] \n",
            " [[4 5 6]\n",
            " [7 8 9]]\n",
            "array2d[1:3,:] \n",
            " [[4 5 6]\n",
            " [7 8 9]]\n",
            "array2d[:,:] \n",
            " [[1 2 3]\n",
            " [4 5 6]\n",
            " [7 8 9]]\n",
            "array2d[:2,1:] \n",
            " [[2 3]\n",
            " [5 6]]\n",
            "array2d[:2,0] \n",
            " [1 4]\n"
          ]
        }
      ]
    },
    {
      "cell_type": "code",
      "source": [
        "print(array2d[0])\n",
        "print(array2d[1])\n",
        "print('array2d[0] shape:',array2d[0].shape, 'array2d[1] shape:',array2d[1].shape)"
      ],
      "metadata": {
        "id": "YjqSZiVY0kCQ",
        "outputId": "acfcc20e-4008-4153-f2d8-b4c08d184c40",
        "colab": {
          "base_uri": "https://localhost:8080/"
        }
      },
      "execution_count": null,
      "outputs": [
        {
          "output_type": "stream",
          "name": "stdout",
          "text": [
            "[1 2 3]\n",
            "[4 5 6]\n",
            "array2d[0] shape: (3,) array2d[1] shape: (3,)\n"
          ]
        }
      ]
    },
    {
      "cell_type": "code",
      "source": [
        "array1d=np.arange(start=1,stop=10)\n",
        "array2d=array1d.reshape(3,3)\n",
        "\n",
        "array3=array2d[[0,1],2]\n",
        "print('array2d[[0,1],2] =>',array3.tolist())\n",
        "\n",
        "array4=array2d[[0,1],0:2]\n",
        "print('array2d[[0,1],0:2] =>',array4.tolist())\n",
        "\n",
        "array5=array2d[[0,1]]\n",
        "print('array2d[[0,1]] =>',array5.tolist())"
      ],
      "metadata": {
        "id": "2VA3mYfb08mZ",
        "outputId": "5847b359-a713-4882-b07f-91ce239f624d",
        "colab": {
          "base_uri": "https://localhost:8080/"
        }
      },
      "execution_count": null,
      "outputs": [
        {
          "output_type": "stream",
          "name": "stdout",
          "text": [
            "array2d[[0,1],2] => [3, 6]\n",
            "array2d[[0,1],0:2] => [[1, 2], [4, 5]]\n",
            "array2d[[0,1]] => [[1, 2, 3], [4, 5, 6]]\n"
          ]
        }
      ]
    },
    {
      "cell_type": "markdown",
      "source": [
        "- array2d[ [0, 1] ,2] : row 축에 팬시 인덱싱인 [0, 1]을, col 축에는 단일 값 인덱싱 2를 적용 -> (0,2), (1,2)로 적용돼 [3, 6]을 반환\n",
        "- array2d[ [0, 1], 0 : 2] : ((0, 0),(0, 1)),((1, 0),(1, 1)) 인덱싱이 적용돼 [[1, 2], [4, 5]]를 반환"
      ],
      "metadata": {
        "id": "5dLbcKl-hkZn"
      }
    },
    {
      "cell_type": "code",
      "source": [
        "array1d=np.arange(start=1,stop=10)\n",
        "#[] 안에 array1d>5 Boolean indexing을 적용\n",
        "array3=array1d[array1d>5]\n",
        "print('array1d>5 불린 인덱싱 결과 값:',array3)"
      ],
      "metadata": {
        "id": "LBLSTnWLMQRK",
        "outputId": "07eb2332-865b-4b5d-e342-bd09ff5c31be",
        "colab": {
          "base_uri": "https://localhost:8080/"
        }
      },
      "execution_count": null,
      "outputs": [
        {
          "output_type": "stream",
          "name": "stdout",
          "text": [
            "array1d>5 불린 인덱싱 결과 값: [6 7 8 9]\n"
          ]
        }
      ]
    },
    {
      "cell_type": "markdown",
      "source": [
        "- [1, 2, 3, 4, 5, 6, 7, 8, 9]에서 데이터 값이 5보다 큰 데이터만 추출"
      ],
      "metadata": {
        "id": "Lg7kEH1oiUtV"
      }
    },
    {
      "cell_type": "code",
      "source": [
        "array1d>5"
      ],
      "metadata": {
        "id": "huZwm93jMmEG",
        "outputId": "2e4707df-1724-4de8-959c-f524d75e70cc",
        "colab": {
          "base_uri": "https://localhost:8080/"
        }
      },
      "execution_count": null,
      "outputs": [
        {
          "output_type": "execute_result",
          "data": {
            "text/plain": [
              "array([False, False, False, False, False,  True,  True,  True,  True])"
            ]
          },
          "metadata": {},
          "execution_count": 33
        }
      ]
    },
    {
      "cell_type": "markdown",
      "source": [
        "- 5보다 큰 데이터가 있는 위치는 True 값이, 그렇지 않은 부분은 False 값이 반환"
      ],
      "metadata": {
        "id": "PrGk6BmmiddM"
      }
    },
    {
      "cell_type": "code",
      "source": [
        "boolean_indexes=np.array([False, False, False, False, False,  True,  True,  True,  True])\n",
        "array3=array1d[boolean_indexes]\n",
        "print('불린 인덱싱 결과:',array3)"
      ],
      "metadata": {
        "id": "1sZ3_K4WMn4d",
        "outputId": "2384e50f-770e-496f-e836-bc8346595299",
        "colab": {
          "base_uri": "https://localhost:8080/"
        }
      },
      "execution_count": null,
      "outputs": [
        {
          "output_type": "stream",
          "name": "stdout",
          "text": [
            "불린 인덱싱 결과: [6 7 8 9]\n"
          ]
        }
      ]
    },
    {
      "cell_type": "code",
      "source": [
        "indexes=np.array([5,6,7,8])\n",
        "array4=array1d[indexes]\n",
        "print('일반 인덱스로 필터링 결과:',array4)"
      ],
      "metadata": {
        "id": "axN7VxsaM7da",
        "outputId": "f6ff20de-41f7-4680-de7d-83b351ea514b",
        "colab": {
          "base_uri": "https://localhost:8080/"
        }
      },
      "execution_count": null,
      "outputs": [
        {
          "output_type": "stream",
          "name": "stdout",
          "text": [
            "일반 인덱스로 필터링 결과: [6 7 8 9]\n"
          ]
        }
      ]
    },
    {
      "cell_type": "markdown",
      "source": [
        "step1 : array1d > 5와 같이 ndarray의 필터링조건을 []안데 기재\n",
        "step2 : False값은 무시하고 True값에 해당하는 인덱스값만 저장\n",
        "step3 : 저장된 인덱스 데이터 세트로 ndarray 조회"
      ],
      "metadata": {
        "id": "hf09sToQiuY8"
      }
    },
    {
      "cell_type": "markdown",
      "source": [
        "# 행렬의 정렬 - sort()와 argsort()\n",
        "\n"
      ],
      "metadata": {
        "id": "w3NqZumZi_oO"
      }
    },
    {
      "cell_type": "markdown",
      "source": [
        "- np.sort() : 원 행렬은 그대로 유지한 채 원 행렬의 정렬된 행렬 반환\n",
        "- ndarray.sort() : 원 행렬 자체를 정렬한 형태로 변환, 변환값은 None"
      ],
      "metadata": {
        "id": "be1GJNzIjIng"
      }
    },
    {
      "cell_type": "code",
      "source": [
        "org_array=([3,1,9,5])\n",
        "print('원본 행렬:',org_array)\n",
        "#np.sort()로 정렬\n",
        "sort_array1=np.sort(org_array)\n",
        "print('np_sort() 호출 후 반환된 정렬 행렬:',sort_array1)\n",
        "print('np_sort() 호출 후 반환된 원본 행렬:',org_array)\n",
        "#ndarray.sort()로 정렬\n",
        "sort_array2=org_array.sort()\n",
        "print('org_array_sort() 호출 후 반환된 행렬:',sort_array2)\n",
        "print('org_array_sort() 호출 후 원본 행렬:',org_array)"
      ],
      "metadata": {
        "id": "3ojdKRaxNH0A",
        "outputId": "5985b56f-c1bd-48d4-b755-5c123ca09fed",
        "colab": {
          "base_uri": "https://localhost:8080/"
        }
      },
      "execution_count": null,
      "outputs": [
        {
          "output_type": "stream",
          "name": "stdout",
          "text": [
            "원본 행렬: [3, 1, 9, 5]\n",
            "np_sort() 호출 후 반환된 정렬 행렬: [1 3 5 9]\n",
            "np_sort() 호출 후 반환된 원본 행렬: [3, 1, 9, 5]\n",
            "org_array_sort() 호출 후 반환된 행렬: None\n",
            "org_array_sort() 호출 후 원본 행렬: [1, 3, 5, 9]\n"
          ]
        }
      ]
    },
    {
      "cell_type": "markdown",
      "source": [
        "- 원본 행렬 [ 3 1 9 5 ] 에 대해서 np.sort()는 원본 행렬을 변경하지 않고 정렬된 형태로 반환했으며, ndarray.sort()는 원본 행렬 자체를 정렬한 값으로 변환함"
      ],
      "metadata": {
        "id": "bcYdlzhwjjvR"
      }
    },
    {
      "cell_type": "code",
      "source": [
        "sort_array1_desc=np.sort(org_array)[::-1]\n",
        "print('내림차순으로 정렬:',sort_array1_desc)"
      ],
      "metadata": {
        "id": "N1EEhAgIOYkZ",
        "outputId": "4d3a83cc-dee9-40d9-d16a-fb20bce2c21d",
        "colab": {
          "base_uri": "https://localhost:8080/"
        }
      },
      "execution_count": null,
      "outputs": [
        {
          "output_type": "stream",
          "name": "stdout",
          "text": [
            "내림차순으로 정렬: [9 5 3 1]\n"
          ]
        }
      ]
    },
    {
      "cell_type": "code",
      "source": [
        "array2d=np.array([[8,12],\n",
        "                  [7,1]])\n",
        "\n",
        "sort_array2d_axis0=np.sort(array2d,axis=0)\n",
        "print('로우 방향으로 정렬:\\n',sort_array2d_axis0)\n",
        "\n",
        "sort_array2d_axis1=np.sort(array2d,axis=1)\n",
        "print('칼럼 방향으로 정렬:\\n',sort_array2d_axis1)"
      ],
      "metadata": {
        "id": "klvmGTSGOk2i",
        "outputId": "ed051ac9-3d4f-46f1-d1ad-5b0dfb9e61ad",
        "colab": {
          "base_uri": "https://localhost:8080/"
        }
      },
      "execution_count": null,
      "outputs": [
        {
          "output_type": "stream",
          "name": "stdout",
          "text": [
            "로우 방향으로 정렬:\n",
            " [[ 7  1]\n",
            " [ 8 12]]\n",
            "칼럼 방향으로 정렬:\n",
            " [[ 8 12]\n",
            " [ 1  7]]\n"
          ]
        }
      ]
    },
    {
      "cell_type": "markdown",
      "source": [
        "- 워본 행렬이 정렬되었을 때 기존 원본 행렬의 원소에 대한 인덱스를 필요로 할 때 np.argsort()를 이용\n",
        "- np.argsort()는 정렬 행렬의 원본 행렬 인덱스를 ndarray형으로 반환"
      ],
      "metadata": {
        "id": "1Sw0oILtj8aY"
      }
    },
    {
      "cell_type": "code",
      "source": [
        "org_array=np.array([3,1,9,5])\n",
        "sort_indices=np.argsort(org_array)\n",
        "print(type(sort_indices))\n",
        "print('행렬 정렬 시 원본 행렬의 인덱스:',sort_indices)"
      ],
      "metadata": {
        "id": "yAAAANctPBKl",
        "outputId": "85dcd4af-38d9-45a2-fd40-3088708659bc",
        "colab": {
          "base_uri": "https://localhost:8080/"
        }
      },
      "execution_count": null,
      "outputs": [
        {
          "output_type": "stream",
          "name": "stdout",
          "text": [
            "<class 'numpy.ndarray'>\n",
            "행렬 정렬 시 원본 행렬의 인덱스: [1 0 3 2]\n"
          ]
        }
      ]
    },
    {
      "cell_type": "code",
      "source": [
        "org_array=np.array([3,1,9,5])\n",
        "sort_indices_desc=np.argsort(org_array)[::-1]\n",
        "print('행렬 내림차순 정렬 시 원본 행렬의 인덱스:',sort_indices_desc)"
      ],
      "metadata": {
        "id": "waZK9IaXPYQC",
        "outputId": "de81ebaa-8b0a-449e-e1ae-0be80ada6254",
        "colab": {
          "base_uri": "https://localhost:8080/"
        }
      },
      "execution_count": null,
      "outputs": [
        {
          "output_type": "stream",
          "name": "stdout",
          "text": [
            "행렬 내림차순 정렬 시 원본 행렬의 인덱스: [2 3 0 1]\n"
          ]
        }
      ]
    },
    {
      "cell_type": "code",
      "source": [
        "import numpy as np\n",
        "\n",
        "name_array=np.array(['John','Mike','Sarah','Kate','Samuel'])\n",
        "score_array=np.array([78,95,84,98,88])\n",
        "\n",
        "sort_indices_asc=np.argsort(score_array)\n",
        "print('성적 오름차순 정렬 시 score_array의 인덱스:',sort_indices_asc)\n",
        "print('성적 오름차순 정렬 시 name_array의 이름 출력:',name_array[sort_indices_asc])"
      ],
      "metadata": {
        "id": "sdMalmPqPy5s",
        "outputId": "4285a6d0-6303-41c3-92c5-7c49c9a42402",
        "colab": {
          "base_uri": "https://localhost:8080/"
        }
      },
      "execution_count": null,
      "outputs": [
        {
          "output_type": "stream",
          "name": "stdout",
          "text": [
            "성적 오름차순 정렬 시 score_array의 인덱스: [0 2 4 1 3]\n",
            "성적 오름차순 정렬 시 name_array의 이름 출력: ['John' 'Sarah' 'Samuel' 'Mike' 'Kate']\n"
          ]
        }
      ]
    },
    {
      "cell_type": "markdown",
      "source": [
        "- John = 78, Mike = 95, Sarah = 84, Kate = 98, Samuel = 88을 ndarray로 활용하고자 함\n",
        "- 시험 성적 순으로 학생 이름을 출력하고자 한다면 np.argsort(score_array)를 이용해 반환된 인덱스를 name_array에 팬시 인덱스를 적용해 추출"
      ],
      "metadata": {
        "id": "VdDuoTt9kSpN"
      }
    },
    {
      "cell_type": "markdown",
      "source": [
        "# 선형대수 연산 = 행렬 내적과 전치 행렬 구하기\n",
        "\n",
        "행렬 내적(행렬 곱)\n",
        "- 두 행렬 A와 B의 내적은 np.dot()을 이용해 계산"
      ],
      "metadata": {
        "id": "iaGcsV2Tk1JU"
      }
    },
    {
      "cell_type": "code",
      "source": [
        "A=np.array([[1,2,3],\n",
        "            [4,5,6]])\n",
        "B=np.array([[7,8],\n",
        "            [9,10],\n",
        "            [11,12]])\n",
        "\n",
        "dot_product=np.dot(A,B)\n",
        "print('행렬 내적 결과:\\n',dot_product)"
      ],
      "metadata": {
        "id": "NWyhBy_HQYPH",
        "outputId": "e3fcf94f-34bc-4d46-9ede-d734463867cc",
        "colab": {
          "base_uri": "https://localhost:8080/"
        }
      },
      "execution_count": null,
      "outputs": [
        {
          "output_type": "stream",
          "name": "stdout",
          "text": [
            "행렬 내적 결과:\n",
            " [[ 58  64]\n",
            " [139 154]]\n"
          ]
        }
      ]
    },
    {
      "cell_type": "markdown",
      "source": [
        "전치 행렬\n",
        "- 원 행렬에서 행과 열 위치를 교환한 원소로 구성한 행렬\n",
        "- transpose()를 이용해 구할 수 있음"
      ],
      "metadata": {
        "id": "2lEAMgN1lDl5"
      }
    },
    {
      "cell_type": "code",
      "source": [
        "A=np.array([[1,2],\n",
        "            [3,4]])\n",
        "transpose_mat=np.transpose(A)\n",
        "print('A의 전치 행렬:\\n',transpose_mat)"
      ],
      "metadata": {
        "id": "Eq2Yv5hMQmjr",
        "outputId": "81797b4b-12bb-4f7a-e898-0181c470342e",
        "colab": {
          "base_uri": "https://localhost:8080/"
        }
      },
      "execution_count": null,
      "outputs": [
        {
          "output_type": "stream",
          "name": "stdout",
          "text": [
            "A의 전치 행렬:\n",
            " [[1 3]\n",
            " [2 4]]\n"
          ]
        }
      ]
    }
  ],
  "metadata": {
    "colab": {
      "provenance": [],
      "include_colab_link": true
    },
    "kernelspec": {
      "display_name": "Python 3",
      "name": "python3"
    }
  },
  "nbformat": 4,
  "nbformat_minor": 0
}