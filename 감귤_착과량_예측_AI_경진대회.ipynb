{
  "cells": [
    {
      "cell_type": "markdown",
      "metadata": {
        "id": "view-in-github",
        "colab_type": "text"
      },
      "source": [
        "<a href=\"https://colab.research.google.com/github/smpark0520/ESAA/blob/main/%EA%B0%90%EA%B7%A4_%EC%B0%A9%EA%B3%BC%EB%9F%89_%EC%98%88%EC%B8%A1_AI_%EA%B2%BD%EC%A7%84%EB%8C%80%ED%9A%8C.ipynb\" target=\"_parent\"><img src=\"https://colab.research.google.com/assets/colab-badge.svg\" alt=\"Open In Colab\"/></a>"
      ]
    },
    {
      "cell_type": "markdown",
      "source": [
        "Dataset Info.\n",
        "\n",
        "- train.csv [파일]\n",
        "  - ID : 과수나무 고유 ID\n",
        "  - 착과량(int) : 실제 감귤 착과량 (Target)\n",
        "  - 나무 생육 상태 Features (5개) : 수고(m), 수관폭1(min), 수관폭2(max), 수관폭평균(수관폭1과 수관폭2의 평균)\n",
        "\n",
        "      데이터 기입은 cm 단위\n",
        "\n",
        "  - 새순 Features (89개) : 2022년 09월 01일 ~ 2022년 11월 28일에 일별 측정된 새순 데이터\n",
        "\n",
        "  - 엽록소 Features (89개)\n",
        "2022년 09월 01일 ~ 2022년 11월 28일에 일별 측정된 엽록소 데이터\n",
        "\n",
        "\n",
        "\n",
        " - test.csv [파일]\n",
        "  - ID : 과수나무 고유 ID\n",
        "  - 나무 생육 상태 Features (5개) : 수고(m), 수관폭1(min), 수관폭2(max), 수관폭평균(수관폭1과 수관폭2의 평균)\n",
        "\n",
        "      데이터 기입은 cm 단위\n",
        "\n",
        "  - 새순 Features (89개) : 2022년 09월 01일 ~ 2022년 11월 28일에 일별 측정된 새순 데이터\n",
        "\n",
        "  - 엽록소 Features (89개) : 2022년 09월 01일 ~ 2022년 11월 28일에 일별 측정된 엽록소 데이터\n",
        "\n",
        "\n",
        "\n",
        " - sample_submission.csv [제출양식]\n",
        "  - ID : 과수나무 고유 ID\n",
        "  - 착과량(int) : 예측한 감귤 착과량\n"
      ],
      "metadata": {
        "id": "GYMozaR4q5z5"
      },
      "id": "GYMozaR4q5z5"
    },
    {
      "cell_type": "code",
      "execution_count": null,
      "id": "01efc98d-77fa-4dfc-b1c0-88d17f2627dc",
      "metadata": {
        "id": "01efc98d-77fa-4dfc-b1c0-88d17f2627dc"
      },
      "outputs": [],
      "source": [
        "import pandas as pd\n",
        "import numpy as np\n",
        "import random\n",
        "import os\n",
        "\n",
        "from supervised.automl import AutoML\n",
        "\n",
        "train_df = pd.read_csv(\"../data/train.csv\")\n",
        "test_df =  pd.read_csv(\"../data/test.csv\")\n",
        "\n",
        "target_columns = train_df.filter(regex=\"새순\").columns\n",
        "train_df[\"새순mean\"]   = train_df[target_columns].mean(axis=1)\n",
        "train_df[\"새순std\"]    = train_df[target_columns].std(axis=1)\n",
        "train_df[\"새순diff\"] = train_df[\"2022-11-28 새순\"] - train_df[\"2022-09-01 새순\"]\n",
        "train_df[\"새순min\"]    = train_df[target_columns].min(axis=1)\n",
        "train_df[\"새순max\"]    = train_df[target_columns].max(axis=1)\n",
        "\n",
        "test_df[\"새순mean\"]   = test_df[target_columns].mean(axis=1)\n",
        "test_df[\"새순std\"]    = test_df[target_columns].std(axis=1)\n",
        "test_df[\"새순diff\"]   = test_df[\"2022-11-28 새순\"] - test_df[\"2022-09-01 새순\"]\n",
        "test_df[\"새순min\"]    = test_df[target_columns].min(axis=1)\n",
        "test_df[\"새순max\"]    = test_df[target_columns].max(axis=1)\n",
        "\n",
        "X = train_df[train_df.filter(regex=\"새순\").columns]\n",
        "print(X.columns)\n",
        "y = train_df.iloc[:, 1]\n",
        "\n",
        "automl = AutoML(mode=\"Compete\", eval_metric='mae')\n",
        "automl.fit(X, y)\n",
        "pred = automl.predict(test_df[test_df.filter(regex=\"새순\").columns])\n",
        "\n",
        "submission = pd.read_csv(\"../data/sample_submission.csv\")\n",
        "submission.iloc[:, 1] = pred\n",
        "submission.to_csv(\"automl_fixed.csv\", index=False)"
      ]
    }
  ],
  "metadata": {
    "kernelspec": {
      "display_name": "venv",
      "language": "python",
      "name": "venv"
    },
    "language_info": {
      "codemirror_mode": {
        "name": "ipython",
        "version": 3
      },
      "file_extension": ".py",
      "mimetype": "text/x-python",
      "name": "python",
      "nbconvert_exporter": "python",
      "pygments_lexer": "ipython3",
      "version": "3.8.12"
    },
    "colab": {
      "provenance": [],
      "include_colab_link": true
    }
  },
  "nbformat": 4,
  "nbformat_minor": 5
}