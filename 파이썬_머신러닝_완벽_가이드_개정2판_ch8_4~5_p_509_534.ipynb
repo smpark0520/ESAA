{
  "nbformat": 4,
  "nbformat_minor": 0,
  "metadata": {
    "colab": {
      "provenance": [],
      "mount_file_id": "1FgtD-GkmRwmmDLqxUCF-5312QFN4iiE8",
      "authorship_tag": "ABX9TyNR1gkF/KlW6IJaTitvwwfk",
      "include_colab_link": true
    },
    "kernelspec": {
      "name": "python3",
      "display_name": "Python 3"
    },
    "language_info": {
      "name": "python"
    }
  },
  "cells": [
    {
      "cell_type": "markdown",
      "metadata": {
        "id": "view-in-github",
        "colab_type": "text"
      },
      "source": [
        "<a href=\"https://colab.research.google.com/github/smpark0520/ESAA/blob/main/%ED%8C%8C%EC%9D%B4%EC%8D%AC_%EB%A8%B8%EC%8B%A0%EB%9F%AC%EB%8B%9D_%EC%99%84%EB%B2%BD_%EA%B0%80%EC%9D%B4%EB%93%9C_%EA%B0%9C%EC%A0%952%ED%8C%90_ch8_4~5_p_509_534.ipynb\" target=\"_parent\"><img src=\"https://colab.research.google.com/assets/colab-badge.svg\" alt=\"Open In Colab\"/></a>"
      ]
    },
    {
      "cell_type": "markdown",
      "source": [
        "# 📝 텍스트 분류 개요\n",
        "\n",
        "특정 문서의 분류 모델을 학습한 후, 새로운 문서의 분류를 예측하는 작업\n",
        "\n",
        "텍스트 데이터를 정규화 → 피처 벡터화 → 머신러닝 모델 학습/예측/평가 순으로 진행\n",
        "\n",
        "🛠️ 사용 기법\n",
        "1. 피처 벡터화\n",
        "\n",
        "- 카운트 기반 벡터화\n",
        "\n",
        "- TF-IDF 기반 벡터화\n",
        "\n",
        "2. 분류 알고리즘\n",
        "\n",
        "- 로지스틱 회귀(Logistic Regression)\n",
        "\n",
        "3. 성능 향상 기법\n",
        "\n",
        "- GridSearchCV 기반 하이퍼파라미터 튜닝\n",
        "\n",
        "- Pipeline을 활용한 피처 벡터화 + 모델 학습 최적화\n",
        "\n",
        "🎯 목표\n",
        "\n",
        "- 카운트 벡터화 vs TF-IDF 벡터화 성능 비교\n",
        "\n",
        "- 하이퍼파라미터 튜닝을 통한 최적의 모델 찾기\n",
        "\n",
        "- Pipeline 활용으로 효율적인 학습 및 최적화"
      ],
      "metadata": {
        "id": "382d6SWKU5zY"
      }
    },
    {
      "cell_type": "markdown",
      "source": [
        "## 텍스트 정규화"
      ],
      "metadata": {
        "id": "1w9NqA-wVRkP"
      }
    },
    {
      "cell_type": "code",
      "execution_count": 1,
      "metadata": {
        "id": "iK_BBlsvTlzZ"
      },
      "outputs": [],
      "source": [
        "from sklearn.datasets import fetch_20newsgroups\n",
        "\n",
        "news_data = fetch_20newsgroups(subset='all', random_state=156)"
      ]
    },
    {
      "cell_type": "markdown",
      "source": [
        "- news_data에 20개의 뉴스그룹 데이터를 불러옴"
      ],
      "metadata": {
        "id": "Uyd1oGEUU3V9"
      }
    },
    {
      "cell_type": "code",
      "source": [
        "print(news_data.keys())"
      ],
      "metadata": {
        "colab": {
          "base_uri": "https://localhost:8080/"
        },
        "id": "r9_3HJRNVYN-",
        "outputId": "ed518698-23c3-427d-db0d-1c455c1528d4"
      },
      "execution_count": 2,
      "outputs": [
        {
          "output_type": "stream",
          "name": "stdout",
          "text": [
            "dict_keys(['data', 'filenames', 'target_names', 'target', 'DESCR'])\n"
          ]
        }
      ]
    },
    {
      "cell_type": "code",
      "source": [
        "import pandas as pd\n",
        "\n",
        "print(\"target 클래스의 값과 분포도 \\n\", pd.Series(news_data.target).value_counts().sort_index())\n",
        "print(\"target 클래스의 이름들 \\n\", news_data.target_names)"
      ],
      "metadata": {
        "colab": {
          "base_uri": "https://localhost:8080/"
        },
        "id": "_cGxZHk6VpxB",
        "outputId": "18d00b7a-b4c9-4b20-b342-2ce60abd72c1"
      },
      "execution_count": 3,
      "outputs": [
        {
          "output_type": "stream",
          "name": "stdout",
          "text": [
            "target 클래스의 값과 분포도 \n",
            " 0     799\n",
            "1     973\n",
            "2     985\n",
            "3     982\n",
            "4     963\n",
            "5     988\n",
            "6     975\n",
            "7     990\n",
            "8     996\n",
            "9     994\n",
            "10    999\n",
            "11    991\n",
            "12    984\n",
            "13    990\n",
            "14    987\n",
            "15    997\n",
            "16    910\n",
            "17    940\n",
            "18    775\n",
            "19    628\n",
            "Name: count, dtype: int64\n",
            "target 클래스의 이름들 \n",
            " ['alt.atheism', 'comp.graphics', 'comp.os.ms-windows.misc', 'comp.sys.ibm.pc.hardware', 'comp.sys.mac.hardware', 'comp.windows.x', 'misc.forsale', 'rec.autos', 'rec.motorcycles', 'rec.sport.baseball', 'rec.sport.hockey', 'sci.crypt', 'sci.electronics', 'sci.med', 'sci.space', 'soc.religion.christian', 'talk.politics.guns', 'talk.politics.mideast', 'talk.politics.misc', 'talk.religion.misc']\n"
          ]
        }
      ]
    },
    {
      "cell_type": "markdown",
      "source": [
        "- Target 클래스의 값은 0부터 19까지 20개로 구성"
      ],
      "metadata": {
        "id": "8O9iywZVVuBe"
      }
    },
    {
      "cell_type": "code",
      "source": [
        "print(news_data.data[0])"
      ],
      "metadata": {
        "colab": {
          "base_uri": "https://localhost:8080/"
        },
        "id": "Rve91mZqVwdf",
        "outputId": "e34ea964-00c4-4f25-f1f0-7c32022a19d3"
      },
      "execution_count": 4,
      "outputs": [
        {
          "output_type": "stream",
          "name": "stdout",
          "text": [
            "From: egreen@east.sun.com (Ed Green - Pixel Cruncher)\n",
            "Subject: Re: Observation re: helmets\n",
            "Organization: Sun Microsystems, RTP, NC\n",
            "Lines: 21\n",
            "Distribution: world\n",
            "Reply-To: egreen@east.sun.com\n",
            "NNTP-Posting-Host: laser.east.sun.com\n",
            "\n",
            "In article 211353@mavenry.altcit.eskimo.com, maven@mavenry.altcit.eskimo.com (Norman Hamer) writes:\n",
            "> \n",
            "> The question for the day is re: passenger helmets, if you don't know for \n",
            ">certain who's gonna ride with you (like say you meet them at a .... church \n",
            ">meeting, yeah, that's the ticket)... What are some guidelines? Should I just \n",
            ">pick up another shoei in my size to have a backup helmet (XL), or should I \n",
            ">maybe get an inexpensive one of a smaller size to accomodate my likely \n",
            ">passenger? \n",
            "\n",
            "If your primary concern is protecting the passenger in the event of a\n",
            "crash, have him or her fitted for a helmet that is their size.  If your\n",
            "primary concern is complying with stupid helmet laws, carry a real big\n",
            "spare (you can put a big or small head in a big helmet, but not in a\n",
            "small one).\n",
            "\n",
            "---\n",
            "Ed Green, former Ninjaite |I was drinking last night with a biker,\n",
            "  Ed.Green@East.Sun.COM   |and I showed him a picture of you.  I said,\n",
            "DoD #0111  (919)460-8302  |\"Go on, get to know her, you'll like her!\"\n",
            " (The Grateful Dead) -->  |It seemed like the least I could do...\n",
            "\n",
            "\n"
          ]
        }
      ]
    },
    {
      "cell_type": "markdown",
      "source": [
        "## 📝 뉴스그룹 데이터 전처리  \n",
        "\n",
        "### 🔹 헤더, 푸터, 이메일 정보 제거  \n",
        "- 제목, 소속, 이메일 주소 등은 **Target 클래스 값과 유사한 데이터**를 포함할 가능성이 높음  \n",
        "- 이를 포함하면 **예측 성능이 과도하게 높아질 위험**이 있음  \n",
        "- 순수한 기사 내용만 활용하여 **정확한 텍스트 분류 수행**  \n",
        "\n",
        "### 🔹`remove` 파라미터 활용  \n",
        "- fetch_20newsgroups(remove=('headers', 'footers', 'quotes')) 로 불필요한 정보 제거\n",
        "\n",
        "### 🔹`subset` 파라미터 활용\n",
        "\n",
        "'train', 'test' 값을 설정해 학습 데이터와 테스트 데이터 분리 가능"
      ],
      "metadata": {
        "id": "UtvZNf9_Xu9p"
      }
    },
    {
      "cell_type": "code",
      "source": [
        "from sklearn.datasets import fetch_20newsgroups\n",
        "\n",
        "# 학습용 데이터만 추출 (내용만 포함)\n",
        "train_news = fetch_20newsgroups(subset='train', remove=('headers', 'footers', 'quotes'), random_state=156)\n",
        "X_train = train_news.data\n",
        "y_train = train_news.target\n",
        "\n",
        "# 테스트 데이터만 추출 (내용만 포함)\n",
        "test_news = fetch_20newsgroups(subset='test', remove=('headers', 'footers', 'quotes'), random_state=156)\n",
        "X_test = test_news.data\n",
        "y_test = test_news.target\n",
        "\n",
        "# 데이터 크기 출력\n",
        "print('학습 데이터 크기: {0}, 테스트 데이터 크기: {1}'.format(len(X_train), len(X_test)))"
      ],
      "metadata": {
        "colab": {
          "base_uri": "https://localhost:8080/"
        },
        "id": "Cv1v2ycHYEFB",
        "outputId": "553e23e7-99a1-4d48-f770-c22a8dcf53f4"
      },
      "execution_count": 5,
      "outputs": [
        {
          "output_type": "stream",
          "name": "stdout",
          "text": [
            "학습 데이터 크기: 11314, 테스트 데이터 크기: 7532\n"
          ]
        }
      ]
    },
    {
      "cell_type": "markdown",
      "source": [
        "## 📝 피처 벡터화 변환과 머신러닝 모델 학습/예측/평가  \n",
        "\n",
        "1. **학습 데이터 피처 벡터화**  \n",
        "   - **CountVectorizer**를 사용해 학습 데이터(11314개의 뉴스그룹 문서)의 텍스트를 **피처 벡터화**함.\n",
        "\n",
        "2. **테스트 데이터 피처 벡터화 주의사항**  \n",
        "   - 테스트 데이터(7532개의 문서)에 대해서도 **CountVectorizer**를 사용하지만, 반드시 **학습 데이터에 fit()한 객체**를 이용해 변환(transform)해야 함.\n",
        "   - **학습 시 사용된 피처 개수**와 **테스트 데이터의 피처 개수**가 같아야 함.\n",
        "   - **`fit_transform()`**을 테스트 데이터에 사용하면 안 되며, **`cnt_vect.transform()`**을 사용해야 함.\n",
        "\n",
        "**중요**: 테스트 데이터에서 `fit_transform()`을 사용하면 **학습 시 설정된 피처 개수**와 **테스트 데이터에서 생성된 피처 개수**가 달라져 **예측 정확도에 영향을 미칠 수 있음**.\n"
      ],
      "metadata": {
        "id": "njwoAoa-Y8gW"
      }
    },
    {
      "cell_type": "code",
      "source": [
        "from sklearn.feature_extraction.text import CountVectorizer\n",
        "\n",
        "# Count Vectorization으로 피처 벡터화 변환 수행.\n",
        "cnt_vect = CountVectorizer()\n",
        "cnt_vect.fit(X_train)\n",
        "X_train_cnt_vect = cnt_vect.transform(X_train)\n",
        "\n",
        "# 학습 데이터로 fit()된 CountVectorizer를 이용해 테스트 데이터를 피처 벡터화 변환 수행.\n",
        "X_test_cnt_vect = cnt_vect.transform(X_test)\n",
        "\n",
        "# 학습 데이터 텍스트의 CountVectorizer Shape 출력\n",
        "print('학습 데이터 텍스트의 CountVectorizer Shape:', X_train_cnt_vect.shape)"
      ],
      "metadata": {
        "colab": {
          "base_uri": "https://localhost:8080/"
        },
        "id": "zxHQOYfIZGeS",
        "outputId": "3095921b-c2a7-4374-f64d-45b32679cdce"
      },
      "execution_count": 6,
      "outputs": [
        {
          "output_type": "stream",
          "name": "stdout",
          "text": [
            "학습 데이터 텍스트의 CountVectorizer Shape: (11314, 101631)\n"
          ]
        }
      ]
    },
    {
      "cell_type": "code",
      "source": [
        "from sklearn.linear_model import LogisticRegression\n",
        "from sklearn.metrics import accuracy_score\n",
        "import warnings\n",
        "warnings.filterwarnings('ignore')\n",
        "\n",
        "# LogisticRegression을 이용하여 학습/예측/평가 수행.\n",
        "lr_clf = LogisticRegression(solver='liblinear')\n",
        "lr_clf.fit(X_train_cnt_vect, y_train)\n",
        "\n",
        "# 예측 수행\n",
        "pred = lr_clf.predict(X_test_cnt_vect)\n",
        "\n",
        "# 예측 정확도 출력\n",
        "print('CountVectorized Logistic Regression의 예측 정확도는 {0:.3f}'.format(accuracy_score(y_test, pred)))"
      ],
      "metadata": {
        "colab": {
          "base_uri": "https://localhost:8080/"
        },
        "id": "utXuW8hpZL1l",
        "outputId": "e826df0a-3ecf-42ef-c36e-f8f450395885"
      },
      "execution_count": 7,
      "outputs": [
        {
          "output_type": "stream",
          "name": "stdout",
          "text": [
            "CountVectorized Logistic Regression의 예측 정확도는 0.617\n"
          ]
        }
      ]
    },
    {
      "cell_type": "markdown",
      "source": [
        "- 피처 벡터화된 데이터에 로지스틱 회귀를 적용해 뉴스그룹에 대한 분류를 예측"
      ],
      "metadata": {
        "id": "uWW3peiiZKuL"
      }
    },
    {
      "cell_type": "code",
      "source": [
        "from sklearn.feature_extraction.text import TfidfVectorizer\n",
        "from sklearn.linear_model import LogisticRegression\n",
        "from sklearn.metrics import accuracy_score\n",
        "\n",
        "# TF-IDF 벡터화를 적용해 학습 데이터 세트와 테스트 데이터 세트 변환.\n",
        "tfidf_vect = TfidfVectorizer()  # 'TfidfVectorizerO'에서 'O' 삭제\n",
        "tfidf_vect.fit(X_train)\n",
        "X_train_tfidf_vect = tfidf_vect.transform(X_train)\n",
        "X_test_tfidf_vect = tfidf_vect.transform(X_test)\n",
        "\n",
        "# LogisticRegression을 이용해 학습/예측/평가 수행.\n",
        "lr_clf = LogisticRegression(solver='liblinear')\n",
        "lr_clf.fit(X_train_tfidf_vect, y_train)\n",
        "\n",
        "# 예측 수행\n",
        "pred = lr_clf.predict(X_test_tfidf_vect)\n",
        "\n",
        "# 예측 정확도 출력\n",
        "print('TF-IDF Logistic Regression의 예측 정확도는 {0:.3f}'.format(accuracy_score(y_test, pred)))"
      ],
      "metadata": {
        "colab": {
          "base_uri": "https://localhost:8080/"
        },
        "id": "C1bWRZ6FZWH1",
        "outputId": "3f09c2ab-95ca-4ef6-d27c-3e7bad4371c0"
      },
      "execution_count": 8,
      "outputs": [
        {
          "output_type": "stream",
          "name": "stdout",
          "text": [
            "TF-IDF Logistic Regression의 예측 정확도는 0.678\n"
          ]
        }
      ]
    },
    {
      "cell_type": "markdown",
      "source": [
        "- Count 기반에서 TF-IDF 기반으로 벡터화를 변경해 예측 모델을 수행"
      ],
      "metadata": {
        "id": "C1uepZEfZU5n"
      }
    },
    {
      "cell_type": "markdown",
      "source": [
        "- TF-IDF가 단순 카운트 기반보다 훨씬 높은 예측 정확도를 제공\n",
        "- 일반적으로 문서 내에 텍스트가 많고 많은 문서를 가지는 텍스트 분석에서 카운트 벡터화보다는 TF-IDF 벡터화가 좋은 예측 결과를 도출"
      ],
      "metadata": {
        "id": "fT6fg9ipZ0C9"
      }
    },
    {
      "cell_type": "markdown",
      "source": [
        "## 📝 텍스트 분석에서 머신러닝 성능 향상 방법\n",
        "1. 중요한 2가지 방법\n",
        "\n",
        "- 최적의 ML 알고리즘 선택\n",
        "\n",
        "- 최상의 피처 전처리 수행\n",
        "\n",
        "2. 피처 벡터화의 중요성\n",
        "\n",
        "- 텍스트 정규화나 Count/TF-IDF 기반 피처 벡터화가 머신러닝 성능에 큰 영향을 미침\n",
        "\n",
        "3. TF-IDF 벡터화 파라미터 조정\n",
        "\n",
        "- 기존 파라미터: 기본 파라미터로 적용\n",
        "\n",
        "- 변경된 파라미터:\n",
        "\n",
        " - 스톱 워드: None → english\n",
        "\n",
        " - n-gram range: (1, 1) → (1, 2)\n",
        "\n",
        " - max_df: 기본값 → 300\n",
        "\n",
        "- 목표 : 변경된 파라미터로 예측 성능을 다시 측정"
      ],
      "metadata": {
        "id": "DzGYg8AQa-9G"
      }
    },
    {
      "cell_type": "code",
      "source": [
        "from sklearn.feature_extraction.text import TfidfVectorizer\n",
        "from sklearn.linear_model import LogisticRegression\n",
        "from sklearn.metrics import accuracy_score\n",
        "\n",
        "# stop words 필터링을 추가하고 ngram을 기본 (1, 1)에서 (1, 2)로 변경해 피처 벡터화 적용.\n",
        "tfidf_vect = TfidfVectorizer(stop_words='english', ngram_range=(1, 2), max_df=300)\n",
        "tfidf_vect.fit(X_train)\n",
        "X_train_tfidf_vect = tfidf_vect.transform(X_train)\n",
        "X_test_tfidf_vect = tfidf_vect.transform(X_test)\n",
        "\n",
        "# LogisticRegression을 이용해 학습/예측/평가 수행.\n",
        "lr_clf = LogisticRegression(solver='liblinear')\n",
        "lr_clf.fit(X_train_tfidf_vect, y_train)\n",
        "\n",
        "# 예측 수행\n",
        "pred = lr_clf.predict(X_test_tfidf_vect)\n",
        "\n",
        "# 예측 정확도 출력\n",
        "print('TF-IDF Vectorized Logistic Regression의 예측 정확도는 {0:.3f}'.format(accuracy_score(y_test, pred)))"
      ],
      "metadata": {
        "colab": {
          "base_uri": "https://localhost:8080/"
        },
        "id": "4mVlJIQZa6xX",
        "outputId": "e7af1866-8f6a-4dc8-9504-ca14a1649827"
      },
      "execution_count": 9,
      "outputs": [
        {
          "output_type": "stream",
          "name": "stdout",
          "text": [
            "TF-IDF Vectorized Logistic Regression의 예측 정확도는 0.690\n"
          ]
        }
      ]
    },
    {
      "cell_type": "markdown",
      "source": [
        "- GridSearchCV를 이용해 로지스틱 회귀의 하이퍼 파라미터 최적화를 수행\n",
        "- 로지스틱 회귀의 C 파라미터만 변경하면서 최적의 C값을 찾은 뒤 이 C값으로 학습된 모델에서 테스트 데이터로 예측해 성능을 평가"
      ],
      "metadata": {
        "id": "nla_DV8SbY3j"
      }
    },
    {
      "cell_type": "code",
      "source": [
        "from sklearn.model_selection import GridSearchCV\n",
        "from sklearn.linear_model import LogisticRegression\n",
        "from sklearn.metrics import accuracy_score\n",
        "\n",
        "# 최적 C 값 도출 튜닝 수행. CV는 3 폴드 세트로 설정.\n",
        "params = {'C': [0.01, 0.1, 1, 5, 10]}  # 잘못된 문법 수정\n",
        "grid_cv_lr = GridSearchCV(lr_clf, param_grid=params, cv=3, scoring='accuracy', verbose=1)  # verbose=1 수정\n",
        "\n",
        "grid_cv_lr.fit(X_train_tfidf_vect, y_train)\n",
        "\n",
        "# 최적 C 값으로 학습된 grid_cv로 예측 및 정확도 평가.\n",
        "print('Logistic Regression best C parameter:', grid_cv_lr.best_params_)\n",
        "pred = grid_cv_lr.predict(X_test_tfidf_vect)\n",
        "\n",
        "# 예측 정확도 출력\n",
        "print('TF-IDF Vectorized Logistic Regression의 예측 정확도는 {0:.3f}'.format(accuracy_score(y_test, pred)))"
      ],
      "metadata": {
        "colab": {
          "base_uri": "https://localhost:8080/"
        },
        "id": "T94t-2qTbcIQ",
        "outputId": "54abfbf4-9d58-4146-86ae-e0338c3794e8"
      },
      "execution_count": 10,
      "outputs": [
        {
          "output_type": "stream",
          "name": "stdout",
          "text": [
            "Fitting 3 folds for each of 5 candidates, totalling 15 fits\n",
            "Logistic Regression best C parameter: {'C': 10}\n",
            "TF-IDF Vectorized Logistic Regression의 예측 정확도는 0.704\n"
          ]
        }
      ]
    },
    {
      "cell_type": "markdown",
      "source": [
        "- 로지스틱 회귀의 C가 10일 때 GridSearchCV의 교차 검증 테스트 세트에서 가장 좋은 예측 성능을 나타냄"
      ],
      "metadata": {
        "id": "LfQqhHRYdGZ5"
      }
    },
    {
      "cell_type": "markdown",
      "source": [
        "## 📝 사이킷런 파이프라인(Pipeline) 사용 및 GridSearchCV 결합\n",
        "\n",
        "1. 사이킷런 파이프라인(Pipeline)\n",
        "\n",
        "- 데이터 전처리와 머신러닝 알고리즘 학습/예측을 한 번에 처리할 수 있는 클래스\n",
        "\n",
        "- 데이터 가공, 변환, 알고리즘 적용 등을 스트림 기반으로 처리\n",
        "\n",
        "- 코드의 직관성 증가 및 데이터 처리 효율화\n",
        "\n",
        "2. 장점\n",
        "\n",
        "- 전처리와 학습을 통일된 API로 처리\n",
        "\n",
        "- 대용량 데이터를 별도로 저장하지 않고 스트림 기반으로 처리하여 수행 시간 절약\n",
        "\n",
        "3. 적용 예시\n",
        "\n",
        "- 텍스트 기반 피처 벡터화뿐만 아니라 스케일링, PCA와 같은 전처리 작업 및 분류, 회귀 등의 Estimator를 한 번에 결합\n",
        "\n",
        "4. 활용\n",
        "\n",
        "- GridSearchCV와 결합하여 하이퍼파라미터 튜닝과 모델 학습/평가를 한 번에 수행 가능"
      ],
      "metadata": {
        "id": "CD4Szvafcf2F"
      }
    },
    {
      "cell_type": "code",
      "source": [
        "from sklearn.pipeline import Pipeline\n",
        "\n",
        "# Pipeline을 이용한 텍스트 분류 모델 정의\n",
        "pipeline = Pipeline([\n",
        "    ('tfidf_vect', TfidfVectorizer(stop_words='english')),  # TF-IDF 벡터화\n",
        "    ('lr_clf', LogisticRegression(random_state=156))  # 로지스틱 회귀 모델\n",
        "])"
      ],
      "metadata": {
        "id": "3hKT8L_fdDi8"
      },
      "execution_count": 12,
      "outputs": []
    },
    {
      "cell_type": "markdown",
      "source": [
        "1. 파이프라인 구성\n",
        "\n",
        "- TfidfVectorizer 객체 (tfidf_vect)와 LogisticRegression 객체 (lr_clf)를 각각 변수명으로 생성한 후, 이들을 파이프라인 객체 (pipeline)로 연결\n",
        "\n",
        "2. 전체 과정 통합\n",
        "\n",
        "- 기존에 fit()과 transform()을 각각 호출하던 과정을 **pipeline.fit()**과 **pipeline.predict()**로 통합하여 피처 벡터화와 모델 학습/예측을 한번에 처리\n",
        "\n",
        "3. 장점\n",
        "\n",
        "- 머신러닝 코드를 더 직관적이고 간단하게 작성할 수 있어, 효율적이고 유지보수가 쉬운 코드 작성이 가능"
      ],
      "metadata": {
        "id": "Q7CU5_nXdgL0"
      }
    },
    {
      "cell_type": "code",
      "source": [
        "from sklearn.pipeline import Pipeline\n",
        "from sklearn.feature_extraction.text import TfidfVectorizer\n",
        "from sklearn.linear_model import LogisticRegression\n",
        "\n",
        "# TfidfVectorizer 객체를 tfidf_vect로, LogisticRegression 객체를 lr_clf로 생성하는 Pipeline 생성\n",
        "pipeline = Pipeline([\n",
        "    ('tfidf_vect', TfidfVectorizer(stop_words='english', ngram_range=(1, 2), max_df=300)),  # TfidfVectorizer 설정\n",
        "    ('lr_clf', LogisticRegression(solver='liblinear', C=10))  # LogisticRegression 설정\n",
        "])"
      ],
      "metadata": {
        "id": "UAJjTP_Gduxt"
      },
      "execution_count": 13,
      "outputs": []
    },
    {
      "cell_type": "code",
      "source": [
        "from sklearn.metrics import accuracy_score\n",
        "\n",
        "# pipeline의 fit( )과 predict( )만으로 한꺼번에 피처 벡터화와 ML 학습/예측이 가능\n",
        "pipeline.fit(X_train, y_train)\n",
        "pred = pipeline.predict(X_test)\n",
        "\n",
        "# 예측 정확도 출력\n",
        "print('Pipeline을 통한 Logistic Regression의 예측 정확도는 {0:.3f}'.format(accuracy_score(y_test, pred)))"
      ],
      "metadata": {
        "colab": {
          "base_uri": "https://localhost:8080/"
        },
        "id": "CVA0qgQidyu-",
        "outputId": "6c50b20b-5519-48f4-faf4-1cbcb6d73fa6"
      },
      "execution_count": 14,
      "outputs": [
        {
          "output_type": "stream",
          "name": "stdout",
          "text": [
            "Pipeline을 통한 Logistic Regression의 예측 정확도는 0.704\n"
          ]
        }
      ]
    },
    {
      "cell_type": "markdown",
      "source": [
        "- `GridSearchCV`는 `Pipeline`을 입력받아 피처 벡터화와 머신러닝 알고리즘의 하이퍼 파라미터를 동시에 최적화\n",
        "- 파라미터는 `__`로 구별 (`'tfidf_vect__ngram_range'` 등)\n",
        "- 많은 파라미터 튜닝 시 시간이 오래 걸림 (예: 81번 학습에 24분 소요)"
      ],
      "metadata": {
        "id": "5Z6BRHM6feFm"
      }
    },
    {
      "cell_type": "code",
      "source": [
        "from sklearn.pipeline import Pipeline\n",
        "from sklearn.model_selection import GridSearchCV\n",
        "from sklearn.linear_model import LogisticRegression\n",
        "from sklearn.feature_extraction.text import TfidfVectorizer\n",
        "from sklearn.metrics import accuracy_score\n",
        "\n",
        "# Pipeline 객체 생성\n",
        "pipeline = Pipeline([\n",
        "    ('tfidf_vect', TfidfVectorizer(stop_words='english')),\n",
        "    ('lr_clf', LogisticRegression())\n",
        "])\n",
        "\n",
        "# 하이퍼 파라미터 설정\n",
        "params = {\n",
        "    'tfidf_vect__ngram_range': [(1, 1), (1, 2), (1, 3)],\n",
        "    'tfidf_vect__max_df': [100, 300, 700],\n",
        "    'lr_clf__C': [1, 5, 10]\n",
        "}\n",
        "\n",
        "# GridSearchCV 객체 생성 및 학습\n",
        "# grid_cv_pipe = GridSearchCV(pipeline, param_grid=params, cv=3, scoring='accuracy', verbose=1)\n",
        "# grid_cv_pipe.fit(X_train, y_train)\n",
        "\n",
        "# 최적 하이퍼 파라미터 출력\n",
        "# print(grid_cv_pipe.best_params_, grid_cv_pipe.best_score_)\n",
        "\n",
        "# 예측 및 정확도 평가\n",
        "# pred = grid_cv_pipe.predict(X_test)\n",
        "# print('Pipeline을 통한 Logistic Regression의 예측 정확도는 {0:.3f}'.format(accuracy_score(y_test, pred)))"
      ],
      "metadata": {
        "id": "5z_l-jwffgxU"
      },
      "execution_count": 17,
      "outputs": []
    },
    {
      "cell_type": "markdown",
      "source": [
        "![image.png](data:image/png;base64,iVBORw0KGgoAAAANSUhEUgAAAn4AAABZCAYAAACg5inHAAAAAXNSR0IArs4c6QAAAARnQU1BAACxjwv8YQUAAAAJcEhZcwAADsMAAA7DAcdvqGQAAP+lSURBVHheXJ13nG1Flbafqtp7n3M63HsBAZUgmHPOYRTjoIMK6owKYhgTYgLzGMDAOGYxiwmzkkFMgAKiCCZQwACSM1y4ubvP3ruqvj/eVfu0X/trud19zj4VVq31rneFcuuvvSqnvgcyGSAnMuC9J6VMygmcI/gAzkG2v2XwzhOCJ6WEd45MJudEzuCcAyBnqEIgpUTf9zjncN7TdR2hCnjvyTnbN3iv5+q99vk4nHf2+ZmUM6u/HA7v9R7nHHWoiDESU9TnOYfHgYO+j3RdjwOaUUMIFV3f6tl6AM6e42wdnPP0fUdv7/PBk8mklKhCIISKnBMpRo0jay1jjOSU8SHgbHyQiTmRch7G7Z0jpUSKiZwSznmqurb563XOa3yOTB8jwXucc+SUiCnT9z1VFYY5lHX1XvPPOWs8QBUq6rqm73tiTDgHznkceo33nhAqzTNn+q4npkTwgZwSOevf3ts6ALHvIUoOQgjUo4au7+n6DoDgtQYpJUIVwEHsIylnqqoihECfomQpeJz35JwgS4g84PCS05Q1lpxJ9nMRiZSSrbPtoXNANtHJVHWFw9GniLM9kuzY/pPJSa/t+54QAqEKJh6OruuIKVKZ7CZbj/Jv7z2Y/Dqn13vvcT7g7DykHDWeZGfOPt3hySlCdniv7zLWvu+p6wrvA13fkWKibhpyzjoTKZHJVEGviX3UuNHel/MYY7QzVc6x5lnXtU0/2/Mjo9HIzoGeoTkVOV59xmfnMaVEVQVi1GeEKhDjTL+EoH1r2x6A8WiM844cEzllyEiHkGfn0L6zc6SciLbHCekHnVRw3utcID3hMoSqwgF9369aB+kbexkZnRPvXflUUso4ssm4dIx0lJ6hc675eueoqkCKibZtbZ6m12xfnPdUlfSSnjXbg2yrk1ImeA8O7W9da0w507UdOWfqqiLbfEJV4Zwjxgg4qlATYy9dYecdMnVVU9f6W8oRcqaPWjfnPdH0svfe3gMxJcaTiX7X61xK7rWebduSMzRNQ0qaN0BVVXaeilyU85m0J94xakb0MdJHPdd5TwiyLyEEUox0fU9wjqqqtLd2doqejjkBHmwd3SodL7nxpKS5eNPhOIdzmltKkZwSOLR3SetSJDmEYOe3xXlHMF1HzvZs7VnOOh9Fv8WY8F56OBe9ZbqHDDH1kq2iz710Pzi8k+yV+aSUTF7Am+4tX0VuyCajGby38xEjOL0mhCB9luy8mrz3fQc5z3RxjISqAifZGj4jZ7zpLu2TcEHXSR6d07ilpnV6yvtSjHiTq5QBEikxyFEwXJBjous66rqWPKdik8rZn51Tci4LCqv2KaVEM2rouo5ka1KFQE6ZlZWpyZ5sZjm7bSeZ9SHo3JmMSV60D+Vzkp2nUAWqqiIXuxh7ybzTe2Rjsz7bPhO0rdL9kjmXpYdSEhbwzuF8GObnANtge7bspdbGMI33uGLfTUt5L5sTbE4pJWI/OwcxJaqqJrz9kDce7jzaIBuhR4LugwzDoNhSmXxtBl6TTSkNCmuYpU4fOWXqKtD3UcrBBhxCoBk1piRsIrahzunzKRNyUuDeexyQ0uwAVs6TU6bygcoEVMpBmy9DYOcp2wEEm5+9ftW8h4U0YxpjxDv7TFNswd4XvNeBNyHFDJ8Lttm2id4J/OaUAVOAWUq+riptug2xjDWbjJfDVYVAcAI+rgA6IEZtbPDeALMjeClQV4y2GbqcJUS1KdPyVdZJ++YGgB5WGzf7W/lch8YUDXx55whO++qLLGRbZyfFG0IBxdlep7GV9Z7tWZEH8FkAScsmQ+pd0Pudg4TWxNYueD8c+vJ5JkICufYaV+ZlQF2f7QZgI4WndfHe4+10aB0l7w5kQLKe61cBTUDzKCPLJmESE73f+0Gp5pxl6IpMpmQGR8KQs5Rh8HqGQ4pec5T8VcFk0//rWZIi0zolA7wyMpLRAmocbjCAlclPKEYZTLEYsPIyFmBGKgrEe1/moHlrb5PGiT7DlkfjrQTEJedeYNU7OTz22frZ1p6Z4+ecg2SOkXM4c0aLnijybzOVjJk+05kw2a88ssMCnynK4fiX968yxN55qlDJaBWl7QJ5cDxm46tMF6QUtdduBj69Gf+2bamryv4mRzBGOQemEYix13hD0DoaaJdOkVrpY8QPsoWBS515nBmdnMjO5ldk2BwX74MMHFmOn4FOnIBKkaUYI2Q5wNJ94Owcj5qaqq7ISWcyZzkCRSdUVTUYQ+kcnbO6kU3JKWEYbSa73uZtfx/OZgEGtv/FyU0G4EQWQC4CIJHEDw5btv2RviSb3BkALW+uq1qy7zx1NSqW4l9kuVjP2AvYS29Idgag58zOep27nJIcjuH1RRcBGFhmBrg0tzSAYVKydZHcyVZqsjnJzgRv8mJKMJPIWcDQ+UyoyrP1mdg+au9m/5bp0d8xMBa8B2d2pZz7oleGU6CzI500A/h6pq1ZSnKGDchkjGwKFRgZsfq8eOdku1eBHzlYptdy1nwy9LGXE6Zh4L1shxvOmMai53g5ks6RnRkNkx+bucmJnDS9L+jb7HvRTdoNnR3tT6SPvRB4Nj1suMAb+dPUjclFpvKeyoBg0bnOYQAv64yYffCDzTS5GuyF6TmgamrJX6j0vne99dDDGwMf2GEJ3pOQJxSqIKAX5LnHlKhrHd7C/hShcs422fZbSknKNsYksNc0OuDFU0GTqUIYGCbvHM4EvQiPswnmrEUky7AGF6iCFFhOhTWQ0XTSSGBGHqSs6rpeZcyyaYRVYy6H2TzvlEw5rVJa+rezv5uyt3FjXiWmHL2BaDfMW4dAB0vjTjHiK0/TNJqjeeQhzARVgiZD6l3AO1NgBmBkvIuSXqUMsgmxHWDvPTHpMFGMuYFbPVMLEKOYJoFbGfe6qo3h1OckBy7oQFdBYyqHP6VEXdVUVW0yILYpmENBFiMke2z7UwZqB8QbiDM1q3XQCbCxC3BmO3B1XQsMrHpdVQc5LvbMnDMxRXLOYtEMLOiUF5mdATkTa/ubKcTCAqREjGLjZEgFKJxDxrOwf6sgSDn0ZW/Kvq1eQ3JGJLe90+vfmreNI+k95QPLucIUUt/PGOrylcxjrKog4GWKUO+RAg12RmKMpBiHvxfGQeOeyW0xos4MZjB2ZKYIE8EMQ1ljZ8ou2NmVYZwB45giztsaeqf3FQcrZ0KlsRf5kNGZAT/MGQA73jkbcxVxJi9aF2fMnu112W9TtJjM2cSHvxVnpuu6wbDlnGUwcDr39r7iGARzpLIBWC2Fxlk3NSlJl6yWN81ldpadrYVfBV5kgL10SAj4sEpmTfnr/YmMjJ03xtympfE7gUdypqoEZLWvct68gb4CFIvODt5T1405IpLfvu/JZOnash9OerDYAtB+Fd3iC0OF5uSNNckIkMk+mL4zoFebsaSsjQ7NIAOxGELtILY9+vcqmRoYway18V6Ego6WxpyT5DFrwSQHxRHKchjKOfA+GPi28z0Ikz6vOOcFIBc2CnNGBJY1rlDNztRq4Kc10Xr1A/NcUTda85wyVWWO0CDCAg0hBFyQnMop01gpjoPJjXM2FqfXaj7av2C2TedexMwgU3bGdfakW5ztKRbJy6siFc7AlvZC4xwiLQbWyyScreHgUNgZ7ftOxIwPMLBrkpOqrocI42xuBVNoHatQgbM1zQJ8ztm4/czZS0UPDE616Y0gXZ2d5EbCptflbGfbbLN0tXRDwUUpFWLDdId968zLtjnniOZE6jXSDd5IijhEsOQsaV21ft6bLAVPeNshbzxcCnkGjjJa7GBhhdWHv0zSe0/KkdgLUdd1ZQpVzxEDoMl676nqQF0XRkLoum2n9L0YCBe0cCmn4fBmM3Y5Q+x6MzwK4XhTItPpdOYt/X9f0T4fNObCdmBeLuZtFkNQDiAWdsm5KAdHMKOq0JItkikc5HCT0QGIOdPFSHZQ1TUueFamU3wICovG8uoylhlKL8q+CpUpm+JdZLyX5++cI1TyznMJR+VMCHYAg05btpBZThGcGCNvyqgYLwCHlFbbtmAgpAg0WXuAHUbnzEgX6ruuyHa4GA5yCcPNDri8Jnk6OUvAnTMDykwBx1iMswGrXBi7YphNURUMhDSBzLfARuzlPWoOekm08McAShDoc87Rx34AokVxrdIzYrptXs7ATQFZzkmJ1nU9HO7yOc7LUCUL+UuuEpDEZjodzgLinROYm4GO2ZoGA7+i+gWWFO6rh7V0TsBC8zAWcgi7KAWjAAt503pGsr10yJPWnkiRZDNEZDlh/6LoCtArLK+BkIzGMOzvcGC0liFUVFVF33d6jYHUGPuBJfHFoNqX1quc4aKD9O2c2JVY1rmAHRuIwIIpcdtDDCRWobAMhYFi0BdFp8QYh7H5wcn4/8CJGRmNWOkLrArpBjvT5UwKdMuBKvorJ4UG9QgZIEw3YMYjrpIv7wPBxhmqegbis9JccnGATJ4V1nNIzTvAEdMsBEbOeGQknfPkaGEmLGxl4VNnDqkPGrNCSzI62XRS0fv6WTpOc7FPNt0zjMQcgbJ+uaQSmdOZU8LZGMAMpKVheDOOvjzDO2KvsQzg2/QC6HyxyhiSIVm4XOygxjrYw8ImmZzLQJtTk53RYZKZulbou3xOCbPpvNij0Z4WB7u8t/y7yJkclZlTUuRAgErrWsBeZQBQX0UvGStsn+ecMWU2/3IWnJ1LPd5pf6tAXdX2t4QLUrjlOW4V8NQa2xkw21HOTjmnycK3RZ7/Zax2jktEK1v0o5wz7wV2khEJ2FrmLL1cWFos5J4sMumdp6qU0kRh64rtL+ttgHYAtWSaprGxQfDFqTTZzMayDwB/lT7E4cPsd2VNCpD2lu5R0jiapjFnOAsHFaBpe1zUebI0C+e05iJoZoBwWEpbbztE9izhtmAGLUXTH+9465sPT6tzCZwn2wcUL7bvLVfNyWjG2JGTmIAQZmhWlGwRYAGVIqzBQlrF0BTBqCyXLCG6N5phiDnJ+3RigXKyEKeTki5CK+HQBmoz9fcMZCcFrDko1ywb6CmKOgSFmopgFgCDU56bFl4o2nkpCOcMdZhg4lD+kZM1d84pjl5pHm3fS6F4T84Ct84OZ0oRkoDRDMBqDWPfUwWFQGLsweswOwuFpWEuMhghrPYUs5B9ENslgRQgyCU0jwE78x4GT9qYmBBqE2JEv68yjsWodCVPR1s+7Mfs/wWs+qg8Mu8VNG2qBuc8Xa+cpNryn1gVBna2BoOCFIYHJwpfgFl7Xw6F5uMsfDdjlLu+V36fl3Lx5rGmpJxJKUMdVmdKkyx5dV4MWFEw3uRlNlatSYoyds7WVWyEhi5KX4pH0Y6irFYBnKyUhRTtzJgXjYXpBJr0eYVRrqpKYBABKLC1iHHwLnOW0pNCU0h4Op3Stp3ABRbyGvJr7FlZXmYyVrkYa2fnaHi4KSsBVK15stySmOQYVlUg9om266VLzO47c0CUM2RsRrbw5KBcZ+kUlXnjJbeL4ehb6AYpTbFECqWFkpJhBk5KxQCpn4EDOR1mzExROtM3AsGF/RcQLeffVzqTlgWmkKvTvhVGzFlKSmHn67omo7QK5QjpuEgP2TxtrHWj/MuUZ/vvLTyIGb+clQPpzLmSg2XPcZLpbOEfb8ZRc5UDkI1hnj27IuPIWbo7VMoFzGC6tOSyGdNp+qiuKqpK+clFP6dccn/N8bffZzuvZZ2dGdqM5Hfm0BQnS4DTlZDnqlBgAaTSlSYHJqveyQkLXjq9qlaNIVpILGe6rh0+U+cv/MtcCkta/u2c5AyL0ETb20E/r4oEaY2li8CczKLOVgHHQf9nA3jMQEbOGW+pEMOaWbpM35nTZGtTQLizzy4gtvzsTE9oYALeIVRDukguhEMBNziJe2HKDESVz02DMy8A1XedGLggUCp9NSMCvDGeYiTNQTSdjzHfJdJT1jUEIzsykuGc6HtF/8T0lTSJHkrOo9kmHwIxRmEZZBuLHs0FiJZ5ZXNSUsZlnbOip4JFF4ocgvSH904MX9JZqwYywICwEVV1XaJfM9mOvcLAAu86i8InRbmJQCpjVe62vrQus7xaTBf6kl7lg52p4ixJD4W3H/qmw8uGueIp24ZjbEjO4F2g7wobo0UV+2Refs7khLzsrNwBMXQlXKMCiaLYkoGrjFHCXgqrssFSFAMOt+qAFsEqgl3XRntHhXC8eTkpJYIZ+piSEr3NO5FxkEAlo9qNHiAbIyW7KtXhvbecpsI6yhjYG6WoyPQJkiVdl9eUA1v5gFSqCYEBs2zAw5uyHwxOUVjZWc5DtvwMCVZMyZhDe61HJ3i14JiyIXtL8JUBx3m8M+UfI7l44WVKlhBeBYWdh8+M/YzBy8kchNmYirLF5EjzNA+khD1SIjiFiTClEkr+aJLj4GzgzsLPUlrm4ThHzJk+9Tjn6WMvxij2g/A7J0UmWU7ELI9Jh0IOQUyRPqrASMpA8qH1KN8zYFkoQGfgYWBTVoUns6UY5JyJfaLk/RSZ18omyBGyORO5eINyRmJM9L1AXcwZF5TUXYCEwqFOxSLOU9We4MW2O+f0/tiTkeIEc1LMmwbJgdaoGNQZvSkcVwyQhRELI+iU4jAYLGZMTfkqCrHM1xkrkXKiaUYELyYbB3WtOehzLd/J8mzKeZQHH5Vkb2EN7VHWahoD5kzvStco9zSb8c72nr7rIWVCVSuR2ukZOcloJzOA2JnPmYHNEiOk9BIp1XLOzGgUJTxkStuaOA3O4/D2/GxGt489bVuKTgQu+74nRYXGs7EZoM8ReAqUDEqvQciL957sHLHvJapAVTUKq1aemFoDfpZTaqyBt0Kqsp8S+CLjOtv2B0uxmdkGgYNIsGKxYNGcZMxkzgrPFuDlTS+IMZF+YxXoW71kOa96jZ2hbMBXOlWMX9FFmA/S9x3R0m+KsdbzpYdWy6p9ms6hF7Ap58EbWB/GZK9TpKWQHPqSA65zkw2kgJ5VQIEzm+kNBAzDMAMNDGdYb4aMAEJx7LAzW2xjTEmOsz5MJAdaDx8Eeqpavys6aHCiDGRJfmcMe2HNs/1N4yp6wsSjRGNWyT1ZMiPR0J6W0Goa7I4mJjnQmbePGPZU79d7nCRfe2TMFSUvruzHKgBqyyaf0MaqecvxxEArVszinKKHdV3rmWX9JQhD/nyM0ZxYgcx/EaEsuyzHPNmctD/OZEO6ZGbHcrLzbDal2Goy1E1l534WTq/qWp9bjmfZF8zpsM/F1jFG6TsM8Hpv9t/W2nsn4OcMiBWk3xuNXhCz9wGPGACQIklJTI1zs9yflDJ9J0XgXQZKJa95aSniB2bBGEWbcfCOcV1DTOROC56Q4c0RFUMMB93y2MyLGwTQDlTKymapQkVvidoCfFLcZd+GNRy+EzmXSrOKjGdufo75hXm6aIyEhQelVLQ+OSf6pBDJqK4ZNROWl5b0GVFGrHIeEqRYcrk8qe9sDOVgSkHGwrDaYUzJcuOqGfsTY2Q0mWMymeDIxL6XgCaBGAlApusSOZlnnqTUqtDg8MZQySgVQXWmHDMO0/OmWEuouQALYwfMcHgnmONcSbI35tCYm8n8hLbvGdUNHgFeLK8omTeoQ+UGo1MUZQjG1JUT55QGUMBE04xM/grjLJURbd0yCCgaraLflf/pOa6EcL0nxg7pkwLeZdCkSMzQYkrYRIchjJvlrTuPc/+aG6eDmsAlUhJgzdmRosYUYyTHzHg8GeYagipkU1JRVdd1gCP2BtjoSCkwbTsm44nG4DQzSanGImdIhSgxdcP5KZ57NPCg3+uzS0GBlKjmN8iqN8fOlPzsdWiuZgD88Dx7AVLWIXick5NZvHDvdRBzdkboFUdU7I/3YtOy5aDJUJnCtzMsgy0mejSZEOqKlCL9tBuYt7oe0cxN5LwaoOytaC2lzMp0pYgjMcYB+AULCTlt6qA4kgQDZ2fdY8DIHLScM94cPq1dIBGlU5KArQyPct30eMl/+XIG9FwBm3ZmLI2ILiaqumFhYY6cxLRkFHlo+6n0tQH62EeCg9qMsoyTmObiTGYLV8sOlupM6fuqEnMfS0GPyZdAcwmNF8dcTHnR0TKQM6cpRYs2rZKjEGRrip4fWAtLrhrAm+kOZwxHOYnBCl+ShdmKXStfxYYUWcn65XBevFNIDsTkUcCNy1CiW8WW2bmvm5qmrqVTBiNsoNqM8fC7AnZtDZzJi9MLyjSGs6QzoUINb9GzbM6Y3lLOsgEMy6OWrS3PUDTKryoKGmyp2bO+7weA4GyNczkItgZlTCHIWQ9ec0SjnB1ES6XQ2AVkKGzhKiAkGS9h87I3sz3910IaMWo5WlcJW6vYC5jpbJrTWUTE1kayJaaxMkcnW9V3sPeVlJxshJAmpc8oawTGsBswZZAnzU9yMosMFieirKNY8iL/+vZSlhq/U2SBAsadW6VYNZZsm6D/L/MdJmx6Wp/lBydEe+DMtoe3HfLGwyWM0KdExrF23TrG4xExizVLfSIlC0p52LjpdipLIGUIe4l5GI0mCl/UJXfG0XZahDoEnIXdcPJInQts2rSBUVPTrUwh5qGCEyej0fdS2sGoUCxxPli+BeZZYaDIORm0ckBVlQWjUUMVRLX2fc9oPJbqtlw6LbiMGr5m29IKX/rylzjxhOPZaacdudOd72RhDofDmERT7nUz4tzfns955/+Oa6+5mt1221WVoMlCKE4l7c5X/P3vf+eWW27ijnfa2fbKULopxWzAOycpCu13Aq/XSgY8xxx7LD/4wQ+p65qddryDCbYqjBi8dgGQ1RWl3hKUk5XVF5ZUAmntapKMQMpZQMEpBF8UeAjlc4qy1LcOgebrC+0fExdceCHOw8L8IjnOPK9k7EAJOapYxpi/AsZCJVOUzFMNHh8qUsyc+uMfc9xxxzI3mbDjTjsJKBYDZCBIIuNYXLOGUNWMx2OcJWyDo2kaFuYXCKFibm4O5yBFC4NmVZTikVIvLIjOmA71KmYGsKrj2hQFpghnCt17Rx87yJ6UxTxr7zxVPeKqq67huuuuZ6eddyJnAZHimDlTnNO21/N9D1TcftsmLrzwAu54x52HNizJWBFfDLw5KWJntOeVVdX2sbf5mMJPETckYFturHNMp1MDChaKNeWUkhl323+tkSl6y4OMMeEwDzRHVtoVMNBZjEcx5CmVsZgSDIEq1INDVEK32RiaZLmUZBmR5a7lp6edxt//9jf6tmOnHXck9tIF11x3HT/+6c+48sor2W3XOyul2M/acfS90li8JdnLYVoFSAYDp/84DYQcrSVT2W9ttv5rOXfgaLtE1Uju5ua2o6492cJQtbVHGU8m5FT2x9bT2O8UpauKHE67nqoZc97vf8/JJ51I7Dt2ufMuOAJLy8t0/ZRmVNI2BPy8U44gTvs6GBNbXz8YJs1NZ1FhfO/NAJnuwpjGMk7tiTFOxpAJQElXJAMxbggfmmG1cLh+L6fAFdBl582ZHXTOGMdVsihjtyqsH5UEX9ID9MzV57cw2xoZgzyJGcPkkaLvnCcagJYDUcmJtMpl58V8rWZfnOlrPWdm8It+Y7WzZGNINveiE5xTblY5gwJ+sllVpbBjTpYbv0o2C0B0GAC0uWVzHFZ/bhnjbK0tX84Igf//S3OY6Qu0LYM9dszy8lwBTfbSIhvO1lV6VXNNKYqltiihbIrtS9ZYY6/WMw5Hb62GqlDR1I05matAdQF5Bp695YiX45lTmb+dX5MPZw5AKKlSXmltmExkSgTSJu5MulcRS241W23zU+rZTM7KfmBpb505smFVS6BkqQurmewiB3LGbBz2+hAqqlr4qPwh27kMRp75jLBW5R1zkzl+dsaZPPd5z+f5//VCXvmq17Dfvvty8cUXKaevqrj2umu55wMfySmnnKpQaM44VxGjZ+Pmbdy+cRN4T8zKffF1TQI2btzMdHlK7ITOXVZS6oUX/pkHPfhhnH/+7+RlOSnLUNcK1bpM8AJPbgg9SUFlQ/vOBZLlY2HC6J1jNBoxP5njpBNPZP+XHMCTnrIXb3/Xe7nq2msITU3b9QIn5pVkSl4jhLrm60cfzc9//nPuetc9uemGG0mWA9S2Cln3fa/ChlDhcfz5ggs46utHc/AbDqZtVxRqsoTrlJUlN56b4/QzfskPfngsVdXovd7aWhhgw1gShSR75QmFSkwgnqoe86WjvspXv/Z1dt9tN265+Racr8AHqrohVJWUpvdUo0aC4RVm6qwXUGG9yr8hEZNChDH3+NoTmkBGLBFeoSnnHU1Ti35G/df6rreeCbOQct8rr6+PEXzgS1/+Gj/7+c80jyTwLybHcibNiEbrtyZwoP3tpi2pi4Ts8NlRBci955e/OIv/PeLDNE3F9TdcL2VmijpTWF45J9u2LfHJT3ya/fc/kNcd/GYuufgfpBjYsnmJ9/zPe3jd617PBz5wBG940yEc8b8f4eprrhNY9oG+75iuLEPuVRXpIVMKZrJVSoL3Fd414ALZJfo8JeZWidFOlap9TKTs6CN0MYv5dl5VqqFiMjfPqT/+KT889lhrdwTXXnMND3jQAznn17/COei7zlryuKH31hVXXMNHPvoJqtqzsrJEttCpcxBzT3aRlHuSy7QxMu20P8lAvSOSUkum1zxTRxUcOanoQk5JEqs9GhNWsYUCA2K0i6HSjkqpRduTqq7J3jHtOla6lq7vxMg7K04IFd6ZUXM9CXMAfKDrE0srHQnlnuYMXRdxaO1w6kQgYNQznU45/vgTOfTQt/LJT36Kum6kTFPmn1f8g2996zu86lWv4cIL/4wr3rb3LK5Zy/EnnMRjHvM4Nty+gToojO5DTc7FQQJfVZJ3Y0+cc/gqiIm2sxRjr/Czk3PQdS0r7ZTR3IQL/vwXDjr49Rx44IGceOLJxJjJ2dH1ibn5RX7yk5/x/WOOo+/NCCInNyaBSh8qsvN0OTJZWOR3f/wzrzn4IG7bsIFLLr6Eum5k9HzgOc/dl0984lPUVaP8UTxdzLQx4SxPLsfSN88BYvVLHqh0XdQYrWdoMehy8FblfNn5bZqGYBW8bhWT4y2KUeSmqiqa0dhytrS2sY8zoJMFEtq2M3bMG/AtIGPWeaHo5DIGhTUtrcg+P1mlOgZ+ZD9mLHf5ikm9J70XGB2AiulzpVFkEQUWcWnblVnBkrMIgUWcQhBrOaAfAHN0sxViOWPWMVtWQAgDWFKBStvNUqYcpavB7LOcFJTsYTZwYcx638vmrT6n2cKIAgWyrc5AcXEAMtp3gSJFAzAwJWAjcOMGZ32WJ5htTJbwoGUzoBnL+vhZeF1Mn+VNGlMqL0MFp3Ujm5Ytj6+uLNWgMiLCFnNmVwTkgkVuUoYY8xCJLPpJsqn/Csg7tTKCgektTOAM3unfSuOayaK3QqgYe1IvmRv2cxXjmqKAbi4M7rBexozKXxjem82x9Za7LALDchdNVkrFuIZdgGzZXwO1dVULNKREMxpxxtm/ZuOWrbzmoIN4xX+/goNf9zp23nlnC0sl7rzLrvzg21/jcU94Aill+pjxvmF+YR1f/drRHP2tbzOeU6hq2nVM25aEY9/9nsfNN91M7hOjusE5Ke677HE3jjzys9zn3vcFIGXI3pGswfL222+vHk9BgKMIy3g8sc+PhnxVlFI3DRnUaLePdG1L3/W8/g0H84lPfYrtd7gjL/jP/2LDxo1qwNj3ZlwsX8A5pm1LTInzzv8d73jnO3ndQQex15P3spCEDszi4iKTyRwpO0Jd07Udb3jdwXz5K1+naeQZkhLZwk5LKytM5ufoUxTQrhv6mOn7TKgb1m23Pdtvv8PQNLXtWhKqpiohS+9rujbiXMWFF/yFN7/xEA5+3cE87wX/SdU0YltjZDyesLh2LdkaDuOtFYIpwa7rdHgs/1GMUyKnSJ96OitGSVlNgtdtt27VAYeVlZacMmvWrKWqGiXY4mcVbs5TNTWTuTmy11whsN126wh1QzOe2B5brmYRTmvP0NRiglNSuHoymYj5yI7UR4EwKs4+6xz23/+FHHb4YTx7n310CK3pal7lvYZQcfbZv+L22zfyuoPfxAMe8BBe9OIDWX/r7dRVw1Of/FSe8Pgn8tCHP4IHP+ThfOlLR5Gzw4eaYM1vpdw7cxGlKWPslTpXGAFfkbOnacYsLi4yNz+mj53W08JxGc/imnU0zTw4ARaMfRuNJ4zGExbWriNY1WtMHTvseAfefMih7L77HnRtOws5VoG6HlM1NRnPwvwioTI2JmndRpMxXd+aA6Hzcd7v/8hBr38DK8vL5NSD5TQ667M2Nz8BMn0/lRPlleTejEasXbvGes4FY4CNHTBlX1mFoTzlamCuzZ6RgJ+fcRpvfdvbwEkmfSXnJ0YYz81T1TV96sFZdCA7ti1PedMhb+Xqa6+jt1xIzDHIOCbz8zTNaEjcX7tmLSeeeAKvfe2rxXoGee197HjCEx7Dz08/nfvf/4HcdONN1JbAD5lp2/GYxzyel7/8v5mbTCwPFxxK/Sj9+tq2BxcAYwlj0j56h6vkMMXY07U6K01T4z0srlnk7HPO4b9f/Woe+7jH8vKXv5wvfvFLfPWr32A0muB9xWHv/wAvfeWr+eGxxxPqhul0CkBVFwNXy2EMgTCqic7xq1//ln33fS4f+chHeNnLXk5KmaWVFfCOV/z3q3jEIx5NSgJLKUNygV/+6je87R3vJMZojW8Vcl9eWaaqKhYW5/He03Uy+MrBlaFzFjbEwEoBd97yd51XBCiXfLE0A8jlKyVjR804p2QgN4gZqUoxmOn3lNSAv4BQgSYZ22zG1tuBdOb4gYXuChOJo651pjHGKMZI7MTINnVD0zQ4rJLYDHDf9axMp6QoMBiTbEuycGWwXEaRDrPwmoy1OWElNcp+pzkbIDAQVcBxYdJSmgFH7xVFAwGpYE6JWvBoX0KorBrXE3sLS3eRvutk60puZ2HhbO0zilQIUAllOQNPheEtIXxnOX4FRBewU9adwfGzcVqh2GpAHoLye8v8nLMMeMt5FD4qQLIUBWkNgoWZRVg4ESbOUmYMxK0GZkX34CCb8zIAI2vWnoS2yBbF0d8FzEqKDGQryhsePftyIlY0Vp2L4FUZ3YxG1sZOqQ3lHMQ+knrLZUwq0AlWbJqLU5MsN9J0bN00Q11D23X03axoNSX1800pMZ1OZw67FcmWvc0547Ml+KeUaFPGVw2777wLT3zoo3jE/R/IXk98ImvXrqHrplxxxRWcf/4F7LTznVhcM0/dVNTNiG3LU5bbjg2bN7Nx00ZSztx6662sLK+w0nZs2TZlaWWFG266iS5Gti1tox41XHv99fzjH5fxkAc/DO8q5bxnz1VXXs9Nt9zCz39+Goce+g6uvPIGqmZCn6Bqxvzzymv49Oc+zyV//xsrbcutt91OqCpGo5EUdVZvtb5tqVzgBS94AQ976MN5wAMexGHvew/rdtiJP/3xQkbNCIf6ATnvSChnaaVr2bq0zNLKMl3fs2HjBlJO9DlDCFx3/fW84x3v5Dvf+y5d7MnJUfmKftqydesWti4vk/qWrl22PJiK22+/lcPedxinnf4L2hgJVUPfJ3yo+P0f/shb3/Y23vmud3HBhReQzdNMOdmYzLvF0cdMyp4tW5bwwbO0tMzmzVtYWp4S6pqrr7mWN775EL501FfV6iO23HLLLfzt0su45dZbCVXNL355Jt/57ne56eabSZaHmTM0dUPwNb4eiWFZbjnh+JP4+Mc/xdYtS0NVsMPz41N/wnv+5z2c8qMfMRnP0bYtK13HaH6OG2+5ma8d/Q0+eeSnufSfl1PVY5pmQjvt+enPf8xRX/saPtS27gotd11P23YCojnTk2nm5rn0yiv50P8ewS9+9Sti5YhEpiuR0fwit96+QZ+7vETXdYxGjRQEjr7rBoPVTlfY5z+exfvffzgPeehDeeWrXs2DH/wgTj7lJHbYfh1PeMLjeMbTn8qT9tqLhcVFHvaIh7P7Xfag6zu6Th78eDSiqWrquiH2mboec+v62/nOd77H8cefxNVXXwNAjB2/+93vOOzwD3L00d9h06Yl2q5j69Zltm5dYv3tt3LY4R/gV+f8lmpU45saFyo2bd7KUV/5Kj/52WmstB1tJ4/6mmuu4dqbbmCffZ7LTjvdkboa0XfKDe1z4tgTj+eHx54AJr/JWnBcdcXVfOpTn+Gzn/0CmzZvs7CemKvNW1a49vobmV9cS9tllpa30YzmwTWc9atzOepr3+Lyq66jbhZoI1TNhGtvuIEvfumLfOrTn+KcX59D27YC7dLacrqsim0A82aMa7slZsu2bfiqYmk65cprrme77XcQ6AuBabdCPar50ak/4vs/PJaNm5YIoSEmOUBzi2u58OK/kJwTmI0doVJ18qk//jEf/r+PcP7vFTXo2w5HZsvmLax00LZT2umU2Cdi7Eg5sWXLViaTCdttvz0rK1PJSddx4403kfG89KWvoKkbumlH3yVuvXUj0+kKF1z4J37845/SdcqFrpuGhblFbt+whbPO+S2btm5j2/IyXR9p6pq58YTKe7p2StdPCXXgZ6f9lOe/4D854IADeczjHs0RRxzBySedhPee0077KZu2bOYDR/wvVSMj4p3OXdf2yn/MAkBtH1lpO0LdsGHzJnbYcUe6XiB0y5atrEynXHHlVTzhCU/gUY96jAyj3ZJQNQ1dhov++jfG4wWa8UgV+oxoJguc/atz+NKXj+K8355HO9XNB4XtyjkL0Ga11yjGPkWl1sQoUCSnWka4sjSFtu2M7ZAhijaewfCaPPV9ZDqVPhDrZ7mglrsk26vG6t5Xw2uC9WNrmpEAgrEpdW05lAYMGICd0lIqazVWGMNgN1L1XUc7ndpNFxozGZzd2FGFynoYan6N9TPEihgUCdD8h44LgsIzMFEMd2F0rAOCHChLmUpyNqugqmlnIft22pJ65eE7bA96hQNLEUTOyncfNUoByYUtBbVpsrSeIWIWAjFF7VXWXsWoPFS1wGIAo/YQsVjGZHXTlpSyxllyBw3wkVWIEXvrV2cV5l3biUDImqOc/1l0r4BFRajyKqCsb42ipMMot7AMDeSvy0Ezhi2ZHDnHqFE0IA2V4opueQO9yfLjJDsFjAqcOyNTYj9j7sqYe7sZK/bqf6xxqKhzVDeMm5Hts2QvWPpaHRSx6ywimUqKh7HOzlhossCv9wXDCDCX9JDCoAs/KN3C25oO2ZpakCyvtmlYuMP2VJMxC4uL1KFiYWGOyy67jM9//iie8e/78OOfnGox78Dvfv9HnrnPPpx0yo845thj2WuvJ/H1r30Nh+NDH/xfnv+CF3LLbbdy6FsPZZ/n7Muvzz0XHBx3wgl8+tOf4Tn77sumDZto6hHB1fzo1J/zhCf8G8cceyzej3npKw7iT3++iC47zj3vj7zytQdz5bXX8YkjP81DH/FwfnPub9Q6xRoOZ/M82+mUdrpC17YszC8yHs/z89N/yo3X38B97nlflrct28YJYMWcmMxN+MEPf8gz/+M/+PPFF/OOd76Dpz3jaRzx4f9lNDfh9F/+khf81wtp6oaTTv0xBxz4crpWIKNrdT1XPW5wOVMHgZrLL7+WfZ6zDwvzcxx73PF87gtfoBlNqOsRJ5xwEocceih3vvMuzM3NcfEll0iorZLXKVJJVanv12mn/YJ///f/4M9/vojDDzuMJz95Lz74wQ+SgfN+93v2fd7zqUdjTv3JTzno4NezMKq48qqreNXrDuK1r3sdr3n1a/nhMcdx6o9/zCmnnmLer/IpYp9JyeFdQx8DLz3wvzn7nHO54vKr+fdnPIvLLvs749GYn/3sNL71zW+xsLDA937wPQ5+/eup6oa5xTWc/otf8rz/+k8u+POFXH3ddfzpggto+57xaMLr3/AWTjrlZM7//R/4j//YhxtuuEFd5O0Qk5WX16dEPRnzre9/j5e8/BUsdVPe9b7DeO8H30/2ifPP+xNPfPJTOOtXv+Lob3yD/fbdj7cccgjbtm6zpNri+UvBegfLK0tsW9rGysoyXWzZuHkT261bSztdJsWWvp9S14FvfvtbPHff/Qh2+KK1ookWHiI56maOE0/6Efvu+3zOO/8PnPPr3/KnC/5CCIG//+MSPvnpT9HHzOmnn81/v/K14DxXX3MDz3nOfhz6lrewacs23vO+D/Dt73ybPvbccOMtPP8//4vf//FPfO8HP+D/PvYxtt9xR5qq4Ve/+hWHvP0dPPKRj+V3v/sj49EEMnR9x4sOOIATTzmFP17wF171mlcKWISaf15+Oe985/9w7TU38JeL/sorXvkalpam3HzTrez3vP/iPe/7EBdf8nf2fuY+vOmNb+WW9esZjRd50yFv57Nf+AoX/+0yXnjAy/j9BRcxnqzh4kv+zv77H8ill17Kbbffxpln/pJpO5Wxz0oVcZZnJyUthT54mObVX3XV1bxw/xfzsU9+gosvuYjnveAFvOagg9i2tETT1LzkpQfw2c99ljPP+jXPeta+/OPSy8m55z3v/R+e85z9uO6G63jjIW/k2c/Zh3PPO5fJZMxxxx3HMcccQ9t1vOtd/8NnjjySyWRMuzJVj7t6Xl5yZX1G6VlZmcphmE51faM1eM3A+w5/P/vu+3we92//xqZNm8gpMRnPceSRn+fxj388n/385zjhhJN43vNfyJZtW0kJjjn2OP7zP1/ECSedyitf8zqe/NSncfOttyifRzQb5ExVB9quZa+nPpmfn3YGt922gaYJfOlLX+Rpz3gGAI977KM58rOfIVcNOUfqplYKhnn+KanFRIoqnPjNb87lOc/dlzPO+AVf+OKX2O95z+e9730foa658qqrefkr/puHPuLRfOmLR1FXAkM33ngTL335K/j0Zz/HxX/9Bwe85OW8+ZBD2LqyQp9rXvqKV/Hlr36Ny/55Od//wQ+49NJLxYIZG+J9yeuLTKcr9Kvy+xzKrSrjdRYWjJanFCwHOSXlYmcrwhKacPR2XVu2Br7eep/WFiUCy78z4CVYOQNkfddLF3eq8hezopZQPgTqRmCkpJS4VeyKXm/hsWJkjc1v6kapSGa8AbuuzVvXBNNfpbDFQOVARFjoWAERISflzhqKylmpTKsKiGaM8awNh8BoT9/Z1W/GqA1sp4VtvaUZOcu/FvtUMWoanOAA5FXFNtabcQDG1gJtCO/aWS7hZJzScpTmIxbMYUUmFs5Pq4GWrTUlDxDpjGDgr+iMAcBa3p4rlbbOCu1s/Qvbm1EuZ9/3FuXr6bp25pgavhFrpyeU52EMabY8a43J0mOiWqzo9xZatRYwwdhX72Wc9Z4ZSE0mC3r+LA9eueezkLvW3b7svZQG4k4FbgVMC5xbmhy6KrHIibfcQXXKsLQEY6rt0TJd1t0ipYTbeMM1uYsJUsdk3Y6847Aj+NbXvsQjH/og1i7Ok2PHe979Hu50pzvR1GPmF+/EIx7/CF7xiv145UtfztZNHa6qqeoF3v6Ot1IHePf/vB2XI1VVszJNbOsr9tnnSXzpyE/zgPs8mJVuiXo8YnHNDqxMM8999rP51Mf/l/vf955kGj72ic9zyo+P4exf/ZLg1/J///dxct7I2975Hp70pCfzoQ8eztOe9lRuXb+eJz/pibz/ve/lyXvthQulAkw9p7CcjJgzR3zkI5zxyzO59uprOO2np3Hve96TbmWJUKklSJ96mqYmpsiWrUtQz/Hi/V/CGw9+LY965ENISazDM/Z+Jm9/85t58X++gJXseNrTns5b3vAGnr7XU1haXuGym2/m2fs9mb/86jzmmgnj7XZk/5ccxIMeeEfe/Y73sJLHPPmpT+cxD38oHzj8vbz4xS/msY99DO9573vYtGkDVfBs3rzZrhISgC27l5Jj61JHaCYcsP+LeMXLD+CJ//Y4VrqO7e+wM8959j688hUvY//996fPnkc9+jF88J1v5in//hz+esVVPP7xj+XjH/gAb3jjG5i2K2zesomqkkKgl6eYfUU9WeD/PvpRbrjuBr7xta9STca8++1v57obL+ULn/sqN964nj1234VqPGLrygoPuPd9+PGPf0LMmWc/59l89jOf5ilPeSKxS7TTFufGvOXQdzC3mPn0kR8Bt5Z9/mMfHvnw+3HQq15JXU+IWbkabbsELrBp25R9nvtsvnLUF3j8Yx/DVdfczJOe+kS++/Uvco/dHsjtKfK2Q9/MPfe8E284+LWsLLdsv90OVKE2j1TMQcqJvu8sNNowmixw+hln8PrXHcRZZ5zO2jULeJ+pmhEX/e0yXvWa13LyCcexbnHeDqBujkh9q8NbT7ji6uvZ97nP4bjjvseDHnA/wDNtO1amyyyvLLPbrrsRxouQ4elPfTKvfe0rucfd7s8jH/NITjj+2zz1Kc/i5z8/k/e87xDO+MVZvPbVr2fHO6zhyCM/TaLiqc/Ym3vf/e587EOH0eeebjTPv+/1dN52yCHs88yn0/cdX/nGN/nFmb/gpFOOJ7gF3vPud/OHP/6Gb3/zmywvtaxds4ad73gn3GTM3k99Gk97yhN40Qv/k81LHaf98rd87nMf47tHf53GzXGHO85zxhnn8cWjjuKnP/8J69at48tf+ALf+ebXOfVHP+bt73gnV199FT/56al03ZR+2rF5w0bq8Yhk4bng1QonJfVswxTo4FilzLRr2bw05dSf/Ywffv+7HP31r5D7yI533IVjjjmOk086lh+dfAKhWuCID3+Mv11yIUcf/TluuHE969e3HPiKF/GJT3ySPXe/EwvjCfPjeW7fsIld99iThe3W8feLL+K/nvc8fvKjU2jmxjSTMYf/31Fc/rez+c5Xj6abehJbWO57RnN35GlPfTIHv+YV7PfcfcgepUb0niuvuoGDXvsqTj7+B+y4w3Ykxrz73R/iDxf8kp//7BTm53Zi72c+l33+Yy+e9/wX8tQnPYWvfuXLPOrf/o1Tf/ozXvKSF3LqCT/kXve4Nx6Fe8g9fepocUzWbsfnP/8FvnX00cyPR9z33vfl85/7PNPpMp6OZnEdnz3qm/zshO/z85/+hOWtWwjO46oa5wQmY98TmprNSxuZdp6Pf+zzLK6refkB+1OHinVr1tKR2W6HO/DmNx9K10751Ec/wtLSVlLObFxa4Ywzf8Xnj/w03/r61xiNHLvdZU8u+etVHHjgi/jrXy9iYW7Clg0bFNJU8q61XjKja0VyDMBMRtobc5etul9RD2MfzOBj1cF56Gmm12bLfQpBzXedXSHpS1uQwvYM4KHkcglAZpNH6X6FZAWc5IiAmB6BGI3LGTCSFTaQY2E+Z/mfOclwCniqmCSWsKlX0UsBa2VMCqDKMAt0CKjhxDamLBAXhj5sWjub2NAZomlG0kGrCiCykRsYi6maBgvhWoFBdtB1rQBgAVAoFabvlTsuUFLYr9ldzVWlavjpdGq3SWn82fLL3Kp9LaF9m25RvbYmqwAjVpxnugEDcYW9E1s3C0c6y79zFpbO/7KWFgY1GcjWvUF5lJJN/XdV6Nf0kf1B62XrmvLsWlJHAewmZ07jLGF2PbrsuIEzm7PWWeA2WyGdnB4xy0qXUDFdYZqd5QMm66BS1iAVlq/IWJa81XWN834I59a1omcCwjbvoeBQcqFUDK2Zc84Yv5zIoaInM13ewn3udS/e8uZDeekBL2X//V/CmrVrcc4x7Vtu33SbVTNFYtdTV57KTZnUgcXJmIXJmPnRWHlZITDxNeN6xNykYW5uzPz8Igvz83ignU5xObNtaessLl4HJpMJD33Yg3G5p22n7HTnO3HLDddxy/r1bNh0O3fdbUc23HI9dbXA/e5zfzbefhuL85PBm8TJc0xZtKgPFc94xjP40Ic+xL777cvHPvEx2nZF+RiiPalw+JQZucDCaMJ8M2JS1ayZzLHYjFk7v4arr7gGlxwPf9hDuO22m4jZ8ZjHP5HTTj+N8agi1CNCqOjSlH6acDGwceMmLvvnlTz2cY9j65b1QOLfnvgkxmN5sIceegjf+8EPeNGL9+eqa65j2iexKEmSVBRXij2ezOLCAlUIjMdj6qpmNB6xbvu1bNqyxPXXX89T9noCG9ffgsez11P/nXN+81uqKrBhwxZ222U3nvPsZ7F580aWl5ZoqprglIQbk8LcCUc9GnPGGWfQTDxHf/frfPlLX+C2TVu4+G+XMe0Tk4U1HPaBD/DMZz2TA172KpZWlqkqzx//9EcWFxd50hP/jdtuuZXlrZvJXcukrgjecd/73gfXTenajrvd695cftXVrFlcJFoCeU49TXDM1Q1X/u1ydly7lnvssSsbb13PDuvuwG677cJf/nIh880cO+24lqoZMW7G7LT9duyw3fbWI+5fE2m97X9KCkUur6zwvve9j/f8z7vZeaedTOnWjMfzHHPMMTz2MY/ijjvvPEtExpOjAwI+NIR6wmmnn8V97/cA7nuve7K0ZSObNm1kaTol4akmi3zt699gv7335gUvOIBL/nox05Up02nHPe56V+59n3tz8803cYfttmPb5q0sb17m5utvYJ9n/TvLWzbQLW/jyU94EqOqJseO1PW0K5GUo/Vny1TViPPP/wMv3OfZTDcusW3zJh732EcxnS7RxY7ttt+Rs845k/1e8Dz2e85+/OWii7jttltZu2aOHXfYjjus24G5sWPd2jHbrduO+flFTjzhZCbjMScdfwxf/fIXueGaa7jyqitYf8t1HPzaV3HLLTfx3H2fx6/PPY+u72iaQD9dIQAhZWLXWqFOCSv0JPO4JV+ZcXDssG4diwtrqauKXe6wIztvt4bJ3CK/OPNc9n32vsR2mfW33Mi+z30Of7rgAm688SbWrlnLrnfehVHdsN3CPHdYuz0Lk3mcC9TNmA//38f5j32ew5sOfSvTrmfa9wSfaSqo3ITKZ3CJnD1Y24uUMuPRmO3WriPGqCq3lBg3NZNxgw+O2LfWuiizYeMmXvziF1L5wPJyx13vcXe2bdrA5Vdcw+LiWna703Zsuu16HvTgB3O3PXZnYX6OucmIqmrEKGRHTI7xaI4r/nkl5/32fPZ+xt687MCXcfPNN3POb36tRtBOydlVHRiNxoBXMj8yQN5Ch01dUTnH4mTCztvfgZA8Y+fZY7ed2GndOjyOOjjIkcqNmJ+bUI9qqsozGY/ZZec7sdP2d+COd9iRe+65B7vd8c7UeO57jz140hMexxP/7Ql897vfxZnjjBntPqo4jFW5UM6pyK+EOFfnqTk3Y4FAIepyLguYUPhTqbPeQXDgUsZFFX+lXrnYJTctR6XyCDBY+M1y67yFR0Mobb70+dlAarT0hBACzoy7M3CnHoBW7FEAhTFU0sMWlpVhEWNpYdMcjekZGKygqv3ocK4CAjE6+j4T+2xsofLWBhRkoCJnARXvK0Jo8E7Nzwtgquy++IwiEjmrQCpny5HHkbIzJtKTsyfj7fIA5Xj6UDo9GEgtOWJhVi1fwquGHWxPtWYDYLb9LwCvrB+oC0iwRsY+GAgfmpDruQqjCuQUtrS8rgA7skXAyHbPcFY0zM6C9yrwKqF0v+rKu+E5lltZCi46a0IuwNULVmpzhUNW3XueLb+1pBponnqvnlnGKiA5zL+AYYtk6dwYY2igvYBHaXb9W2dMcir5VOTQe5NlrNl4ac9iYWidJz3RFbbP9gkLSTsLIXqFEXpVG6aESx13u+ue7PWkJ/LUpzyFpz31aYzH6ofldSLpY2+L4lEZRqTvWibjMaNRw8LCgvkRjtyp6mnrtq3Mz02I9t7ReIzHMV1eYdQ09LGjT71yRFLEeSWX921L13Vs2bKJ+cVFxpM5pitbCS7TNHNMl6ek2BFjp2UzSlmHUN3sM5lHPOIRPPYxj+YLX/gCV159JT/68Y9IKdF2LS6rKWRwHpegcoHKOXzOjOqapqpxCUbViIW5edYsLpKzQuMry1M2b97ItFuh7Tti7FlYXENVjah8RYw9zWjE9ttvR4o9bTdlNBkrVEbmEY94OL/85S9Zu247/n3vZ/Kd736fZjRW8UU2zzBFC69I8CeTiTx+75kbjxiNK7ZtW7Iii0xdBWLfMz8/T85SaN4H7rLbXZifn5Nnk0xLoIRXshRdFQLLy0ts3LyR62+4lrPO/gVnnHkGK9MVXviiF9HlzMFvfAN/vPCPvP4Nr+c97zuc3Xbfna7v2Lhxk+REp4zUJ4Jz9O2UpaUt9H3H8tI2pivLJBKd9THUnsk7JSs/Zf2t6/E5MzduyDESnJKWb7r5RoVEfKZtW7xVYtV1zXQ6NY95yKKZHTiUX3TggS/hqU95Mi/6r/9kZXlFSrpqWH/bbfz8Zz/jJS9+EbHvGY9HoubtQIVS6NE0bNy8ZZYL0nVSHjFSjyf838c+wRe+dBQvfvGLefe738sDHng/+igWbDwZW6gk04x0bRk507cdi3PzrKws0XVTFufmCJYb553DJQSqvKPtWvqUmHY9261ZJHcKEVVVYGFxkdFkzBePOoq3vfMdPOvZ/8EHP3QED3zQg8k5006XmYxH1qS8JwRd4+XMON54/Q38/Gc/5vhjj+Xqq67igBc9D8jc6Y47c/JJJ/Hghz6MA176Cj7woSPo+5amCqjLvsLg0a41q6qZ110McwiB1E4hiQUWuxOpLTewbzPbrdmebDd91E3FtqVtZgRhZXkJl2HcjGhCBRmWl6e8/vVv5LJ/XsYb3vAmDjv8A2y/446MxhPl7KbI0pZtMpbB01orJpxnadtWlpaWWJlOGY/HUtCW76yiGmvGbR704uLiwHatTFvqesS4qdmytISvAgtzY6Yr25i2HePRiBwjXdvZ5emePgp4pgSHHvIWHv3IR/HhDx3Ba17zWt77vsN4xzvewZYtW8mIoaYkzDuoRyPlEcUog5WTHO/YUQXPuKqZH02YH4/xJDxQWy/VGFWUMG2ntO0U7z11FcTegap5vWNUN/RtS9+t8IXPf5bXHfRa3n/44fzXi17MtqVlM3xlf5Vj5rynaWrqSrYhxl5N+odGvIXtlV5aDQKc0/4olGiMVUE95jj0XUfftqQo/VdOtQCAZMv4InJWAVuwnLEC+AbwVnLVDGBojE4tskoXBQMi0YrpCiBLUXnNlaUL6JeF7TOGxhgoMU5qR1S+FOosbJSYsmgVq6NmjLPWYBhjU8BmAc9ljm2rFIVk4+s6FY4VYD3oO2v6HEtbMBA4yFqX2irzq1r6J5YuD4XN8562ben7zkL8Ag4+BEKlBunld+W/5SsZWxt8oI/Rxqu1FoOlPY9RHTLAimGM3eujGpgPjruBcmegNxtTG2M3tOrCun2EkptojCZob4sMlrQimAFZTE+BQKSzkG6MPdO2pet6KwAqwFvAUsyeHI0C9DQ/cwBAjkH5MGwN7XehqqwKWWuWBtwj8FhmVoqgk+2R1q+TQ7oq11Hy1CvX0NY722wHLGY3I8lBKvchZvAp4WIkTqf0bcfWLVvorfdV23aMRmO2234NVRWYjNawuGY78IGYawgVt6y/DaqaFkfygew9jCuq2uFdTajHdLkjeUfb9YS6Zu26dUy7ltH8HKP5CTFHutgyGY2VAOodwcGa7XZgbjxibrzAJZdezfZ32pWb1t/C7//8J7bbYR3OKYlb7QpgMlGD1gwsLCzKK/CedrrCdHmJxcWFoWq2z4meTHTQA9idlgTHeG5CdjKQd9hxe267/TYuu/QKJpN1TMYjbrzuWh7/2MfT9pmFNYvMjUdsvH2J7XbckWZcscO6taxdN8e5v/ktC2t2YM2aNfzu/HOZn5/TJsbIaDTiox/9CKecdDJHfupT3HLzzUbVzm70qMpl9LVyBMajMU1dQ04sb9vCne+4MzvuuBM3r78dV49Ys2aRC//0e+55r3sTQsXcpGZ5eSuTuQVCqGmqRhVO0fI7LE/AuUwdHPe6x93Z++l7853vfJ+vf+XLHPXlz/DmN72Jf/ztEs4883SO/OxneOjDH0ZVJa648gqWl6fc77735ap/XsFVV1/DeDxHdgqvTvsOX6tKOztPdlkJtVUlBqapCJWnGY2IeDoyd7333bn+ttvZOs0kpwvFN23cxIMf+GCS6wnOs8O6RebmxtTNmJxhPJ4MXuqQnB17qlAxv7DIf7/yley40x340Ac/QM5id5yZyrPP+TXbbbeWBz/oAeTY0XVTco5UtaOqMs5HnE+k1PLIhz+QP198AZu3LeFHEzK6y3lp6xa+9c1v8IUvfYEnP/1pbLd2jsv/eRU5Q9svszJdZjSSjE+7ZfqYWLPdGnbYeQcuvPgS6vEivhpx/h//wNblJSIeVzfMzY9IztHnzOKadWTgHne/Kz8560yqxTnGC/NcdsUVtBHm12zHsccfy/s/+AGeu9/zueOd78yWbdtwzjM3t0A77fChYTRaQwgjfMjk3HGfe9+TvZ70RL5/zHF859vf5nNf+iLvePfh1KM5nAtUVcOhb307Z5/za0485WR+d8Ef0fWdji5nRpMJi2vWmLaaeePO9F5TB/x4AkF3VNajEdSBVDVMl5fYY487ct4fzqNq5qnHEy775z+54847MxnNSTcFMRClenbt9ttz1q/P4Z/XXMFXvvoFHvrgB7N54yZuu/12Nm/bRp899Wie7dZN8GFEGI3wFeAr5ubWst0O61hcu8DC2kV8VdP1PaPRROB+NGIyN2Fx3TpVCoeKleVlNm7YrDajSQbtxts38KAH3o9/XPp3brh9E7vscQ+uv+F6Lr/6Wto+gnf0SZXZGCu1aeNG1t9yM09+4pNYWlpm29Yl7n//BxKaMbfcup5QKdG8cRVtO1XozcmAyanJdH2LC5CdGXMPMXdWCNbQu4yrPS5UjMdjFhcnzE3m1Xg5OLKXsZ+2LaFuSKb3fF0T6prltuU5++7HueedTz0ac9j7P8DaNWt1m42xG9HCUCklFWhZ/lLhLf6FgTDWz/mZEU92W1EIygeMMZKctZhyQOWh9rigtlLO6z535T076lq3OxVWJ/Z2FaDlX+XSWsbCqxnwq26S0Lgtr43EtJ0SqkBV15YeIvbJO89oPLbemLMK9Tg0Txao8uZciIWBmHRlmVolJZxLav/kdTYKs1WIH+1ssvcnoFdhU+pwzhodG5s+a2KuKm8xPpZbaJ+fSbSdGncXhqyPHdN2Geehj519fmFjV+2VgXaBazkfBfSUSQv8lJC2AQyzVRR2aVXeYN/PriRTmy/LxQ/eSCUBqLpuGI1VpFnWVmTAqn87XQ2odVQxTrIih+I8lLEXGcNseN3UNI3YQfXiQwUrw33Cs355ytNU27nBaSmhZINUQxsak0MsJ9QWSrDL7gwOoRrWpYTWsTlGOy9tJ6ezgNDyWXKe9MjyOcrnMzlUrN9eqxtdSh4kJqfD9YPe4YdB5ETjwMWebmVZ3l/f006n+BBoRmN++rOf8b7D3sOVV1zG0d/4Du9+93vZsm2JmGp6Mjvvuiunn3U2f77kr/zpz39hedoSK0cz9uy045045dSf8IcLfs8lf72ELka+9vWv887/+R+uuPwKjjjiCD768Y8Rc6RpKtq2YzI3z2TU0Di4ef3tBOc44oMf5oiPHMkrD34jrz3oNXTdCs24AQd1VeMtqTRZvPzGm27i0LccyumnncY5v/oV+z73Odxlj93Za68nkUhiAYKjy5E2RbVicA5fBynt3KN2jYl126/lpQceyCFvfyd//esVHPHBD/L3v/6FZzxjb7YtT/nKV77M5z/3GaabO173xjdw4iknULnMm9/0Wj7+yc9y6o/P4BOf+CRnnXkGWOXxr399Dhde8Cf+9te/ctSXv8wud74ziwvzxL6j8qoEg0yMYrhWVraQU2Lrlm1s3bKZvpsSXKZymec859m8+qCDuehvf+P9HzyMzetv5ll7P4vb1t/Gt771VS7/56V85CMf47JLLyX2UY2GnWjnlFSp17dTSJHXvupVfOJjn+RrX/wKl1z0F7777aM57ze/Yffdd2WXXXbmmGN+yM233MJ73v02NmzaQl3XPOiBD+TlL3sZL37RizjnN7/hyquu5s8XXUIzN2ZpZStd3xOaEZnE0tYtTJeWCU1FNMq9j5Ee2NaucNf73I37PehBvOZ1b+b6m2/hbe94C3PjCU9+4l7E0OGTY/1N16viLoqRo3hvpphCsIvkyRz40pfypz/9iec/73n84pdncMbpp/GH3//emJ3AJz91JC99yUvscnDd0uB8om23sbyyhWm7jWm7xNK2DTz20Q/lwQ+8H6941au59MqruP6GG7j5phtoKs8eu+/CMccfxy23r+fww97FP6+6inY6JaUp3XSF5aUpc3MT6sYTSWzYvIFXH/xqPnHkZznnt3/guBNP5vhTTmC7Hbajw/HLs87mc587kquuu5ZTf/pTjjvxZLZt3cJLXrY/Z/3+d5zwk1M5/cxfcsRHPsLmzUsEX3OnXe7Ij079Gbetv51PfPIT/ObcX7OyMmU67en6zE4778wNN6zn8suv4aKLL+S666/l+c/bj+OPP5aP/e//cePNN3HyqT/inHP/QHYNvzv/9/zzssu58aab+c1vf8u069npjjvR1CMplrrmF2edxTe+eTRVJcY4DmG1RAiOFFuoGnzdsLA4zz8u/TuXX30V/7jyKrZu3sR/7rcPJ554Iif+6KdccdXVvO/ww3jlq17F4sJack6sWZwQY+KCv/yZK6+9lr9e+g/ueZ/7sGHD7Zx++qnceN21vPtd72TDxg2Euubvl17Bd757LBf+6VyuuOI6jjnuBK665jKcqznjjDP56te+wpVXX8HXvvF1TjrlFLYtr7B58xZ+eeZZHHvc8fztb3/nc5//Ar8+91ycd6xMlxg1Y0LV4Dxs27qZZn6B7dbNc/AbDuLlr3k9B73xrRz6lkMIwalq1hiytlvBewHhHXfcgec/b19e97qDOO/cc7nm6ms45JC3sOsuu7PnnndXZW2fWNq02RgWsUQKYQaqoIvg+6S7u7P3TPuObcubCbUaz2fv6VLPNddex8knncKvzv4lf/rDnzjhhBO5fcPtpBzpU8ed7nwnbrzlJq658UYuveJKltuWm9ffxoV/uYjbNmzgiquu5p//vJw73+nOxNLs3Re0ozyimTXSbRGudCOwpHiBVgMJQ2hYb0kp4qyHW7ICO+nhjh5rSFypYXs0xqqEvAQsrdCh78AiO63lI3pnfe+sMEJGW+PLxuw5AwVuFdMnQ6/r54L1Xy0tZLCK4lSKLXICNO9Q6YqybHod+1u23p8hgA+akrM712u76cOpAxYgcFi+U+qIqcW5RNPMqoJLIYdkQj1g276ztRZQCHYHLi7T9y1d15Kst2TbTpFjZqDFOZ1j25ecE1UtoKMiBO1ntCKKATBaBa1Aa9G7dvWZickAoAwclorrpmmGu9PF6Hoa68qgR1kxRFabk77rBnkT4ymQmzH5kvYfAJ5SvgSIqqC8f43HWqOFAnAlwUN+sq1JMHZXzKvSLnq7UxcnMKc1KezkbD3TqvZVq4EjyC4lCx1rXQ1CGvFS1rqA6mGfBl2gtfZ2o83QrN9Y7JL7KvnQecvmBMVyh7VzhHe+5c2HKxwqSnphYYG73/1u7LnnnlS1EGrOMJmb47zzf8dll17K3nvvzR132hmfMw950IOZnyzQtx13v/td+ftfL+FXZ53JmoV5HvGwh9H1LZOmYc897sJPf/Jjfvvb87nf/e7D7rvvzjm/Oofb1q/nMY99JFUtpfjgBz0YMtzn3vdk9912szv4ErveZRf2vMvu7Lnn3XjK05/K9jtsz/P324+zfnk6B+7/ItatXUeM6A5Ou/7KOVHoF198Meeeey4XX3QRT9rriRz2vveZurJESedou26ogsI5VqYrrKwsc7e73pXt1q5RywccD33oQwnO89WvfYUNG27lM0d+kl13uTPblpY4+eQT2bp1Kw952CNY3rqFHdat5T73vQ933m1X7nHXPfjWt77NHXbciZce+BJ2vMN23PMed+ekk07khz88ht+e+2ua2nPEBz/ADtutK2eQ4JW0Ga0LfUyRFD3jccX97ntPdtxxO+Xh9I7HPPYx3Lr+Fo4//jg2b9rABw8/jJ122pFNmzdx9tlncu973Ytbb76FhzzkIdo/ryRThvyXpDuHY8897nlP7n2ve/G9732X4449hltuWc/jH/cYdt91dx5wv/tz7A+P5aQTT+IZT38aj3nEw7jH3e/GwsIcT3jcY6lqz4knnsCvfn0OO+98J+51r3uwvLyNe93rXuy4w46EMGLrpk3cbc/ducc97mF0tSVge61/nyKPe+zj+OMf/sApJ5/I/NyEj374CObGI/qYCKGmmy6zx1125653vRtYhdbgGVr+STMa0XUd5513Prvuuivn/+58Lv7LRVx+6WV44JGPfjRbtm7jb3+7hJcdsD/jphatbwyLlKwaJRcF6YBnPvOZXHnV1XzrO9/h9NNPZ7ddd+Me97wHz9j73zn++OP41re+yUMf/ACe8eSnsNtddmP3u+zK8vISD37Qg2iaWnfPZrj//e7Hfe51L+56lz35/ne/y9bNm3nZAQew2653Ys89dueMM07nwj9fwD3vfW9yjNx+++087MEPYuc735H73f9+fOfb3+HKy/7Ja/77ldx1jz24193vzpOf9HjO+dU5fO0rR7HDDtvz7Gc9i3ve/S7c+573ZGl5ytp127O0bQtf/tLnuemG63j0ox/BLrvszqMf/ShOOeUkvvLVr3DpP//J4x//BO6651046+xfctRRR3HUUUdx1ZVX8N7/eQcPf/hDmS5PoRpx7Y03sffee/OEf3s8D33IQxUGK/koq5R+JpCyY7ddd2Hzpo189sgjuerKq/m3xz+e3XffjbvebU8+87nPcdxxx7Pvfvtx0GteTWynsv9VzWRugc999kjOO++33Oue9+SBD3wQd7nL7nzyUx/n9J+fzote9EL23PMuPPrRj+LKK67ke9/7AWsX5llcs8g//v437nff+7LLnXfl5FNO4fzzz+M+97kXOWVuvOEGHv+4x0GG73z/+1x73fXc9773Yf2tN1JXgYc8+CFs3LiRu99jT+52tz2JMbF162bueOed2WO33XjqU57CznfehS5l9vmPZ3LRhRdy4AH7MxmPxUL5QNOMFC6NkQc98IGMmppvfvtbnHXWWexxl9143/vex3hU03crjJsxG27fSNV4HvvYx0JKaohsYcbsLDSZZUjqqmHz5s3sscfu7LrL7mK9QsUf//gnjj76m+xyxzuyZnENl176Nx74wPuz3fbrCKFmce0arrricj74/sO44qqrecpeT2Ljxg28/4Mf5Lgf/pDjjzuOpz3lKbzuoNcQ+xZHoqpHeNNJhRkqrId3lhBv+U36tv5zTvq2AA0Vr4kRximsuTr05SzEV16TrXWFgN7sysiu65iM1OdTIS6BjWj5at6uk/PlurIU6axVkkCkwEsYwIM+q4CKUmQnIFteoHQUjNXOpj+zhdO8Uwg8lEb6pjdKCLC8TyFF9WETmyvd4o1tw8KPOANzoYRbBUrLWuah9Ycj2C1Vvd1oIcBrcmI39mS7zhRXwLvWv6SeFLBWxpCNwcXWxhCNfpc1aIFo5U32nRr3ewullrB5LmFgA9Val1L1b83BY6/997IBXd+BV3N0tyovEMtXC0GhS0ld6SpQfldGX9ZPKSIplbvPLaSakZytZjUNtGHg0Tvdo11sgYVLBegs91TzlQwMsq1HGzic3eVe/ppN1quqIttVlJXdplXGVrCAztNMNlwZo73Om3NVzl4JIRdyT2Fzy9nccNM1udxnm03oBDaK12Z5Lg5Gowl1U7O0tExwjrmmYduWLfSdbiOoKs9oMsI7SLFnZWWZmDMxZ5pRw9z8hJx7tmzdRs6O8Xie+blFpu0KfVRobWW5o6pGjOrabiDIjMcjEpm2j5x88o+58eZbucc978mXv/glHv7QB/CB972H5W1L9Ab8QlCFYd3UxKyCiGyXHuecuX3D7QprpqS7LLtOKNrYwlBV9CkyGo+JXUvqO7tfU32ERk1D100ZjWti30qYsmN+fsFC345+OiVNpwpjuMxo0ljnf21YXTmWtm1lfjIhA7HrCCGwtLREZXeyZhzNaIR3urZOnrIHV7MwP0fXLZNyb739dJ3awuIc05UlxqMRS1u30XU6gPMLi+DU9T516nHorDJrRlNnkuXuYOHyEDxLS1sYNRXLyy3eif2NJYzidZi3bdtqoZOKuXnlePa9lOzmTZuYTJRT0k07qjBmPG6IlpvpLaei7E/WvRj0MbF2cQ0p9nTTlr7raOwmmJy9NdM0MFaafprHVNm9xs579Uv0AV956qYm95Hae7ppx0rXMY2JxYV5uuVt1JVneTq1HI5VOR1WIaiD7ViZThmNxwCsXVzD0rZtLE9XqCdqIry0bRtzowYfAm3bAmq/ofw2T991LC6sYXlpmdhHRo2UclE0kNm8aRPj+TmoawgqxCFGpsvLdLGnaUaMmxH9tCW2HXOTCVu2bqZqAs24YXllSjOZY2V5iVFQPlefa/pcMzc/YmVpE/NzY5aWl0lJSnQymbBtaRvjyRzOe5aWtwGZ+bl5lrcuMz83T9+tMO2WyTlAmPDiA17CXXbflU998mOkrsNb0nO2FgKgW2RictSjOWIfqStop0vMzS0ynSpnpap0BVYXI+O5OdrlJbxdh9XHTNWM6dqW0ahW8ZYdJjWf9tZPzbG0bZngK5qqVlFAgBAcset1p/HCAsO9xMjItStTUkyM5xbIvhKT43r6fsrWLUuEMBKbYp9VQvax7/nhD49ll113Z+ddduVd//Munvj4x/Kmgw/CWTVjYWfKdXchqICtbSXT84sLTC2s27ct47GYRR+CimQKeC4Nap2ATN9HQhXou8iaxTVM29YaYa8KZdqVcz545iYNGzevp+s6QiV9NDcZs2nTJhbn59m6ZRuhqpjMTVheXqbrOhbnF+i7lr6XvqibESqHU0jXSVSHr4GFMVrPlxCUAUIMRFR21mUQVyWgWy4TZotmwFFFHV3XDk2UvZ3Jui5rNXsvFAauOM1y8vu+G3KD66YRyEJhwZSsEbIvVcN2tZy3KFKUHAtAzjouSNZtfma8dbuMAGFZi+LgugImvPqNlrmXBdKalapjyXnO2QCHs0bGmtus4GAGtvMQak/q2FBCphotzkBaLrewmKNbBYGPzpoCh0rsG86aZNsTMBAPKjqwieMoALc0+jag6PRTihHnZwUYGr/aKTnb+1yuRvQIoJvdds7y3aPib86qnVXQl4ZrRcHjnJogK6/P2DP7jJyUTqDWKgZekf1wds+0D3Y3tMlnH3XOvRforqtaa1qAvM2zsIApyebmUlxY7rU2RjHnrPzKAqjNxqg/6wwIYhdRGLSb5YRbSL88KxfW0EiKYb2zUhX0LGPpc5Yc33bj1Tn2ibbrGI9kyFJclQQ5eEqaqLObEYLz1N5LuaWscvckRSSGVnFmnHXWttsjXAEbzom58bqNAyeKvLb7e/tOtLT3mWakHJy6GXPRxX/lh8ccz2233c6Tn/REXvzC/yJ1rQ5ZVEhUAisFG6No62xeoAv6/GDFHLGTkDZNQ2/NO53losQcVfChlaC0MAIlikqwZ4omxgzOEmBdUGVaTvhKt3fEFKmcXZtiuR1VZfcsWh6EFJ95h85R1Y3CvZbH4cybccEpfwNIUf3UpIx1MXkmkWMarpZSnosE06PybiEmG70pn4zubNaeqwKqNk88+ADW/T+nzGhUqwgn6vqtru8IVU1Vq5KxGJw09LVSrmeOOsxDpaoBT2+AM1qiay4l/jhL9pbiCHY7Q0m49eYJlsnoUCiHo+/6ARRWtV7X951VcWbwHkJFij3juoJsB93o+0HhWq5K+Z1CShqfenwF+qS8rpRU0erI1JVaBFVVULPVlGhqNQ4nZYLXYdb+mhI0rzaTSQ6yC2TrAh9jJNldq46sPljWl4yk21dcJZaiTT2uOHFdy6ipwdfKf6sbsOvZYoSu76lCzXgyoe068ywVboupV+5sn6i88q1C5clVw5VXXc83vn40b3vbW5ifG5P7XkUDWSF0kFxKOamyMPiAd5pvlqYnpUwoITwn2Xc5Ebz1i2tVJJViVEV7XdF2LW2nq7zK3qp4xpUrfnXVZJC37pzyTLsY9SzLAVURT2ZlZSpQ4zxNE3BOSeRdF+0O8ihWIcs5zMlRNw3f+e73OPvss+kTPPJRj+KVL38ZfbvMeDSa9ZtzzhwAhfl8qSLtBXidk5Kva4VuQiUnUfKcwXp6UZiJVcxHYQGqoJYqJbm/bhRK7CxMFipHjFMZJmsE3LUdfddSVTVVVes6tFWVtphuSJZrWNXNwGw5AzKCAZI5jbHoSTN85oj30XKXjCHR3PS6nO32BHta+Vxvd++WZ3RdN4AQ6QydS9kdGViFpGfskM6trpEb7IAxlVpDgbLY96RsLVy8wmUCCXZThBVveB8sn0660Ftz5r5Tw2OFQM3QovCw9KkV7pAUirV73gsrGLwxPcbCxV7V3H64/isSgorCsl1ZCBC89rIA5/KlAqA0XBetUJ8KCzQ+q8610Gq2ApxoDYclZzMg4Zw1XzYmUWlIbti/aIVrCp+rqKJgBunr0q+RAejGFNXAuJKtzpbDmSyPNASFe1NhF4VejMiph9thUu4sXG6VzCisjrUJKvYs21wxoO6s52QBhlovAShFOwWOp9OpLjgwtlJ/V6jX2eudtR4C1BquV0g8hKAQs91d3dvv3aozkC3PT+BYTaWdE6OdonCV5FDym5PZUAs3YzeFiDTQHAvrXVeGsUDnO2Xc+muvyDlJ8YPTdSAZsjQNuUiv4ALeaHvRs8rPcIZWQQwL2Zp2DkmKlvxoAuKM4i2KzTvlS6ScqILyK7pOzSPrOljFmIy+84E1a9aRkrzjdmVlhrwt50BGVx7Q7LNULBGCrm0qnzN0Oa9qco5DmXRCXf4LRap7/Ur5vkIFZIUlijLo+x4cNKORhFU4wHI2oGt7reKQ0yLK3ZugS8AzMc3YL8mGVKHQvA4Ctq6yADqQUmJSiNlyHJvRiBilGJ2FRvquZ9SMtIeDESmbYeC8VBmZ8h68PwN9npK7ANNuGR8827at0DRjvK9IqC0FXh6u3itGMFqoRZ50JKZ+8JK9112+badWGlVVcmmyFHQ20tNB3yWCrwjW72s4CFZlWg6FM0NTWUNdHQLtWz1qWLGbCSqkEJRPZG0GTF5DkLJMWfues5KlM0oOHij4khxslXujkV3Vk3RtUsqJ0Wgkptkafjd1LdbJql3L3neF7SkV9EP4NFulszzYULra96r4KsqpswTqGHtS3zMZT8B5+qxeZ1JCqlpLOVFXAh3eO5ubQoxKEi7rGZnMTQCx/Dl7FhYWWV5eojNmU+dPgNxZUVVvqRdFmoM3xS9NI4NkekC/EcBK8mjklBjz0TSqKs2Y02lgKg4hKinBwuYkq7oWoJHjUBRhAV1919NOWygNcSuvHCsztqGq8aXPWU5kHF2rfKe1i2ts3zWWrluhaSpLU5HsFMMfO1VhytkR8PRZwF+cifKe8AkXlBPlnMJnUnG19I7JsCNbtb/dme0c3s8a32anAq5onQGC5ablpFuDihOeUtKZdYGqFvOjkL3m7IYKRul2ASoxIVVVUwe7TtPYHrE6Arx1rQhG23VUVSXW3kBBNuPqzOlMSfrYG1OCGWdnvdGiNb7FXkuW41jkoZzVMLQ7EWNWWKYinwWc9RZp8d4rQtF3BipkMMvY9GUAYjgPpY/d7NYPGWALIxrr7Z0j1BXJqlzL88XsqX2Ht8KGEKSjy7n1FqJNKTGdtoQQaJqGGHu6LlpFtVqwSIdrLwUw9Wzlt810l7CaATLvqQyYxhgV/nZ6VrT1oNwCEgIrK1P6vmcyHg/OU9HvhekLdhUoBs5ZBSz1O/1c9rzsdT/koQkIgdrOZNM7zllFupED2letfcpWSOMDfS87EYJ0D6tC9c72pbfG1KNmZABOzrT3HufFpA7yYvI2yMLQDkch9qJvU0pMV1bw3jM/P0/f6QYTb5Ec7xUmLreUuGLIhi/hLWc6UqkOsLK8QjNSl4lk9ms4M0M1tvLZy1r74Glb3UhUVWJANQeBebfh2quykLgMilC29TVqW0IVqEIt5RFlrEOwbudGlxYh817MEqgPXc7y4suilEXrzMsuORneaN9y4HNWn5qU5b1JMfW4UFkXkoS3Sqrg5Ck4Hyx8U6p3WxnzqiIjQy7GUULjnbcqLQEKeVECezmrnYyMRhLo0+iGfZIiEoIW9W7GMpux915XDsVE01RDuxmXRDRl50hGr2OhsJwVGnLeADXG+kTdh1hoW61HJheQ1it0W1cGnCzUE0JlCl/ALWXlGIHuOK0qXQsEpb+TBLwoJCXQit0pexdjxKNLqbu+w/uMc/qsnJx62fma3lhcHwS4yeiS+JTopgobDYA/JZzLeF/jg9hC9U9LVLUnY72h7MJ2sQaZvhNj5swTEmgwZWOHx0naSUlhD2daKtt81ZMyk3qxu5UXcxfzrOmsDIrygZIZJjkqBiYsD6jve43H7m9NMTOZm6gXWc6qijSZ7E1xUXpGecliNlo5FS/XFEFd18SciKXyL0NjVWJiR6V8Xcm1sb3Suum2B911rfuYo+WeVVUtNiMnvLMmoLlUH4rh81538rZ9R3YwmYx0BVqUtx77SLbwTwFizvpVOXNUBkWfkwqLzCmZtgp/xhipfGDcNHT9FOcTXa81csxYIm9GNfZiD7zzQ0uLZMBvdv2W7qQuaQkg1iJ4N7CvVWUMCopoZAudYD6WrCSAOWLGIsU+4pzmWda9jDMjA6ozJGUrIyRwTjFAztrHdC21d5A9ffLgwVeZTE9dN1TB0lFyFmiKDB0PpD8h50jbTS2PqRhZGVaHOYmAw9ijXiBMVay69zNbRWI5N8UAi7EKtK0KFVKOVEHhs9j3Qz86OZIKo/kqELwbbkbJGACw81TZTUvlWrACvoqBD5aLlAoDY/oxWiNg6W+xLnLIrfjDbFB5Vm8NlSsLk+ase0yDFX6pgXIJJ9vnJANsxjIW9lB6QwDHe7G2FHBpbJY3oMaqBP5y5vMQphOLp7MqwCN9LTZdtzNI7gqA8iZnCSNcQiBUBRiXa9FKpCMPgNaVK79Mdt2qHLCiF5ORDjpb2iNn7VWiOT7eijAKUCs7qfXSHIverapA13YD+1R0ZjGeBfh5s9dljaQXPMEpTOstny7FyMp0KpvVlCvypI+1N5k+TYmxo67HQKXqayOvpF/MCVsdYjanRGOyCnmgtpQT78XKp6yen+UZZa9yzkynU7tfXtEYFfKJ2avMGSgRrZgMWHuRKLrbXcCyMI6yh5KbYJXEU7OXhbEuY5+t5YzkisYYzhwIsbNFN2Ph+PD2N7/x8GQNKnGatHNqGirFLtBQQndYZRUmlLkgcy9NKWNeDIn+XZWDZcLszNPwFlL16NnFqPd9NzAfWJ7IoJSc+oTVVYU3mjv4agjPmTwPxqauJLQFsMnTFJOg3BUxJ44Z9a3PDDLiLswMogmotwo9kEF1DpXqo/LxqgrElEl2HyBOHr2neKYSMleMxbAy+vJ6oA5ONtAxhMMk6CGosWpn/fxkiCRUwjazJ0qgdDC9VSwVEKTPmoWNnFNvOuekAfIQ6tA+Y0rLGwtVqsckiGYES35EjqSsPnegfRYA0iFPxjzVtaqZNH7lpBSlgnmQ0kj6bzTHQeuiar24KhdqUCrMDkUB/X2vXkcy2sZGa7WVPG/sx+CxOoVuCjAL3tO1JdxU5DZT1Qo7VAbiigOi9gMmWxa+dsYYeufwWYAWA58pCYAVgRjAxMCKSDmVFASFW0zm7bXOvP9kNyLUdgdkSmKeh7kbkyIHRzmxzim0my0XqbZegqX9QlVpvbPdneqMLQ+WW1TXtd5jRtGQh52pYmxmICCmhEUJTW5lWEsOWM4aJzavAtAGYFlCSpZwL50hw1cWprO7qB227na7jxjrStV6nUKumMxofWw8tl/JmqqKYTVwks2YOuk35/SzM0VMCSlpNDo/eDkBxoo7uyO061S0UNUV3on1xBzVsletsQUln7FMTIbQxmG61ttNRrGAYS+XTUfdbqsAuk5yhzlEWHgx9qqYjdZzTmcUnDmq3tZTulEpNrm0OjEwL2ZQtwKBzhKmB/zgHMgY6Xw405e2XMOy6XPK2c62rpWlP2QLsQq0S1ZmzrT+niz0FY1VqgbboN0pjkXRfeXcFQetjKXoq2xhTW85f7JfBlBXgSGdad1n7Qw4BeuFlwx0FcOPnVvsDnkdUPv8As6KjnMln28W4Sn2zVs1Zzk0znRdkcc0tKMRGCpz9avOmrMzK7nRwfDFVhoYzQbGc5ZNLGuXTRcbltLzk56JMbP2F8ncqteFclWf5R4mm3+oK6q6gXIDhrGYBbu44Aanu+x/shB5kTVvYVpneMJbv0/nrPDBBpwtRSLGOIRQdY5NF5ts5qQewKwC1q7go6wz4QrjF3RfuvZHdjMjZ0lnT+drRgRon2JM1EFFOsmcU+xMBGtGL9kwveQ1nmRsdwjSdWKbUTePt735jYfb+g9fxfNxVk0jBTFb5BJCKZVD3nJWQLR7sgTdYmzqWpeNpzhjnIRq9XO2is7K4vlSYpbrZbklZVN8yT3JGmdvDQtx+mwtiP6drSFrNqPp/aq8MMs3lNCVI63TnfG47CF7sLykbBdZC+jqW2EHHXCsJ5C3pNuSKyThl9IRgLAwrzF45QBDVn6WKYYULX/PQqvDnhiqFziZKZu6kqfv7GDmosSdAGQRYnxJcC2JrNrnaGHiOIR1CiDSZ2RTXhjbmJIOh4m/1lKmDxCAzrl4vFrd4kmXuRTFhbVJ0LflJ5oTUJQsTnsSLbEbA11Fs2mu2ncpMu2n1sFChkMOjAyXlKopRexuSZMneWECuKC7UYuCyqY8s4XnqlAL9KKc1yJTSjYWGMiWv1FYJakoOysxwqrqv2BnKZsDVRyhvrd7MUF3QZuXmYuhMVCSc8YVZWkOViz5UdYHK1voTPtT2q4E9dQyhsZ7jSdLEEz+FG7TmkkeBUoMUSKmQOtcnBjtfSr3jPZieRSz13ydaVIBAksaZ5VcmH7KSeBdClwGQApP+VEyMBK4qlLaSozSUZVVfcs4av1ktHUezWbZnMQ2yWnR7yWbxciagrX5lWeWFBdWhRmL3Eh4NAnpDO0vQz6ymNMQHM4KUkBOErYf3ioMq0q5TcURSINMarQCFKbzLJyPnc9yTp3zuqbR1qoUApDl4PS9wv1iLKQ3y9r4AUiYDi2RHtNNdvyIUXYAA4feB7ITq1X0mc6gh1VNy7MBicI2DeC/yNNw96nmauI+vEagbxYWI5fbD4wZ+P9Ykt56wdlTzDHXiklGBRJKmNs7OZvZbEv5nGRrN8iVpczoc2fnguJcaMFnOtLkoqp0jjF7WNa+rhV+zlo0AQPLUct2frS3kpPg5IQWEF5XNTll2tYcIxuLtzkEa+iu8ehZmOx709uYTZCTpTEXwJELY541Ps1H+5ss6qc9LHpBdqecI1cKP8whdV5xL2fsn3SGE4Cy/znrwBCMzdNaq8A0rwbVWuphjN5ubtGXniXwKnKkvNcbmB82SY+RTFlbFeEUKyiyFGP912yeESVka5rvICflDIfKUZnNSqnkRWrPi/5wFn4urK6NgGzpdrJT+ll6W/LovGRMxFhUrM57wlvf/KbDNVlD6lm5d2FIZp95LcPGrbrfLptyL+jalQ2xDy2KMxsCLYaqLF55re2+BN1JULIpM28XEMuzN6NpwqNcQHnP2RSpszwdKb8Z6KMwW5YIKXbGELh5bZJBGbGMbcTwuRLMQamlbIygsZcGJuS1SoByVmEC9tzkZKSd5f5g4fWcslSy0yEoTIe8P2OionLykgE3hxSvhEmVRrMx6BXOQG5vNL1zzsatsEHZe3nmyldRnqd55KYotYYlebQ8X0awvFfabOaROrs6KXhLtjZh1rMK8J4pNOwOw/J+UeumAMrtgkbBSyFaeNS8/WDKyXSK9IPtpbNDj8niMEZTOPq9AW17czbgkbPWB/PGY9T9mnUlZkvrYsrGPO6imB1FuWkNnZ0V56QwTN3ZnlnuioWzChsSLRm4qXVLQkmOnSl0/SxGWQc9GGOG5cOop1zJEzTZtrNY1bObGIqidwZsxPaUjvJBxrQkNJtcDutmc+yjioIKwNc51vkZvmwd5AXbZuGGsHh5n5au6B+BKSm7VV74/+fAecvz8gbmi7yVr5xK+Gn27JmczGTCVtkYD2MTh3CjDNEQejSwnA2AOK+E7/KNJYJr6vqMPOSsSWZccVq8Pt2Z4pchF/jxzmQiln3Q7UQF3GUDUQPgLGAslvCiHLrV++XM8Mtg6Fx7u/FAa2cy4VTCESyXSKxRMYxa2zI3b4yWfmfnNGlsOTNUSUqXYHqjMLZaP+dVdKNnz6QnrWKZip7LhRE0EOCwQh9zsLCrzpJdcl9ATLEjzqEccjv3FLBTwKl9ucK8DYx0kRLpipR0Nmzmwz57GTXTV4p/6GdFfyS/9qCs+YOxffYBZTzFXmBrweB86msYvxUVDD/bnIvj5YxwkKqyHEkbeW8NsYsOKmuE6UktqWTemQ7QZ4q00Bhli6U35MDMZM4e5vSMcnCqoHPdDzdvlPWXnVut+3Te4tDdwVl7I2cpQckcMO2hLa3ZkGHdiy01ZzNUslP2IbYaZQWLLWLY25IGlrMB8RTpo8YDYu9SypbXLmCocWi+zjEQNiIXtBfFeciW6jWAVH3Mv5wJ6QebhP2nyGbBJdlwkxwYxRxMARvLYx+gXkf6hNlm6WDh1SOGEo4tRtwOjfMyvjHJYAxeYPGEikIJyjGa9Ugzr8mAmMCCBq79tgNuHp4AVtks7aqUG/Z8XYJc16p4iqWa14RZr9NCS8CgroIl62c137TqXe813oFd8DVVaKjCiBDq4c7FVDwO2xQJnb4TYlqC5dZU1kMKU4hFKRYwk42W9T7gLHTrvcd55V0qGbgoVQlFtvzKctev1q+AXHuWzbuqKt0PalhJv5NnOzssM2Fh8OZsfb1R52UeJdRsAENGT+tV2XVnIcgjwqna24egqm9pkn/xVFLStUTZwkApG0NpMjYALielMDtMkkMpJa2tt9eVvxWW2Bt4FDsi2SjzzWY0QUCjnP9k1WuS2ZLW4KyTuoAwxVEwhR2qShXWQWBH/9aZcUE5UbbFA1NUZEgsnKdtW7qpKthTUr4QZkyCVf1SkskLaMxZTYGzbrzQZ4mB17mvrBhAexijCg6K4sgWKhU40hkM1jsLrMVIlCGSk2Tn0Fs6hgHisu7OeUJdUzUqrpKhEHuOMbEy7DLu0RgNEQOOPimft8iMZKN8dgF/BUTrDFRVTU4oRD+kS+j2oK4rOWCmEAtQNXA5yD6WV2gGnsKqFSWLbbYz0GxyFIpDMjxX+oucqYJXpaD35oxpHA6nG3VcwBEI3m4MyE5y6swpl8m0Ly/obwBX6rnItHSgc05r7LAc5kjpUKDqZVUQZmsT4obwlM6Nqq6lDwddZYbKr+rPVq3qeVnXjZ1NyU5v+crRUgUKAC06LxWm3fRNZ1ff9ebgFCfTOYVOZUu0Atn0f9Fx5HKrl+CMLyADrU35b13Xaipc1/8S/l39LfbQSAv7ubx/0EdWTDCTdTecLwh4V/5t+snC4Vrbf02Hkn6RDlMOr/RJsjB6NvAOYva8D4SqNmdy9oyUdD6lg9TpIJafjWnPRpj4IXQ7k3PvCls7C/eXFXUm+0UxOktBKfKJsXDeWKeCC2ZgrgyzRIg0vxQtLQogKZ+ZrPxn59SRIvcZn0HXcGeCpTA4VJiYig2x+ZSzLfk3x7hEf2xMhSnDopnZSIBsNl3z1bkTzpDOzJYa5gCyI6BxVTgaF6ich6guG8EZS54c5EDOlf6bvPoQm72UDMsOBys0KhGKPBAxWqVMNkxQ3jfLkc12VsSO2556pV3ZJMpBEBWZy4uK8qoCvlYStHOWf1aMmhkureCMWs3mGXkrFin5P0UApDVEVVZ1KVOfeUDlO5US5oyFl8woW3J23TS6BqpuLG9nliPlDYQU4XZmhJ0xXzHaRto8QhWo7LL0nC1Z2RpmSkhlgJyTotX45IiUUmlWGSTM89K6CehWtYwexuoMP9uagbqVi+kxUGXeQ5l7NkU2zC/LF4lRyZ+lQirbAfhXhWzjsgOYskxIsGrqZHfLygDMwtmxV6guWsjROxWnNPXI1r4eGJxkl1r3ndqwlLWQopyBLAE8AycpDyG7bMUpYWBZZKCKd1cYXWdKqKQRxL5U9IpdFmiIQ7ERqzwgLYOUYzaF7qQFtOZWRVwMVzFITdMAqjyOVh2mXCgzDLa+ZI1Ne6TwhTCmkHdMmS5F+oE5Vy+9EHSFUF+uI0qZhNrKxJToul6FHgP4LO9ViyIKU61RDOA6WWha5zcYEK/o2p6+T6pKteHHGJm2rQxu0vvKoXLecsnKBfNFQZUim6QrleqmNl1gyr1cN1UcOwvNppzU0y72A4PaWypDMR5VpURnyVhxIFVQgxULBF9pXUtY2xgHVoPpkg6xGoiacU6WzJ4MvJeQtYCKyZPlhzmHNc2VI1v2Ptk8s72/H65gssIsZlWxvqoYjUa6m7sS4501KJ17LLc6Q+wFhh0zgFVAWbbwUV3XVixmANQAQanyLfoUly0NIdH1LTEa4LOwW7L7irX8trfVTI9msw1VpaTxbAxtGYvWcVWEyM1Ybv1dQjY7gxqvjoyMarb0BUw3lXM16FQziKtBeDawBDNWV98mw1YBX3RgSuVqNuW0amZmmla31zKHJllxRvmsmX4tdiCq/Yoxt3kVOPuXb3NSC+tUzm5Zq7IWsRcIKjpTzyvAa6ZfNH8BFcnObJ0LuBOgUpFdZQ2Ii4IY5MK+nFNaRKiUH2o7YFZHdrGAQ2c2pzibsaRGOCenpq6lO63AprJ2NCWSNOhMk6Ou74mduh2IKYds7DYWRncY5TU4udLXDme2Zpa2UcZiIx/mIEfFOlNUloIVI1Mr+iq2uMi2c254r9NDyVgaiXckJBOlqIMY8clpLkBjKQyxjwq/o5660kf6WbpKstz36mqSV/X8G2ZgW1V0oHe6ztVJ0Qrsldfbz8WJLg5MePshbz5cNKJeJHCi+2WStaDQJGeHvigDnTKLixtICHan7IzxmeXVlUHLA5gdTBvhoJyzUh7BWEFvaJwsofZWueSA0Xiksnen1ydrW+BKmMR5xdtt3O1U7V/KYXJOBQKqbsu6o3VIlNUbpbDF5s3ESd6mPkMeNJYLggnEoExK1Voo+U8S2mxgIhfltgrIlE0tiqCA4Wi5kZnZ2ikPTvsgxiyZYheQKkpDB0Ret7cwnvbcQkM2bymxErKcjcfZfhZnwBn41Ps1L7GPOqTYHrJauZgS0DpZ6KN8GzWNK+ERqzActPnskeV3yT6nMLJFKUkxWf6kgYfikNhTwLzDPITg9Je4KnwqJ0hzqmv15Ct5JsGuzPHeDUU2kquSYKs2SX2K9BZyKfKRrCjEB/V8zEkerRwRfcmTt5xQaxtR21VH2bzZQSllUfnecuMoxtJpbVYXXSRLNZBnrm752B6vEu9BYfuSf2v7mFK2kKOS60NQFVxEsmTLM7xWDL3t56AHDGSawsTm4i2UVe78DCWFAp1/gQ0GI22ZB1J4JvuUvbS7LGNUm43KWl9kFFJSqxQB/ZyV9zSdqhoxRfP6TW/oTJmHnU0/DQZ8xiLoDCJ2zuTTFfAtO6bxWc5PMrBYWJ1sDpjznpUVu6vX9kJ62OSTmYNdlgBjL0D6OGFsrJ1nVxwQ0x1yssseGwg3nSznQ3rBO7HUfaeq9dF4AmCtPvT+op+SOenOriWLSeHWwqi4AgRtPwqALRWqmNNRwJUbrrySbAjomUPa94QqkMjW+kTtb+T0Sg6y6cFk+iXYzRVaphkALDqwsHpFRr0VjkXLca7Mgc5lX1fNKSc5gNK7sluDsY3K0yzr5YytTEY8mGK0tSyhSAHxYFGCZAy/zrzYKywik6LsgrPn+0HPyQk38SEbaFfQXl/OrUoDMJ3jXKlunumYbDpRv9e+qgBF+qz8vWs7scyN5WvqU4a/aw4WVTH7Iztiz0O9gnVm9NryudjZd9b+JWeLelgOZ4wqwHKmGJzdolJC184rYpQttQLBSHLJk86ymcGaWZd1syno/yyknHOma1fEnmf1gCx2MA1s7oyocavWQnOVYyyZU5eIlFSJm605fCwOmZ37mKzJuGHfIscpyqkuukSfPdNJZc+993RdxK2/9srsywE3ViKmyHg8R/CObZs3Ey28klAeUW3Vbyn3pnAsNOF1SJ11nO5jZNQ02mi7Pi1b9Zc60mthqiqQLfQSKqteDVKy0YpDlDMUdGfttMX5zKipGTVqEVK8s7JLDgE/b4g+pQRZHniwS8W7PtJ1kWY0trYU7ZC8XlUjUnaWVG5K35ov99F6/RmjJA9cglBZzyVtjnJUkiXrYv3CtNGmsM2DEbCNdq+pKSoDm9kMR/DOWoLMPOngFWKNMeHwdO2UZLcdOFk/qqqhbVti6i2XDs0FGE8mOO/YtnULfd8xakaWV2Ns0nBIFMbIIs2koFYZk848lCpU1OWWgiKhhfIvTJoBoGx5Hya7dNaCoCTW5mRFOwPIllLWWogVc5bgr1ChnhNCYGVlhZQy48lYsmDeokr8AawNge0Vq+Yrw6c7m3NGn2MK1FsFdSoOC1KczjtGo5E8zpjw1iw7u0wzbuxSdDOoOJNlgVOwcIXzduemhdQMtHV9aVKsvMKu78jeFHjOYPc4F+CkMK6NOau6OkaBR4WDBRItKxAsnytYaCfnrMKcVYa3OIFa34oYZSSDefAxi4F3QE4dZPWJq6rZpfeVNVTv+5Iz6CXL1snPGxDreslp264wKl3nrciqgDnEXQJKktbZx5Sq9kysdQZjJRxONyqYG6v7nfU3K7VmZboyAB8x5AJTXTelaUaStyGvr+TSzdiibHe7eiu4kmhZZwPnaLtW+2/Oto140JlFfsv7xGhI30o3J9p2apW/CtnonEuG9bzCTsm4jZqRcjwN4OWcSNb+o+97koPGwoR939N13XDFXMkNbeoG53RjjRrUe2LUeS3AadAJYKyi7ZIT6Cuy1XcqphDrYjcLlAKDnIm9MYIGZL05PyGE4W/KM0xgPSJXplNq75mMx/S9bmRy3tH3rc6tE6DwwcCt6dCmKf0ZJZcy/GISkzkRAvMCl1hoOFrPPm9XwmEtW1amK2YP5MxpbWbOrPSqbIPO2QxEBav+LABPLGymbpTW07XtYEv1kYmihiSLAvNynose036XsylpC9TNiJwTbbeis+pVHCgxMifMzfRI2+mGqqqWQ1va5GCFQcluTQmlhUkBpAasS06uPkD6XGPR52FOOCgCqL3X36XjZ45A0Zs6KxqjzlwAVjPFho5sD2W/pDeCdUNIq1ruYHbNWXoV1gcxJTkVzmGAWY6o9k69hmNUrQFZOsYHrUldq11W2Ws5BlqH0XiktbXejin35BQt4ugsAiPQVlVqUTPTm4oKluilPnt2YUBxJmbYROvsrCA2vP0thxxehNBb/t5Nt9zG6af/jL/8+UL2uMsezM3NKYFYK2OC1w+NQ53O+TAgGWEpLCkcq/q1fcemHmNPbag+o3yQWLzf0rIkRpIxen2fyE45hd6DGNWebGiXwkZZzl5V1+C9NbKVpxC8U8+dvoSSFFvPqAgjOCH1mLCGwrrqSu/WVyisiRcTilNxhcACgDY49bqxQYZRhkdhFOsvZeEAnABJWJ24WwDHkFtYPEsRTgKKdtCLgTOBryvrJJ+Uw1RapFR1UAisVxX1ZDLPxRf/ldNOO52u67jDDjvgvcfpNCocZRVOWHVkOXxFSfdWVt+bl+8LCz+EHczTt3WSrjD+2MbrghSBvHpnh1fsbxEZHbqyBoVtNrBRcjasvYkzdhhj34rzIECuXYx9MQaSJXXsL4pu1d28ZdftI8Vg2EXgWih7btKVauZ9JQsJqgei7WUW5e5dwNu4kkvkZOFPJ2WOF5CUF6z31k1NqNTLD2NSvOVtlAasbmABC9Opwy4lWiq1zUDnjEPNYH1Q/qmUqb69ebxlfWeAsLTk0H4kK1pQQrOni8viEkx+veVqyvhbQYYpWuWd6T5UMwECxuZ89n03ACZ52QIZmvbMaMqQ2ohWyUfKSWF1Y9dTkpzJMNr7rbgqJVW8h6AG4lUtR0usqECSgLGq9ktOVlpVsBG8chbFbPqBSQ0WAclkfNBn46Rrs6YthsN7NYq2fEPnvXXdtz30ag2Rsryvqij1lEhp1vy2sCnB9qk0mRUbkHT2ciL2HdE6KmTT4ZW9p6pq66OodBofgphx53GWilDXYv2Locxpxmh7cybqRvnVw1e2Bt8GcEMV6PrW1kS6zw9gwKJJxop4goXJoLdG+zj1Q/VeN0mJzxGRIIWj50gIDCsa4Cz6SBXG1rDZ5MKXwiFzUgtAqId+gDNgkjHQYMCm6Gn9oL9J5vUtJ1rRiRJCd96qjo1d1Z5K+3hv4UMD0Mkc1gK2iwNRyAfZOTnWxe6amAFOt2OZ4+u8hhhX9UsUOyR5zUPYXrdHOHPcnaUPwYyJc3bWir7wpQDGbGUZawG0YnqVhjAM0BkZ4lS4mcB0R0lxUNeBZLch+YFVtSp9AznJFsWZcxlsLAWQygZJALQv0l+DHtGSEuxzndO6kkUo6Qjawg4gW7dkZYtM6mwIxGoPzE47k5mB3bYbNmrrTOCLntZ6a/4akeyz9c802yr7U6qFNb8is2U/kkU/yx6Hd7z1kMOdGejgMj40/OhnZ3DIGw/mvve7F/e9131ZmFvA1RWUwgbrkxWzOteToPIVKZpXtKogIFsoQ0aghK3M+yjUbVIOUbImsbesX89Nt9zC0vISk/EI7AaJPsKNN9/KLbfeSl07JpORHWZdOYflCmKbknImO8f69eu54aYbWZlOmZ9MqMoiBnnkKWXO+fW5XH7F5dzj7nc1al1XE6XYC4lbwFhGVEIcqtqwlnY/JRiNGlxwLC8vqUQbFXMkuxfRlbvznGPjpk2klJmbmwyeaMmfKwe4bpqZEBtA1hrrNTHNPK/Y6zqvqq5060XwtF3E+4of/OD7NE3NDjtsb4arIiXHueeex8knn8yJJ57ASw48YGCOwECIGdO+1+XZBVilJJajJ9OMR6oM9dD3U4Iv7U3cv4TyKq+fiwZOvTwczNBnJ08+lQa53g4IMtAhBCrL6QHJVb8qjxGj+3u70sybdzM/P48PwXLy5FVioSZSxXhczZpVG4CqKt19nGwfvIXfpmagi9fpncd7yz3xkgMpmDwYxi528p5Fthujm4iph5DJJFzq1bg0675K57LY32TerdcVhytdSwauv+EGbrjxBhbnFxjVtQCIUw+4mXIxY+Q0LvWl1NxWVqaEUDNqRvhKTZBTzGKoC7g1sCCFrT2U4imOleY3bTvmFtbyzv95N6Fquf/9Hoh3uiFHCkcKX3tZHJrCApnxzNk62vds3raF3gxlPbR4qsjGCjgnRlsgTg1fBYAymVWhIZMUMXoCZtK3CR/k7WMsmAyAzlRV1eTc0nZTHBWbNt0mnOZUhKF8oMIWi8Eh68YXil6xnF+c0xVzTc10uqyQf1aRV5cSOcPY7uNOFiIqwDVaUnpOcrBSzoS6ZjQesbKyIkfBjHJOChXVtd3skeXY+qA8rTVr1jKdTsU4Op2/4taE0sQ2qS+pNwCLhf8VEleBXQbq8Zgrr7qSW26+iTVrFozF1t9HowbnxAj1vQAnzkk/m65Xe0Kr4HeZNWvXEAICgMUFGcC89JCMV6Jre7Zt3QYpUdeB5CA5y2uLPT6B9xUrdquK85ajlizs7nSjTdd14FRgozy6ApAMoJjOwZjIEkJUfu/sa2DmnQDGzObp32XcmRmjJOAoPTiLbpR9l5OSC0tVUgJKCH5oVr8aqKz+mtkKAajZOjqw9wRSkhNbsigKK+Wc9Xk00FPG70OgWdWYuticws6Vz8xml4rekKbW+S75itJPBQhKvzonW6n1L7pCFdl6uv5WnuUNT0RL65EzpzljdtKvun+47GsBq4WV1OcPgxyen83OZmu+rnlJTnLmX8K9yaJtPtRgLcc075I6YP6HrZEcyFUssgE6MXurWoPhh64G0jGSgTLnAqaHvbNVKlgCCvBVBHEwCoKn6jlTBBIcfQo88tEP4oOHH866tWvpU+K8837HD485hh98//t87/s/4IYbbmRuMje8pySsF+FNxtp46z6NhS2jtcPI2UBNUpJ6sKrGejTiy1/5Cvvuty977703W5e2MZ6MAcd0usIr/vu/ecpTn8b7P/CBQcEkQ/hlwyR4+qxR0/DRj36UZz7rWTz1aU9n/fr1ujqr5HH5ittu38Cnj/wUj3zkw1mZTpm26mJf1qmAVR0+IXR5jQK3ddPgfGA8nvCNo7/JoYceOvRPqppa1byFucORE6xZu44PffjDnHjyiagnYLkIWoKlddQzuqhWDaup7FTawMgJEbMaKiJw5llns3XrVrFoJvz3vvd9+NjHP042w0/OdO2UZ/z73nz0Y59kzeJaervXtnjwc/MLuFUelRi52XcGlruWk045lR8ecywnnHgiy63uhy3KzRnjkFJJmNVa9r1yqUpzy7o2L8Vy2YL1sSoKRv/RHhe2BmM7nYVinHleyneRB5Yz/PDYY/nq17/GRZdcwuLaNWDMaiJz2+2bOPPss4kxqjO6TrWFRxVSzHadWoqJ8WgyWKW4qtGzAIxk3HlPPVKoKVJCbgaY5GsTu84YpWy3n0AfO6yQnWwVlT4EGdGuI6bI/MIiX/7KV3nJgQfysY9/nPPOO8/WbRa+Kl7voD6dmDedC30vLK7hzDPP5Jvf/BY/+elpluOqymkzEfz63HPZsmWLjI/0xSpjMlN8wVjtS/72D26+9Xqx3VFhSgFXebYKpVl7prqWz+0cMXXE2DGZm/D5L3yBpz716ez9zGeyefOm4Zxly4fSGKxC35oMF3Abc5ZBs56LkpnCglqBWqWcrb7vEdOuuVSVN+Y3sbKidIlm1NDHzKFveTsXXXwx1aih7Xp8VdGM1D6pOCfFMESrunQO6qbmmmuv4Zhjj+Ub3ziaa6+/kaYZgSnrydw8W5aWuOjiS4gWFgpVoOs6ptOpipWsIKbvI3Pz8/zyrDP52te/zg033gjGTIdQkZ2nqhrJpAHQnJXTdOVVV/Hc/fblmmuvpap1VWDOAqh10+gZxkCBxp4tPK3bgMRAtW1LqBo+8tGP8prXvoYjjvgQF190kULaGS6//DJe9epXcd1119ramMF0mVBXdH1LdmLBqyowv7CADzUf/ejH+cbRRxu7oqsEi/4tLIZzigj98U8XcNjh72duYYGYEpPJmKoKtO1U+sVDMkZVRYUypoWJxYP3Na8+6GCuueZqc/JLQ3IZ4WCdA0DOTmHXlfIgO1BAjQyOzsYsbUW6oOirAlLKd9kbW2gDB5ZTbTbGmeMVgorbeivY63s115ftMXbeAJrYRP3cx5KGpQGW3ztz2gs7rJHOnqF3zEKf3lsXglUOUrRii2hN8ysrfiwAUMsmB1L6dDaSfx1veU0BN6bL7cV1XeFt/6W7tDbRbhPRa2fOaCxMogFGrNCoDKsU9oD0gXOOru0gqxgthFlLMOEa7Y0wixEMNv5QyTlypqy9D5DsbxapnH1JP2AArzCV5ecCRlOSMVc4Wc5ykSTvZ3m4zhz8wvZ7w24lchHN/s3krciJ1jbljE951oohxk7Gj8C2lU1s27RVCxEqvnzUN/jwR/6Pf/79Ei7881/Y9wX/xXnnnU9wotW7PokRrGt6y4XKZkCnre736y1ZUU6fZ9r2JFR80fYCW9NpyxFHHMEpJ5+ivyV5aw4HLnLa6afzpjcfyralZdrWrv4Klbxs85bwgS4KXGzesIGP/N+H+cEPfwBegEbwS0bbVyOO/MynedpT92LnnXcm4/FVY6FGqwrNoH00byQLePWxp6oVCop2INu+45abbxUYTWop0cZEG3tkWRKpj/TZc+X1N9CmZcajhtRCE0Zg9xVDRc6OPont6Pqerm1NUMH5ioynS47saqhGbFxa4T/3P5AXv/wVbNi00UJumXa6zBOf9CRG4zm++73vU49G4KDtttH3PTffdKvyrrLDu4p2Gkk58I+/X8bGDRutt5+S6lNvCeFBYZfbN23lpa94Jd//7g/45je/x15PeRb/vOyfpLbFp55xMwbbx66P4IJC9iEQvaM3bzN1CZc8Pgdip3BoVek2g5TKWibaXu1MSoK6D8qlUim7N8PlqJuGLVu38cL99+dHPz6Vf1x2Ga866CC++d3vkr0nB89f//F3nvDkvXjP+w9XY4skw5dipG2nTFeWyaVheUpUvoKoUv2mqhg1Y7x54ClD1yexwM6x0nf0LkEIbFvp+PyXv8Itt91Gn5QEXNee8ajGxahv81Z9sJYvVU1y+m9j+5VzpusiZ515Np/97Of4xte+ziMf+YgZswK0lieJFQSVFh0gRiVlyeO73vMePv25I7nm+mv5zGe+wMGvfwOjsWc6XSbGzH+96EW84EUvYsuWrdaAfRXzYMaq73v6LomdrB3j8QIptcYaGji3ddX7EnhHHzNdlywkBy5A9pnllSVe+apX8YPvH8+WLct0sVX+ZpZeEJEnpZ0zuisY5QROW11DF3OkSx1d7IipI/tI3YjRna4sE9splVdj29SL4Up9pOtW6Lql4UaNmKDtewg121YS1WRCripSCNyyYQM33Hoz0SeiM6bP7uEMwVtOcGbLlo0cdth7+P3vz+eiSy7hgAMO5Oc//wXkwHg8zx//+Gee8G9P5rDDDrcrn8T6OgfJcvL6FEkuM7c4z3vf9z7e9973cvHFl/CC57+QC/98kQC087iqJgJ9hja2rLSqTux7rcUVV13Bho0bqKz4LsVMTIFIoJcPRSgtp9BXMqbKIYxSVY7lac/3vvd9Pve5z/Dtb32b+933fsqf9IGty9u46JKLuPnWmwhWZezMscElqqYGrErRSTazq/jd7y/kumtuwCVH5Wq8a8jJkQn0MRNTZtp19DnRpcQV11xD76AnMV1ZIrVTBXeDw9WB7DLjiYqg+iT703YdXd/R9is0o3luvvlWVTOX3pBIv68GI1KfhemxdAdzLBXBFXQqQCcOXQXK+s3Yr9mqlvQdS4uKat7ucficcTFRO49LidxFYtcp+mHOZTHqcr708QoDWj4hxvJnFd/EWHKYjRyxosMYe5zXxibLUa2slY33Hm+5hgKQsnVDz8ms3/e9ckCLk5mMkMAqep0x5BjAccYelgWy4eOsOKcATn2G0mL+JYxsr/bBq4q2pNx46wIBOHl++KS1TG2Hy5lQiC1j/5rS4q2kslgYWcVqHm8Vv1Ulh6jvVBxSxlbG5JwD2wsVmphjakWmBeAJvM32KsZeoG2VM+As8pWSAH6yQhM52yWEO8uLLXreWYRKumfmbGjN9HcfFDbWPohTHDxV5+QtkwGf6Fc6+rajGY0Zjxc58KUH8smPfYQvfPFLfOhD/8s73/EuNm3eDM6zfsNGLrzoIm5ev57RZMK061haXmZ5eYWuV1LsFVdcwe0b/h9VZx1uV3W08d9a2865Eg8hJLgXaXEt7hYI7p7gxZ22lJY6TmmBYsXd3SleSnEnQFyIXTnnbFnr+2NmnXu/9MmTktx77t5LZt6ZeeedhThvMDair9Hko08/4/sfpmlJUzah1cpJk5Q0TgToIETHNIspyoIoTiUjpLwL4eSIpMuU76bw7fffYZS3UktjLOKQ0VF0UoIRrtR330/jv++/xyEH709/fy9lBa1CSpz9jV6mz5iOQ3gtktkYIF5XZSmXy5WURc7iRQs55NDD+OeNN4noL4bCOYgjFvX18fU332C1VT4vK4aPHk29s8asGTOY9v0MIptQVY5mqySKU4oKPvn0C6ZOmyZyIToxwXtDs5mTlw5sjMNSOTji2ElsutXWjFt2OZyHPG+J4Y0s8xfM56hjjuXBBx/RxouKtBZ0DqW5BeRO1ju7ePXVf7Pez3/O9dffgNHGDqddb05J32UhcjOdHcO5/ZbbePSRxzlm8kmcdOLJRFYaWfCeVrPFj/MXKEcN8rKidOCsrMuPCxZio5i8WVDkFWUpXaMzZ82ilecK6mWUn5jQgVQ3ajzbxlmbG7Is444772T06NHccedd/OFPf+Tmm2/iHzfciDPw9ZRvOfXMszjqmKPo7B6C0dJhKKO7spImFkRQ3MkDk7dypv0wtT2TUbLNcmbLytEqShySgc2rio7uIdS6urnn/gcZPnIEQ4cPxUaWosgpmk1iY0ULzzlMFFE4R1bvYMHCRUybMZNceVbOVXR1dhLHCX39DUaNHEVXZycjR4yUEr/ynYxmPQkZcDWgRZFTliW1ep0PP/6UZ55/gQcefpALfnkR99z7IG+99Q7vvvcW1sJxxx3H+KXHs9zSy4C1MltZDUowfmVZ0mw02g6yv9FHX28fxgrVII6k21eiMbkv1sr7FVWFN4bZc4S2MVAdgM7OLkaMWJLhw0eSFzJkPIoSbCxZjIWLFjJ9+gzRzsRQ5CUe0QYsqgp0QDrGk5ciRzN/0UIWLFxIWeagGl2tVkmaZixatJj5CxaQ1aTk7fB0dXXjscycNYcoScnqQ2gWBZWBYSNGcsFFv2SDjTfm0y8+wVtPlIgBloAwZLM9nV0d3HjDP/jTn/7IlVdexZVXX8MFF15Es9HktVf/zWmnncFWW22D8wjp2ztcVZJEllqthlWeTpQmvPOfd3nqqSd57NFH+ft1/+CUU07l93/8M81WjrcGE8XUOrpIajUBoYml0IBitVVX47V//5vll19OBrdXjrx0xLU6mJiFi3oG9qdUB6xBu3eVTuCp6OzsIKnViSLLcsuMp6ujg2FDh5HnBXle8NOf/pT3/vsOa669Bv2NfjzQaDTxeNI0odlsKlD1FGUTrMHYmDvvvo8zTj+bvFngK0+eV2Ak8F2wYBE9vX1a0YH+VouhI0dhk4S+VpO0lmG8I4kimq0WxBH9rSZ9/X14PHkxMJfaWEOraNLMHb19/dhY5DV8qBTx/7l4YmsEKAwAEg1kBpcIQZ2qdsmXA9ltY3ResdIjwtfGcSINf3pHjUcatZzo01Ep4EQ62yO1wXEss92rtnyVSAPJfkl2WAJfaTL0Wr5tg1JrpYkoCmBVqVlWKgtFmSvoGJj56jWYzotcAKN+XllKB2pZljLiVRsMjFGh4nYpV3BFpV2pASiWVUVRyjQhQqe2Un/Q92kD5lBG1mdBs3nBNjotP3vn8GWFBZJIuJGJNo0JWNYSq1Iuskwk4IqiJNdgKSR9JKxUCobueaVl1kqzr/LsEtR6I9z+ssxlCAKSUQx7FJ61pb5DElWaVXRhvGFFrvzVsPbOiTyVfLbIvBVFQavZagNqgqSV6vCiuA4N3ALYdKFCJWsayjaB06ZdhJombzVzDFAVBY2iSbPZYvXVVmPmjJk453n11dc48qhj+N3v/8he++zHAw8+ytBhI7nn3vvZeLMtuOaav3Hsscdy8skns//++/PJJ5/y0UefcODBh/DbSy/l6MmTOeucC8SRU5LYBO8teVXh8lLLEFI66OruFuPlHKnO7YuSlP5miyOPOoozzzqTI446ir9cfjm1ep0yz+UAJFrqMRFWcsvU6h289c67LDFmNGOWGIF3jqHDR3H7HXez254TOPjggzntjFM57IhjWbBIHEezkQ+SgZBmglotY86c2ey8665suOlmnH7G2WRJQhxFpFkHt95yG/vtux+TjzuOrXfemU+/+hwijzUJ1117A0cfdRSTTz6ew489lmZZYms13vngA7bfeSdOPuVETjrpeJ54/DEW9yxi590nsPUOO7HNjjuz/U67ssPOu7LRJpvy4AP384/r/sYBBx1IMy9otnLRNUN4b3j4yU/WolmUTJsxlSyzJHGqkY5l8aKFOCdRYFnmrL76qkw6+GC23morWs2m6qKJ4fBoiR3hFVVVSaO/l76eBUyedAzECW++/19GjlmaK6/9BxP32YcjjzqWPfbZlxmz5pLVO7nssis4ftJxTD56EsdMmswJvzgNkgiijOmz57LnPhM56thJ7LbHBB59/Alq9ZqWT8UYhAsbDZKhaEekClJGjR7N7Dlz6etrEMUxn372OcOHjSAyEaNGjOTGv/+NbbbeRgyOGhKxKZ4ottQ6aqgmMt1DRvH6W2+z0247cdKpp7D19jvyv08+IunIePChx7n++uvp6qpRq9V59tkXueTS31NVJb/57W8559wLWbioh1PPOJ1TTvsFn335mYAM7wEjGohWRnBlnR3c/M+b2H3X3TnqqGPYffcJTJ8+HWsMN9xwIyeccCJffP4Vl/7u95x4wgk89OCDmkkRIyLGXDhf4ngGyN1ZKt2Io0aNIs1qfP/D98RpwoxZs3A4Ro0ag7GWCy86nwsvuojKw+JFi6hUCiFNkrY2n0TDsdAUqoo0rREnllbeaI9KQhu+Ih1cb1UXrPIVF150PocdfihHHn0sl112DVm9jo29gD1n6OvvJ89bRHFCoWPezjv/PI465hiOnjSZI48+mp6+HtJanYsv/gOX/O537LXPfuy8427cc899ZFlGHNV4/vmXOejgwzn5lF9wwIEH8sKLL1Dr6KLeNYS/XnU1+xx8IAcdeTi/OPMcSh+T1Tp47/332XPPvTj1tNPYb999+fLzz+nrWYTFk+dNdt5xB7bbZkuWGDWKVBufQnnIadTvdCRjkmQYE9FsCQj1VHR311hhxWW565672HnnnXCuoqNeh9DFa63QAIAkTal3dPDYk0+x5tprM37cOObOmcsOO+zExx9+ypffTOGEk05i0803Y9JJp3LmGWfys/U34b8f/I/uIZ1c87d/sNHmP2f3PfZk5qxpZLGhVqvz8r9f59zzz+PYo4/hwAMOYPLxx7Ng4UJqWaagRbLpzg90CP7973/nxJNPYuGiBZx//vkcc8zRPPP004wcOZIrr7qMrbbbmT0nTuT7ad/S3dlJEqe8/tZ7nHjCKRxx2BHsv/9B7L3fwXz77XfUO+q8/sbr7Ljrrmy9zbb86/bbRZoLKLzjm++/Z/udduaoY47msEMP5e/XXEstqxHHNd57/3/sf+D+TJ58AhP3P5RvvvsBby3dQ0Zw5ZXXsc8+B7DXXhO54IJfkiR1avUuPvjoQ3befXeOmXQ8J5x8CqhTjSIBNwIMBFxIVk3uUOgElWBK75gLZTk5397LfHPJusvnJNol7VQOJ+AXq80RApykouS1Sa7yHhNbfGRAy6pRHJMkqdrcAT6zRygoUqaWLKTXknChfEpp1JGOT2HaBHksqMqCIm/p7GcpcSeqpRuAg8iLCHj4fxkk7YZOUxEfDwADwWMYY2m1RIooABMTeL3akBICdFk/ATfea3lZf453ktUzdgC0AW3gCEJHiBMp+7ahulWlAiPTqdqSPloulp8XKhI6EUsrCeheosFOqVzANEmJIxFBD2Vvo3sJUmZHs6+hDFxVYgusdh6jfsmqPUxiqaQlaUqiaig2MtLspjbEa9NK0DlOUxFxNkgDWkh6tANOI7zTvMjJC9FGFfColRovANOKERcOR1FoyYkSXIQxymcgpmjmzJ/3I4v6+3jrjTe54NwLmLjXXgzpHsqyyy/PbXfcwYuvvcKDDzzEFVdezYyZc9h7n/059NDD+OOVV7H11tvw4osv8vDDD7H88sszcvRobvjnTTz34vP8+/W3+N+Hn/DyKy8Tx+CLCqejibyKbKLdLWVVkqYJeZ6DRhIew+8uvZRVVl2VZ59/jieffopHHn+ct95+iyxLMN5R5IV0t8WxEpulOePDjz9mqaXGUuQN3SxoNHNmz57NTTfdyJNPP0GtPpSHHn6ItBaDt/T390vmMYmltFQVjB49muuuvYbzzz+Xzz/7ko5anbIq+ejjz/jH36/nnzfexDv/+Q/b7bgjf7ziz9jYE0cpRQseuP8+nn35BXryFrfecRfdo0Zy8e8v5RdnnMZ//vsfnnnmKfbYYzeSNOHS313CZZddzl//ehl//fOf+d2vf8U1l/2FbbfYnBHDhojcQhTR0dnZ5pVZKzOXa/VOOruGMH36NGzkKStPWQrRvV6vkUQW7wuKqsnI0cP46+V/YbPNNyHWjihrB8SVrTFEqUw4cVWOpSK2JVkKw0eP4YMvP+Pt/33G9Tf+k7/97VpeeeU1Vl1tdc694EK6hgxl5szZfPLhx/zr5tt44MGH+PL773nh1ZfJOro59fSz2GPiBF567d9cec21/Orii/nuhx8A4RkmoXMXybpWZand0vKnd55ms8leE/dm44034ajDj+SPf/wTV111NZf/9XJc4RjeNYRlxy9Df28vixf1kDfFWEax1ahTSiBEnihNmDtvIaeedQZnnHsGL772CmedewFnnns2C3sW0ttTsnhxL1WV451n/o+L+G7KFMCz+eY/Z70NNqKv0eIna67Fpj/fjOEjhxMlEXlV0swLJRAnxFHCp19+xeV/vYybb7iJl154mQ033Ijf/+GPZGnKmmuuwZZbbMWQIUPYfLPN2GTjjVlmmWVoNBpCYVAJCWOQyTDqNBLtOI+ModVqMXbsOM4991wmH3c8f738Mo6ZdAx/+vMfWHrpFbBRxHIrLEOj2RDA2z2EWi2Thi5t8AkZkDiOSFKVPvARG228PuPGjROgVojwtEBOI6r7GLqHdnP5lVfw4/x5PP/cM9x91z3cc99jPPn0M3hTEieSgTJAltWxRvaj2Wqxy+67cdd99/LvN96k1tHJH//yZ5I05c233uf5F17g7rvv4tbb7uSqq6/l7Xfeocgtv/nNHzjvgl/z4EOPcd99D7DZz7fAxikPPf4kjz/7LLfefQePPvs0n305hTvveYSKmBNPOonDDzuUxx59lN123YWp075jzOiRuKJFq6+PXXfakZtuuJHRw0eAc0RibRVICLgtihK8pcw9zzz1HFdffS2nnn4qf/3rH7FRxZglRzBu/JLMmzdXnRiSXWgbcl07Iw5t1dVW4fvvv6PZbNLR0cH0adOZu+hHkloHX3z5BaeccjKffvkNCxct5PDDD+eqv11Nf97LDjvswh8u/T3ffvcDc+fOwDiR5ciN4YZbbuHQgw7i+eefJ3cV1//zxjYARZ1/pCO4Wq0mSyyxBD9d92c451hrjTXZaMONGD5sOH29PUzcZwK/+dWlfPbl1/w4f7aULm1CX9Nz70NPcMRhh/PoI4+z7HKrcMVVV5PVMlZaeUV+//s/MHqJJfj6m69Jkpi8KklqNU45/TQOPPggXnr5Ze6/9z4OOfAgyrzEO0vP4j5OOG4yDz/wCCv/5Kf84bLL6Bo6lH/dfjfPPvMi997zIA/c/yBvvP42d9x+L81WyZlnn81JvziBx554llVWXY1vvv2WSGesOgVfUnYLPDApjZYqeyOgUHaJAEq0cQnlk+MRgBALf9WF7JdyjRVnEAJVVP4rq9eI0hgfWUwS4wyYJKJ0FXlVtMvvVjl6inmkRKgBa+VChSKMYgyUDM3waJdvAAdxLImQwDcTBYhi0HhR2u9ZKQAK4CaUGq02UoSzKh35AtLkv1VkXF8+rGvImqHly5BZDEAwAEj5VOX+tT8XBZmCDSpXiS/XDnETRxAZXCRcT2fA6x1yKmtTOclMWmvI85bIZem+isZt4LBL5le3WCpoaOOfgqjw/F7fUfirAgjFPibaJBPWVLJ6jUa/9jpIwqKsSlp5SwIF5Z2i2UmxJQIaQ1AmHcSy3+3sY5gLrbxolK4RMq3C35azEFjgcqi9pAdt5KmlHZS+kBJs5Rk6tJv777uPvfbaj3PPPZvllluGX/7qV2ANq6y6KjNnzeDsM8/hur//g57+PhYunE9nZzddXV1svuGGHH3MMSxauIihQ4fS1dXN2LFL0d/fzyWX/IZf/fLXzJ03n8WLF2JVhNPq1JAkiuVA64UJpUCn0Q4G+vsbPPboY/x885/zxWdfkCUZa66xJo8/9ji1mmhYRVGKx9PKm8g5lU0vi5zuri5xnFY2tywd2227HUuMWZLK5Wy04aZMnTZVgYc4VKcjWKw3RFg66nVWXXUVVlhxFeodnTQafQwdOoQ333qHNdZckxWWX44Z02dwxBFH8elnX7Bw4SKqssWeE/YE72k0Gxxw0IE89vgTLF64iC1/vgV/u/ZvPPfsC/Q3c2odHdQ7Olht9dVZebVV+MmaP+Ena/yEdddbl7XXWoORI4YTWUOtlpFlGVma6eaLMG0UxdSyGkOGDKGvr0/T9Bqp4KnVMjWAoTMNenp7ZbSSk/KdCFCrEHE7dR4Tx1a4Ua4ib7Xo6hpCb38PTz71DNvvtBPrrrs2zWY/k44/gS+++oJFixfTaOVMnLg33V2dxEnGT9ZYm6++/IwvvviSr775hi23/jmzZ81hlZVXZvSYMbzyyqsidRHFkp1TQ2vU+KBkaLRbsNCJF12dHXz71ed8+OEH1LIMVxbkraY6swad9S6GDh1OWUm3o6ukq9NGog9YViW1rMbb77zHqFGj2XWXnZk6/Qf22HNvojjhq2++YNjw0fQ3GkL09+AxZFmNjo4ONtlkE/acMIGVV1qJo444kokT9mSJ0UtIxOk8eIv3Foeh3tnJo488yqabbs6aa67O4p5FHHfcCXzw4UfMnjObTTfbjD0nTGDEiBFss83WHLD/AayxxhoYK4KnYf+qSkrxaLQskEIll7whwtBV76Rn0WLeevNNenoX0mw2lccimY44Tqmqkt6+XnUsoQQixl8yilKiqsqSnt7FHHTwwWywwQZUVSVEajWmTkWpvffMn7+Ql156iUmTJ9NoNsiyGjvvtCsvv/gKSZyKjlWkWnleAHxRVNQ6Othk00158403ufpv1/BjTw/ffPctaT3BOcsRRx7C0KFdjF96aXbbbQ/uuedehgztYuy4sdx7z1189vXXRLU6UZrQ12zwt79dx2GHHcYSSyxBbCP23XdfnnziSaZ8O5U0rbHHnnuwYMF89tt3f1ZZaWXmz/9RnKLqZy1etBiAqhCuU6WZhOAAxIF55s6bzd333s1DDz2INTFLjRuP8xUWjyuk3JxrUIqW6b2XzEFwPP2NPnbYfjuMgb/+9a+8/NLLnHfu+cjthu6uIWyzxRb8bIMN2WzTDdlqq+2ZN38OuBarrrAqm268KSNHjiDJRJ4qjlMWLupjs03WZ+stNgPn2WLLrXnjjTcpikIyCSp8LeUhoQFN3Hsi++6zD13dney51wQOPfRQ1l1nHfK8yfIrLMPWW+9IR70bG3msQB/6mgXbbbk1m2+8MbU0YeeddufTTz6nv7ePJccsyc8335xVV1mVvt4+yRwnEdZ4frr2Wtx3/3088+wz1Do6GDlyNN4bevv62HSzTdji55sxf+48Ju69L1N/mEpZljz44EMcdvjhdHZ1MnbceI6ZdDRvvv0mr732BnGascfOu7Bo/kIOOvBAlhyzBJU2OBC6oAcR+I12nIP4Ha/lwSqQ9hXwVKUkS+I4UY6wfH24daYtuSL33Xvpng62S4CnQhzlAoaScKw8NNHxDF264gyjIBCtJUL5udqootpwknGTJwnPLGdLuV6axQvg1Wnncvg35ypKVyrOUuDb5ja28Zy+n2SaULAR1tCE59LMv0fX2mlXfJtDqhnXQdQd+SwB31Upax/+3iDrWJWSmdMFFxCmsltivyvyMiSJJJGF0YZN5dhFQVJObbIJCFozvM5JM4tzA1nNNvDXfZZnkyeTzxl4zrC+grS0OaZdph6gELTPiUe6hAednUJpZc45fBg8oDJPlb6TtUF0W1yi7nrbJoX3AY+VNKAIBydJBEY4Ab0L+4nrCSYyuNKxcMF8jj32cO66/Taefupx/vKXP4reVJLw+z/+gZNPOYnuIZ2sseaaSGWxRZqmLF68mHHjx1EWuZYRRXLg4QcfYu+99qLRu5i1frImQzqGton0ThszAIyFohJphbIssSal2Sio1WpUviTLEnoXLcR6OOv0MzlovwPZdcedeOu11+ms1+nt7cH7CGsyImvBllRY8kLkDMaOWYKZM2ZhTEJRtYgiQ6vRBGnoxHvRwvN40kw0tZIkIUsScI4sSvGlxzjhhfX35ThvaBb9lFXBF198yZAhXRgcHfU6w7qHMrxrFD0Lemn19zJ61HBB6N6w1JglcEWD1uJefnHs8Zw86SROPuU0DjviWKbNmMMPU6ex24QJbLjxRmy08UZss902bLXVlmy++c959tnnyJKU/p4+Gv39NJsNvBMgI5fD0d/fy7QffmDUyFE6ENoTpwmtvMXixT20WjlxnOGdJat1YCOZZtLKJW1cVGEsmQjeyuGPsSamyHNaeUEcZ/zw3XcsM34Ujb7FjFlyCcqqgXE5I4aPIE4Spnz7NanJGDFspOxhmuGcIbYVM6b+wLwff2S//Q9g7z32ZOcdd+K7r7/BYoijFFyEd6ZduohsmIUqOlfGWKIoobt7CH+97DL+/e9Xef6ZR7j9tluZfPxk9j/oABr9vVSqQ+l8TG9PP0lqabb6qZxErrH+Nh6azRa9ff0MGz6cDENnR4bzliHdQ/n2my9pNJtEqZUxaprO985TtHLKXLh81sHCeT9S9LfwhcNXkESZSN94aVBweBbMncvo0aOxqSHNIjrqnXR21mm2WpRFwcJFC6kqEVNuNPrxKtqZJNKRnCSJGETNZEh6X0jdFkN3ZxfvvvUmv7zgAu66/U7u+tftPHD3XVx6ye/4z3/+Q5aJxIt3BhN5skznQ7a759QYavRZlpKF7eqqc8bp5/DCCy9Qr3fQaqk2G0JYjmxEWVbMmzuPTz7+lNNPO50Ju+/BLjvvxMMP3cvQIcNoNmT6SWdnHRsJvcPqOKO58+Yzcb/9uPqKK5k2axrNsmDYiGH0NxcxYuRIVlp5GTAFzWYfI0eOYu6c+RiTc9NN17HcsmPZ/6ADueiSSyhcQU9vDwsWzufyP/+V/SfszcRddufm669jaFfGnJnzGDNmHGktIaunDBk6nKWXXo4kzdod20Y7+fOiotGU7ltrZQKLMaIfGicRnoJRSwzllluu59+vvc6pp5zBIYccweK+Bq1GC1N6SudEGNpacSEhq2M8lZOSU2wtXR0d3HjDDUyZMoXrrruOyZMmMX6pJTFJjK/ANVtUztPbu4CicHR3ddBZs5T9Bb2LF1O5imbepJE3Vb5FZqR31iLyPKejo5OOel2BjRnw6mFknPMsWrSQvJFTq2U0mn3SMFFoFiHyLFrQRysXw+l8RRJDnGbEUUxXLcG6iqqoGDZkKPWshisrkeIxlixJcWVF1cqpmn2cc8ap7DdxT44+6mhOOPFk5i3qodJyZO/iheStfpIY0sgyf95cpnz9JT9M+45rrr2S/Q/cl1123Zl/3Pg3ss6U73/4nrEjR1K3CVFZseSo0YxdYgmaff0YLw5WvLaWCgeBtMHgzWj3awAKbTylfxcyiIE3KF5XAIo434EMjPwc4bWVYaqEgpkQVMXt0WbSkUrQ29NSoxuUdQz0owGgKYFwKEcanYqR6LxXNFMkmooqc2ICSGyjlPbnxNpAZ4K+4SBNOPk8KZ/K98ifZaHakgpK5N8GOqLbTV9OOXKKRZwI67Y7beX8hUYPAYgSWMkeBKAcmtic0n5kbRQgOkdbSmxgp9vNIeGzwr44nfIRfr5HsrneybrJGgjYtZqF9fpzhauoozVLDXoJkj1h+otwlFGpsDiKyLJ6mx7gnGQo0WdEuYbGCrh3TiSh0DMZFCAE/DnpY5AX1TULZfVAQ1G0CpLe974CV5EmNRqF8FI6uzqIU0u9XmNI1xCML2m2+onThM+//JKbb72F2/91GyeffBI77LA9SZbS0VmnXssYMXI4UZJQq2V6MCXL9Ke//JkrLr+cX//q1xy4//50D+nSxRAJFBFalg4tVOU6jlOMNwzpHoJQKqHZbFKv10iThAfuf4Dnn3+BJx57gnfefIMLzjuP0jviNBNtIu9ko5NM4tGiYPNNN2b27Nk4pC6fpQmdHR2MHbukNJgkqciLRBHNZks6LMOldlDkFZER3TyJGiRSHzqsm6IqGT9+PHmzJeXSytNsNOnr6aee1slbDRb3LKbW0UGWpvzw3fcM6R5OVy3DlCX77b0Pb73xLhusvxGTJx/H8BEjePCB+3n55Rf4979f4cknHufee+/h6aefZocddqTZaFJLU6x2Vclhl1ZzV1ZMmzqVRn8fS40dhyvlcBdlTlbL6B7STZqlCmxTXnnlVVZcaWX+efPNDBk2REYqaUZDoh/pIPOVEKStjenuHsoHH3zArJkz2Harn5OlET2Le/A4Wq0GixctpiqbjBgxHHQYtXMyDimJEqqixYjhQxk7dkmeevIxHn7oYR5/7DE++fgj9tlnX5qNXEr7TgyPaUsLyH4IV0P+rtVs8sILzzN50jEMG9rN4oULOfbYY1hq7BjefustOuq19vcMGTJUsoHq6ELkLxG/GN6urg6ajSbGGbx24vUu7mHZZcYL4EpTWmWJiSyNVoN6LcNgcaUIkBetJomNMF7kfAxC+q5KifoCoBjWPYSe3j48UmLo7eujt6efNElwriKJIiBEywO/KldpuSQizbK2hJIPPCQ1HJExPPP0M+y4ww6s9ZM1WbxoMSuvvDx7TtiT1155lTgSgJbnQvL2vpKJAV4iT+HIBCkHAQkinCodxd6J4arVZGIKiPcQBXzH2CXHsvpqq3P5Xy/nwQcf5N577uaNN17j7LPOEVDvPTbydNY7cKUntjEd9Q7+edPNDBk2gicef4LfX3op2267Lb39fZgI5s+fz4yZ07BWKAtlWTJs2BBaeR/d3R2cftopPPbk43z61VecddY5jBw9itEjR/LLCy/g9ptv418338LjjzzEdddeBXhmzpjV5kkt7lnM1GlTsTYmTWtktYwrr76KTTbdjFmzZmOCtqk6wEilL8L3g6Ovr5fFixfx859vSX9fk8U9vXRkHTItQx1LFGv3njqhoizwmgGMvMz6HDFiONdeey0PPHA/S4wZzbLLjmfs2LFEJhJtUgMykMCyuKeXqsiJbUyWSTNcWqtjo4RWniuoiDB40jiWjnV1cKVOjwlOMYpE6Nt5T9kq8a6gXs8E6ChIEZtoSOMazaY0YYGn1eqXbmwn+g2hQ7zZlECm0dcnzRlJSlarYw3ExjC0q4Ojjz6Kd999h9FjxnDIYYfTbLVoNvsYNqSLzo46aRITG0d3R53uri5GDOtm0qRjuPHGG7ju79fx9DOPc8lvL2bMEkvQ6m+SRQmxsbT6+1i8aBGd9U5pamsDCHHEIYsWwIhRbl4cx6Q6V923M4OyBqGpwjknU4yKASK+H8QPRAGlc15LdkLRCGVOV1YUeYFRB+0V6EnmaGCMWqX8QMkCDpwbryXMNJXnDPw9a0VKSoIK/a2ABD+QdSNkNlUgOm6DXC3lotl4Le1aK6oe1oYubgGPYS1KnWEuv6WTdQBfDmqSETPRzoYZ7YgViR8F1gqEDVoqNwNC6miHrqx1KG9LWTZM/sJrxs4LIDRGys4tzY4GcBX2B0QxJPxMawMAk58hX4eCL5lKJJ8jcMppBUZAoTTZgUixWBXb90qdMWYgI9q2tVphsQranAJgMMprlH23CgzxSAlYgX/YB1HrMBgGfLh1rgLvKAt5eecqIirppHQJzkN/YzHWOvJWQZrFMk8OkVkwUUKrWdDX28AVFVdfdTVff/UNjUbJop4epkz5jpkzZvDhRx8qb6iiKHIq5LJUDh54+AHeeOdVurqG0GiUfDf1O6Z88zUL5i/k+2nT6O3vpywr+vtbLFo8n1mzpzNj5iymTZ/F7LnzGDJ0CBtvtim/ufRSnDHEacyMWTP4cdEiWpVn2uxZzF/0I41Gk2nT57CwZxEY6W5ab521KfKc//znvxQtaDYa9CyWsnMUGZK4g7JqsnDBAj300maNNWAjISM7x+K+fvqaDTCGjs46fZpx223nXXjzjTf533v/o7urkyuvvIxVV12R5ZZdhs56ndtu/RdTZ8ylt9HP9df/g4MPPZgST1/ewFERWVh9lZXpWbiAeprQVcsYO3IE3bUaw7o6GT92LN1dXW3jUjSbVEVBmZdkWV0EIY2lu7ubJx9/jE022pCxY8ZSFgYjSqr09vXTbDWoKumsBEdXVycrrrwiXd3dRIlM/kiyZGCmpgNXgS9bVEWL0kf878OPOfmkkzjogAMY1j2CHbffjqefeYpvvpnK0KEjueP22xi75BhWWGElGs0e+pt9xHGKK0t6Fi/C2IRVf7IKaZbx8ENPUe/solbv5PupP9Bo9AMitVIpjy+k36W7bUDcVPSaLBttsAE33XwLM+cuJMs6eOKxJ5g9czZr/+xnYHQ8GU3iyNDfl5MmNWwsFqEoSlqtglazpNFosOH6P2P2zJk89+LLDBs6nGeffoJGXy+rrrIaY5cazcuvvMqIEUswZ+48bvznDRigq7OTvNUiii3eeJIswxtLX6NBX6NBmmWynkaiyd7ePnbcYSdefvklvvtuGvVaJ7fccjM/W2dtxiw5hkLFdzMlYIuRFS4SGHU2hQ4ED5G4GIBYxcr7W0023HhDHnrkYT74+ENsHPH9D9/z2BOPsdbaawvn01pqtaQ9UUO4fU46yyoRx1azokRk6a6FEkMmgN4LoPc6Ast4Ty2rkWU11l5rba7/xz8YMXQ4Y5ZYgqKVS3a0cDQbLebOmcn8+T/SbJa0cnmn3kW9dNc6SbM682bO45Yb/kk9rZFEndTqHdx6yz1EcY1mq8lDDz3IttvugDEpRUuC2BWWWZrtt96aKd9NpZalbLvtVtxxx+1ESczQYcPweHr6e9hw45/haPHU08/R1T2UZ597gs+++ogsrVM5MdJFnkvw6Yzo8uHxrqJywtNptXKsjZk1ax6LFzeoZZ2URcEffn8JP117DZYZtzSV7lstiunu7pIzVzlslAgJ38oEkaoUfnLZKqilNYqyZMqUbzjvvLM4/rjjKZstms1+WmVBYiFO6hjryQvoaXgKU9DXaNLf20+jt6RyIreVtxaDc/Q1CnGsRsb+lWWlIrLyfJVmLsTkWTyS8W81m+RlTpKlFFVFs1lSVJKB9i4jLwyNZoF1OY3eBs6LNAtULF68qK3dWlUFPy74kZ7+PloV5JWnkUuHfJbVGDlyJJOOOYbpU3+gZ9ECYlPhqgKDaBcmiaXVysmyDn7603V48MEHqdVSlll2PFUJvvBsuumm/DBtBi+/8Sbdw4Zy3/33MHPGTMpKNf+QLFveaqmW6QDoaPO5lAIRMuloxkp4WlKuk4YGkVaSJIDQFfAileMV0CSJzLDVS9QGS1VZkeci9k4ImpQTlxei8RrHsYAjLxNVhOsldzSAUTTgKxTA+9CN6gZlI3UGvW2P2ywUZKl2IIBm+QdArUqsKDAKvEYBxYlk6dFyq/KxJcskvDYUgIZGKAGr+qpGQLdzkiGzxtJsNoWCokMNrDGgIzpbLZH1MqrpGbKmwf7bQaLXTqfPCOexkikcWuoVrCuSTIKVBt4zzwuKPFc7JsC7vbd+ADAL2BaROGtk2o7V8ZdG/04+sxoAzgo+rQZsVVVqB3BQZxBQF+k4w0rfrdDZ70G1RMCjPLeeZLX9+hl6jgQI0gaDVlCpphU1UrCupKgqsrQLYyLi1NDRmTF61GjKIieOrYwxwrPqqqtx1ulncMQhh7LrzruwaMECtttmOzrqQ/joww955eWXmf7DD5x++hn09/URRRG1eo1fXXABF150ITvvshsPPfIgB+47kcWLemm2Ss49/1x+e8nFjB+7BGefew6XX3EVw0eM5MUXX+Xwww/hP+++zvwf53PssSfw/vsf4I3hL5f9hWaRs80OO7DNDjtw7nnn0ioLWg5OOvUULvndrxm31NKcc9YFXHnNFWDFGXV3pPzilFO4/PLLiaIaHfU648ePZenxS0nXU9MzdGgHyy2zHJGVzEasArRZR516Vxc/TJ/OSb/4BR3d3VgDCxfMpyhlk1ZdeUUu+dVvOOboSWy8ySa8/sYrXHjRufQsXsjyy63ApptvweFHT2Lb7bZj5513ZsKee1PiOPP8s9hq+6058IB9+c2vLuSXF55HlkQy4aFy1KII6x2+LMlU+DWylnqWMXr4cNI0watxiqOExYsW8eyzT3H85MlUpSOOM4yV8W4SzTs6u+pyGCNYa+01efqZp9lz7z3pb/RLl5RyIkT0VbqcuuoxK6+wIiecdAqnnX4Wk44+ilNPOZmyWbHB+uty7FGT2H33fVlv40149+03uPH6W+jt7WfEyKEsu9zSVA7SLGHF5Zehs2sYcRbxj3/8nXvveYRtd9qenXbdhcsuuxw0uxsuSxRZyUi5wMmTzInIJCRUVcW555zFuKXGMWGfg9hq2x246LwL+N3vLmXMmCXJ81Kys74fXxWkcZ1moyWaY3jQjsxarZMosowc2c0Vf/0rp555Dpv/fDt+e/FFXHnFFYwYOootttyY8csswwYbbspxx01mk002orPeQe+iHnACopdZZmm22HZbdtl9Dz769BPqXR2YyJCkMUkcUZUlrWaLn/3sZ0w69lh2221P1t9oU955+03OP/98kcKIInp7e1hyidHqYLQ8oZyyNJUJEK3WQJu/jDMUiRmMpdFqst1OO3DMccdy1KSj2WGnHZm4z95MmLAHW2+9NWUhzqxyTYYPH069o67ZdhmlhlfysRoXjPBfrIlJUoshkzKFE0cV6dfWOzqIooi82eKiCy7EGsuWW27Bvvvsw0EHHkhvbw/9fQ2Om3wCx046gs7OGpMnHc8ffv9HkiTm+MnH8cWnn7P33vtywMT9WW7sODqzTmJTp6uzE0PG3hP3Z9ddd2W99ddl4sS9mTFtDkccfjQnnngKE3bamYfvvYeLf/0rfpw3j1NOPoklxoxmq223Zp/992fC3nvz1VefEyUl1994LTdcfyPbbL0DDzx0N9tstTm1WgeWmMpVnHvuOTz/wosst9zymgURXqlXIdgkSanXOnn//Y84cP/D2H7n3dl6m63p7V3A1VdfSdEKc5stXfWa8CpVAsg5jzERzz73ApttugUzps8giWL6FvcwcZ/92H6HHTn8iEM59dQT2WbrbfBFydilxtI9fBidaQw+xvuSpZdekaxjJGdfeDYHHXQQlBW/uvASTj/9PMqqYPTILkYMHw5xRpnnZEnE+PHjqGWZ6r9JmS6KImkQSrQ0ZUrGLjlGSlztsxZzyimns88+u/Lj3LmcecZFTDruJBqNguFdNZYauyTOJmT1Djo7aoxdaizDR4zg6WeeYcuttuDpZ57izXfeYevtd+C/H34MNuaQw45k/4MOZtKkyey+x+5MnnQsS44ZTXdXje7ODryT+ZDelYwetST9/TnnnH0uw4cNY7sdduDQQw9hwh57893XUxg9chSX/vGPnHLGmWy+zda8/OqLrL766tTqnRgjc2hD02CaCYc7SyVrLkBEmwkUCAdwomiAOIlJM9ENTFJRc8iyjHqtLh2ZCqSMgruikIyoOObA8wtjzQbus9WMTsjmlaWICUsmS7JrAqi0hBjHAhQUjIQMpQB4AV6Buxjsg9UOU+ETSuWgyIVLZpR3aHWahzyjJUlkeklVOZmwo+VV155bLxlMVGcv0c+Wdx4Q1jbysro2AqzSNCXNUtDJSpGWQa0VwFQWRfvdokHd2EazYBCyqWKnkkTArdERgUa1EIWvLOc7NLiEbKjTOdfSSCHj78L7yL4MgHIB+AIAQ0m20gklsWqfVtowUstqmlVWoBuEuYvA3ZPA0ppYOG6In7MKoKNYaDhGu6ZduxwcggdZzvCeVqlP8g/yj0Ynh5j5M77zIuEiKcQ0Tbnzrrv482VXcMs/b2bFFVYUbkAWi/6Pk1KwjVOcTciLis5ajTkzZ7Fo0SJWXmVliqKUodlxRPeQ7vYBLfImHiNk7axOX3+D6TOms+xyS4tWmjOUhWiN1bJUi7mQt1qqA2RIspQkTXSIfEmjvyFjvKyl3tnFJ599xqL581lrjTWIU0lFOzxRnJKlNYpmC1+1qBQ0RLElzTIuuPBCttxiG7bbbnuKXABAUeYYWwMb4V2TObNm8OPc+WCtzs2MqdXqTJnyHaeeejIvv/wSb7/7AXfecSt33nETzUZBbDKyLGX69OnMnjOLNddaQ0oAlcdGCUOHDWXO3LkUeYvhw4dR5gVlVWKt4asvviTPc9ZcYw06OzKKVgvXHimFppH14hiDNyJc3Wy26KynJJGllZdkWQdXXHkFaZZy3HGTRai19BCXfDd1Dp988hl/v/ZyHn7ofpwXXo5H1rqsKoyvKMtcyg5WIkxfyYQNZyWqNlFMnEpUWxUl1hR4n5HUOvn+++/4cc5s1ln/Z3qhHI2+xQzp7JTOqtIRJSlQUDpPFNXwzvPf99/DVxXrrvPTdsdarFwUpzwGoxdSshI6/UANbVlVpFnGnHnzmT1rFmus8RO8d+1xV6jBKkuRKvGuIInl4lobk2XSGFTqXN84rjHnxzl89eWnrLjiKowcNRJwWJtibMn7H3zMkkuNZ/zYsTR7FhHhaBYVlY2Jk5hPPvqIUSOGs9RSY2VUEoggtGok5kVBnIrj+e77qfw4fwE/+clqxBHUUksrr0S02AO+opZlwquMEtI0llFcylERA6eaec4TWi2ctRDHdHR2Mn/ePKZPn8b4pcfR2dFB0SpItXTVLFss7u1hSGc3HUkqkbUGhyj3yRqZP1x6SOqd/HzrLTnmiMM4+tAjaTVbUiXXElccx5SVo3AypmpYVxfv/edd5v84j2WXW47Ro0fLdJKqwup4yNjElK2mGPkkIy9K3v3Puyw9bhzLLrs0CxcvZMiwEey7z6Gcf+HpjBo5nFYrZ9VVVm1LEM2f/yMzZ86gKgvWWXc9TBxRzzINcGI+/ugTZs+ezdJLj2WZ5ZbGYMhbJVnWyRdffMbyKyyjGRhx5l47HONY5HeiyIoz0o7eYGwLlQhatHAhU6dNY8TIEay00gq0Wg3QaUNlZejpkbL+iBHDqcqSTJ3qhx9/xD9v+idnn3kWy45fmkazyTfff8+PP/7IaquvysgRQ+nvbeGJMUgWozevSChJO7ooqhLrKnoX92GM2PVaVpe7GRsqU1G2Cro7u3G+pNlsUhUVaZqo4LWKyxoVu1aQ0yhKoClUBhfjS5HP6O3tpb9RStkvksa5JUaNJE4sZauiXktxGPqbFWXRR2dHQrNVMHfeImp1obo0mg3q9RpDuzuZMXMm30+VCSDjx45j1VVWodFo0NuzWLiJnd04X9HMW3gHtVodjJyt//3vf/T29LLEqDEsv+yy2MiSZinz5v/IDz/8wJprrEmz0SBLI5LEUhaVzlq3mh8RABacugByKblJaVW+Ks8LAVeZjDILnDIBTQJk0Myf17msXkuQXj+j/XPUlnsFQdJdLJmvyjnKXDRTQebrWit2QMCWNN65SriV+FAFEHvpQwOAOn5r5T1D1ipkirwTqkvI9Bkj4zO9VEi1Q1eAVfj5MkVJfJExwreTYFwUBsKvkFzymn201pKoNImUSGWNjWakwj4EMBne1VgRlzbadTs4kxhKp6FcG6m4P6rdOdhfBhqD/D3IPCX5ed7L3HRXOZHTiWMpfcubtAMAEL1ZYzTDqZ3TlWZIZZHl/UPpOmQlfWjiUHtaVZXQPdCvQ85SGMGZ5zKqU85K8PkDnM9IOaYhCPBOFC+cZyC7LGqscrYWzPzehxZulDT67rv/4Zpr/sboJZbg/PPOp6OjLv/uPUkUg6tkkTTtar0XXmAqgKSqSpIkJYoiGk3R8zFWOh29lwYPg6TSjTEUhX6NMTJH0IsjlkMs6tXWWvCWRrOFw5GmMd6VMiNWa9ql9zgP9Syjr6dHolSrKfTKCVfPGpJY0sBVVQpR0ovTnTf3R5ZfbgUa/f0kiVzovKggikjiiHvvvpMnn3gSYyMhZWeZZMo6OxkzZgxvvP4GeLjwogvYeMMNtSwpl0AOkaTVvU4iSFRyw3vaWR+8p6xkOL0o3BvyVku2x4MxESDRiQ/t7EYucJKmlE4vWZljDZSVJ7IxX3z5JauutiplkVPPhAeVZBn33v8g99xzD2uttRrnnnMWSZKJiHc7syc8vLwpgqyxVe6YGkKvwptFVRJFllotoyoKuUY2Jc8rkiQlTSLyvKHcPEur2SCJI7I0FcHjqsK5UoWkpWupo6MTgEajXzN6cmiDoZHyZShRlZrtE6fl1ch5L/OarbH0N/rp7OxsGwuQlH4UJZSFgL7IWulu9TJhIPAyDJHIHVlDrZYyf/78QVw6WYMkq+EQvcs0gtja9vSHqqqopameCenSk8+VlLxTgyHZypI0EwHfvv4+ksjoWDdLo1loA4cjiYVfE/irxngdPWZ14oncB4DYirBn5Tw2SdpK/PV6jUajD4whjVOMU1CteomRtTr/VMYUVSqNlGUZOCiLnNJ5TBzzyr9fZdnx41ltpVW0ZCGAvG13rM66jRN8KY0cSRJJIxKeNJERjo1WC4yllma4spS7k8hYxDRLaTYaqjkpEfovfnEaRxx5GBusvwEGaLVaoGBTsjYS3YfudmOkSaDVkvcI3avghOOp5ZYsTcBCkRfYSIAByFoH4ys8Vfk+2VMj03y8o8hbor+VRPT1NShLaUYzKtfi0CytSqY4J3Nsq7IirWUAFK2inaFp6UhH50uVeYspCk8ty6gqGekHgeogoNwr2BD7qtqRRu5XKEnhpfTlvYwNjBNZI2sNZSGZPWOFU1T5CmMq4SOVEGnpygNRklKWwtuyVsuEpeieOucxygczRoPJoiKOatTqnTQa/RhrcK4UEes0JU4T6dAsRadOwIiAGqsiwrYtW1FReUlgdNaHUJXik7wXnmrlROg/SRKKsiLLUggOXs83GPEJRoTtdamoQinRi0SH8LlKqsq1GxDKUkq01hrRyNN54UkYTYj4HLTRQYDZQAetd5qVCxkcK1msYMOq0gvf2ChHDhGPt21RZ6VkaCbZ6Hz1SMu5lYoOozp0wrUbAIHB/ninWUzNVsk5HwBgJkjRKNgSoKVARlGO1ekwXudvO+f0TKlOYinnJ041a1k5iqoEbX4wbeCnwEb4RziVYVNHqOsgINQYS1mWkuhpc+cEKOkLSnJLS6yhIbDQfRWQrk0iCpK9lk2DPItUMuQcYsKAAkOaSWNdsOnBNngFzCiwF96k7uuAoAronGf57JCNpc3zjqKYvBAZnrAX6Ai68P9TbdopdYpTaOgMv7yuCWi2df7077xXlW5rZNZoXhR0dXUTxzHzfpxHLavJBleOqC1Uqt0q3uOrgkTndRaljBTzutBRJKPFrGYSwoNbJYULGlcCqg5A9l4QuRDYJZJu5YWUlFRLDi/6c/IymopHRl455yjyXEqgkRibEAV5hM8oWjdWojYFrGkiYrEBOTvpIsBGouydZTFdnZ30N1qkWU2ndhTE+jk9i3tJlbxclR5rBmYkljrHMRjYcKGLPCdOEpJIUtdVO3sgkZ6k+iUTKoYg0t+GspJxXHEsB8WowfdAkbfkUpgI76Cjs5PKleStFkYjQecMlYfOrjplmdNo9MmzFjIJJYplDJ41nqKQ8mFkJSoBA2G+pVXhWsAYKR+XhXRhWZvKnlISW5S4KgFGHFkpcxloFTlJksp4aqtK8qWqmBshz4rTkLNnlW/hVa3eKRBN0kR5LFqO0ctfVrKvcZoIN9AHPScx7NYgZHvltJSFAAvJHmo630gULk5ADJKxMrJPSP6RZtgkKx5HFhG8HuCEoJw3AWoheyB3Qp5DeB1SbhWjFkXi2MSMSBYmGFnxE3qnjCdOxEiVpSjsWytZ70hTjEVRUKlFirR8b2zIOBh8JcbZRB5jtWzgIY4SAQKlSOVEOo/ZqcMqqpJ6Zx3jDFV7ALoEeTaSE2OjiMor2LYRrixFQgcpuVjlwjA4u1AKYKmc03F06kx138HTajWIYxH0tlbSjLa9tnLnQN7RtcsdliiSdS61Acd76Kh34JyUlCpfkdVSCXKrASftfKWyPwIsRWpC7jWqfSfiqgUe4UaKw7U6tknshffCEZSmUgHUXvlFxhgJar2sXRQlMobNO5LY4HxJHCW4EqzujStbEEXkrabMz63kvazOprY2wsYCwsKZkbUcyJBIICl3EGsocymtRToH2CAgyhqrY8Y0Q6H2tXIygSbLUlqtJlVZKi9Yu7StqEdE1tBq5sRRJoHXoNmyRjlilatkIos2yngF89YYWoX4g1oto5W3xCla4a4ZH2FNTGShqmR6kdEg1TkPxopeZyWgVgCVZl60hJ0kIs/itexaKT8uZFcqbQZIklj4gXkuc9Fj7eytdL5vJIGyCWfbCMgIQMkYI2utIKdyEiiF34irxntLVTqM9RijqgrS1ilgJzTZGCkPys+TZ7RW/r/Tc4XaB2stqSZOXKUSK16FoXW2dTgbXryonBsvEjSRlYk14iuVP+dFhsboehaFdLnGig9QUOfRJVf7O9imR5oF8wpG5Sco8NIkkrUqudMuvQZwOjBPOdx57yWA9WGW9iAenHPyZmZQg4wrBYR5nZ4RJ3J2jQ4ukOBRGricc6SJBGnOKV4wAgyNoQ3eS6VOSKAlZ0CeWe2RUpcExIqpd06aVSQBIRlf2x7bFyp/Xia7RDo61FXEcdweZyu+RrBbsAFRFBGdc8apv45Uc6tycnHCQzQbImrsVcXdWiNdtuKdMRaZ3OA9caqz+bTTpXQOY2MZlaYRR1gMG4mDdoiKvzfS0mwjS4WAncqJNpaNLCaKyNURy8SDStCwNXgjytxyAFTQEqfDuIUAaSPpUJNRRBqRquBjSKVaaylyGZUSaxTnKiflMiW+eqDRbOKc1660nGazD+9KqkIyXvUsFUNRyaxNvSsYFb6UUywXV8QpQ/Qhh9TaAaXvcEldpYRPa6hcSRQbJahqK34caVQt/20HRUPBgVRViStL1dvzpKmUlFxVUuYChIXHJ6nhKEgBBICka2zMYHKuZDf0nALyveIIBIBGiYyRkTKkgFNrI4zqTVWIpIUgAwF41sbibOU4yqg3DQKstfJeSGYZPIlGk1U1kB2JNPMVAoMkFh6Od6py75yqjTjhq6qhoH2BBTAGQCLcFsmOxLEEBiiAkOg5AA412F64dai+oBgeif1lwUIkL4ZIjLV8bSiVRHr3nJKTi6IQZ6KEc+8km2utlNfiSICFc3qOrJC/o2hAZFTOv/CEIo1cnTrdABQ9YsSTREo9YqRELiGUkAT8qiOOLFEkU3/E+YiR9lqSiSIrc1RV1wtdh1qtJmUrI3csgI6yLGWWpgLlcBfkfKNZTQNaXurq6hARZT/QASkOS+BxpBwZo3sq59CoO5FGrThJSdJMKl0GnJWSmmjpidBucCLyW5yCmBz5b7xKRphBclTqeINBN0YSC+Fchs8sB0l6RHEkzQCDQIexMoZQAHWF95UG4WpbNfPhEW5U5RwYydrLRhgBfch/xlEskxdCJl2rPTaUARn0S3lnPoAHxDGD2qo4BgulFy1CqyLoTpvH/CCwbfBqSySgrtoj0KBoz4oXIBEnIrbvSgkMvDqwUhu8pGIiGV3vQ/ZNtex0jYwVoX6pBOjZ0+weCrbaDnJQBk7mimt5MdhhBWteQUt7rbzTGc8hQxP2XHlsen8G/5IzFM6B7I+skQSX8lkh+xOyQzK+DRMyXwNlv7AhVrN9EiAk8ryDAGxkZB1RuyT2VJ4jUiBo1V5YuQBy/vRrqqDlSUhnhbskz+DVvIkRlOdvcxyD7dafGb63KERAWd43cNPCZ+oa6dqjfjSKBsYkhncTe6+ASc90AIcmZNrUP4q9FZuCNsKFdx78fHEsCYpgMyUYlneTc6AZOLUbuk2D9kWPmpFzaUK2V88JRs6OsYY4ClqN+m3/TwZH5zm3fbAstNF9dKGC2dZmlM8ItsdrwiGOVfZn3tRvfaL/EQyvMYY8zyV74sTYR7p5XrMGXmvHRuvGIYoPC2GNThJQIxkWP2yUlOPE2Yb0udMuNqugi5D501mWstmC+n0gMVovxtchlRovo1pMpKym4OCNGOhINXDCs5VlGeTG9Fl9+8JKBCGXoNDMlrWRlIK8lS5GIygdBbzeB8CpjjmWdSirgcMdFtJrlgedZVmp8K7wEtTZarrWWAmPxDjpKWt/nhxCaXYYSO8aI+sRNJ6qSpTZoygmTTPJjGkpk1gifIPwECodvG6toXQlcWz1gkrXEpqtTBRAymsF3oJ2gqlxciqPINIAoYQiYKVyjrIqQKMwYyxpLOC5yGVt5VBL5iiKVNIgrK92N3nNXKmFbANF72TAeGQ14lTtLK9dbeKkc5yXrIp0yYkDdk6NZWQ1CJAShXT+DWQJpAtSuEBRLBc8CG6KIxDg5wLpOKTovTi4yEpXXDiPsg5i1DCy98GOuFB6NlJik+hTAIjcXQ/tsVMaY5hI5snqXfQhMg0GWw2RCHpLNhIrHeWYwINRQ6pGEp3BHGtjUVUG3T5DHKegpQw5n4O4OCGrr5kX5wri2EgQqF3a3skoJskOyyPKOw9wYeJYpEiqSrppBXwLz8V7rxQL2RfnHKWWUeJYgG1wFnIvHB5LHKcqZeLBy3mL41i4U06Em4OtzAspYQqtRWxUcJDhYeW+qxNROoZkAkvtlLRYE3S75MuSWPigzjnpdK4q0jQjsjFVGUqOBVEkoB8ko08YPRbJzFUB/xaclNtEtgTh5HoPzpOoDZQ9lax2sDfBXgrMEWsjF03uuNwvAXl+kPMRpyugJZTuW82m3mudNmAtJhJ5ijxX/6Il5/A5kZUJPWITB1EjjGiW6RMBtPc/PKi4KqdBbEQcCQASvxXuzMD3O+faPsgYIxn/Uvh7xgjZHyTQCzbFaPYSDzgZXemcAL8kjilLLQWnGcboz9PzLGc6AD/lrYUAyRgpd3sNosJLOXnnKDZ4X1I58cFC/VHAIJ86sA5WyrV5nkt2M2TRNYtmBpV840i6XuU1Q5Amvt1rdj1XGaA0lX0NP8eoX3fa6CHZ9IRWswkekiTVZ5OzFykA8lr2LUoB/CDvLpVc+fkgJd7wvHKvdCtA9wVZW63MCL4QhyxnU4Ci1cAjYBKn846NlYCBdjNEmK8csquuXaoPQWj75bU5J1Zpm2Cry1JE2eWRgxyNYKiqFIDm8RLYaBBvNFtoNAjQFxPgHvbVi00Jz1CFcXNaRgdNTGipP/yqXCUjWoPyxblnnvZrOYThIMrmSFZNDLSsoYABudwSsQcgI6VzubThocPBCU4fjfrCA8tL6tcSQKEgU6uZCDRj1Y4ovGrH6UUMn2WViFmWEhlLd4+nKguMl5KVMZL5k3eRg+QH8QC8lwNkNAMngE0OaHAQAjgle2StJc8bmuGR9YjjRDtm5RCAXiQluRsUoKjTLQsZ8izrJgfOaMTh9RKKMbJiXBSQhIhE0usBBOnfe4AB7R9Z84HMV/jv8MuaoHQuDhSNEkL5lEH7Kc8n30PQGFNjhQIl+TnaOVVVEoXHA1McqkFyIFUlY2QiG5Glyjdy+veqOh8Oudd3t4MunVwqAXuVC5w2VV5HzpdEPANrIYYMiZ7CedUoVDigWspWx4dGby503umZl/MNKCWgKAqszjYtVYzZewEwATDpl2umaNBdMUb+QTl1USRZVGvl2cqiEG5qIhIrXhXr0cyN15J1AHJlW+Fey4uRONVSOUDyb8GpyEPJHZDgxRiDd2KQ0QyJ0B8Ct1OcYRQr0NJMh6yvoaokk41mBoMeIGpHQuYuisRhyNcJ7zdJZDiyHZSVkXs52A4MgFBjxPEy6GyIQ5RzkSTSoORdqFrIHQlfM9gGFLl0s9K2h/pvGPJcaBWSkZa1sm3A7tqD1W0kWY3gBOWzGHCMgQuk9i+cSzmjku1xKgRbaVdtOLfybgNjt8QZyb9YK/fYB8CnwU/Y7ziKsPGgNVVuVl7IHov9FKWGQVesbeedBl+SnQvlKQm68jzXqoXYmUpBvgTXam81exHKYOFz5O+NZFZVvDeOhFDvNUkgPDmllajemb6CrItyJmVtxYYH+0kY56XBm9X7NdgmiEOXZxfQrMBoUOYHPSNS7QgBg5xpOUcDgBf1YQOBpiQqBq9NOItOAxKj4yfLSu5KO67UdzNqJ7x3FKVM6RnwGXo/Bv9GfWn7+wT4hgRKpE2P4QxKdUJ8ycAvLburzwrnFD2HIOetKETiLNw/I986YKuNUIviWM53+P6QiZSKkDbBhH1sW6hgm/ROtXntktUMdlkfR/ZUQfD/f15HpVUFp3cxZEcrF8rc8vPCWfcKEAl/IkFSpcA5iqTyYrQ6FfyWd1JVMYNK0QLM5DmMPqdzIuQt51HPofoXtKIVaCKxVoIKbYAzep/a/GQjOMNVjqD/WWmVNaxd6I52AfgZEzhX+g9q9Lw34NWxeyEdYyC2sRx+vXwGUV+PI9EPC4dC0pgDTkGeQo6XpP0FoYcLGi6H1YPrtGbdNugamUkGKzyXAFJrdb4dAxcmUh5ZKK3GSvwcOEjhgofsnh4SI1GJtRGFDt/2emDCRYpjyYxY5exYBKAJQNHLpv8zyoWSP/XQBH6EGg7n5JIlQYPNyAZ5HdRstI4vRkLXUq6YvItmcsygqEHAp6yrbhRGCd5lWUmU5SWispFwy2wkhtkqNw2VK4CguxRubriYYVvFaPqQiUXKFlEcOh3V0QWwpTyNWLmWch7aHyf/3U5bC5+w/Y9e/jT6fGKsBtL38ngDzkkuv/y9CxwyK1GRNZK+l7WSErVsimSnZL0HDB1qUMShaWlDz3aSSgOA1b2KYuEpoqAknAujnyvPISCzVIHRVBuSxAjIWfKStsMgexrprGL9VlnnQZ3MlZbG0IhQjJYaHQ06Iiv3SIIUeR6vfC15X70PXrIbwdlWToB7eEfUsBhjMAyA7PArjmV/5fMGsiry3qGMK+ddeISShYpiGVflNDNqIi2ro/sfdlQ1ubwX+QZ5X2kIQwNPjJb7koEGjXDvwl0T4y4Z3bB24OWdjCjtRzrNRZ5LHsIolyoEnP/v+8OR0fVH72LIWFUhmNDzZK2Ak8B3i8J900y/0fNiQ1YsTkjSRANLKU2XSu4GAQSyFwKIrHZpAioEjpYDFXhbI9n8wcDJCwAK5TqvI+vkswecVQA5g+1PFAUagtgDr/9uIotRMr5pl+INSRCMVnAesooCyiSQCc8gfw440fCukqWTTKfR8jIob03pFM4JR0p+BSAtd1i+R8Stw96EQF/WwqgfEXvrgz2JIhKVIoljzX4GKoQdsHeyPmKzKgV9Qg8I5UpddPWRbXsrt1KoVZWcaat+DKN7rUBQwlp9T6/cXU3shNgpNH3oEuga6vvHEd4I4ETXO9CJ0CSL+JoBEBip//XtTHbwUwxk2ULQGWy095I00RKrV7DjQllSy++oj/Jeql0uNIvoZ+hT6ueJf3PaLBrpPGKjtks+S0TpvYopB27j4IAi3JlI/ZUE06Jk0Q7i9e2SOME78QdWwR4K6GS0qe5dwDNa/Rk4c8I3LotCbVb4ZEnuJJrBQ8968HOyXkpn0L+LtEIZwGGgcwAkcdpODlkwlE6yZVWlI2D0sqFlxcATiqIIq6llQtSsTi0cwirwfPAieKoHHo3+Ky0ByuKq8KPVcoW4RozqQBgFD/IMFmvlRdsHzUp6Fm/le5CSUfj5BtnFcHdCKaZ9Aa0YIA9yeawAYGNE/LKVNzH6M0HI8LLcUkMb7HhN4CpoqCYOSC+UGuFKp3vIs4TmgABWAtgebNhk42nX9uWgSCSvBsdKQ4twrQZnkQYBcP15cnEkIopU1T1ET3hZ9ziSEWKBk0DYVyfZOUl/BxusUQyaedQ0tLXCnbShLNt+juDwAb2ucgi1Q7kU/qE8o5gNLwuiBz+AH8nO2UGRu5zPUJoRZySGcCAyk2YA+e9YRxCJ0dS1DQYJ2QcIwFLPh9Fn199yjgaAs3yO/AbJhOOVSBwyN7q/XjMh4jg1EMDLaLxCMk8irKpZWJDgQwOHwAE0Rpo6vJNMhY2kjCZ3NhZgrcBOgJeeD0lVI6+mL+RltFv7nGDkvmvEiJFMhSyLCpEigMvrefXtgECAlP9/nWphr6xoeenfC09RMn1VWQm3U0s3KFCwapQlsBRA6zRotKGMP+gOSyAjXcjBHki2IIAwVf0PtkabXWINgOM4JokSOWfGShU73E0XnJqU9KtQptFnlCBSlABk7cVuWmvBG2QLZR+cF71PAWQD2dVgR+TvBsACKhvhXACL8r5tAIxk70ywyVp+tJHM37XGtEu8URT4t2p/tHog51TutPMyirKshDQeayk6Vh60DaK22mgQ7l24U8aIDmCw8wEEOm0OkKDeE0VGflsjUl1ql2SP5I4mg6Sa5PnDZAcJKNBzIfsteyS2SRyuBAiyzl6lwsQmyXoH2+mU1yx2W22CZpvQe5vnebs8hxFAGPYUTQAEuydnH8lqIg0cUl2R/9YfQTSoQ7f928tvq9xojHAjrR3QepPnVsAT/LcmGfyg7H+45gFI64/Fh0pD4LwbrZxEEhRjBjLJcjblg8Q2B466ZtL1yVHeo5YD25xLCXakOU7eW6eQaNex+Dv1hQqeJDgcCOKD3Q32Q5CK2J7Kia6oLj3GSGk13M8wCSxkcwO4j6KQaJD1CIsT7oG4oAEbhteGv/Yahq+XP9vr335P+SoziDcq9kLuggBB9Z06VcdqU55zHov4c6e0m3CWjZ6v8AxhrWwA4m3Ar4kkJ740OueM035dVFImQ4Mq2XiRlpADHbInGolVrh3EWo3eZcO0Xq2bRjAyuiISHQmQRFnURlZaF1aySpESmmlz8uQlPfK1gv5lI5wTjpXHU1QFxhohhjshQ6r31a+VrjOvByJcBDGgwfnLs1ZeEX6StrfVeClHyIpIpBgpCPFqELyXA+qcHJ4gtCkHSLgrsl7qcOUb5WdopC0ARQCHUSXwKIrbB1iWNlx4/a2XwCtfKPy9RQ6ACyBcwVCapsJ50YyIcxbvLNYKCbryEtGZSCLS4HSMakiZwRG8tXj9eVEcEyvHsSyFLhC+Nqw1g4MEbWRwmsYmXIiwOXr5jGYSQmQZMkNh38TI6hkLpcJBQEsOvURwcZwI0PKaacNjjDjn8Fli1FGHqvtv5L1lbS02lp9dVgK4vJZ95d1EqNVqtsQqh1WyOWJgJIgJZRS5T5Wm/9tZbi8d8O2jousogZYGHxpUeCOReduwaDZrIMAYWMv2e2rE7PSdxUjIz5PP0fyBZjvEachaS2QestMC/FFjGhxssIxGAZtBy+RGuLlyVq3MlFZZELyWLdW4Wc1yiqHQrK2evSjSYG1Q+RUjXbiEJhOvAEYNpvySwFKCDXlPF6gOSr2Q1xSIl+e5yDdgxF0r4JQzKDZQwLSA13AuxWErEPJqJwc1xbhQLgzZTAUiso4DvEijAYacVUtZyl4JISrYDmlw0JoD3odgU0voIZOuweP/cwZqswXcyM+QAzOQeYt0Vmuk2RhjBDRL4CZOmlCp0bMlOy6/jAI55yVrZK1kIL0vsSYENloC9rTH4aH3YPC5DYGMYSCAcS7wocIPDM8gz+/kAKqtjLBWRpAFh49+Pkprkrsje5TnBU479U27PCzZzHAOKgWHLoBGK+uDgk/UhqpR0iYxWRernDf5Ogm4jI/a+xx8sfd+4Dn1l9xpdO1lxeVu6ZopMDNG9sJaK9zu8DlqU4zyzipt5jN6l+WT5ZecrIFddRrktEEGcq+97gVGbFkA6JJo0GBB91KCW/n6YF9RsBI+FwK4HkgMWN2HsGboOQxPKV8vHbXhLHgtwSZpogGTvEcILr2eTTlWCqjUZoYKiVDSAqCTAF9GiereSrOBPJEYXbzayli7jts/Kxj0EIiqrQg2K6xR+LPQxJqNJOtsFU+EDRo4F8FWCnda1nDg7ETnnXX6r+UHDHyTD2TAJBECZJHLh1RyCIOBl0MUDqEsflAOHzgQUfviidyIAiw1ulWlZkodSgAmEmmIrlJR5BSldGzGSfL/HKhHSPloq3U4ME6NK16MXLgAeWgY8CiYUd5SJKXbdqlIAYZBUv9OCb/oxQNZiyRJZKOcJ46k+zQcSqNRN0YipkEWUAxKiESdHEhvFF4NumyDL4kYFMnohIss711RFFIq9EoyD4DKDOYpqnOR94swyu3DmzZJ2DMQDQVj4HDSNGCkVGCs0fKBPJ/RrFiI/lEjXAagakKWKLy/HDIxTMoFUo6RvG+YN6iGW5dcHKBepGAkFdgNHG41bIH76KXpAu12lKBDnNngjGe4cPJztZRhQ5VuACyZIP0QXmZQpqftdMI9clIaCBsvP1N+nlFHLnsoz2k1a4iOWJMMpvwYVE1eALZt51pNAIkGnIJJp848gB4/gL90H+T+tf82ZJa9AJhwviNrpWxsxMg4NZoBCAjYCZkGzcYhZ0TKn1ImkxJwJM+P/HzvxSlUpcM7mQyAgi40EvZaysCK7h6DuIChEuDaAZe+nH6NZA4HwIcYSO2G87KvrZbwZeSXa49tahvecKbaPC05B2i2w1rb5i0F8BDObGhOUxckPxN5RgGNkqeoVH7BGJHU8AqEB5y8vld4FwPGxKLrZsBGsg/6JWJ/fQBf+vxaBrVGqAelcgcH1kfBvr5XVVXESjkJdjx0NctdCT9P7mAAA3GsuntalQl/omAwXGTvJbPpCcK9EuQHwOfkkdrVpUoz3UZBmFPagPfSDRx+hjFGMrMaGIWzLs8y0GAoNivcNU0kKFy2ZqCrMwRg3gvP1qtPCb9BbFcIrJ1qsXmJ6mVPJbKRu6oZPXH6AizjWHUg5QdSlpU0owxuVtD98cpBRG242M9A4vftrKf4Fc1Q6tm0yhOTZ5VzLoFhyHDKWSlKabQL57FUvU0JUoINGMhUeV0Dg1ZaFFyKfRYbJb5QfIBT1QyrSSSxHfJ94k/kucLaOuX0CQNngMMtDSBy1opCmiUkuNYkjuIJjxduvz6r0cBK9kDXTB4Y1IKE4CzS7JvcneDngl+SrwdwbuDMCtiU94+0RFsp333wc4XqlpfXavs9OWul+HP1WUbBq+yjxajMVhV4y8HfKPaRtZczEvyLnP8ALA3R+WefpcBPy22Vzuk1wmvLm832ixZl6KiTbrlg8MJLOs1oRZHom0nEI23QqMELhlOcrojwCl/O/z/OT6UkySiSyxG1gUtYcbF0EhHK90TaWRMunUcU0o2NIGQcrBGApk0GsYrhYuT5ZPM0GqlEUBUvWR1jrXRphfQ9RqLGQYZCMhNSNhJjVqkLk42R4EScUDBoaSISBhWBByXkeqMZm2CgrZGOQJB1NEacdFWKHIbRsT0mSPMo2G03JmjZySgwM1qCtJFwOiov4q1S6dWoUdPz0skcIlEd4aOgXTKxA9m3YJhLFdQUw6yHUEFicEZGvKXcYv3/USR7WBQC9mV/5SAHYEPIXKkDBWneQXXWjJESIahBQSIjr1mQINwZSl3B8MnzICPHjJBnXSg/hzVXcB1AQxDwRO8QRiI7AZqa8dZgSM60kN6F+yb/miRSCgtZL6MGFOR+GWNwCoy89yJymyQUuaizR8rVCpkKMZoigG4UiHnEcZWaZYqUDyV2TgBCnosjFq6pGHfaHBfhxOgBbO9lAN3WRu2mnBAQhneIokhI4Jp5Nkbml0pZLIABOYsWIzIKKrU08A4iUZHnudzdNBW9Kga+1jsx3FHQEgt8y0AFsFaCTQW1Bukud16CP7Edsi9GddnQe2g0OBAbIvdUjn7I9EiZCa8uJgQSCi6cF+5iqYHrgPalBMzBKcWxrL330plswp1BHY6XTuskTrQZRvlikSgOSBlcgR9hb8XxhgaOEOgGJ2tCxnIQ/0sc+QDPySNrIu5UPlfWSbqJWyqkbgNPDwUcSYKJLFUAasZgY70Xek48kGYZoXxuTCTi8eq8MWIXBMyKn5G7JFwvKauFsyVVJaPc87btj4QSZAJo0WC7rEqyNMMO4pV753Tcl55gta0B8Mn6hnSHdotrdsUYARoh0LFW6DhWwZQ0P8leG2v1zjnlkYrdlLeW4BOtwImYeAtrUemmsHaeWpqpWLJ8dlEURMpfiyMLiI8IfotQEdAmj9I58eEKSkDOeKSSUN574YhpcGdUm1YykcLXxEuA5p3YAt8uPYsPrtQQWm1UEJsr5nsw2BKbHjDDQEZP7K/641JkWOTOy5qL79RgbHAGvgoAKSiNyNSVEJxFJsIVJVUpna8M9gVqf5HHo8xz8XXyKmo71V4rOLSKB4qiEJ+rdqCqZByeBBwS3AfMFUdhJKKshTFK51GxcDMoiDCa2JCf73XohZzDgD/QcyfYSd7ZaNbSe4hOP+XkX7e/wYu6eenA2oRGf4PFCxaQxBFJmpHVarKh2mGVJDFVpeKamoERf2AgRFRGSqKCeCXjV6qCeBwnmEhLOMYBThdPu1U0tR6kTiTqlEMaW+Ee2UgOtwjnSto1SoT/JUK1FjuoLT+yIkgbNrVU/Sy54BZn5GIYxDFZRDgTQSoQslrOg2bfwFIUBXneksvofbtBRAyQZgE8CC9XnIfzFXEUDRCqA19MEb0cKjWu6khKnZDSjh6cpyhydbYC5JI01axChNOmgXBgBFxUlKUAfKvC2s4X6gBVekXnMQuv0YKNSGwq0Y3zYkCtFa04ozINiCEPUW8UqAJGsl9ZmokRU56nDWWjRHhU4cIEYxAus9esAgE8aYQqEYw4DXEOkv0IEaKxEZULZVspM3kvrflJLCBALqp8T6WEYAHeanD0shgr5UO5gPI+xsi9saotlRe5XD4r58Mo5BdnoiU1nSkpBPfgpARcSCZmIHhptlqgP89BW9A5UTBQlRVl5fFG5jh6D2mSqiC4TBOoXEWqnCwJNATgBMco66kgWoGSE/IvxhjKSs6+8Ei189oAGvnLKEU5D2maUBR5+35FkZTP5edK6SNSYxYi6P8XSSN2I0liXCWiryZE7qGEHpplwnB6tStJLGcoRNGhaUHmF0uGTwI6KbmnaU3PhNy10jkq5GvQMxBpxt8rALOaqfGaUZIMfChpiTMO+yfBgnLajJSuMeDVzlgt0Rgrd1xAR9UufZvAE9YRd7HulzUKIpQTSihja6ldMpBy7oyNQDOH8ryy91YBlJhpebBgT/DyfXkuncNthxzEfPHkeUve3Vi8l1F+HnH6cXucpHTjVlo281Z0QokkgDHGStkKVENRhLJBmwfQoC6sm/K9AodcNP7C3ZLAzFqpEDltfhAQLAFFoCkFHrIxFm8qHELdMU7ARKR75lzVLpcG22b0uduAGnEDVVWBkzK72AiZZ+u8TA1K4kS5WWKTrRXgU5aD91ueT5ZAbGacRJL8ptIAxsoSWiiKnChMdspzrNo32XvRnYyTVFQtjHDSpTlT/YAGXEVVYuOYWl1G3oV7aq3wvSPtABa/r+dEgTSqz2s1myz3SbKfSSrSSDasBQav1CyNncUW6tx7Ka9q0giLsSJLFMVJO2FkrNAsDAI6jbUYDaoIdC31N9boWDYNoOTfNIOs4NwYFSBHyvvRoNK+PqAqAoA0/gkmSFU31nlkmpM+W6jYhMArL0rSVKTJ0OAu1mfAS2nXq3SVtYnyhR021s8C9XuSmMi1ASuKE4yBWpbhvNwfQvBsJLkhwZqCfF1rufeCBaKzTz/113GSUJUleatJmiVEcY1nn3uJSccew/DuTtZb52d4nWXX29dLo9EQ5xXGr6mxrNdqGKcq0VoWjiMDyGUwunhyiVXcGcniyYgf8N5R5HK5kziilmaUTrR2jI3wJmQyZBRY5UXoGQT09ff1S2oXFfhUhCuzZWWhfTu60oyCZi+lGGHJC9GFSuNEELq32Dih8LL4rUZTR2BJJ6xHHC5elNxLTe2CvI+USOSzrU0lyxTp3yNlTk+EQ0BYbBMshqJoaNYobRsyq8T1cKADkTtSQrq1EWj38uLFvXjvSFRrS5yFHHJrjPLDPN5VRNpRmcQp8+bOpbOzThxZirygKB0dHd2y3nlJbCNKV8q0Fu3wbrZykkzm3WZZRqPZlAMWRTQbTTo6O7VrSbhCITIJoNY5MbpOuTLGBiOiJaJwfPXCJtox6J04oqoUGQiFD1gTaZeqlD+Ek6QOXY2X1ahU9kgMR5KIlIRB5Hsi7QoLwFScjKxzFGvppKpIEsl4l4MybsFRVuo8xXGLsbNWdMwkmytgGs3Cee26FkfniNOUyonh8N7TbDbo6uqU7so4wZuYXPUfrbG0WqIx550nTbJ2mj8EHHEsgZRMo5B3k6yz6F/KzxVw7oBIRV0xEuC4qsQmAqKsCZMg5KwbRKYoibVUqO9nNSgJPBY0khZDJGr/pZOsT6vRAOXSDqaHeI3801SmSLTygiStE0UyBSIalGXGygxu74RULu5kIJvhKq/NHDq+LKvJWMdYOt0lcy4ZMjTIIQQYoBkoyUAYI1lDhcvihLQppG2Qka5VmULpsaEcqZ8aRcKxRZ1+eOeQ/ZC7Xim4G6S5hjqHcKaNnLEQCEaRTNiItUln8O8gDeRK7czVQLLSaSnhma0NANsGuKN3MTTmyM8JQUSSJCSxAB+jCgjypl7HyEk91/gB/mjIxeHAtPMpklkC4RaDvLO1Sq7XNYiiuH2/5Y4H+SJ5j0RnTYuskOyFsZYkyyhKAdchCDVIlgttbHSVKCtYK1xrSW6oHbXiROM4ZeH8+bz95pussMIKRHEqgZKCn6ospSs6LP2gIEfAptiTAIbQLn/vPVFsKZ1rN/NE1hJp12azKHn77XdZftnlRVfWQ5pGfPDhRxx1zHE0m03WXW9tvJNsnFCExO5aK+MTi0pKqXEayXhPDRAiDQLSOJGkigeMoQi6rwpSC+e06gWVKymdk+lZStsK983GKXFWU38kiQKh2QxUtSqVZIujSCbTxJkENBqghExhmF4Vqc6j946sVsNXUOYl3sg4WaPcYXnngSw+7cY0CZBAEjoVcnbzSuhg4g8TEShHlTsCxQCP86oWkMZEsXx+WarIeRRposxSuhLjDb6s8Nbo+ZM7EZQ0jDGUTrBQ5aTcDhJZ5FWJE2MIVjLhBrk/4kPkq30lZfSykOy3ZDgH9txop7oX/y/OUxZQNjjL6tx66+2cdeY5TJp0LGVZkGaS5j3r7LO4/4H7qdVqJGnGV19+zfY77spGm2zOww8/RpbWMArCjLEC4pyIKFel1OON8qQcEgE75boYo2l2vSHGQ6vVIo4ynnryWdZZZwN+ts4GfPn11xjrdKaqA+vpbfRw5FFHcvgRh/Ob3/waVxb4ssQXFZQO68GVEvUYI9GLTCrRdLlGg0mcEccZn3/2Je/957/4StugseSlY9sdduK119+gXqvhnCdXwndff78cNOflsJmB0T3ea6oeiT6TNKXVajBz9kzwylksLIaMmbPm8sEHn9DoL/C+kO8LmQ7NkHgdHN5qtih1YHwwek4zV4sX9zBp8mS+/fZbMb7acFJVjlom5erIgCua4DyJyWgsLjlov4OZfPSx/PbXF1M0cyK9QP/4xw08++zzpKmMpwFHK29SlC0F4TV+cdrpTJv+g04xiZg+exZ77TWRQw4+hGuvuVYBnjSvtCPpUGZFswtIuVcMpmSKAoczlAYkA6euXMs+sY2h8hhniFxE2Sxo9jexJqIoSoq8oCxyuZxVSd7KJVOiWW65GBKkOCfcI3kUec6qchRFhTViBNAZpVUppc2ikHFaAVxaI+8hvK3QXCL/XulEmLKQcWGF/resgVzQjz/5hAsvvAhsRFEZjE159PGn2Gff/Tnq6GN57933tD0/5odpM9h9wl7Mmj1HGmS88NcMCXmrJNJMrffoeZd1dzrCqNFo8M033/DNt1P4YdpUvvr2G6ZOm0ajvylbbS3ffvc9X337rZy1Ss5f5UWgdsaMWfw4f4ECQOGWxnFEVcldEPsiPyv8ds7jnWRfnHckacJHn3zM1ttuz8JFizBGZuQ2Gk0Bv2E8kYLhKIKsXufDjz5n1912Yf/9D+KJx58mSWvYKKGvv8mN/7yZL778Al+VeFfgy4LIy2xxawyfffYJZ59ztgDWKKZW7+Z/H3zMhD33Zq+99uHlV15tN0U4LyLQom/qpAxnUEct59oYAX+VUkS8k5FzrnRQOVwhf0bOQ+kwlSexMRZDVebEcUacxKRpcGheMpfe6+grcYx5Id3elZN5t4GGgRfH12o0KFo5riwpc6Es4CCxsTxHWWKRmdJVXlK2CqqipMoLXFFhvPCaxWEo0FNNSpzDeEdkDImNiK1VUC25hbIsyfNcsoIKEqqyoirEFrtWCUVJ7CH2hsRbEm8xJbjc4UqPcXLHYxtBVRFbQ2wNebOJQQFFVVGWUkWRlIzsSSjTRpFM2km0ShQyU0HgvFar8/77n7LXxAPp62+JcHYkGTvvLa4C7yRAEJsuY/x8W4/RgJXyfWfHUP785z8za+ZMzbpJ8OUx9DWaAi6R4E5+h3sooBStRhnNuprQAKMVIoj44YfpLF7cT2wT+nv78Q6GdA/n0Uef5KGHHiNLOjBGxvWtueaaXHbl3/j7ddczZ84M8KpjqdnA9nmqSpw3JFlKq2zyzTffEUWJivtLU1lZyvhKp1nlqnIs7u3jx/nzaTZbtMqc3maL0hU4U1JhWdDby4+LFrJg0UJ6evsoioJWXjBz1hx6+xr09PbSbDTp72uQ5wV5UZBmGT09PfT29IMx5HmDspRyeaso+GbKFObNmyfJh0opYlHM4p4eZs+ZK5nBymBdjKsisBlTvp3G9Okz8UBVqM+xQhGZNn0Grbyg3tEJxuDjiKieMW3WTHqa/XQNG4oLDUhOAsK+/hZfff0ts+bNpfCO0jvqXV0s7u1j+szpGJXiCdUR5w1Tp82gt79BZ61OTEReFqCjLz/94gvy0lF5aLX6qCpDK8/BQl606O3tYcHChRJcpBmFq/j2+++Z++N8avV6269UDqrSU5QVixYtbtuhAKYlEaf2V2f4WkIXmtFIuqrobzbp7euns6ODStPfpQrUzpw5k3nz5soFb+Usv8KK3HvPPay04spMmzZDMh3OE8cpVSV8jspJeQTlS0jUrILIlQAb5z2FE/J6uASFEpEXL1rEButvwJ133oWxCfMXzMfoc7uqotbRwTPPPkeSJDz19FOceuqpNJsNXCnOvipyyWjmInxpVT6mqgSMhUVKk5QPP/qIbbbehquvvprf/va3PP744yRJRKvVIqvVmPfjPAyGvCgk/Zrn9Dca9Pc3KMqSZrPVzq5EVrKNhfIfnId6R53X33iLDTbchLvuugOvIDhJatxyyx0ceugR/O73f+C0M86k0JSxdI1q2VPBSt5qkSvYcM5J9kSdap7nVM7x2eefsWDhAjF41hAlMdNnzeLe++9HcEnVNphl6bnr7gcYOnQkjz32GJMmTaYqK5qNFnjD008/zbPPPEMUWSpXSqYrTE6oSsrKM2XKDyycv0AuSppx2+23s+566/HUU0+x994TaeUtadQpZB+kxKycN6DSDIGNIspSZS5cRavVotlsabTsVfXfCZfPxjgv++HaDrIEb2m1Cu69/wEWLFigey2q9SIbEEqvciJRDlle5DpjVDNeztDfyMFIVtt5R57L2hujUXPpKEpPqyWcxMo5mnmhnCcdVajzUgOY9F57pZWjIlkAyIuSykNvX5PPv/iaopAsT+E811z7N8497zxuu+1Wll56GVq5ANlWnjN79mwdOQheM1rOeZwXDlFZOMpCz5M2mATC8MyZMznyyCM4+OADOfTwwzjwoIPYaqtt+GH6NOI047q//4N999uPI486ij9fdgVDu4bSyHMq7znjjDM58cST2He//Xn62WchCNu2f8l9xouRKopCs4bSyCDguKTZbNLT08v0adPI9ZyUlQRpH338KS++9JKATmtxztAqcjCGa669jt322JV7772X9dZbnyLPsdaycNFCfvnLX/HRRx8TKZ2krCpKXZ/SVTRbBe/9931K52jlJc284vwLf8mkScdx4w3/ZJ111lOwpVMSNFNkw+8oJkqE11gUlWQFrCUvxJnJPF5ZA+99e3atcDqg1WzRbDRxyq+yUcz7H3zMK6+9KlNtyoqenl7huqJUjpClNgPZ5BBISCwlQbevpPTrnSdv5cppFafk2xw3scfGCu+1VDJ/WcmZbbVaFFUlYzi98D9DADQQxHl6evvaQEWynHJPq6oUIWptivOVyFGgQCpv5RS5rJOUzCLKogJ1tka5qWAx3pIkGaWO0AyUmDiR+dj9jRZ9fQ2KQsTTMcLHFsCi9BA9l5q8paenlylTvqfVlMkWzok0T3+/AJKiKEhSmXaAh6qSRIFTLh8eOju7eOLJp/nu+x/Yb//9xB/0N0jSGn//xw1sutnPmT17FhapNFgtT4bgJ4mF2+U1Eym/hBaTJCmPPPoYe+wxgYMPOZQJE/bmjjvvloqDiXCV57TTzuDmW25jcW+PvptUd5ZeejmGjRhBWeXt+fFGM9Din+Rr0zTjs8+/ZI89JnDQwQdz2OFHMmf2HIxSaErN2IGUM7Ms469/+TPb77ADO+64I9vtsBNbb7Mtf/nznxg+dDhPPPUsG228MRP33ocdd9qFY445lt6+Bh7Dueedzw477sROO+3C9jvuxHV//wdxkmGjmOuu+zu777En2263A7f963bSWh2wfPzxp+y6865MnjSZiXvvw3X/+Ad5UTBn7lwmTz6OQw4+hGOOncyRxx7H3LlzSdOMH+cv5JCDD+Wggw7m4EMO48wzz2X+ogVEccJLL7/Kdttvz+FHHsGEiRO55777iJOE73/4ngMPOYx99tmXifsfwKmnn0Gj0Uez1SSt1XnzzbfYfcIeHHb4oey737788P33LF7Uw0knnsSBBx7AoYcdztFHT2LOnDnUspS3336L3XbbjYMPPogJe03kz3+9DIzB2IT3//cBO+64E6efcQa77LEH//vwA6yBZt5k0vEnssMOOzFhwp7stedEbr/9djpqdT7+4EMm7rU3xx93HBMnTuTggw9jwaIFmmiwzJw9m70mTuSvl11OrVYXP6PJFReoRkobQ1MXeG0LNkYOVBQZkiwS0dRYu3Gc8O+ssdSyTFPrnixNWXbZZRm71FK08ia9fT3Y2BIlCd1DhtHRPYTOYUOwWYKPLfWuTgVCDsoCUxYkxpLEGc2Wp/Ix3cNG4m1EUsuEB2I83UO6WPunazFu3DiqSkiYaVIjii2dHcOYNfNHVlttNWJrWXLMGDo6OrTQ76l8SV628ASRZinvSUlEyouFGrATTziO4487lttuvZn77r+X3fbYhbxsYCOH8SWuKjCROjNjqNc7+Oyzz1nlJ2ty9dVXUa/XFXHTLpdYE+O9paPeyb333s1vfvM7ll5mBZqNPpJUFPW//HoKN91yMw8+eC+PPvYYFZZ7732UVEtZVlvhBbBI5kgaAgaEUEG4ZnFkqNcysjSh0sHPlYKx+YsWcdk112IiQ1LPcJElrdfpGj6MaXPnsMbPfkacdbD0ssuTZHWyji5GjBzFs889zx///EeKvKmG01Cvd5HVOiXKjaSjKolrOJOQ1jqYPvn+D5gAAK8dSURBVG0Gyy67LHEas9T4pUiyhCi2ZFnS1nEDmYtZr3VKVsqIM0nTTjq7O7CRlOxGjh6DjRI6u7rxxpG7JrkvKTEk9SF0jxhFfcgQ4noNZw1JZ420q4NfXvxr+poNsnpN+FZW+HBJIrxKG8pD8iiaSRDicOUsJsoYucRS1DqHkHV20Dmsi7QrgdhRUVLr6KDWOQQbdzBmzHgSk5AXBfWh3SRJpgPLLSNHjqSzswMDWm6WMloci36WxxMlKR0dQ+jqGka93k1HvZs0qZOkGWDo72+w4gorkKYpw0cMx6hAuatyGv29VK7QOZKeIcOH8twLz7PKqqvy3/++L1waNf5FIYrwVmVgxo1bikceeYRXX3uNF156iWuv/htr/WRNllp2Gd773/v88+Zbeen553jj9dd56bXX+deddzFu3NJcddU1LO5ZzIsvvcQNN97ApX/4I719vdRqNfJWS6pP2vlrVR9PMo0DnNNCy3FpEhNbSxJF1Gt14WXFCZ3dQ3jvvfe54Z//pKu7UzgzUUycRqS1hBkzZ7H5FpvSPaSbZZYZL3sawSqrrMy3U75ll912pwKcjXBxQlTrIu0cQvew4QwfOZYoyYiSlFq9GxR4bLbZpiy55BJ0d3e1wZZRzVEZexRTOUPlDcZ6so4aUVQjSTpwOC3fxHQOGUpa66DeUcdbjzNCS3EYsnonw0aMpKt7KElaI84yuoYO45V/v83Nt93BkCGddHV0Uc8yYl2/NEnI0kTuURJjE+HHmlj4c3GaYJKUWq2brDaEWkc3w0aOpKOzExdBo6rwNqF76Eg6u4eT1et0De2mshVZVxfDl1gSsoiklpLVMoaPGokzhhLoHj6cWmcXHV1DyGodOG8xcUqcpowaPQZvIoYNH0n3kCGI+ZPsh/eSaUuSmCiOGTpiOKOWHINJEtLODrpHDmPk2DHE9YzKwoglR5HUUzqGdBHXUry1OG+xtk6SdtHVNYShQ7upd2SYSCopcZIxbNgSjBy1FGnaiYkM/c2SvDRyPztqdHUPIavVccpXNEayxnmjX+gAEoOQ1TIef/wx1l1vXT77/DPNHiZYm5CmdWyUKY3EUZVQlXDbv/7FIQcfQqoC4bUs5Re/OIUnnniG4cNHU7kcr92tVsFspSLdlXY0C3VHggwJjEXLc8kxS3L55ZfzwkvPcsut/+KXF/+WL77+mq7ubsq8xaqrrMgqa67BnXffRmeHgKg4SclbfRSuFIkz49sA2kYJ1sZCxbAWYz3nnXc+kyYdz/vv/4fRo8byl7/+le7uTgELTpozpcmvpCxanHfOObz2yis8+sgjvPzy66y/zjqYssIXlq8+/44D99+fV196nX+/9gZ33HUHw0YMx1jDV19/pe/yMs88+xyTJh+HMZb3/vM+t916Ow8/9AgvvPwi191wI2//5wMcjl+cdirnn30ur7zwMg888BA33nQzr772GsbCxAkTeOThh3jy2WcpTcwlv7+EqJ5y1tnnsfIKK/D66y/zzAsv0tMouPXOW5m3YAEXnP9Lzj/vPJ578RluvOkWLrn0D3z+xefYynPS0Ufzygsv8vDDT/Kf9z/gX7ffQr2rizff/S/Hn3gCV191Ba+9+iKPPHgf45caS9nK2WaLrXjwgft57plXGTpsDJdffgVpaumoJ/z2txfx+r9f4bGHH+Xm227j+VdfJcuGcP6Fv2bS8cfz6muvcdzxJ3D22edKlr5sMWfWj1x++TU8cP/DPPLwY5ww+QTKRs6Y4SO54ZprefmF53n5hZcYOXJJLvndb0miiM8/+5SjjjmKRb29zJ41R7OUQlMSwB8a3Aa6yq33Huc0G6ak2rIqaTZ7gYqyEsAXRTFFnvPb317CfvvuoyRTyRJaY2k0m9jIktWFd/ff/77PTjvvylnnnMv9Dz/M7ntNYNvtt+Nfd9wh3VIYrPekOpPRe0uto5upM2ax/4EHsc/++7PLrrvy+huvk6YxxkimpZVL6UdKG57vpkzhlltu5+133uO/773HPffcya233UajKcT4OI5Ispg4iUjUUMol8Bgv0xFK74mzGo89/jgjhw/niMMOYf6P82g0+qmqQgGjx1U5D953D+v8bG2M1VmvQL1WY83VVmbMkmM01Ssdu0VZgjZAOGdo5QXLL78sd911DxtttDlVmWMMJLWUV157lfXWWYdllh1HXpUceOihPPHU87gKqkpG7UiZSTry6h11sizTzRTelLUSMxpjyNKIm266kfXXW5eqLOhvNnnw0Ud5/uWX6Ovv46FHHuHe++6jv9nk6ylTuP6mm/jfxx/y7zff5IEHH+ThRx7DRDEzZs5il112Y+ONN+GWm28iySKcK0lrNb7+5jv23ndf9t53X6646kpMFFHPOvngk8+49fY7+OKLr3jr7be46667efrpp/E47bwVzo4J61SUXHDBhcyfv4A0S6nVJYN7/Q1/x0SWxT09nHjSyey66+7svMtufD/tB2xiidKEvIJfXvxbdp2wJzvttis333YrWWcHjz/1FPfcfz8mjnny6ae5/4EHmDp1Kmmatss/vi3jIOVVuRzioDzC03r5ldc54ODD2GHnnXn48cfZerutufCX5xMlhrzMueKqq9hjz73ZboddOOXUM3CVOP4Lf/Ur3nr7bb1PFWeccSZffvEFaZqITIortVdISq9plvHsc8+z4047s8eEiTz33AtEUYyrHM8++xx33XUXc+bM5uFHHuHBBx/g62++JkkTyqpg/FJLcv+9d7HkkkvgjSdOI5qtJh1dHSy51FjSWq0dJOAD2JXzK8DTkNUy4jimKCpuufkW9pqwF2PGjeXxp55k7333YcyYUdRrKfsfdAj33PcARVHx0ksvc/jhh9Pf6Gfd9dZj+eWX45VXXiVORCi10k7EKBFgayJLkiakaSoiwEEIWDMqK62wPH/4/e/JahkdnZ309PXx0MOP8s2UKcycOZsHHniIRx97lLJ0/O+Dj7j73vv4YfpUHnjoIW6/43befPtN0izhpZde5IgjjuCMM8/g+6k/SLdoFNMxdDivvPkW2+y4E/sccADX33gzzksTzbvvvscjDz/G/B/n8/TTT/Kvf93GRx9+JE0dygWWLI0EXV9/PYXrb7iJVtGUcW3E/O3v1/PxJx9R7+zg088/45BDD2GPPSfw1yuukIa0NCWpZ3z+1ZccesQRTNx7X46dNJkFCxfyzbdTuP/Bh/jwk0+ZNXcOd91zN08/9RRlngtoska5dXJuK18J7yeWTL40SMmg2gceeYz7H3yYgw4+lO2225EnnniSrKODKE2ZPfdHJh93Irvsvge333UP191wPbnL+dddd7L3fgfw+VdfcNc9d7PlVluy2+67MW3mTKbPms3xJ57M3vvvz8677c7//vcx9c5uPvzoYy761cXsufc+vPPuf9lll934/e//gLFCqg/2VrJQhihJeOjhRznksMN58513ePaF59lyu23Ybuft+ejzT1jU18ORxxzNXvvuw4677MwDDz1IrbODBYsWc8ONt/LPm25l7332Y8Jee/HVN19J2kL34pBDD+OII47h6Wef594H7sdhcVgefvQRdtltN3bYaWdeevlV0qwm4vytBiutuBz/vPHvjBw5vD0j2eNoFS3iLNPmG0l8eAzeGeJIxKjj2IKP+fbbH5gxYzobbLgBeZFjI0NRNNlyq63417/uJI5rtPKmEPFdRVHkgDToicC3Bp1hZFuey6hRK5nJTTbahFVWWZk4say40sosv9LKfPDRR9g4Bl/RbDTYdcIEHn3iEfr7FkuzlauwkaPZyrE2or+/HxNKzZXQmiqVafnwww+pSseBBxyCq0qOOuoY3n33P/T29YifVMH+dsBqIE1jkkTmvc+fv4jPPv6IA/bdBypDo6fFyGEj6O7sJo50ZrdOdUqTlFGjl2DIsKHEaUato5MhQ4Zx5513c+ghh7H0Mssybunx7LHnnjz08OP0Nfpxec4Wm29Ob08vSy45ljFLLkVvXx/jxo1lt113FT1a59lz73347PNPMLFhwaJFbLX1lhjrqXV0svoaa/Ljwnm0ioKOejebb74ZHsfKq65OvaOLvJWz6korsf3W2+Cdp6trGFtuvSX//d97pLWMv/3jBk474ww233wTurs6GDVyJGkcMW7MGPaZOJE0jilLy377HMi7b79Dz6KF/Oxna7D++j+l2exnqSXHse322/PVlG/59tupFEXFnnvtydwf57PHHhPwJuKjjz4kqwkOWn65lRgxYhTdXUMlA155Vlh6GVZcdjmKZpORI0Zy6MGH8/a775DEETNnTOfKq67gqGOOaVcQGdQQFzbQqp5nUGwQTR28zim1PPfc01SuyQYbrad8FiG5Wmv5yeqrM2b0aPJWE+/COBHpcrTWgpGZcMsuszzHHnMct976L+6++y7+ds013HTDjay/7jpYHXhcuJLClxSupALmzl/Ivvvuy847bstN11/Hzf+8ns0325Qsq2Ej7frSTjNrIIokilmwYCGtZoOe3sUsWrSgLechZVEBSnEs42ZCqlO4W1LmjOIEEyW8/e67bLbJJpJ1qHdIh54KiBpjiDD8bK21WGKJ0dgkoqLEu5KVV16BV15+kUMOPkhJuUJWt3ZAk050sWDttdZkybFj6G80wEOcZGT1Lj79/ENWXX153n7nHf562VWMW2ZpZs6erdFfhafCxtIRapXcGzrcbLttWzgscWTIspSf/XQthgzpwqg45KKFi5gxYya9PT18N2UK33/3nfB6yopFCxfQ6OtjzszpzJj2HQt+nEveapIkKccdfxxjlhjDO+++g1fJl8WLGhx9zCR23GEbbr39FmbOmsGbb79OUTWpygbTZ82iv9Fk3tx5TJ06lTlz55JrN7d0s0kJxjnhlH475Xsef+IRHA4bx9x25x3EaURW62LScScydPhQnnjmKXbbcyKTJp9EkZdAzL777MPiBXO56orLuOqKK5iw2x40evuZP28+n37yKbNnz2bKN1/zxeef0mj0UpYFrVZTO8IkT2q1exRjQTsenS9JOjKmz5nJJ59/wsR99+LYY49jvwMO4vnnXuTNf7+FqzyjRo3i8suv4MFHH2Huj/P45y030tVZZ8MNN+Ciiy8mqdW4/PIrmDZ1Ksssu4xwEoPoqzP4SppFPv3kc84993wu+OV5/PZ3l/Doo48yb94cotjw47w5fP7Fp+R5g1mzZvDFF58zbcY0nBMiWT1L+clqqw5oBhohFP98i8159dWX+MlPVqWVNzBafpOAKNEOUI83DhsLgby/t8mHH37AznvsTH9/ix++/4E1fvITnnz6KW665RZWWXkVCm9YsGARc+bMYbnll+Pqa67m/f/9j5VWXpWvvhZOab2jTpImoCOpvJKKjXa3SXetlCKskYajUSNGsstOOxKrRtWPCxby5Vdf8/33U+nt6+PjTz/l/ff/S1bL+Orrb3nzrXcoqpxZs6bz7bff8sPU77HWMW78eLbYYhueffY53nr7NWwEzhk++eRLTjnlZH5zyXlccvGvefWVl1m4cAE2crz33ls89+zztJotPvjfB0yZ8i0LFs4X4rUFT9XWDi0rR5LVuO4f1zNr7kyyWgeff/EF1/ztaoYOG8HUqbM56tjJHHXEodzwzxt48pnn+fv1N9HRNYx33nuPQ488jN0m7Mwf//w7zjrrdGpZSp43+fcb/2bGrJlMnTaVN996g88/+xhrHagkVCjrV8qDdm3BY4ercvKiQb27g6eff5aLLjqfE46bzIW//DW/ueRSvv5qClla46ijjmCpcWP41S8v4r57H+bS3/2Jzs5Oxi+9NBWeifvux3vvvc+lv/s9Rxx+BF2dXcyePYefb7kV/7j+Rn75q4s5dvLxTJs+k/c/+Ij7Hn6YtdZZh70m7s3mW2zBv+68gzfeeJ04TQQ4mVDZ9jSLJqPGjMbYhP3234+7776TX150AQcdsD/WyJnafPOtuPHGm7nqmqu57MrLeOutN7A25bd/vJTnn3uGq6+5ho033YJf/OIMvI+ZM3chBx58AFttsxknnjSJX/36N9x0820MHz2SF15+nquvvYYrrryS31zyWy686Fd8/c0UbBRTViUjRwxnm622opam5EWuAM+z3/778vab/2aNNdfEGAZmI0fgXIlzOXHsqNfrfPvtN2RZzLhx42TqS2yp1TL2nDCBKIpo5YXy9Cqs2ubISneuUw1Ro5WHOI5JkoQsTUkimdogWcAK7y2z58zkh6lTFGQ2wXtazRYrrbwa8xcuZnFvr3Y0O0aMGsbKK6/OO29/QL3WgTXSiOA8lEVB5QqSJOOtt95hueWXY+GCRVx91TUsvfQ4+psNps2YSb1ep5Zl4tfxRBbiWICqjSWj/ejjD7H6T1ZixZVXpJm3qNUS7rvvfk448ThuvOkmrZw4Go0mM2fO5JJLLuG008/kk88+p2vIUBb39/P99OmsvvZaPPDoozz74susv8EGzJ8zm5GjxnDoEUdy4ikn8+13UzjzrHNYZull2GuPCVTNBlDRqhxDhgzn+2++ZqmlxuK956xzzuJPl13O6+/8hwcefIBHHn2QY485mhVXWJFttt+Os847j+kz5nDiSSey5Rabsfbaa1FUJXlZYeOUJI34/LPPWXqZFejpbfDNt9+AgUMPO5RTTzuPL7/+QSWJPK1mk0Yjp7Org3ffe4e1froWHR01oSkBlYcFCxbxn/+8x/ilxwOeRquBx5OksWTPy4r/fvBf6llEs6+H3/7mYs4660w+/fJTOoZ2YbMYFxlyV7G4r597H7ifc847m7POOpu8zNl+2y1Zd511WLCwF+fCKFaZTexVD1EyvKG6ZbCRjk+SLteE+fMXcPHFv2abbbdkxMih9PT0KpdJ+GxOy4oha9ZstWgpUV7EH6EoWowcMYp11l6X4cNG8Otf/pqVVliRlZdfgdVWXBmrWYcoiSl8QWXBZim333knG2+0PkcddhDDh3Sw5BKj6OzoAETSwtgAwsQ5R7Zk2WWX58wzT2eDjdZn51124MQTJzHpmCOp1eqqsC3lO6+6OSAcOeE4iOvP8xxsxDdTvqOrs4NWo0FZlNgoJUkzkkxKbaETzXtPXuY6gqaF8QXO5TgnGj+STRK9ImsNGE9RtHQygETr3nsafU0qB/2tgv7+Xur1mClTpvDOu/9jyLBh9Lf66e/vE5JyGmGslE68ktzlQgroLotiEJeloChaFEVLIrvI0lGvc+RRR3HSyacwbvx4fnHyiVxw7rmMGjaCFZdbnjNOO5X11vkp++87kXPOOJVDD9qPyMASS4xm3333Y8211qK3vx8bOdIs5c23/ktX91COP+EY6t01zj7nLMYvvTR50WCDddfkjLPPYtXVVmPChAmceebpHHDAAbJvGKIokeYMK8KwaZpxwAEH89IrL9Iqcr7/YSozpn/P5j/flA8/+pQvvvyWc88/h3pHBycc/wvyVsXXX37Lc8++zJyZM/jLn37H+LFjGD92LKNHjCK2Mfvvsx+X/vZ3rLLSSkyadDS/vfgilll6PM1Gv6bCpTOrCpxPj0iXGLSdHlpVg7zyrL/RGuyx596MX3o8Bx18KOOXWZnvv5vKkO5hHHnk0YDnrXffJq2nfPHV5+StBrvstBObbbkFW269Na++8ip//tOfMFpabeXCm7Qmkm49Z7njzrvZbvvt2XDDdVhl1ZX4xakn0T2kA2McBx60H7/65QWMGjWcX5xyPBdeeC5bbLkFhU4dSWPJ9lgbKedRov7KV3jrSFKRRxLQKYDXtOVzPJ6SvGxQyzp44tGnWG2N1VhmpeWoKk+j0WDU8GG8/Z//8tyLr7DEyNG0qpK+nn5azRYjR47gsccf49sp3zJqiSVYuHgRUWQpypxWmWvmT4It5ypcEBwvReMqSRLhZVWO2BicTjtp5TnLLb8C5513ARP2msiaa/yEiy48lwsvugjvK/bcc0+uvvoqxo4byzGTD+PCi85nrz33pK/Zw7hx4zj22BNYa+21ca5JVTZJooxbbvoX2223FTvttAWrrrwSZ55+mnZJeo6bfDR/u+ZvLLfc8lx4wflcfPGv2GqrrWjlLQSXllgrmQvvYfkVVmSdddfnmWefI806+e8H77Phxuuxyiqrc+NNt7HNDtszYcKujF1yDGedewGPPvYMRWn5w5/+wjHHHck+++3JuHFLstqqK9HRkbHsMkvzh99fyl4T92Ld9dblyiv/wiknnwA4yjKnDJ1+qlwbun0NhigyxBEkiaXwOS1fcdppp7DDdtuw5VbbsOzyK/HlF9/y1ptv41zFBRecw3rrrsPFv/w9aVxn7px5bLnlVmyx5daMHDWWP/7hT2y+yWbsM3FvRowYyXrrb8D++x9AT28/tVoHQ4eN4MOPPsV52Hbb7Tj97LNYdpnlOPnUX7DCiisK37TQxjQN1J2RaUDrrr8eEyfuT5Ym/O3aq9l0ow3Zd+JerL7qaowbO54D9z+YebPns2DBIkaMHMZr/36ZWr2TkUuM4qwzf8FSY5fk0MOPpr+/pNl03Hbr3Wy40QYccfQBrLvhWpxz3rkUFUSp4cprruDEk09i+RVXZJsddmLLrbblxhtvJknEnlel8H2lnGlptZqg2nm1el25x544Fh8pDT4FngoowDsW9/TQPaSTVqsfR6VSNyV53lQ9xBh8gveVgKZIZFmk21I6jY1hYLyfMVgLZZnrJJMS76C7axh//MsfWH/9n7HK6ivTylvEcUQap2RpnTTrxKNj12JDXjU5+shJ/OLkc3jrzbepd9SF1uQ0I2g8xlsa/S2SNGHq1Kncdde91OoJnZ0dNJtSng7BYaKzcYUHWZKkNfrzkrvvuYMJe+5MvauDipLV11iRzbfYgpVXXYG33n6bAw8+hP5GH52dnRx4wIGstNLKRFHMpOOO5/KrrqLe1U2zqhgxZkkeeuwRnn/hJYZ0DWHB3DkURcWk407gyynfss8BB/Cvf93OUUccRRYlNHt66O/vA5vw9dffcON113LmaWfRs7iHHXfZgVXXWosJE/dj8uRJ/B9Zbx1nWXG8/7+7j12bmXXHE0LQJOjizqKLu7sFtyCBQBJICAESIITg7poQnODubrv4wvqO3XuP9e+Pqr4zn+9v8iJrV87p01311FNVT03fdhorL78ifb19HHnUoTz59FNM22o6d919B4cfdiihTmBKc4cLQl568Vneeest9tr7AL788mtmfPEZV/zjcjbbfFPiSg+77nEg8/t6GWj20WwOUq3W+errGVx99T/Yf799JM0ahAw221RrXdz7wAPElYRp0zZn4qTxVGsJl1/xd/Ii57K/Xc67H31AYR2WnO22ncboUT3UGhUOPuxQLrvyclouI6XgxddeZep667P3fvszYlQXu+6ymyhgIHs4iisEgRV5H5VxKgoZkyvlBTJCE8A61RvL84xmc5BJkybyyH8f5YH7/8vHH3+mdS6SCpJ0g4jNik7WULFgoK3CgY7EstaQZm0mjZ/AEosvTn9vHy4vpPvLeMcjmklZlhGGIe+8+y7LL78Chapag6HdTmm12mLkjGWwKcannWrruBMJl76+fubNm0M7bdFsNrFWdMWkkFVri1Q0Eq1ZlM+UItYkqbDMkkvS27uISiURtkI793JNyYaRTFIwSPE0GEwQYcKIKKlgw0gGdWv6W1ZLal2CSFjH0HjxykJStDjyLKXR1U2pkh2TJk5kYGCQKAjpGdGjdWmiVyiF1wZUFNdfv3f2XiMNbac3Ri7BOSmKHujvJ45isixn0aI+Wq2UIi8YHGjSbDVpNgdFdmUYa5mmGblnZwJLFMb8+MOPTJo0kTCIybKCajVhscmTKB1IyZEUuUehlAiAI0liBQDapazTHgYHm6y37np8/dU3tJopDz/8CCuutCIrrrgyn3z0OT/8MIsddtieaVtuwfTp2/DN11/S19vL2+++z0orrUwcinSJgPgWlAWBhbLQmjcnQUu9VqNSqegelbXzdZjOzwoupAM9CkIqtSqGABvkDAy0SRKZTBCFEV09PfQODHDgAQdy8IEH8fiTj/PJpx9TrQtTnLVTjj3uON778CO232EHxo+fgPUNHsq+S9oQkiSmr6+X1VZbDUdBf38/Sy21tHYaWtJ2WwvOU0AidtnfMYGV8Vky1k91q7SY11pLvV6X2rRIzqtvdBCZE+mShgBDSJbl3HDdtey6y8602m0shp7uHvI8Z8KE8UwYP47+vl4Kl9LV1aBaqdHb28sSiy9GT3c38+fOI45kEkE7lTRT6Sfo+Fo/3ZAdtkpLSZwT5+K1twCyLKUopNbJOdExFAFUYUkGBgZptwbp611IO21LQKcp+naa6bztlLJ0JEnClzNnstiUKTQHB2k220yetBjVWo0oiminLRYsWECWphSl1ED6+isQkVdhZQRkWWvYYfudeOyxp2lnJY8/+ijTNt8MB3z04Sc8+8yz7LH7Hhx62GFc9Ne/0EqbLFywkG++ncXyKyxPFEv6OG1nGGeIg4h2M2Wgb0Ab0doiuOvHSmnAGdiAwFgiqzNsccjchIAil6aSdpZSqcY0B/rEFgSG/r5evvxyJlOmTCYvpCN71OixjBo1hiiSfdTXN8jqq61OvV4jz1v09/XiSsdnn37OxhtvzLHH/prf/+F8PvnkE4w11Go1uru6abVETDrNSuKkJmBK9V2NzpWmdNRrNZJKlXlzFzB16lQ5D4XqAZYwb+58tthiM444/DD+9Ke/8MZb74iIPoYkqTN54gT6+/owQUI7Lenr7WXOnPksv8IKOFPSbA0yadJkojCmd+ECZsz4nCuv/AdHHnkkO2y3HY888gjNVlOCciMzXv182LIUxYU0ywjCgK7uLml0yQudfuQZOnn20rxSEOmkoqAjUD4kaWONZKPjKCHPZfa2c6ImIR27qrGKdI07J76pKHS6igrANxoN7rzrbl588QUu/MuFFIWoJjikwSjzPk9tgGQs4Mp//JOL//pXVl99LdptFSzWUgHJeDl6erqxxhKHEePGjqMoMnp7e4miiELnhZfadFeW0pDjSmilGW+/8x6twQHWW2ddBgcHKcuSraZtzsUXXcThhx3C7bfeRjWp8NQTT9CoVvnDuefyu7PP5i8XXsjtt93KlVf8g9mzf6RWrVAUBZMnTWbMmDH09w9Qb3SR5Tlbb70V20+fznvvvsvNN93CCSecyCuvvUSlXsMGMcYGHH7YoRxxyMFMXWstukf08Oujj2Le7Nl8+O4HvPryyzzy6CP886qrabdzdt99Lw7Y7wDee/Mtrr7qavbYc08+/fwzChyFgYFWixOPP44/nncuP/vpz6hUqmTtNuedey677LY7519wPj9fYXkee+IpTBASaMr7mGOOZo/dd2ONNdbAGYsjoFbr4Z133+NPF1zAxRddJHrIQcm1/7qSp596kt123oXPPvmEtVZdkzFjx1CtVjn77DM56+wz+eMfL+Caq6/mlttuoZW2KY1h5V+swiuvvMpHH35AvdHgd7/7PXFcJc9kGEVRyLSiKI5IEindEbCu3b2lEFLOOWyei2K1FP2JsR05cizdXaP4/ts5ANhAeg6TJBFF/EA6KR2iwB7FsuEq1RpZIam6oszp6qpTq1WpRBVcCVEUdxoRrLhUAhuKGnZRssTkKcyZPYdqvZuCgCwHG8Yd7aoszajEVXCWMKzjSDB5BojAbE9Pj6plC52uZ0o7zVTY14nojVOJjqJ0xGEEZcF666/Hi6+8Ik7KOKLYYm1JlrfJ8jbOio6euMmQKKxi4xqfzviaDTeZxv0P/FuFdCUVjYK6ssiIQhVHJSAKKpr+hRBHaEsmT1yat17/mG222obfn3sOn338KT9fbnkqSZU8L6SzlIA4lrWUkS4KnrVbzN9vYANCK+A8jhPphHQlrsjpXbSAdpZiwggbxGAjstwQRxVhoWxIUUBeOKyNwIgQdrvd1ig4oX+gyZjRoxgc6GOwlVPm0GoN8sPs2cRRjbSVUaYiOVG6AotsNmOEoShVrdyLY1obMHrUKH6yzPI888zLPPfcc2yz9TakzZJ6rcFPf7I0l15yCb896wxO+83x/Pe/DzJ1rTXo6ulh/qJecX2qHZUVKSUZGClEzjOp9cyU9XWq+2UUHAfGUmYFZVYIE10abGkJkc7vEEvaatHO2jhELLuVtSEKuPyfV/LdD7N48N77ueKyy9hj9z1oDrQoS0d3dzf/vPJK1vjVr7jrrrvp7x9Q8WsvMC7i5tKZLILZixYuJI4iapUas2b9SLPVJk1zrI0Ig5h6tUs0mjAd5XkHwgBpoFGWImjc3ejh+edeYsutpvPeux9I3ZUK2UpJnZ4FLIGpUKuO4dlnn6Hd7mPdtaeSBAm1SoV6rc4777zLPvvswXm/+y3vv/cuY0Y36GrUaNRH8O3X33LhhRew4QYb8tGHH/CLVVYh6yj/R1I+ok1h1qo2nRG2oyzVwanOlGeyi7IkjiLiMCRttWgNDpBlKX19/QIW8hyX58RhSBxG1KoVAiOCs/V6FzYMKF1B30AvYVTH2Jg0b7L44hP5YdZsstRSqfQw0MxxTjp8g1BEoINAmqXSNJWHVTooSkITEBhDYEuMKSjznPXXW4+5c/r59LPPmfPjbNZZY23ysqBaqbDBuuuw3wGHsMvOe3DcMUdy5T8uBqQpLU9F5qnIHe1WTtoqCIgIXIgppYlkYGBQu2mlXMU56YezxkrQWYAtHYFzWELKXMaxJUGMKyGOIzDi4J0pceQ0GjV++GE2UVSh3U5ppxn9A4NkWU6ROwIT0ah30W4PkhdN8lK60k844STWXWdt7rzjNh584N+st+46tFr9zJ07l4GBJsbFhIGh1S4oigDjSuLA4XI5X6YsMaUjbaUUqQSZE8ZP1IyMpZ3m2CDi5JNPZY01f8HLLz3Hww8/yuabbUUcxhhTkiTdmMJgypIgiKlUGziXYozjiy++BBNQrdZZtKhXG54K4iBkt112Za899+Tggw7gb5f+ldNOPUVZNglEPOi0JgInQe1LL77MDtvvxNdff0OciK5jrgoDIKUZgU0oXcGyyy7Lt9/8QJE7nJPPC8JQQJNO2Shy6b4vSkhzR0koMmDKIpQ+6HQi1o0RVnBwcBAbhDz//Aucd955XHfttYweNZIkkk5gG8a005wZn3zAyBF1RowaK365dMyf28dnn3/EL365AsZYWi1h6sJQunOdk7Ks8RPG8u233zJx0iSu/tdVDAwMUE0q1Ks1gjAk07Mw2GwSRjHVWgNjA0aNHMVNN97ENtO2oadrJEW7JG+lREFAs7+ftNnElI6fL/szZnz+GZGxLFown9bgIPPnzmWJKYsxekQP6UA/eavFK88/z9GHH8G+e+/BV1/NYOJiU3j6uacYOWoEp596Gq2BATbZaBMOPvhgLvvnpdhqTG4iDj7oYJaaMpHjjj6awcFBZnw9kycefYSLzv0DPdUaUyYtxuWXX8lV117PjTfdysRxUzjjpFMI0ia77LIr07bamptvu536iBGkrmDHXXZi+22mM33LbRjs66Onq4vJEycyZtQY5s+dT1m2GDNmBB9+8DGN7lEEccQBBx/IhAnjOfKooxgcbFGWAVFU47PPZrLXHntz/h/O5Wc/WYZW/wCuaLLElEk8/NBDXH/ttVx68V/pW7SQFX6+PO12SV9/LwOD/TSbGZMnLUmtktDs74eyZER3D41ajRHdIzj15NN4+N//JU0LjEmIAtHQLUrRSBaRfm/zRQnA4wScw5aKBANrqVQiijwlzxzVSg/OCUtWDp9rql2YJggU4JW0Wi3mzZ3HwgULCcOEwVabvEiZO/dHehcupL9vgCIrRNTXF5mWItlS5iVREOPynN132YVbbrmVF19+lZGjx9EYMVKEk/OcVqtJEkdk7ZQ5PwoNXJTS1ejKgna7RZpmRDqqqSgLid7zId0wa6UGStiQQNNOEqG1BvrZZuutmTd/Phdf+jcq1QrWwKJFC6GjFG9EvywvsViMk9RaKy2YMWMmM7/8SnVzhM1w2uDho0AB2eJMjIF2lkGZ0x7sY5stt+X119/hqy+/ZOyYkdx56+2s+otfURQlUVShKMAGEQsX9QkDp58LoiPmHBhjybJCZ5CK8CjI2LrSOaIgYMyoUQwODGJswIjRo6XDsJJIJIsAylaaKWuSCmsXRWR5xtw5c2m2MrIsZ7XVfsnMGV/w4YefMmHS4jzzzP/4+quv6ekZRWAiyAusAaOA2xiR75G0hmpm5cIiyuBzx7bbbs8ffv9H5sz5kXXWnkq7lbP21KnMmfMD337zLZtusjHrrbcWUxabROkKttx6Gh9+9BHPPf8Co0ePod6oU61WSCoxcRIRRQHVJKFaqTFi5GiyQsRXJcLXtSmlqBoHAVYdvKXMHYEJ6F24kFqlQhSGFEVBkkjXXBRHvPjSS6y40kpMmjKZhfPm8c8rryIIY3p6RvLIfx/h/nvv5fFHH2GDDTfk9DPPpFar02q3tWbHkRcZURSQpm223GJzbr31ZpqDTUaMGMHtt99OYC2Neq3DjDllvGSejKb5VWYiL5SlyoVFKPOC77/9jhdffY2vv/5WNA9VMiZQSQlXitB6URgqcRc333wT22w7jQnjxlOkOc3+fracNo377r+PPM9J4pgH77+HaVtsTBhaVl55ZW688UaWXGJxZn7xOTO/+Jw1Vl8DgChKyLKcOEpot9qkaZs8z8iV5fBstNVa3KIQ8WuHMH8ArsiJA0N3vUYUBowYOUpYTnRWp3MqBzUkdVQUMtat3qhSqSS4MqDRGEGWttl8i415+eWXcWVIHFf497//w+BgkzAUxguJ+7VGWJpfZK9GopenWqdFmZFnLcaNHc1yP12JvffZh9VX+xWLT1mMLE3ZZacd+PC9d9lo083Ycedd2XSjDVhqyUn0dNfZZINNuOLyK8naOfV6F/V6gzIvyds5oZH9apxh9OjxVGp1HAGRSl7IfoU8K8jaGa7Qkg8sZSn6ga4QiZA0l3RPYC1p2qIoUjbYYD1mzJjJAw8+RBxXuPzyy+jv76NRrxPotJo8zejqbhBXAnq66yyYP59PP/6EnXbagUajwgfvv8ezzz5Lo1FlxIhu1dpzlGVGd3c3NpA1E2kpkezpBKSaoWh01ejr72f0qNFii41hcKDJxx99zLbbbIkrMz7+6GOe+d8LJJF0iKftFGsC4jBkoL+P3r5eXJmx007b8+TTT/H2Ox/y7Xc/cONNN1JkKePHjGbN1Vdn5syZbL75Fqy99lQ23XRjRo0aQa7jGh0isyS2MyAMIrq7e3jrzbd4+Mn/8fXXX0vgrELLIp0lAK50sn9/+tNlGD16NM88+yyVSo08FzIhCALNOqTUa1UVOY5EpF+F2oMoFKJChdVL6ARGosIQ8+Zbb3HCiSdx/fXX8qtVf0lXo9HRaUzTknq9i9dfeZFNNt6QMBRFgSiMicMKcRKQJAFJUpXyGuMIQrG/UZTQTlustdbqfP7ZZ3z15QyWXWF5br/tVpZeehnGjh1Dmsk4yK6eHnpGjCDPxbfUqnW++vJLXnn5JXbfeTdCIzqhItTtGDlyBKNGjOC7b7/hkYcfZoP11qe/dxH1SkIShnQ16txz912MHT2SMaNGsNnGG3HPnXew2KRJjBs7mgcffIB1198ATMknH39A36JF9DS66e5qMOOLGYwZN5a4VuPXxx5Po1Hn1ltuJI5CarU6cUW64Gd//y3jRo2iq1Fnxhcz6eoawbix4+nr7aM92KSnXiNPM774/AvGjR/PgkUL2Wf//dh4000495zfUYliRvaMoFGrsebqa3DfvfcxatRonMv47NMPWGfquuSF4bTTT8dYw2233cLECRPoGTEKY0Nmz57HwQceyoUXXsiee+9JtVKhXq3iiowkjunpHsFSSy7Nb397BkssNpnllv05eV4SxiGjxoymp2ckD9z/AKNGjmbc2LHkhdSUdnd1Ua9Wue3WW/nJMj+V8alObF+9IiUMpQ4SKAo/R1sLbX0OUibISCdjoRpOApACsjQnCERI0xqZRZplXpdKCuHjJOHa665jww025ONPP+bu+x5gnXXX49tvvmP+/Hkcf8Ix/DhvDtOmbcUTjz8JxlBaSMucZtom6xh7YRqX//mynP/H33PoYYew9TZbs9306bz00kuMnTCOc3//OzbbfFMW9s7n93/8Pfvtvy/9/b2kZUEcQjUJdJTKkLBuqeN8hGkpyTKN5HUEihdTltb8jDiKuOXW27n3vgfZauvt2Gyzafz34cep1rqIwyrGWYrs/15z3mzyi+WX5+03XueYo46k1RzsdP85TRkGQUjaziiLQsFfkySw1KojaGUtKBwrrbAs+++/N3vttS9rTV2N5uAiDthvH1qtNlnuGDV6DJf+7XL23nsv2u1BomhoJJcrhRUQ5zc0pD7PpGM2y2UETZ6lLLHYFLrqFXbfY3d233N35s6fjTMFrkypVmNcWVCUou9Wr9d44blnWHfttXj2f0/xxRcz2Gar7Xj7zbeZMmk8p550Eocecgi77borN994E5MnT2ThwnnYICCyshGr1QpBKPIB8lzkP1dK/Uiep+R5i2azj80334hFvXNZc61VGT16BBZHT3eF8373O44+5ji222Y607fdnrPPOofARvx0icW46E8XcOwxx7DbLruw6067cOcdd6rGFVSTOsstuwIHH3Qoe+65L6+//hZ56ciygtKzvjgdJ2VxxpAWBQOtNs0swzioNarU6nXiMKarUaU92E9XtYc4DDn+6GO56/Y7OGC/fTnq8MOpxZL2njN3Phec/yfOPfu3NAcHOe3kU3jv3fd4+L+PYFRQutlqd6bbWBuwxRabs+qvfsWOO+zCrjvvyJwfvyWOLH39i3BFRtqW5oxqpaINGhJAOScq8EEQaZrfQFnSag2yww7T+eCN19hs803w3eCi7ydnuNCa0CxL+eKLz3jttRfZdeedmT93AXm7TWuwn8022Yjll/85G2+0Ceuvvy42hJ2m78SiBQs4/bST+fSTT9hwg43ZfbfdOPigA5kyeRJ5LucuS3MOOvBgLr30Urp7erA6LlC6BYd0powK15ZoM5ZOCIkCS9ZusspKK/Diiy+y1157c/JJJzM42EdoAwIMcWSF8SqlXisMEv52yaWss9YafPPVt/z9kr8xfbvpfPPNt6y/7rqsueqqbDltSw44cC9efe0ZRo1qCIDCkkSAH6MYyXSQtCho5xkZJVnpaGUlmBDnCrJ2P1ttMY1PP/6QHXfcjqxIKdpttpy2KY16g/XWWZcTjj+Gfffdh0cfeZyyyDj9NydRrTbYdJMtOPXU0zjhxBNY1LeIrMhptXtZe+3VeenFVzn44CM4/fSz6B9oMTiYkuUyms/bnqIUMdoCy2DWJnM5NqgQYDFqC9ppSpamjOoRsDNmzDh+/4fzuPDPF7HFtK2Y9eM3jB07ip6uLh7570PccvM1PP74I+yx++58/dXXlGXJ4kssxg47TOeA/fbjwj/9maOOPpR6V405c+ZSr9WIQkuZ9+NcTpr2Y2xBK3MUJiEtIC0czXZOicGGIf979in+8tc/8uyzT7PNNlsye/YsSlfQ1aiyxx67ccSRx3DZZZdz2GEHEwDz5iwkDAxRkIM1lBgqsWX82JHkuWP1NVbl2GOP5cADjmCvvfbDGMfoUSMp0pTTTj6Jp554kl133YXLLvsbu+22M998/RWhloaIOL34w0IlVhYuWMBBBx7IGy88y1pTp8roOq1FDYKAMJbpHZkODwgCw0EH7Me9OtSgUJIkCCxlIfJfff19Qq6EEVFcIa7Uee6FF9lp552YM3cOxhqKQiRd2mlKlmfESYVms8lhhx3OrFmz+Nvf/saWW05jrTXW4IlHHyMKI5Kkwrz5C3ny8SfZf999yfMWxhrJ1hiZ2JRnBZmKzAeBwZW5NmxKCcakiRM55ZST2XPvfVh/rTW56sp/ctKJx0vNv7XUajX+8pe/cuklf8MhI/GMddxw/dUsufhEVlxxOam3jyIq9SoXX3Ype+67F4cceSS77LEz+x24H2utvQ4LFi1khx225/gTjuOIIw7nzxf+mZNPOYk0a7P//vsyavRINtxofTbcYH1GjRrFphtuwHprTWXqWlPZdPPNOenUk5m+w7a89uarnH7aWVxy8d+46/57mDPnB7bZblv23m8/Dj3sUJIw5phjj+GgIw9j9713Z5/99uLMs87klBNPZKedtqXRnbDFNlvx2/N+z9ZbbsHCefPYe699OOfs3/Hcs8/z6ccfs+tuu7LfgQfw23POxuA48fjjefyxR9lvn33ZduttWHrxJdh6q6249trruPbmW5k7bx677rYLO++6IwcdchC9fb0ceOABfPr5Jzz00ANsvNH67LXvXlx7ww2UWE44+TT23Hs/Nt50U9548zXO+8PviOIK3373LTvtvBOHHXYE2223LddfdzVnnvYbojDh8ssuZ8stt+T0005l552259lnnuLc358NRkesWku72ZRMipYuyGQ0EYvWChvKQkoUzILvv3Y4S65t5kGYQNRg9z33Z/11V+Lg/fYnCmLRS4ojCk07FAoQ8qJkcECK1cPQkOUtqpUqtWqdRQt6pc4hkCHq1WqFgYEBBlttHfgshy6MAnp7e6kkFcaNH8+8+fP46KOPaTQaLLOM6JbNnz+fsqMlCJE19PR0yfzSMKS/r49aNZFi7SASx5pLS3sSy+iXsixkaoWBwWaTpFIRWtRakW5xUKk2sBhmfPEZlShiypRJRLFQ62UuzF2BCK4K6yAQOghFg65UoVcJcvX/OzUSjqJwVCoVPp/5BVEcMW70aCILeR4TJBFffvspvQv7WGWllXC5rHUUJ8z4+lvW23ADHrjnTlb95UrkaYqxAWj9ou+qdqXWXTowKqHhjM62DUKCIGLWj9/z3HPPMX78WKautZZcW+oY6BsgLzK6umrESYKxAX39ksKtN7qkKzTNGDN6DEmlShCEfPv9LL759ltWXnkFFi6YS3dXg+5qF4NZSrvVBEpGjBiBc1KTValIkfHAQH+nyLkscqrVCmmRM3fBfBqNBo1KjVCLkYMgYdYPP/LCiy9QFAVrTV2TSRMnSINQEDL7x9m8+sorOEpWXnllJkwYTxDGOCx9fYM89sh/6enpZrXVVmPkqFFSy9hqUq1WcCqW6hlU50qq1VpHvLa/KUXbo3pGMHfOD4weNYbB/kHKEsaPm8AXX8zkmWeeZsUVV2CllVait7cXA7TbLSZNnCBdbYUjTVPmzZvLxEkTaLfayoIKeKtUKuRFQbVa4e2336HVbrPG6qvR1zufESO6KV1IOy0Y7Oulq6siTJYLRN9M06hGi8IxkkZ3HVZT9qQ1MpVA2DSt8TMyOLMsDHNmL+C7WZ+y0oqrENoqlJKuTcucsBrz0UcfkLdbrLTCCgRhrNNODP19A7zxxhtMmjSJ5Vf4OVm7TRyFREmFy664issuv5xn//cEtWpCFMpEAlc6GXmo9VE4neLjFAwaGd9Y5jJWLqlW+fDTj3n6f//jlyuvxKqrrCIsDCGz5/1Id3dAIxmpU1Xg2+9msaBvIcYaBvv7qVerLL300sRJQhQnvPbaazRbTdZZZy2++WoGi09ZnDCoMNhs8913XzN+wjga3V2UJTTbKdVqlTTNSCoJuTZMGSdi1JYu5i6YxYSJowmQUWFhGNFsZTz73HN8/sXnjBs/ls032YiuRp2yNIRRlVdeeZUPPniXxRebzNprrSEsaJxQmph33/+QN157lVVWXIEVV1yRJJEAymBI03an3heg2W4LuxSIPmOjUeezL76iUTFMHD8WbI3vv/8GrKO7ZwRhEJMkVfLC8ZeL/sKnn7zPTddfxRczZrBw4QDGhMShY/HJE4iTCmkhYOvJJ5/gs08/ZdoWm1Gr17A2pFppMDA4yIgRDWZ99zXjF1+c2T/Op6vaxcQJEygLKSFqZS0q1QpFWTB7zg/MmzOHvkWLCEPL8j9fjmq1Rtp2VKoNnn7qKT755GPWWHstxo8bT7N3gPETJ/D9D9+z+MTJMr7QlCyYN596o0ErbTNi9BiMTsE47JBDWf5ny3DCMUeRFSXzFvTy6muv8f13X7P88j9j5RVXJkkqMvJLx9qB1Iz6XzvgTbUvrbXSCVuUUq9ofE0eOCzVSoWjjzqSnXbYnqlrT6UonWjppQVvvvkmyy/3E0aP6iErDDkJWV4wda1VOezg/Tni8MOJrMzRTjMRpnauJIwDigJefeVNvp/1A6UpGT1mJL3z57DK8j/nZ8uuQBj38NtzzmP8uBEc/etDpX6RgDTP+XH2bHbccUf+ff99TJkwkSxrYUKZkmVNQJ7KmMISQ7VR5/133uGdt99mvXXWFbul2bB6o8GOO+1ErV7nyiuuILSGssh594P36RkxksWnLEbRlmkURAGz583l3fffZ8H8BWy80YZMnjCJZv8gUSidsi+9+gqTJy/GuuuvS7Uaa/NhRJGXPPHEkzgcG2+4IbEJaJU51WqNd95/j9dee40ll1iCqWtNJUliZnz+Be++/y55Kc0LcRBinGHTzTdnzLhxfPPdNzz33HMURc6666zLhHHjJKgMAl5++WU+/ugTVlx+BVZfbXWCMOStt9/h408/AaB/0UIqcczYsWNZb/0NGD16DAsWLOCpp55iyuSJLL/8zwnjhA8//ox33v8A5zIgJ4ki4ihh7alr8/HHH/PDj7MxxtFuN8nyjBVWWJE1Vl+T555/iffe/5Cll1yCrbfanMHBfoIgIC8L3n3/A956+10mjp/AlpttThKEEAbMX7iA9957lxmff85KK67AL375C7WdEBghl2Z8+RULe3v55S9XochTrNpaaQCT4FpKDkrM/O++cq40OD8yDUtc7eH9Dz/jT+efxYbrrsNhhxzKYKupdUmaUpBcEUEUEtiIItd5t06mFwAUeUloRSojzzNsaHnrrbe45JK/kWaSvu3u6abValIUBaecfDJrrrkmeVkSJQmD/QNUKhUZSG19StPJTFJKmVSACF+KlIlIWeDglVdf5eK/XkKWF/R0d9PX3481lmpVIqkoijoNC9VKQqvZ5ORTT2PFlX9BlubUkpjQWmnssNIBZhAavkRmyVqAQrTpjBHZCowMb3bauYxOakBrCo2fa6mjwiyOyFiKwpK6koJMajicaBXGUYJzlr3225+fLPtTzvvdWaTNfvm8UmYgh2EsKQOkVVs2hHQvy7rLsHYRHnVESUwQWgpt6CmLksBEREEkoEC78RwiE2OsqONHYUiRFRRZhjOSYjSBpVZrsGjRQhqNClm7RWgiCqTQXgTABeE/8fgTXHvtdZKeMgbnJFqpJDFnnHE6Sy2zDKUVBiw2AXmagTGkqbDQcSWR+yoL8iKjzDOMCUiSCmEozUVlkctUDavFz1bqwHCOwVaLM888g88+/4woiWSmbBzRajap1eu0tPC7p6dHgF+WscbUNTn+hBOgzAiMJW1nJHGFIi9l1FAUU6kl5GmbdrtNEMXkmdD5ZSF1mMKQiyzEab85jW+//YYgCKnVasyfN49qrcrWW2/F3nvvLQEKJUWeUkki0W8sLZiQJApJ06YEGkGMMzJTWFJVksj1Rdsg8z41oUWRA8gsaQGcMvlAgB9az9kkDGJazQKjI7rKAJyKbVtkXFeWyczLLMuJooqkpzR1bY0Eed98+y3bTd+RK674B+utO5Vmc4BYU7hFMSz/h09BaLDkwFFIrV2aEQUhBBYThiILkmWQZZK2DyKiSkSW9kMpc6ZxlizPSaoJWSH1pdZAlsr0iqQqwZ4A75IkDHU6jeiNRZFoIxorRfh//stFvPXW24SRnA1wDA70s9Lyy/Ob004jjnqIK5Y0a8qQdycTaIpSxN09u1KkMtrQYTFGhqonSUSatTBORgTaICQtwJiISiWBsuC555/j0ksvpVqt0mwOgjbXoaKs/f0DhJHoqpWl3OtZZ5/NCsv9hN5Fi6hUuqR2W0sBjjnmWJyRyThz583hyisuZcLYUURxJPPCy4DA5RR5GxMEpLnYmCRJVMpEZiFL2Yz4glarj3q9SivPSJIGX878hrN/ezZFLmUig81BKtUKWdZmxx13YL999yJtp6TtFmnawmLJC2lTqSQVKpWYNE8pC0iiRJp7KMgzsaNpnooETlYwZ94cjjvhJEaMGsuPP8yiu17jX1deTiWS2dIE2nAXWbK0pWUWMvfcOREntuqjQiUBilJKg4yR2r5IZyPneUFgTUdwPc+lnjaOY2b/+APPP/cs2203XdK2pezzSqWi5VNtTJBQ2pgzz/wtX331BXfceiPtZpMwkNnZRSkNHaXLtckpxDmZ6BJElrxIiYwjGxwEF7CwN+U//32UvfbelbJoarrY8tHHn3LGGb9hi2lbcOyvj6HdPyjjxFRbMwxjytzhABtG0sSHdBbnWUa71SIvCpmfXRT0DwzS6OqSoMYAyIjFLMtlJGvhCKOIMpDObWMtSSw6iFmrjZgkSTs6tGkwsDhK8izV7GJEpVKlKAvag02yVpu4WgHNBgRhKDW3zlEW4leMRQCyjo0JbSAZsrIgqYpdKvIMVxQyy1u7dyu1upRMtNudbFkYxSTVikz+wRFaS6vZIstFHiWwAVEc0m63KfKMvHQEcVUaakJHHAqzZo10SieVRDCCEdvsgDzLSdOcKK5iA/HxaSoSLM7JGkZJhXZb6pcDJ3WyWVlAaKhWK+RpW/sXHIPNQSyWMIgptXyg1KA+UMyCzqkHKSPoWN2Fs75xZSljo0QdxJC7ABsmxBEM9M6nVqmSF7ncbCDdfyDG38kzRWCQp8CkeUMckgCRMAzJi0y6Up08zDwXcWScI05iylLaHa0+6DRNqVSqBIGl3Wrp/E8ZL2dwkp6NEykQDwKtGROw1W61BbxIE6UwIK7E6mzQoihE2FVFDgOdkRhoSjIMAix0JiH4RbRWRndJxC2dpAJKZRwYRvXgxKfKrxZA57aqm5MaHEtoZY4mJiAv5WAGVtJ1QRAQRwkDg4N88PEnMplEpRuMk3F46AgeqafxE1ikCxBEYsdYKeg1Oj4rCHy3pch8ZGkmwqRWRmLlWowcaMOEb4pJkkSZT6ldDIJQAEBRYg0y8D7PJZ3oHFEkg7SNkVRGc7DJwkWLCAPpSA0j0R5M85SergZpluOsCFIHRurYhCUtieJYx7aVxLHUcUqhvzz7PM+E+Qilu8k5wInmWhjK6Lw8y+kf6KOdpdTrdR0LlpPECYPNQTW2lqzIiXSqRM+IHgUsckakCUbG8Bkj3fBxHIrUh86BNqp7medDTrLUEVN9AwPghAFMkoQ0TYUNT2KCUDryrBXh8bLItQnCChMTReRZW8+JMNvoPE2rRsbL/ZROhVd1NrBzjjCQzl7RRkKLfcVwpmkOFDrtRZi2wIbYOKBABrlHVgFe7htlhHEttE5LwIewPF9//S2zZ89h+RWWl6kckY7hYojZc6WvsdJzbwR8+e7JIs+Jo0iGs2vdU5Fn2FLOkbP6rDz7jiWwAWkmEwuiOBaWsShUOUBGA0p63Gp9nCNPZd42RgbNi3yHpXSwcOEiBlttrfMSuSZjII5iuhtdVCr1jg2zRuxB6Qx5Lg5Qzh0yKcIaWu2MWrVBnhe02i0CC5UkkU5sjNrYSMZZupLB5iALFy7EWNuZB53ECf19fdggkAyGFTWAIi+IopDunm7iMNQAQcC2Z6h++PEH3njjLWr1OutvsD61SkS72a/7QGbUBtYRWkeJoVA7HlirclRi32WfC1tWlhnWij0qkRnNs76fBZTS8Je2BTTEEfVqlUZDOn8FUIldLUvdS0VBnIS0mi3CMCbUYFQaMgIRx9daYQe00pTvv5/Fy6+8ypTJU1hv3XUIjIMik4Yvn540jsAa2q2008Vc6mxtOqy5iuBLZ57aHjnnIBvXB+4SyHl7K532cRR1auHl3AdSk2tlTwdhQjtzPPHkU6y26i8YO2akAA2j3e7GKCByBIHVkXuqBGBVUqgsCIE8K3EmoVrvYnCwF2sL3bNy3hcuWsDYcWMps0JsqTU6cUoBmPpFzxyHYUCR51STigaM4sAK9VllKdmCIk9xpeztMApxeUmhgDyIQxEWVx8jQamMEsU5YrXhWLEVXmKq0FpVjxf8+wIdi9hq6f4JQ4EXuk4YJ3E10gltMDJXGETWxtf9+hruwNJqt0VdI4xAs2OCYcTHALiiINCadOfEgXuZFKN1syVS5ylC2jlRJLgCJzWjeVFgwwBXFoSBbNYil+5brEy5kucsDX7eh4NijFIAW5kX5K7EWdl/USjzpw2GVEeCer9duBKHEX9VFqK97O2q/pvTjm+z6MdvXVlIy5jgCENRSiRgjcEVbZwrtDhcjHaW5Th8l6Z0Sea5dMY5J8XVvr5OZDPksNpAqcZCnLm1hrwUaQp58Jp/VvodY4i1EziKRBZEHJjFIKks51xncLMHbEUh9+Kda6G6Og6Z5eqvAySVGocirdD5XkWMZSEONYwCXFHqQZcDXep8XJywf4GORRMjIQ9fUm0QhMKYFIUYOWMMNpTuRBwdQOi88VG9N0Hq3klJIXBZ5BjUqSi7iBMJi0IPrHTuCPD0z8kp8JTDJPU/1oq6fpblqkovelNZrnIuoUxW8CmIMBB5gTyTzuwwkucss3UzqZsJhoR5cY4gDuT+nCEKpUmkKMToG10TAfG5IGQPwK3FOGWHkHKBwHcnd2YOyqYuyoLAinZc0NFOFHYWZIB1kZcCNIOAosiVRRBWzHc7yWdKfWikEwf89ZXOiaPTZxTYQJghIw4/L3QfKxNSysmm1OsMtLC9KFWzLhLGUQCsBBeyZLqvEMMn9ypzSj1wkvUVR1l26ju9KKwwGX4vOl2vMIwIg1Ack95zoPurLOVcyJ/9oHsZE2iskdoqdZ7WyDgg5wyxL6EohGkM1GmZTupZDJ+xRrUsReLDape9hIrCliOnUSNwrQNUB2LV0GIMrpCmKat1mUImCNtpkJR2J9Wt7SyB1Q5qBYyoCkAcRjgnAN0oknAIQA9CMc7iGAXISW1lqRI60qAkb/PRtRh2OZcysUXW2WKQ55Jrw5XYGNnHgZU9mxdSdwwSRApzVJIXMls6qVQIg4A0TXFFIc/Yyig8fArHiBO3QUCRSYOVt30gjjwIZfwjEqLgSjnvxiba4eqwAfK8rNSAi/6X12qVoCDUINkzzSJBEkuwWMgYtCCQwNbvncJLkeiziHSEVKH1v2EUiB/CCX2gUj/+vOrfCumgtUwYo5mhjDzLkXkEOhfbs+1ZKutihtgPsQ++5lU/W9gP0N93fJIPlJQ1ETsiwCBUkC2yX+KQoygmjCKazSa4kigMccZSIrJerixkIlMmGbJOAKSSS+IzxW5ZazGBBCbWlVhfwxUkCmwzglBsZZaL3Je1hiiOJJVqAmX3kT2Vl5SF+u9A7tfX2wb+z06yLIUKhBsjIwOLIifLUgxqF7JCgi4rZ9+qnEye5yKJ5hDQoJ+J6joa7Vx22jAT2IBWOyUKRR5FbIwMV3CF+C6xf0qyKDjGSNNk6QdIIA2YnlyQBjYJzAK9Nqe4wSkYtRoE5DrPOtAMhtFeAFkXkamS4LbUYQTa6xCJ1qH8SKCUZhlBFElLnTaxWXTwQulEADoQW1qqPZM9KfbYKYtprZXyOj3X3vdGkQTontTo7F3FZEWRExjJABbac+DtgHNg5s/6Sn4ndkEAmz4oYcMEoMVR3AFweV5oLY6wLk4V+TsR07AbkMMjEWdZSlE9GAIrki8yOUOMu3fyskGGjKMNRGqh3U6lZtAK8AOpbRODLUjZaIQnDq/EBNrx5w9rKRGJ/2x5HPKd/j9jBWRIJJcSxfKw80yBk5VUi1GAhhmaASzRiqRhPfPVmUvrwYp2VfqNJoBAHowY06zD3jk9lN4gSfoQNVpi/JyCMG+k9OGJE0Zm+jonjJVRR5sXkmaV3L8wVOKAxUF2DKM+C6PdQh0Ao8/KKLgAeV7GaHpbP0M2txgqg9UDIqrlZVFIelSNjUFYliCICEIBk3IIfEpGngkYeZ+maOQv5XMLZX+985B18s1KnoGUfV6UBcYbeCQyLQtxcIHKeoAYQL/eYnAjeRaldIAK/SqOLFRG2JUizdCpuTQKYrWrOQgkwpZ9K8AHhgUByk4bIylVkTQaEu02Ru47z/OOJqGsuaxPUUiDjqQZhqJodD8FPq2lzkuMn6x1UYrMTqDAzyGgpyyliFhq8+S9ItcixsWVInfUcWJqYIMwwBk1OEaes+3YCNlTzkFRyPO2gQRFNvAsoLBVZlgNq+wzYbD93rbWyvqrLikOGa2lZRhyVsQmGSt7W4IS+TyrYMLvfdFb05R3Kc976HW6jqGMm/PORMyuMitGA9rSUZTSJODUvspZU/ulAYwEc8IMlMpso3aidKrR6YGJkT0iQYCeQ204C8NA2NqOnREg7JzYOZHQ0fQZDmsdOKN6p4E6XelilqDTg4GhYe9GbcLQeokNURwGakPDUBoHxfkJ8PNKEjYQYCdrJmcyDLSGToGjxG5iU/xrnJNGCDmLsm/FCco5QFnZUoNSlD22gTB7eDvlhhgveWbeXwmYiDQlWZbSjCY2XOrbw1B8gh0WNOZZCsbofhlap7IcyjqkWa5gVjM0gby/LMU/CrEgfycNevIdURLJnnKi24hzGgz5YEuebZbl0rQYhRgrTJiwmwIw5NqcTgwakljy+0hOiBPcbGQIgXMSICexZMja7bbcm+KCspTpIiCgztsz/yzK4b6gKNVmikSbBOwajBoJMowR++XXw6jkjvefGCNn0Qp4LJ2Au0ilcPz3GWNksIFOS/KBmjB5EiiKAZbr9Vm8TiCVS/Bpra/rVF9gtV5f10wwjw8ahtbSr6/sLvkyb9+9jSi10S0IRHPPAzPZOyp3l8s9oBhGmvis6kLK/VhtSMMgQzYUbOIkgCvLQoZa6HUFJx9/7Dn4H3XiZZFhjH9YshGdPkCh/GXTGmMEHRvNZatTcd7BdACfvF5zUXJIO7IrPm3s2Q25YYs6N6TI27MBcujFYOSafpWF0iBPwaiAPWUB7BDjkmYyxgTAOHlgMvRSgZlDAa8AiSSJpXtWAYH/PtkQ8v5SB1j7VIjxRhGJTMWoyzoZ5GE4Z+RAFpJ2DgJJ5TEMvMjFoBtGQMlwYC33JODQg1s/cNx/jtPF8XQ7iGMxRt7jv8KocKhD6GFxxhplKci1Gn3TMfQFxkJZCmMiz2uIvZWrkMNqNJ0hQFOv0ztANbjWWvJcjLoUsAswExCvDxg5FN5gdTxC5+D5GcoicVKqlE9RKKBRgyusltwrQkhJUKHfZ7QGEU0RSLQmB99T6MYqeC8dcZIIw6WaX5Lusbq3xRg4J9Gx3+cYMD49UZQENtLoV0YnOifriQYLnXt2sv7OOZE00f2B7gPU6WEELHnmsMilBk/OhwRkwryLI5KRZLKYpZN5ys5J96N8tjhyAaJOJTbkWblS70eNjbUSbVpvGNQQGQWz8hzl0UnEPhQEGSDS+bPgz7zcr7VyrukYVv1MBYVFIWsfeC1PhI2S75L3ST2kD0SFsfLBWVFqClr3uFNQiXcUapc8W2EUcKu56PzYDjAa2r/OuQ6ILjSF2LENNhC7U0pzi9y3r4UUXVABnKWmTjVIL0WNv3RelV/LVgyg4XG7La/3axuqxpdBUrg+eMZPOfJ2Qj9f7lm+z6htsDoIvsh1n5fDDLG/BgUkRs+X/Jusa5blBFYYa8+MGuQapdRAQHUQBB0mPwjEDnX2j4q245yeEmTdNJgACAKpyUPNhzh9QTX+c2wnIJS9FPrATIGSfLJ/frJHfYmJD6pz9SuRsq0SJEjdlTBOyHcJJpZSDt3vRSGZnzAMZT8gZ0jOuawfCpTKvMSorq0xoisqvklYwyiS4QnD7XYQ+mclpSN6N2JXfKhihBlVc9hZm7KUjJYueGd/hGHYYbCMET1fY+UMyb5WAKQg3HkAKKZE10P+rtCpEqH6s1JttYBBo+BW7aZem7cBEjjIvkUDYeckM2f0ZpwHdXpv1lppcnPakOkDVA/C1ZaW6kttOBQoeqDjQWcQir8LFFCLPVFpJM3ooGe/1P3jFyDU/e3tutgq3WNq19Brlbo9AYLGCHaQQEqCEPG54uPLUsrhxGZqGYpnkZVpD0498fhzxFDIdsA7QGWbKAX9y+IAimiF3tZctjq4Uj/UPyCpydPIR2lyf/A9sPA1STgQUyk3LPZDFkkclaRDJEIWEOI/S6J9/XcFeyDOQu9Kr8/PuFQOxMiu0KvSX4c5MCNANktTbGCV9fRRrmw6p2BEz4m/ZJzejweHmKG6RzFY4sAFLAxFGRLl6EbQ+jqpXfSRtYBevUjwzknZvlLZMQOUmmoXwy7v94BFnJ8ytlr/GASSwpTP8RvUOz8BW7q4CgLFiBkj9wSyIeX+ZQN75+zBOmr4Ck07SzG9ADRrJZrxTN4QAPPXImseBDLhQdZfnpcYO1k7b/TE+EgggRoxf8gNsg7ymfqrGhWrANVqWrP0TKnVWiBdM2M0NTLMSDrnnbSyjkacsBzEoedqdC/IudN9qP9WOgFjklaRtLjDEWo9XaZafdZYkiQWZkDZY3T/+/86z04Bn4BfWU+/Hp0Tos/Qr0kQSAlEqfWjZeEnbWizkzojuS+/HYex27pGeS73ge8u85tIv3d4MGM0mpd18Nel6Vh9vz9DzglzIWd6KMo3ajPQ+++wgopLhNmUPw+dJ71/N3TGSg1YrTJXYr/0LKszlNSiFVZA19Q7R+fEeaBBlk8nWQWl3taB0SBUbIXrfIbYK9SeOmVU8g6ol2twnin2KX3VnHQqJ+WfmewRBZByJ3rtci3icPXs6DM0GtyDrJk4d7+P5bsDDSB9oOgdmHy+pAulLtSDVyiUKZc1dR0CAKdSXDpvHbVrUk6Sd/yJK0VbNVB2X86n7iwj0jHy/Ib2OsoaG6Pr78GBpslRn+WZw9KDHr2X/7NPOzZ2CBz7812qdqy3ZfLMlcnT77aBOG6pWRt6r96J/0q97mGBrkOehabWCy0JEMcua+nv2wdLTv2KURtU5B5kDdl2sfli6/w1+B//OmPEp8hrEH/loYwGRvJdQ2fg//iyPO+sCT7romy0MRoAl8pUIYxwnkumxvupIPDrMOTfg1AabJx+ntVgF90XgQa6QSCd3EYxTKnZv4410mv34GxoTfV5KwD19463lpoxkdItOalpNjS+tez4HHnOgbVDUkJOAhWn9yN2ZZgdklXF+aDLA75Sm0M1SyGfr/Zj2LNwSsF71tJp2VFw8vHHnCMPxlOJcmHWSm1GoYAvVAVoWQh/85KWk5SEd2TyXv+gvCEJrC/U1wOt0eD//ZGbFYetrKIaSWutdK5qt6zrGEq/NIARJy9N67LpikJqFIZQsRijKIrlfcr6yPd2/B4YcSgefPgfVzptbBCD40FcoPcrayKG0KAHUt9rrdTdOIcWLWtaWqwm6CaOwqhDCQ9fIoMatUCmSjgjtW/yTRqdYTp1M2UhNUc+IvErJbejQBKV1NAaJHEM8pytlXoUvwEdst5WD5Xcr2x0cZYBTtq9MZq+9myIADDZmGaYYy59xBhIp6GxQv/LusvGLjtO2hfne0euqL3jaDTK1O8wauhkIeWA2EDmWXpDbDQ1g3ablmWBM+IQ0efaAbmCmGUdO6yapGDlHmUNra+L0gLlMJDiWzRIkbd5wCHPJghCzWsJ2EfXyBsH/32dvah7aPjeDAIFzFqX468fDQI658VK0OGc7htfE6igUZNIEqiUsseDIMLqPQmIVMZIJXm8sQSZGpG2U1zHMTpyZRb9ORFD5oGiyJHIj3yOU4Mp9ywNP+hO905Frl6ebe6bvtQeYBTc6Eu8TbLWYpzcv5QeiCQSCmI6b+l8ljotLW0YfpY82EIdlzESmMo5lHMkNgSxFXrOBTSIzZH0rewfnABrGxiVndJaNmXuOntfr9OGfsSdpom9c7RSmytrpUBJgai1knLrrJPeeKm/lefhgZ8Wh+s5keyPdss6eYPRNLUH05JOVcZfNcXEYUqdkg2l2cRqg0QQWKIokGAURxBqoOidN4B+h9Tn6e+1ztrbTaMpMFkzZegVdFsF1x5AaBej3L0+2yKXEppA07Rpu92xUf6MiR3S/ai+sPSMiu7GMJCUrvHf6xsC5csE7PgyGSvMoPV7SmfLo/bSaimDt2no/kfnXTs3xIraQMbilU7As9M9WWqtunOS4UIzVTYQBss/v/9zbjQY7JgaJ0DSdz17gO/Ph7dTYivU3ysOMN4G69kI1TcZBMQ69RWBjnr1ttjpOfGYw/vpYHgmbBjIMUabL4adw87ZtHrOvO1Wm/f/+9G9FNiQQMfOipGSs2WtsJGd79RPEyJJfjrkS+dsi/+wCtiMgjd/n2U5VG5iA6ltl2tBbJOTQFielS+zkcBb7KtnGYd+BOhKX0KpRFCgJREdPHDK8cecY9Qg+CfdMTA+Au48XImGnNQdiuFSY1AqaJDoQ5yaROLyAKwVRsuVcuiNRvY++nW6EcywQngQ9tFpxJLnIu/hUbG/IQGt6vB9kaVGG+LQZDpE4OlTBQH+Zg2GKBRj5c2qk38AJ7NZ7TC6eeiBaxRphuqFBEBqusCzXxqF+cLMwNrOAy0Lka7wm1kOsWww/2MYckLGHxrxmrJZnQegqgjvGSk91HJYhmoKw1C+ryyleLgsndRAlVIOH4YRUnov92Z1IxU6Zk3WXhswrDBntnNPQwdO1mMoysb5wyr3VBRexkL3nQNX+mjXdZ6lACoxEOKQ5dEYK92Xnokxw5yUK526Jf958jAD/x5/GDrszBALJBGpXK84DXnu/nxI9KcGxknNVqg1PP5g6ytlTZwYRM8+WGNl1rWeC6m1Aoc8i1JHiAWh0PoocBGD7EGMrIN/zuHwlIHf23qW0E4/bx06hsbKmZDP0LOgRfgCTOVeOsZXX9cB5sqCOB/5O7UbqnFnkCYKp9cRhVKz5s+uv04HFJmku6wRQIVnQTRl7OTwqTP2QF9ZSWXzZV2URdHz5J+T38/yd0P3J5+rrwOJpvTv5fqHBW56PaDPvXNGTUcTrnNWjRXjNewa5J7k+4NA6vDoOI6hM2B1j8pZk+esVgATSDCG2mS/NvK9YjfMMLDjA0i/N4Vp0lSZB8edH38V8hliD/xnC0DvvEIxl7cPRtl1lCkJtd6qUFbKnyt5rbcXw54R/rz51Kp8tpwfR1Hoa60EYbKHlb31QZsGO0UhtX1W68PkGn2AK5/uhgUW3iFa632WlHigwZa8VjaKmCC9XtRH6t6QvSmf/3//LHs9V1Dg94dRFtYzskYzGLKPlVjQexoCRJIGRdfH2yUP1vDsjxGFBdk/ulcUfAjYUkDqs2vgzZucd/kyOSNq0wtf7qQ22WhmRAIBOaf+/JVOgKJRe+N/xDbKnnVOfJfUt2m2qGPvBLgHfm/JJu+k5L1PE5ukZISW+dhOYEJnTfxv1TiAv4fOHQ3tZTmbtjO5TGyaAGcB7Xoq/h9iwXZqnUVyLujUFfr9IjClLAWMF53yK/+vatNLp0G5nOGhfSfXZtRG+ncNx0uG/3ueZK2EeJD9LgGZtcpEeCfqtLBVwIABnQfrOxVLNYx+sU2na0QBiG9s6GxYZYw6DIfcpqBvffj60I3s9A6LJn+WDegRP67QmjJdRQowhWrpecStaNhBGEZYTV8K2+gPszxAcUD+cHsgJwtmrUSyGKlj8vcrh0iuzW8IzyCgDIl/nezwIUPTYUg69+GEadEHVw6jq+Xv/u9/QwdXXp+Xwtb4qAAn9V6u8N2CPkKTZ1SWArbknnUdHDIEzBr1Vd75+RSAwmEFGt7Y4Z2qGmOH3LscDg0AFCAKuJfnWJYlWS5j5wpt/CgKYcqc1tI5ZYuHIj0ja2VUN9Ey7BDLWjgvI6DXXuqEECt0grK+VpgVvY5C0xIgz9g7rM5eLqQDzmkU7veRbJTOkit4GzLoxlgCo3UfSsuL7dI16+wjQFZG1rZjVOQsFtpxaq3vwBNALMFPIWdAwVY5nBnwTkGfpRgbBWe6Vj7VISDY117KekVaymGUrZfnlgmrboWpcaoTKTVrwq4Y36kth6hj/CKV5vB72hijzKJIdeSFT1XrDSgACoyw22KAh4rVjbcNgNMGNGOlZskC1mn9cYl2McoIMclkDe0X50oJerwd8qyW8p/iwKWWy+o6FFlOnsm5MB0nH+oZskRxrIyKPgtf+yQPRv7S79nS4TqjlYbY5XaadmopQZ1v4TDOYJ0htKF0ayJpIzBQCjhzpXQIl6WwHUaDUavPQlgD/o8DG/pVHLVR2ygVVLJvvR3zLKLpBNHyvf7HGAl2vE/wwDawOmhQ43TrLKY0lJlDMr1axM8wp4vYVv/dsnlVw9Rq7VXHVsl5lmX31+RBhj+/Ahj9GTMKbGyHBdM9r0SA/Mg+AQGmBl+PJa/tnGkQ+6sO1r9f7K3uFR+c6DX7c+htqn8GVlkq2Y/yfKyWBdFhX4dnEQT4Oi1xkmuW30eehPBju5zck9EA2v/467HDAU0H2GrDRYdZl48KQm1K0MxYoCx3qbXrfglljcUmlWrX0XQmTjILnsUc/lNqsNsBgOVQKrbUDJecS1UA8HtdmTZ5Ov5zvB33tt/Xw2sAiNxUWYhkVVlosF56Hy97Tx6BAml9nk7ZVjV7cl3DrgOGzlKZC+ubZ1Ij69etLGTaVqk1obqzsGYoiPH4wnn7qCSa/N1Qbav3BUGg8nOqAuAZ4OC0k048J9D6KLEx8hA82PML4g92lmcdA+bBXKGgwg3bPHKwZIMK7RtILVJHPkMOmgcxww9C58L9JldQ6sGD8cyYRgVGUS0gBc76eXLd4ixlIcSYlKVGGU4PjQINqa0aioLtsHqx4RuGjtPRTaf2CO2gK1XLyL9WrkHW1A1LBQnIEDDUqV3QNfTX7//sDZoZBkhL3WDGX4CCPrzR1gMqnyLP0BjpnpQ3BIQ2Jk5igkhBBYHUvjC0mZ0aXafAStKSGm07OawSSAi7U5S5iF4GmsLR6/D0uqylAnwFEbKkVrW6AqCkKDLdJyHWSgIfBeW+BKFziFVSREAZykjo3rJy5IwCE3FKwvSB1Kn9H1mJQoQ40UhdHvUwIKxRud+rcZIAyKxcZX2NX3ifOvfuQp2Ff5aIORr61ck6+T3TYWwUdHaiajO0FjJRBpyRKFuMqj5hjbpz7fSSuiiVAPDsgJV7NcOKhcMgJG2ncg3Kavrr8+fJDnO6GEMQhVLc7s+HnltpXJDtLP+kzrHTHCFpDqfRe6ByI3I9smaRaje2Wi25VmXzbaCilnJZohGqBt9qqrHjgHwAqrJAcju6D42cD7ErQ0oFQwGLrJXTwMfvLXkWYs88GAi1scyzrOIYnVygk2fuAUjg03RO04byKRJwKqjEefZN1j9XGzz0/Z7h1tfLV4jL02chj0OaGOh0MCpgsUO1RPJ8RVbFZyY6AEmbfuTShn23AmgJ3mRPSCehyM3IuDN1fsOuzT8nz2zIM5NngJ7hjgMNpLDdKtizek1WHa8EfJKViaJI/ZIAVKfr51kPf8/++otSupetEZ8kwEme2dBniw+wyvZbtSl+zw7ZWKnN9V2uTkdoousv6zjs7Gl2yCAA1++9sqOgMFSuFGndYqjraTSwEjs/rNFCAxRRATCgnyFdqhCGBmvVBsuV6d71gMwHDEKKoPvKWEuoDRBO2fkoEnF8b4+N2qrhAaC8XogISvEb6P41CubErvlsoTZryJLCsBKLXJvpHOLr5PkH5Bp8CvOpb9X3ot8j/kgCVl+CZu1wdlB97TDQajWtb60qHOjnSwma+FMJKCSbZxTIGjHfwz5f9rbfZ0bBtf/VqpKBM0PB2tB/6ruQtfPst2SZhBwoFQeFakddJ/0r579U/OCBeXDaScefEwSB0NCeJdKrlg5E31ov9RsyRUMeQoG0ZosxkHRXEAQYj0L1omQDiwMxVqIEzy4GQdjRgytzmUEaRiI0a0BEg5U4M3aIQXTI1Ahr5HB4AyCGQ4ryQR+IlWLfonSEcYVGvQuc6NZFSUKlWiXN0g5Qc+qYjG64UqOeovTF7QFhVJGh0ElMnETElQQbBNRqFVFJt/KQSuRw54WjWq3JRAnv3GWnUBqhyz0wQZkN9GEX+v1hGOmh8YBY/vMP1+9gSUUiD9/KZhTgLhsuiiTlJk2rYpgxslbOWCi1iFU3qDEGjJMaPDWOMATc5S4FZHjQRoeWF0fkP8+VQ2A+jIRh8wyEkDGGKLI4I9M5HIj+lQIV/4zlUakR0rq4QhsfDCJWKtftD5kUDws7IQdKjImAHIcjSzPRI1RwpidZnoORdS6d1gkq+DWaMs5UuJoOWBStJjGm2m3lJFUVq1ConCsxoKUGHsYoa2UtYRQRqqSH0YiwLErpJAtF38kXRFdrNdKs3UlDlyUifuyNqJEgzDnVxHLiQPyay82KtEIYSUc1XopFa4rCMKJaq1NrNIgrFTkvTiUfEKvvQZ9DjL/TvSzGfwhACljXaD6QQKNwhq7uHtrtFlnWFmkRBw5DnCSiYxdFtNJWhw3q6upShqqgnWYywjAMyV0hivcgA+qHpYZkK0otl+yDULozh7EIDAtU0Hox5zwwUsCm+w+Dnj2jYxvlRUOBjgQn/rVG2VhjrD5fbbzQgA0jAZU1wooaq2y1nmtjDa12S67HR/NuSCe1LIRhRlOqTi5NnaoCdfSzOkGy3hjiNKwVAkBYdwFPQ4nfofdJfac8Y42V1OmIfRgOmqQZQeqtJWWuyAi5NhvK+kigoY6rw/Lod3Zsnmc1ZO/KtpPrtD5lajwg80G8qATI/Q77bgWnToN1uTdfJqR2YPiPEagnqVuVnfG20hoBTt526I/VQA6/0uozkyTBWmlikJpETRkqwJBnLPckqX/5LNOx/3Ku/L7296QPd1iQK58RKGHi8YjX1PWBsARqmgXU34s9k7NtgqFSIw8GOz8Ksv3fGb0XM8yGdtZef/x9dHx4Z48OuycPPDUIGgL+GnwrqCsV3He+T+oqdD9rUKdgS3ex7hX/HXId4I+zPE/5PL0mXX+nuGiI2TXEsWilDv+xGqDK2fYZOBHwD6NQfIF+h6y/lEnIudGA0ol/88GK070j2SvZs2Eo03tEg9cHZ359le2PBCgCmDnfzXSVJFZJCSdz/FTDyEcesqCyGfMio6enh1arqZG2UdFRQcZDIsOyUMYM6UVJFC/Fk8ZILVkYyWirtN1UdXYVLFS1eC/M6Q8l2rThN6TRgn7TeSCC1q1nvKwR1X8giBP+9+TT3HfPvXz51TdkRcnonh6WXGJx9t13b5ZeemnRGEIiO2HihCqVWowca0OarYyXXnyFZ575H+PGjZZi9jynq6vB/Dk/stiUSWy/w3SCKCKMErLcMev72bz11lsEYUgUWLq6aqy5+mqEUYW77rmXsijYe6/dKbKUQp2igDWZEmFVgBdXkudeRkM2UtnpjpLUrbUSQxdaZGqUKi5Lr4Ava1sUDmcUhJNKGtVGWBNLoS4OcJRoelOjU3mWToFriTEFghMCkrgCBtqtJpVK0qGvhZkRoygOTf7njYicXzmIRZnjXE47bVGWkCR1nAp3y8a1IjIubwVNcWB8RKYOSdkezyt4lsUqE+m8Grzu1UINuTfKwo6IEbFGmmXyQurvGN7coYGNK2U0WlmW2FClHPIU40qRrlBjYzT9YzQtYYwhV2mMJJJ60jTPKHT4uX/GkarrVyoxmJKFvX0kUYX+RYPceMMNHHDQvtQadQITYowvFJb7KpwAsbIoaTQanXKM3r4+AGbN+p55cxewzDJLc/NNN7DTDtNZYsoUzcpJ6vCVV17lxptuYcTIkaRpygrL/5xDDzqQVquF1akAkUahTh+QTDORs55mmZxlsd6UZUlXo44rCpwz/DhnHg899G8OPGAfWq0+orBCo2sUb731Nq+99iqVSkS71WKjjTdkiSWWpK9/kBtuuI6dd9yexRebRLOdUiBjj+JYG0a03sYVJVkqUXlZyLi9ZqtJHImo+MyZM+np6WaxxRaTQKYUJh5lkHxHLM5hkGYTg9UspDhnV2jphDVkuQh/C4gXZ+cU9BrfdFY6ojBSzc+SIDSAlDLkWQ6lpo6CoWYCb9T7+vqxYUiSVNQJi76cfL0Gq9o84cGMsL/eUcn1dPywD1ZKAQGBd/AC4cTeKuNQamrUaJ22MbYjBeTtZVH4EZdyrlFQrEv1/wMA/szhfS5DICHP8iGHriDRGAFLzgnQtppFEocodtMgjXiy/0KR11DnOeyL5duMXCvqT4Zsv75KA090jcCQF9KlGnmH6oMg7+j1vktf+uQdsgeJWqtV6jVba8UPe+Cs1+ntpFFWGTyDKbYn18YUjPy9+Gy9Hk+IGEmjl64kDC1hLMC+LAWtSzq6II5isfidukPxfUZrAgWUD12v/+JSa9hLnfAhBl2XV6/NX4/35U7LTJxqI1oNohnWJCGPRACZXItgCNCmOvRMejZXz9rw9cuzrCMf559BofX1fm8O1QUPgT2/3z147bCQyLmymiHxa1wWIg8l3y+klrWWNBX8kiQVrA1UB1Ffp3vaZy6H+x1ZH2kAKstCmfOALFNNVV8bPqwJS/annCU9TvIdeg/tNPXNjZZma5ASR+4gKyGuVokqCfWebiq1OqUxhDoaqHSOF154kVa7rYdDa2qQTp44kFqXwAbEsU+B5eQaEfqxMRjLXffcyx/+eD7X33gj7XabMBCDWurBmfnll8z88iuyXByubERhx5zWtwljIQjcaeok8AWVNqAsHFleECZVLvnbZRx7/PFstNGGnHbqyfz2zDM49PDDmbzY4uy48y589c03klZUls/og3Wa+o7jREcQFZx6xplMnrIYlUpCGIdEScy8hYsIopg5c+fIYTSGNM/p7h5BGCW89sZbvPzqa7zw8it8+fU3dPf0UO9q8O33P/D2u+9IjYNxMurFAFbZO43s0qKgWq9LWtVKrZqM8JJZliUlmBJHAdZhAyhdQZrLxrNWmgpCG+IKRxQlOODzL75gYLDZmRrgjV6gzBqago2TcJhET0map8pOKOgC5i9cyMwvvyQvC9rpEItaIpFa6VRfTzvuTCAb02qEUzo/HLyL0WPG09U9inqjm0DHOxWlzAk2VsblBEEgzFdREkUyd9IYMcp5kckB0xS4P2TifMFYR1FktNMWRSGq7FEkdYBhKOkDvBaXc2BDAmVLrdWARpk6p/p9DlGbH2xlzPxqphjnUIEmTkBBkeu8Z7n3UusMvcEPrNanWZlMYYKAL2bMZM8992KvPfZki8235NobbqFer5NUarTSnLvuvRe05qNUjb203SZNZfKODSyFg77+AQ495HC22GJLTjntN5QYorjK2+98wKWX/50Ro8dw733/Js9lbm1RlLTSlFY7ZfyESUybtiXrrrcB626wEcsut7zUcHai06HuToejLKX2NoxCavUqr772Chtvugnbbjedbbbdjh133pXNNt+Cb779lkqtxg+z53L7XXeDscyePYevvv6K+QsW0EoLPvjwYz759HM+mzGDgWaL3oF+KrUaV19zHXPnzqbMMypJlUqlxvMvvMSWW27LJptOY8utt2HzLbZi8y23Yuedd2CzzTblvN+fR+lK4ijBBjGNRjfnnHMur7z8ihh/V2IDiKIh5xZqKcAQqy2Mlmf1i7KgcDlRHBNGMV093RiVmPIQyn+W1BsW1Ot1qvU6Xd0jqNYa1OpdJNUqhSuJ4oS4WqPePZKunpG0s4ICi40SbBTTPXIklXqdpF4n07KPMJZ5olbTcZ5JCYaNXvSi1N4pyK8K+qSYqfM+AefieMUmDqXHrNXgRx18EAQyE1xeLs1yaKlLICnmKBRmFXVwAmLEcPv/4dN9wVAjjdU0nx3OxijI9HOKoygiCiPiKCbSDJLTOjYfEKPnzeEdo6yD66T3dHoDKr6u6zPcgRojpQvGGuIowmhwUzrJQIkahLxHsZcOEfCd/Xr56owZprpgVTYoCOTz8yKX4F2/D4ElHVCS5zlp6jUOpSFDbLFmU+JIs2tSO220qQyVWDLK2BovphxGFJoGtYGwb8LQy/U6LUHo+GH9TA96g1BAcGf/+To4/bPp9AOooHIkmRZjIElirGc+Vcc2CiPprvUNP50GIc04amAm5Sui1qAPSvemt6vyEEtf96o1dWEQyaxbreENQxHs9vcVaD2+Vf3SOI60JEifhZXvNJ5F901LmiHJ8kxYY+tL0eR1xnidWglAS91vNgiIk0QCQ2WSh86JnDWnTJ+AN4MUYMhPhyVV3+HZ06GzPzSAwRovfmINJgj53e//wAabbMI6G27AlttuzcWX/Q1nVfjYWt57/322mL4jr7/2GkkSU+Y5ZZZjioIyyyVd64vSVTLCH1403WBDS5ZlBEHID7PncOpvzqDVaklBOVLPU6vXOPm0Uznx5JOpVGqdB2qsRpQOUDZLIiq5YV+TkmUFrrRAQKuVkReGu+69nz+c/wf2O3Af1pq6Bqv8YmXWXmcdTj3rTNaaug533XOPCFHq4ZTGEBlUXeo4nLJ09DfbRHGV3Dl6Ro2mu2ck4yZOYpmf/oyxEyex8iq/JAgljdY/MMApp/2Gy6/4B2GUUKk1COKIzz77hMOOPILb77qbpFrVWaQChpymMZxzZEWmha2WZ198kaOO/jWNRoMgtKRpm7LIRAPLOkDAtQ0MzhQKADUSUEodDNaEBEFEUThmfvkVG22yCQ889JAAe7VWWZp1IhUwRFFMWaa6mR3zF84njAPyMhdjYANqjW4++WwGa62zHh99/AnWzxBWQ9vUOY1FKYdCIpmSXFNyeVHinKHZTDnrrHPZcMMtOPyIY9j/wEN59/33RQDZFMIyBgG51x1D7kveX+I0vZnnUiNojLzCeQFsSowpyYs2pcs6qWkxJPJ6FCiXZUGaplgrpQJGHYIcNAf6bITBKXEup7u7hwcefJh1N1ivA/7STORNxBFaYZW06UbYRh2ZZkSUWRpihPb/5tvv2GOvvVh99TX4+6WXctpvzuTaG27j+uuup3TQTnNq9QbttE2WpYCklfM8F/CXpeSlrNmvjz2Wru4eLvzLX/jmu+858eRTqdW6qVdHkKaDYCxJbQTO+WcHP/wwhyOPPoazfns2d9xzL7ffdRf33Hcfp515Jqv84ld8+dVXxEms0aaspQfGogJQMDDYzxprrs4TTz7O/Q8+wP0PPsTJp/6GufPmM2HiRIIwYvTY8RQOmu0WkydPIqlWOP6kk7nuxhtZ0NfLN7N+YEHvAH/6y8Uc9euj+fjzzxg7bhLOZTJPPC2o1Rrcd8/9JFHCyccfz3G/PoaDDzqAQw4+gGOOOZoTTzqOHXfaHowAaucMlUqdWq1BUqkCkhozClxLV9BsNRHz4oNWidB9HZuMjpNfz//TBey866785a8Xg5Fz41kYow1GlWqVer3BbbffwQEHHMTBBx/Cyaf+hoMPPYJrb7hRbFsQctXV1zJt6+049YyzaBUlrbRgfm8/19xwC7vvsx87774H19xwIwQBpZUg0+EdkGcAPAAaYlpKzeR40CPO3Smikj+XmuJFGRFfQyhgSRsJPCJSZ+a0bhP9JL9enk3PtBZJbJwCL5wwgeqsjAZndBhAZSX192LLhhgvo9/jX+88y29FPkzsnmaHPHDUNHypwMG/RgDdUPmQTJSQkqGhtSv1moYa/vIilyYnda7+GZTagSv3KWdJrKn6Ms1MWE0HCjkyxFQZZblk/WRiRq7C3x4oOm3GlOkOHiIMu1fFl9YOjX1Dn6NnnZ3WgBWa0RgCe8MAhh8dptflv9fvCR/8+vUvOmUdsk/+j49WYCZXKgLJ6LlzaneN1l6iAZMwWiL54pm0QImKoijIlTGT90h2Q92CfvZQCYYxFqNNq/J38tlGZVJKX2alQKD09chWghG/7qLbJ4CsKIT5RhnDOI5Bg3r5Ut0PmhHAeOFwLV2ThZX944RoMsYMy6qKL8r8FA9d88LJ0AWH/lmbN/NcWEGngFHIGr1/yVVoaFIakkqNTz/7nG223Y6//vUiDj/8CK6+5lr+ceU/O2h+xRVX4uH772HFlVeir69fDJq1ZKrBZgMpHi+dY7DVpHQltXqNWq1KvVEXVks7cLbfYQeOP+EEekaMYFFvLw5Hlusg5CDkggv+xNnnnE2Wt3XQPTrjTub5yfeUtNK23nCBDSOSpEKc1GinbfI8I6lUsEHAZpttzu/OPY+77rybL7/6imazxWdffMEfzj2X1994nY033pg0TSl98X7nqIqhwvl5o1JbNWfuHN58+y3eeucdXnrpZZ56+n+89PJrfPDhJwQ64i7PC37605+y5FJLs8SSSzIwOMCChb1MmDiZUaNHU280SPOCWr1Bo6tLNpIeYr/xS9VQ+nH2HJ594XkGBvppNX2Re4grIctLurpH0N0zkjipkOcleaEb0lqq1Ro2jHHGgBWBySCwLLHkktx6261sscWmpG1ZL3+I4ySmUq3QqDf0OkRAtSwNhx12ODNnfokrDXFUwTlDq5Wy8sqr8K+r/sniiy9OUUozT6GsX5wkdDW6qDe6sFZmjhaappaNKge4Uq1yy213suJKK7P33vuw9DLLsOeeezFn3jxQzbYwDKjXaqJZFoWEUUCr1abdlsaSar1OlFSFoQsCgigmqdawQUClVqNSrVCtVSmdoXQCjJNKlSCKyUthHoy1lMZQrddJqgnd3V24TJqTmu02QRTRaNTp6m5IytI5cJaBgSYbbLAhl/79UsaOHUur1dJ7LABDtVqjXmuIcymEta7XGwRBQJJUiOLEN9PhHDz55JOMHDWKU047jRE9I9h0s805/09/4pZbbqfdTonjCkEYU6lUSCpJZ88OCdSKtt5HH33EO++8w3nnncvPlv0ZV1zxD5555hm22W4bzjn39zhjGGy2aKUp7bRFq9UmywtGjh7F5Zdfzj+vuoq777yTiy76Kyutsgrz583n0MMOY9y48Z3uNLlmb2RVcFUdWxTHcu+NLrp7erj8iss5++zf8dhjj/GnP/+Jq6++mkJtQxSHTJmyONdccy3bbr0tc+fMY97cucybM4c9dt2DG2+4jmWWWYpmK6XRUwcbkGXCcmZZwZqrr85OO+7IZhtvzPbTt2OH6dNZf4P12WzzTVnmp8soiJAaujRL6Rvoxxmo1evElQrVWp0gkhrgESNHqY2Ton2nwZGwCeIoRo4ay4V/vpD33nuPE048kUcefYzLL79Cv8PbEFmbwYFBirLgJz/5CVtssQWbbrY5m222Od/N+p533nmXUaPGcv/9/+a22+/mlNNOY978hZx22hkklYS5c+byxhtvcOCBB3LKKb/hH1dcxV133S3lEwp8vKMqS3HknVQgwhR5R/J/vK9PJyoI8o7S+JSXlo0M/UgKLNBOU+fHYikYErSm0lWeEfEg0xeaK1MM4mSNpv3UP3XYoiEAOQQC8yKnyLVTsRN0yRtL32Sidxho+tCn7Hx5RQeE6PcZIzXk1mrNpYIifz0SqMn3uI76hbCgAqA8mNLuYn2jZ7mcEzbcg2rZDz59rkGgB7d67XKmjHgg77iVqfPsTZZLCQW6ZkZSCXqd4t79TRYKXsVn5ArGBaQZZf5CDW7lehBbqEDVIKCl0HIJKTGS+/ABQaGMtmRdFAx7pktrDEtdQx+YF6Vch1XGFw/WfHnOsN4DnDaQ6B4TICTBmAd7fp/LL3IGpQlCm0aRix5ezubX3midpv8IH7gUuZAcdJ6bglvdJ/Ij5yjS5kZ/Lf6MODXsEpQIayivkc9IMwHTgU5CkeeClBqVMvWs1ODDKYsJUtbm73fo+/xF+WuWYBYcZtEPX7ssbxPHdQoXstfe+7HXnrux9dbTCMKQp556huOPP45nn3uaN15/jTk/LiBJDKuutiqjx4zGOcfXX37LYKtk3py5PP/CM2y33TasuNLy5HlGo6vByy+9wv0PPEScBBx+2BGMGjECCkcQV/hsxpfsucfuPPXYw4we1U1W5syeP5+nn3iertoIllxyIkstsxhJ0kOaZ7z66qs0Gl385z//weA46KCDGDN2DHmWUYkT7rj9Dt55913WWmsq06dvSppmxJUuXJTQykr+++9/c/MNN9IaGKDR3UOz1WTKlIn85jensPSSS0snY1mq3Ir8FwQqA2Kc1CLNXsC0radz3LFHs/RSk0kqFVrtkiip4rIUyoJf/eoXRHFIXhSMGDGGTz+fyRFHHkFJTn9vH1tvMY1zzz2NMGpwwZ8v5aMP3+PIww5gzMhuRo8aQ+YFb6MQl0MUVbn1gfu46h+X8dLTT9NuDVIihtIGAc4E3HTTzXz04Xuss87aTJu2hdQNYJg3dz5333Mfiy2xND9fflmKtI+lF1uGGV9+xTsffMLkxcax+JQxLLHY4hQFBLZOq9Xi5ptvYubMLxkxsoddd92VpZaZyLz5Lfr7M7bYclP+eeUVLL/cclSSiK7ukXz6xUy++eZrxozuYcklptCo18mzgizLGTFqNC+88CLPP/cc7WaL6dtty3I//xnGShdbnhcYrb2LogprTl2f88//Heutuz4jRo5kxx13YP31pnLgAfsSBDFPP/08/33kEdZYdTWmT9+SwuXgKvT1DnLXPTdRqdbYcuvpLOqdx8Tx43n/7Y+JooiVVlqRV197mccee4TV11yNDdabxpgxo3ny6f/y34cf4Ze/WI09dt+ZVqsfG8Z8N+tH7rrrLub8MIspE8az3x77kPR0k9SrvP7a6zz8n/9gjGPD9aYyda0NKLKADz76lNy2GTmmxqRxE4iVmQ6iCjO/+o6bbrweY0oOPOBAxowZT1mWzJr1Pa4sePg/DzNh3Hh22GEHTCg1ZJdcdhk/zpnN7876LbGDoFrh45lfsP9e+/D4fx8hzSw777YjD913B6NG9dAaTMlziMMQY7TRJkl48D//4Z9XXM6j//kvi3p76Rk1jm23357VV1+VrvoE/vf8/Vx9ze3svMNu/P3is/jpkj+jtI62g5lffsmH77/Pvx96mE9nfMGnn37OyiutxPnnnUd3o85iUybS3V2XyLKUoCUMA4IoJM9zoiQmz0tq1Qb9g0323ncfnnzyf7z12lt8/tn7vPn228yavZCXXn6FJx99AOtaxPFI7nvgv1z4lz/xr6v+xbixo1m0YCH77L0/J556KDvuujur/mpjDjpkWyaPX5r1p67J4j9Znj33OYjJY0fy5/P/QKvV0kkXDigJFYhmqdRYtlop9UaDU049hbvvuYdVV1tNUs9JQp5lDA70U60knHDccey2224MDAyIBmOp6S7bJisMWRu22WpL7rjzRhZf8id8/PkX7LTj9jz39FNUEtHFdFpLBZKOq1TrlCW02im1eg9bbbMZJ55wPGuvvT7TttiSs876HVtsuT7NdsoWm27Ov668jCUWW4xqrU5/c5A47OHGm27k/gfu5MEH7qPVGsCgdWI+ctDaLKtgwCLOxiggEacgbKSxHhyJAoN4JGXAhwFLo0GRB5uFMiRJkogjVdYvTduaNRmqx3Z+lKQGAt6penBWFEMAwTBMqsQ3KGktlzBfUpIhIMrX2g6xsuX/MwUJDzCNB5hDLJUAEy+15WuhVeJMWRjFGYIVdS6uryNHa0FL37TkJPNiNL0pjJKqPqi0Sai6lg59vabnrJGMWO4nXWj5U+lLcPQapaFMQL1/LwrejWYhrLJOpQJ3a62Uy7i8U8JjjTRkdrIjVvapSEnJ2tphTRBoo06e5wIUg7DD7MkayT37Z+5ZMikdEqDi9BlZVRQZ/oyGmDyvlekn52jpFZ5Rlecb6vi1LM8keADo1LlJkBbobHSjOrVoICBBkWTDrK//NEiWp9PcIs+/9PXpypqbTl2drIm1VnoEtHa8VMkYAaxyXQKch1LeaM2q39eF1u4FgUxYKbV+DwTsOiQw9soBeZ53hLWHA8IhUCwo1QcXriyJohhrrSWyIUWWExBQZjmRDegZOYpGtc6XM2ay2JQpVJOYuXN+5OH/PMKhhx3Jhx99hLEBje4e3vngIzbZfAtuv+duRo0bz6FHHc0zLzxHXI159LHHOOroo9l4k42pVBvsvc9+zJ09T6NFy2CzyUCrSZqlItVgDGnW5oWXXuEPfzyfP17wR6rVmFa7Ta3R4JTTTuPXxx7Lqr9cFYvlsMOPIIgiqrUahx52BC+9/ArbbDudK678JxdefCFd3TVefOkFrrvuOu647XaytGCP3ffkwIMOZbvp27PPvvuw0cYb8ejjj3H99ddx7b+uYdZ33xNo67oEGUKfgtjCai3h1NNO4PU3X+X+Bx7iiCOO4uyzz+GuO+/i9jvu4q6776e/v0VgQgIb0mw2OeqoI9ljz9257767efLJp3jrrXe49JJLaLdTyrLg/vvu57BDDuXfDz0khrJjuEVcWpoxSgZbTYyTYeZl6SixmCDhqKOO5aGHHmHSpCU577wLuOqq66nVRvDRx5+z6aab88PsuTz93AtsvPk0rrvpaho9dT6f8RmPPfE4hxxyKG+9/QqR6lg5Y9hrn/14/c03WGvq6tSqCb2LFhJGMX++8C8cetjhLFzYyymn/IZdd9uT5555gUpc5cknn+Sqf13F9tOn8+H772KQRFNXdw9XXH4Fhxx8KP29/TTqXcyZM48krkLpiIJI/LIrMQG00wxXOlqtAWq1Ku12my+//JIkqdHVNZK///1yLrroL6yz9lTuuvse/njBBTQaNVqtlJ133oOXX36RL2Z8xcabTOPkU08jSEJuu+se9tn/IA4/6mguvvTv9Pb388QTTxMEdf584SVcdPHFrD51KrffeS+/OfNMgjBiYLDJ3vsdSJaXbLHF5lSSkIGFC6nXG9x9z/0cd+wJ1BtdTJk8iffefw9rDElc58knnuRPF/yRbbbekTk/zqZW6yIME77+5nt23W13arUGeVay9TbT+erb78CG7LTTzhx99DGUGO68737OOPts4iiG0rHB+uvxxOOP0dvXx4jRYwiigBtvuIY1f7kK48aOI22ndNe7KQoZL1hq8bUwElLLaW1Af38fEydMYKB/UWdPjR41mtVW/QW/+uWqFGVBo9aNMY5KNcRaifzPPOu3HHf88bz66qvstfce3HvvXbz59uscdvih3HTzLZx//gV89NHHVJJEomgVbw2CULrnw4giL2nUu3n7rXfYdJPNWGbppfnnPy9nu+124PtZszj2uGM56sgjiUJLEkciC0NArVKlyHO+/uor5s2dy/fffEdoQgIcWbtNUqny1DNP8/gzz5LnmRSuRyHWQKvZpNls0mplZFlJX98gvX199Pf3U2oNaBQHpFmb355zNv9++GFOOe10/nX19Vzytyv422VXcONNN3Pllf9ko402ltpXrUPKVSQ4jAKSOOKTDz9j3JjxdHd38eabbzFq9BgqlRqffv6pgCNN10ltkSUwhixtk6YpSZLw5JNP0t+/kDXXXJMfvp+DKy0rrrgSTz39OAvmzWfcmDF8/MH7VKKA1mAfxhVQOBbMnc+Irh4onGp8CYgwOlEmiqJOUXgQ/P8VF8pCJD4MRuVSZO6y1FFJ7VzgJUO0RqksVMtQQQyIyL2Uh6T6d0YbBaVMxrOJRrsxfc0g+KYTSb8ZZeRQGZQ0TTslB9aL64ah1CqHuseQueF54Rkscfa+ulIYPl9pKeyJtfp9+u8+tVYqAyTXqQwXdFiT4c5ermXYmEmtbZdrU7BdQqF6okZTitaqJI21GIOqAWg6Vhu//JoGgQJbvacOeEAcutP60zhJZGJKqWlV3/CozKAHqJ0xd/p84zgh1LrlPBPmME8zrYnWLt9hgFWApdSNJnGFMNCMSyADGmRdBJALe6gj2pQhl2BDL1/XpFDWKtC6cjwjpiDNWgF8UnPtv1/WV9ZewFkQqGyU7kn/rDwLnSSJ1Ji6UkKQTlOQAFC0hEPAo6/7HAbQNGgQEKUsn0NAgY8KFOCVWvJCZ+cocHPyXUZZ2yiKCDqgDZzOVJbgzQuJG1l3X3ur+8CVEIUxVpVC/P2aYSoePmKRva1pd1diFnz/pbPGkRWWMG6w5977UOYtVlpxOb7/bhbPvvAS119zNav8YgWSJIaymw02mspxxx/JVlttgbEJt931AL//3Vm8/8GHNBrd3HLLLdxw0/U8+MB9bL3V1pxwwglst+10wkqVLTfdhI3WXZejjjiMtISPZ3zJXnvvwYP33Mlik8bTzjPCJGLU2CW55KJLefi/93LbzdeTtR0mjFhv440558yz2HHb7RhspawxdU2u/Nc/qNdqHP/r43jyiaeo1uq8/+FHTJu2Hs8/8zSvv/EOTz7zImPHT8QVJWnaolqpMnvObMCw1FJLEgSGZl8vX3zyKYcfdjA/WXZZjNd40gcbBCFff/stA80mUZIwcsQo6vUG+++3H8v+bDlOO+03NJuD4Byzf5hFElsmT55Cs52z5dbbcvudt/OTny5NV6Ob35/zO95791VuufVu/nj+Rcz54XvOP+8smgO9gAWN9MI4Jg5i2m3HTffezVX/vJzX//ckeZbSLjIKIp578Q1OP/UEXnzuf8RJgzffeZejjzmKx594glNOPJVRI7r480UX0t8s2HW3XZgyIeHKv/2TgVZOtXsiG260Ggfssy377XEIrXbArLkLWX/9dXn5pedYeunFaTWbZGlOO2/RTB3WRmy00Xpc9Oc/sfqvVqc12KbSqFJtdGGDiI02WIvfnXUGG268Ca3U8fkXM9h91125/777WO5ny4FztJpSBtButYhjGZ8XJgntskUQ1Nlwg81Ye61VWGPNqdxx971kg4u4+uqrWNiXsvvuu/Pcc08zbtw4env72WijDbnl1pt5+snnuf3W23j6fw/gXI1jTjiNl197iv/8+14ayUSmbTmNgYGFPPXUE3R11env6+ebb+az/Y478OT/HmHy5Cn88P1sNt9kXR64/x6++GIm+x14OG+/+SYjehoYV9BcMJ/KyLEcdtSvSeKYa66/jtbC+RiXs3BhHxDSNWIUn305k82nbcJ//30vU8ZOotoYyUmnnEpZpPzjisspyoJjjzuBAjj//PNZZcUV+MN557L3vvvz49w5bLPlltxyw41MnDie3DiuueF6rrv2OtZabU0+++JzirLJjVddw+ixk/jhh4Xsf8C+3HH79Ywe3U1ZGiilGywMRBLFVmL+89//ctmll/Dk44+xaFEvtcZINttiGttstQXjRi/JQ4/fyjX/upPttt2Oy/92FmN6luDt99+hVRZMnjyFahwzONAvMinW0NXoJglj8rRNa6CXMICfLbccWaYdaGHQaczCGv58wYU8/dQznHTySWy3w3TSPOXTj2Zy0om/5vQzzqCrZxRHHnEED9x7OyO6qxjqECS898H7XHHF5TzyyMOsN3Uqx//6BFZbe0UWDaSst8Hm3HnXZayy4rq0exdSmpAbb7mDSy68gFEjRwKWvlabSiUhjiyDA/2svtqvuOSSSygcfP31dyxcuIhKtUIUR+SFI82EyXBFQdpuElojHeVlyVJLLSl1Ruo4nc3AxDz87ye4++47+NOfz2PDzbbkmWee46AD9uU3pxzPar/8JUXmdPKRxVhN0zgDJqTaPZp9996b1Vb/OccecxLvv/MpRx51JPfedw8bbroe1153HTdccy2/WmkFDtxvHwbaKSaKcEXMJhtuyDnnnMEW0zbX+k7P5P1fpk66TbUuS6VlxGGK9zJaB2btUPc7ngXzo+cQjcIOe6CpRMcQw1Fqfaq/jkCZPHQOrnPQbrcEfBgzzC0KKELBpfyNsHelakt2QIPx6VxJTdIBCvJjlbUpFTB6hswN6/gtfUOV1ghbbY4QJ+vrJJXNUfbQO2ejrI+Tl8mPOt4Oy/R/gJyoGgiA8RpyQ+vKMJbG17m3WrJGsiYOdC38upWljJkrfSPGMC3DUmcj++dJp2vX62UWUi+NFeFx/Q5htgTUYEqMdVLrWgBGp3Aog+b3l2fsyrIUQGVFLsxrF8qa+DSjBCVBJFqjZSnSVP5H1tUDMl/DKLefq1xWFPkpRzLfWVLDukZG8qoCikqcymOhoEvOrDxnz0gGQaCd1TL+zgyT1hligCWtK8Bd1tcTM37/BKGA31LncYM0x8naOMJAahN9WrrUtZL9oqCvw0LrrtA9kcQyj935EhpfiqYlPHIvQ/vcdzu3223Qcyd7Xa45DEPCUiO43DlKl9MuM/oWzWf2nB9YcskpnHTi3UyeNIkizxjIMlqDJc22CA5bcoypkpew+q+Wx7qMhfPns/pqa3DZZVfw+qvv8OmnM3nogf/wycefY41l5ldfE5sXOPSgA3CBGItWOyNJKnJjRUnWSuldsID5ixZgw4goqVK0+rHGkeUl48eNI2sOUhIzYeIEBluDPPLoI/QPDPKvf11Nf7NNlufMm9vPrB/mseGGG7HVNjtw3wP/5vPPPyUKKxhrmDBhPN3dPRR5yeBAk1123oVll57CogULyPKcNJdOT6ONHu12wYUXXsKXX3/JiFEjmD17LlFUoZZUeOvNt9hrz91Z2NuLMY44jPj5sktz3rnnMXbseDbfbHOOPPxIjj/xOH6Y9R3XX38Nl15yMf39g7iilI60OMaUUneWF1qDUJTkLsfYiFq1RqvZBETEFZcSRAGffP4FKy2/DLUkZ97CuSzzk2VI84yPPv2YTz7+nJOOP5rB/oVE8QiWXWY55v74IZQlhoAfZs2jr080wVxhsKbGyBEhJ5x0MtO23Iodt9+WE477NbV6nbJw1OsV2mmbIMwZNbpOUrFYVyUIHGnWIh1IKfOSOIpoNdtU6iN55tkXWHa5n7PM0kuzaNFCTMe+OglbNPLPsowSKIqMVrvNJx99yoL5/Tz2+NPM+PBVxo0dxWNPP8rgQMHtd9xOq92mUm3w3Q+z+eqrH3n8ySfZauvNaA70MTjQZOUVV+LFlx+jLFoM9vfiKDnooH0x5Pzw3XeMGj2GF158mv6BRdx99/1SDxoFpFnGO2++wWabTuPXhx3G2mutzWGHH87Bhx5EVA3JsozTTj6VQw87lDV+uTq/P+dsNlh3baIwpJn1sqA3p38g7XTJxWFIs13wzvvvc/Ixh9LfvwgHrLf+Olx82WUs6l9EV3edny33U778eiaVrjq9g33MnTebyRPHgoMjjjiCzTffgo8++JDdR+7KGr9aBVfkBKoLmFQ0mkUi3qIUOZASGfPlnGG5n6/IrDnzmPHNNyyx+BJ8/NHnfPzRJzSqdb6aeTsrrrYUrjNGMKYoCh588D8sHByk3mjQt2CBsFWRpX9wkK6uLgb7BrE4RvY0+MXKy7PyyqtIE1Am8ifeSaVpwa9+tSonnXAy9Xod4wzNwRZxYrnm2msZPXoMP/44m3FjRyvbEPDQvx/g8xnfMnL0WCZMmsiigQFGT5zAZVdfwew/zGL7nXYlSQwL58+j3dtP2nakxQC77zSdrTbbgN7ePpwJmb79Tpz929/yy1+uRLs1SDVOcAVUqnUeffQJHn/8cbpH9NDX18vA4CBLLr44vX391CoJvf19xFEsDTfGce555zJl8mSsNaSp1HliLC4oKUNHbgMGmi0G2y2iKCZPM02vBrTTnLI0hJE6kDzFWcMXX33Da6+9zOm/OZoslcxHlrUYGOilKAXcVOs1srykcJbCWboa3Rx26BH8ao1fsslmm9JsNUXfUYXynZNmE/GcUrSOB25aF2VV4skzZBgEDGghel4UWKNjDoc1EhTe8SmTAAKyhJnzbBsCVhQsAeSZfIdV9s0oe4PTxip1+EOOV1gYo1Iy1orwtne6TgGBMQJWC+3cj6Ko48AxKuuloCxLUwEK8hGd9KE1FgIVb9aaMKcThgJlJwsV2vcAxqeWPQAcfl3yf+BUt3bofpVFdHQkcHyqGFcqmJF6+rIQsGStBB15luFCAX/68WpIh+RUPJMIqhNaSs2c7YxVFTBUlA5XFgTafCmAZKhrW9ilkqJIyQtHEsdynwpYvBB5qTWWaINOUUiq0yoILTStb4OoIxpdFkO1nhTyPuuZVAvOT27SekmrDGNgJRCxgaRoLbInfRmAJ92stWSlMNpRGMr6B74BSEsHtDYzz6U2sihLyky1TTsTMGRtnJO19cGNrKUEV3EcSRNkWWKiiMCnsZHnG9hA77ukLFNQ8JgXBSGBx6ryet1rirA7+7YotLHEoWVoDlfKvvLMKMpQ2kBqkVFw7BnVopB7knU2WPC0sGijDQw0Oemkk7nm6ms48cSTWGyxKdhQOvSCIMSGYhySSh0bhIRRTJE7arU6xljSTC9eaeZ6o8Go0WOxQUhelux/wAEc9eujcTjiJJEpCdbQTts4Hd2GajdZaxkcbJK2Uqx14KykTwNIs1aHqh85coQUx4ciPOvKgjiO+OvFlzB58mSMNTSbTZI4ZkRPN11dDUaPGklXo0GR5zS6urjtttt59plnaQ4OwrA8utTmCPoOw5DL/v53HnrwQW675TZuuO4GTjv5FHbbbTf2329fTj35ZO68/TaeevJJHv3vf7joLxdiDfT39XLWWWew33778I/LL+fF55/jX//8B1PXWJMiy1m4cD79/b0M9PVjtCEE7RzDRxAW2s0WgZEu5Sx3lM7ikKiw3uhhsCkdt2EY0mq3SdttqtU6rXabLE91iHVAd1c3eVHSbLVIqhUaXT1Ym1DiGGwNEESGI444jDvvvIv58xey0SbTeObZZ6nWalLXEkgq2pVy6IJAI2ZnWLRwEa1mi0qlKo5P61TCSFIzvvUeI6CgI2asz61IM9krrmDfffflhhuuZ6899+Dyf/yDeqMb56DZavHj7NkMDPTz4+xZHHXUUUwYP4EoiFi4cCFZ5kgqNXCGJIkxSNRkjaFRqxMElmq1SpZm2uELA7395GnG999+yzFHH8VSSy1Fq9XkuOOO5eabb+LV115n082m8fmML2m3Bxk7dhQPPHA/Bx1yECedeirHn3QKaZ5hDSLHYqWuI4oSoiQhikXce/SY0ZROVPWrtQqDg4NUKwmBDciznFq9QpoV1Gp1ojAkbQuAWzBvARMnTmK99TfgFyv/ki8+n8ELL77MLbfdxjvvvqNOXDQyZW199KjdelnOlCmT2Xuffdhpp134y0UXs9/++3DKKSfw1FP/449/vID+hQsItYnKWsvIkaP4+9//zp8v+BOHHXwoJ590EiedeALHHXssp//mVI495tececYZ/P1vf+Pii//Kfvvvx+DgYKdjX9JwMri+u15nm222JQwTfpw9j8MOPZQ99tiTM04/jaOPPobtt9+Rv158MX/5y1/o7hlBEETUalUq1YQ8S5my2BQu+/vfWHmlldhmm634/Xl/ZKcdd2HXnXdmzKjxCsJCatUqlUrC2HHjWfonP+Enyy5LrVHnZ8v9nAkTJ7HU0sswfvJksJa+Rb0cfMgh3H3vvRx6yEFccfmlPPqfB7nyisu445Yb+Nc/r+Du22/ltpuv57Zbb+S2229j0qRJ4gg0rWytyAdNmTKF5uAgcVThoov+QhInzJjxBT093RhjCKOYMBSpEbR+KQgiqpUK9917D2utsRqTJ09hwfwFjB07msBClqWc97vfMWXK4nz08UeMHDOarDCMHD2G3//hAj765CPOv+B8FbzOdBa4d1ZyvgKt/1GfKHZZpTZAX+NlnByAyJPkuYChKI6UJRJ75DqIQ1iVQkWZpaxA9cSMpDKFXVGQp+DEO2nPTnnQVxba/KQF/1Y7R4e+V1JnRq97+PUI4IMoktSiUUZO7kbu0Wqtn7xZ/65Tt6b35TyviayjZ5Cc6MSFkaSYo1DS56FqbA5fW+/YRcXC37lndoa9yq+TEVBn0LGPDp2Yo+Bz2H06J+MUxfEPgTT/exSIedbM74HO+nWYIkclqQjRIBG4lDZpahlkjeQzdJyYXqPRNZGaOPm9YOUh4CX7QQXgbUAUxfpcZJxhGArzJj4hGrY+AmKkrk58gjQz+AaMoRrCQNPsVvcQTvyRQVjDILAdaRS/NwUcS+OkT/9alWoJAmmmMEaevZyjoR9ZJwlUAivTdozceGetO2fAp/M1INK3akOLALcOgHM+UBr6Pg+CfcDln2mnFlA/w9f+BcM6vHUbY62VEZnKKuqlyoU4sFLwKONwuqoNxo4eS5YWDPQ3SdMMGbsUUDpDVKkycmwXcTVk5JhxBJUGNoyoJVVee/N9oqRGd3c3X8z4nEajys+X/xkjR/Ww4SYbcurpp3Hcicdz0iknsdqaa9DKc6q1GiNHjySOI0aOHEUlqQKGJEnoqjcITMCYMaMZM3okWENgY0xhyIs2mUuxTupk5s2ZwzpT12JkTw+HH3EExx13DCeeeCwHHbQvPT1dUgDrSlZY/ud0N7oZN2489XoXI0eMZNSoUYzo6aanp4uurgZZmhMEcrDjOJZ8vLJQZZmS5yntZso111zPdttux7+uupKnn36CJx5/nCuu+Adbb7Ut99/7oDgEF1Ct1IjjkP7+RfT1LuDG66/lH3+/jFVWWJEIQyUMmTxhAksusThREqvQrlXlfYlS8rIgiEJsYBjRM4J6Vw+1rhHUe8YRJ11MHD+ODz79irg+jkbXKL74fAbWlfxkqaVYbLHFePLpp0mqFXoH+njhpReE3TUhY8ZPpGdkA4eh1hhDUksI4hRnmtgQfvrTn/CvG29hl1335fw//VmMlLMYF5GnUK/2kCR1bGApckNP1yjGjxtLo9FNkohkhXMFy/50Gd5/913mzJtHHMdiWp0AgiDwauJiCANrhP43hjgKaaVNjjvuaG687S7e+uBTfvLTJRk5qsFxx53A2Wefwzlnn8Wpp5zAlMkTWHfttXnqyWeI4i6sjXnmmWcpMkccVkk0nTxq1OhO597AQD+/WOUXjOjq4fhjjuH4Xx/Nn8//IwcfcAATxo3HhhYXOFb+1Src/8D9rL7a6lx11XVUk5A4dESxZe999uKBhx/klrvv4KVXX6GnMZqeWheVRA5lvd5DGCfUawmjRvbw5nsf0D1iJI1Gg7feeptVVlqROIqo1epYExJHIT31keRZTqWSMHPG1+y77wEcevCh7L7zbmw/fQe2334Hjjv+JG686Vaee/5F5i9YSCttE0URat/F8Fgj8jAWwsBgXMnJJ5zAb045jc8//YzfnX06Rx15CPPmzaUgpqtWJ/fTL4ykCMLAcuftt3Lm6ady3LFHc+KJx3L66ady2KEHc/KJJ7LLLjtz/AknEIUhRV5o/VXccRauLAkMBIhEkIkSTjvjt7Rabe685SZuu/VW7rn3Xm646WbmL1jEyaf+BmxEOytYf8ONOPjgg/j0i095843XefSRR3j11dd49OFHufTSv/Hro47iu2+/p7t7HHE1Zv6iebzy+us89cxzvPHOO7z82us8/cyzLOzt4/mXXuJ/zz7H0888x9PPPMvzr77C7B9nkWct2kWLY449ivfeexvncrK0SZGnlEVGuz3IYHOQZnOQVmsQyZxJWlI0xsA4x8Rx4/nyi5m0BgbYb8+9afX3Y4Ell1wKh0zaqDXqREnS6e4uSkO7nXH3bTexx56745TdGz9hDCYwfPrZp+yw405Ua118N+sHFl9qKcKkzr+uuYGnnnqa/z78MCN7ehg5YgTVaoVYp08Y4+GfMCnOSdop0DQgw0Y7WV83p9qnIk3iHZg4OeMDM/1szxoEnSkDvm5PHJMHbv513nEaYyjyklLv33gAh5x/p8XwHuTJZw0BNu+8O5/X6QyWwDNOYpIk1uuR1Jd/n+t0NEpqshNY++5u1SP9f/+TNKg441B/7+9FAIuyWMO6oIU0UMCtjHfeGRGJGD/9XrlWDzyH7sd/v19v4xkxueTO+vi0ujVSLxZFkQAC/2x1hnhRSqOAB5OB1jQOfa+Kkuse8YDLDqvH9OwdZoillBS2giC9jjCSex8CnhpkaBhgtdkosH52tG980lo6vScBMfosSqVVjdRzoiBMQJaOPBwmTWOwUv9mpEmi0wHun1+HRRaA7ve6fK7KmikTbo2AKNnTQ+uN1kV2Pk8zlrLXhJ00RoGWkWflm0UENGv629dFdhg5eRZWax7lnAiQFmAqzx9kXYpCsjTOqb3V9fXn0J/v/wOgZ834yFXjGs5G5ERstc02HH3EoWy71eZYpbVzrSO47oYb+PCjT7jllltZb731WXe9tTnk4MN4/JFnOODQfdh/n/3YfffdOObXR3HmWaez/fTp3P/gvzn8yKM44cQTWGmlFXnj9dfZe/fdCY3hH1ddxXc//siDDzzI3rvvzhqr/pL9D9ifV197mXvve4w333qLjz95l1133oWddtiWVX+5Pr/81apcc8MlrLTiCti8h02nbcjvLziPDTfYkI032oxxY8Zy3AnHMWPm5yxcOJ/DDjuI/r4BarURTNtyG2rVKmuvM7Vj2FrtlGqlSk9PD7vutD31JBQ6GEMQyIi0opCCYYeob7/73sdst/0OvPvOOyy22ETKsiBtpxSl4+OPP2b99TfkrTdeZ2R3nSgMCKsV5s6fz4YbbsjzzzxDT1c3tSSmzAucCWjnMo3DuZwolDE7RSHpUleWEIREtQY33XQrv/710Rxx6GEEQUCz1WLLrbZmrbXWYvqOO7P0kktz0AH7cdIJx7HNtlty3HHHMeu7Bex3wN5MXGwMeRnx0ouvctQRe3Lycady74P/5vV3P+C2W25mlRWWZfNN1+OgQw6it3+QZ595ieV/viKD/RlnnXE2U9dZkd+dex6Lept0d3Wz9TZbM3WN1dhsk40JQ8vyK6zMQ/9+jHfefZebb76ezTbbkNVWXZU99tqbkSNHc+yxx/H888/x5z9fQK1SpavR4GfLLos1Vg4PMg4oK1KCWjfLrfgLLv792Wy7/fZEScypvzmDb775juuvv5aDDjyQObPn8sc/nsusWd/Qu2gR22y1PVnqOPLIo1jYu4AJE5bglVdfYeVVfsKNN1zD/558kYMPOZh1112T7bffjq232pqydIRhhSOOOIr58+Zz5lmnMzjQx9dfzmCXnXfk0xlf8OFnX7D0T5Zl4bxFnHHa6Zxw/DHstst2PPL4Y/SMHEOtq5un/vcMt9x6Mw/ecw8Nm3D33Xfz/hefcu2Nt7DHbrux6UbrM33bbXj9rbfZdfc9+PMF55NEEb8540zuuPMOllx8cTZYdwNuveVWlllucdK8xjpTV+W+O29lyoSlWdi/iDCJabbaOOeoVROq1YR6rUoU1/jy6+85+KADuOv2m6gkUgsVBKEUiTtRkMcGIoVkAgIbEseWNGsy0GxSq47hgQee5r47L+GKq+5g+k67cfU/z2XJST8jzVMqjQZ9fb1UKzFRJOMdwyjGlYZHH32cKy67jNtvuwlrZfIPRupd8jwnzdpEYUAUhOSE9LVKNt9sMy7965/ZdJP1mPXDbAgjRowczQfvv8/222/Pa6++TK2WkOc5g4NN5s1fgAUGm4NQQBSENFttwjhmj7325Oqr/8nUtVfjow8/5LgTTqPZbKnzEYcVhpFOF7ECUFVc9aQjjmDzbbaiCC1TV1uVq/5xBauvthoAlSTBOZlBao2Ouhs2EtAzI0XuhKGt1vjDH//Ao48+wulnnMnfLvs7m2+6MccdezRZ2ibP4aOPPqXdGuQXv1wJsFQqDR544EH+eMEfeOZ/T1GWjihOCMOQ2++8g4v++lfO/O053HXX/YyfMII/X3A+Dz/0FPsevC/nnXseUyaNpx5HBBbWWmstKpWqpHoLHf6u9U9lKeLmuerS+cCn1Noz452dK8lS0aOL46jDQSiO6DjEUhkmL3g73EF7kIVPzSpg8AzfUP2T6Jd5ADbcwZcKTj2gxPjPp5OqlGvxaU+JdnyjhciHCEuS55I5CoJQn53YVt+0IulgcaIeAICkbaWuS8Gp1sp10oogYNkDSwSpWBsKQFTGXRyt1JD5zy4KuV5psBDAIJkvS5JISjXPBICL09YmGQWP4fCRdz5t36F0hrpOrbKUea7TQJT58yCyKApcIa8b3qUt6++ZVz8yVJknZfADFVA2Tvyi1LIJIEu8hp1n/hSgOz+KFGmQsIE0IBU6Lck3pQXGj5CVNLIPMKyVqSh5LmNYZR/oGmjQ0Ak4cZ3OV9l/svYeNBuEgfNMm9+zxvrmCf9v2lQx9FaB7Zr6L8tS6/eGnrnTVK/xdaJaSSHf4y/C72nZFz6NXAyrB5W9NzRn3bPDkvo1RKGeac/GameyUba4A8Z13+XZUIOqWfDdTGeNpZUWFCbg1ddeY+klF2PyhPHysDCk/19VZx5kVXGF8V/f9W3DjCBoUEPAqKnCBXBDNimjyGIlDqAo4FKBVBmTSqImxsSqpCw0pBKTFGDiGhAZGAYjCOOGoiaRiIImStRYoKhlubHJrO+9e29354/T9w15/03Nu0v3u7fPd77+zndS0VFs2bKFDz78iNGjR/PlkS6UB7Nb57ChYyO7Xn+VC6dM5vltz3LVVVcw/vzzyDJNXKzw33f3sHLVSrq6jjB+/HnMn3cVtf4qjz72GD39/bS0tNBULDHipJMYf8H5fPDRB2zpfJqhQ4ZhrGheLpw8kVGjTuPFF/7G6WedxpDBg0FHvLprByNGfZWhQ4dhjWJt21reePPfoAyLFn2HsWPHYDQ0txzLxAmTmTbtEmbPvZxarYbJDMVSkZ7efqzRlOKQkSNOEh2HlZ8eRIYmmQGgPLq6e5h75TxO/frJtM5u5YQThtNUaWLfvn10dGxgz969bPzro1QKUuXoRTFdvb1MmjyZRddfz/Dhw1HWUIgL1JKEar1OqVzim1OnMGzoELSWAON7PlEoQTuzlgMHD7H16Wc4sH8/cRRxpOsIU6ZcyAUTJtDV3ceK5St4f+9eATazZmKxhGEZFXi89q9djBx5Mjfc8D1+9P3FTDjvAjZ3dvLOnj2UyxU8YygWQuYvnE+qNStW/JlPPv6U7q4+Zs2aybXXzXOLcYTRljff2M3Spb+mqanIosXXMXbsOaxZ08Fnn39BoRCSJP2MGjmSK664kiTLiOICHR0bePGFbXjA7NZWpk+fIeDXZZiZEY2KDSM6NjzGlHPP5uRTTwFP8fn+Azz33FZmzphBU2UQf1m5mtde30lfXxdTp07l2vnX4auQSnMzO17bSVNTMyuWLWPEiOHc/ovbWPfIev7z1m5q9X7OOH00CxZe7QyqPUI/ZtmyZbz19m48BVMmTWDhggXsfucd7l+5ikwberq6WTh/AdMuvpg4CljfsZ6tW5/FD0MKpSI/vukmvnbiSdR6+3j44dV8dvAAlZYWPv/kU8aedQZXzZtHEMf8/R/baVvzCGm9zi233MLoM06nXq3x7DNbmThxIoMGN+H5RTZ0rGPaRVMZNuQrZCYjdS2UrLVgtSQUYQBeyLvv7eMHN95IR/sajh0s1b00bBykOMlaSN0WsmTGGj9QogdRRbZte5nVq+6mrf1xLr5kJg/d/1tOGXUqWOmhi7IoZTBG2jkaA1FU5PltL3D/A/fx8KqH8AOF0ZYgiAl8aYUmvb0FMPhBTFQo87vf3U17ext33PFLxp1zNqkxvP3W2/xm6VImjB/PXXctIdPioyYBId/KEm2LwiPLDBbFpMmTWb16FWec+Q08JdcXSwRZFHFVo7gWe77viS6nnuBpS2I1WlnGn3sec1pbmTR5EocPfymves5seT7HHX8cZ48bJ4lgJl6RoEiSBGsUYSzb9Q88+CDbt29n0qQJfHfxItKsDsYwaNBgLm+dw4cf7uOVV14mSVMCv8C6teswuk7rnG/j+yFRGONoRTqfeJJ17e2ceeZYbr75h/iex1NPPcuWzi0EUYg1GcUo4JhjWvjZT2+lqWkQYMkS1/cVWa88T+xBrGOBcgYp16uJHYcrhnDBKIykK02WFwU4Rg+kCtVzFYYSdGSdVC7ApGmK1prIidLTLMN3FYzCguQAgEYQ9J0OLUvTRuDDBcckTRvbcbiALSyHtLcDmTLPk3ODsHD5NXKgImyQs8AIhOFMM/FlVY4hz0GwgNBczyWaPsiZnIEAe7TmUO5jQGMnRzhAcdSYc9CqyMGaY5ZcBa52BVGidc0Zs7wQwQFPB0Zw+rT8k4NibYRJVUpAgABvGa/nOjhZI++KdfpKlW9bO0Al47Bih+TAW84GB4EYtht3vHFg23MJQX7PWkshS+AHjk12FiVum1W5sWCt3JvKW+Dlz6OwrbjsQzuT/qPnOAeB1ogWzjqAqo5iqj1XnSzfH2CR0zRtOGRoV0REI2kZYF3zT/57GhezrEsSc1ZTvmHdc50fexSDi8yvnF/mrvE8eUp2WV2xlHIt6kBcEqzrJy/rmGyh5+fNmeMsk+pndZQlEkoscqxbS62xqEMf77MKJZV6eWsVazFpKhU/vmhYZLEV/V6mpWovKkhBxp/uvY/39u7lnnuWk2U1+nq6RVhuDJ4f4wUxhWKBwJdS9d7uXslOgwA/lEywXq1ijaVWrxPGIZVyhf6+KnEUYzFUq32kaUqpWCRzFS5ZlhHFEcZq0iQj09Dc3EyhGEq3gN5etLHozBLHJZ5+eitr1qymq+dLgiB0lWEezS0t1KpVZs2czry5c0W7ky8UVsSoAvzyjC2jq/sIGzdtYtOmzYC8KNX+PmZddhmLFy9mUKWM56hiFUQkWrPx8cfZ8fI/KRQK1GpVisUiyvOICzGVSpmrr5zLicOHY93WggieIYikzylKspBSsYTJMsJALDpQHtV6SqXSJMEvMyRJQhhG7Ni5i82dTzJ95gzWtrVhbcbyP/wemyZEcUyxUpYHU1ustlTrVaxSHHvsUJexZaA0tWo/URS5hVMqEpubm0mzfrp7DuJ7EaViM+ATBArPF5PoWrWG7wfUkpRiqUwch5gsJanXRT9pLSbTJLW6aGZ8H+MhrddSLZrR0G9sAdfrNRQhcVzCC32slReh1lvl0MHDLL/3Xi669FJeePF5du7YQUf7OppKTcRRTKEQgzL09fWRJFVK5RJJLUMhGWUY+4Chv6cHLGQWSoOaMVjiKKC/p1d0pn5I6AdEsWRpSVKnu6ebcqmMzjSlchkvCF3WaElqNee6L+3cSqUSWmfUa7VGoAp9MaDG8wjikCgM0WmCMgat85Z0eU9QsRUxWKwX8MWhw9x15xKW3nkHlXLRLQYSBCBnHizKikGtnC/DD+RdVirii/2H+fTz9xk9egy3/uQ2bv/5LZx4wvGAj84EACnPSGtAYzEGCoUSL720nfXr21m+4o+AJkutmyMHtrQGFyQ9z0M7AfrmzifY3LmFI91HqDtweM2C+XzrslnEcaERJD0ZgNumclkyCmt9FD7zr57PkiW/4swxp5O4KjYrXxTGxPMIQ9dyz1W05QVkQRS63Qyfzs4naGtrww98CsUyURgIi6E1WmdcNHUq11y7UHztPFxWDWmaiX8dijTNCIKQSqVEvV4VraMngnet4b333qe3t5ex48ZIUNGKYqGItSlZVpWghsyddZqvYqGIMYb+vl58B4gqTYPEwxPR1ya1GtX+fsJQvAe1E9gbJxfJ2YQczColwUCAhQTEfLtOhOHiJebwpzxzyDOVz68AKUu9XpftKLctmzM8UsE7wCTKwQ6sNEDaQHKSB0nrNH4504dbg2Vbz7XIc0BM/i2BD6R3uGAEufE0SUEJ8MM9f0bnzKEwTsp13mgAA2czlgMPAcdyjQbYcPOgrTBSEtBlrF5D2zhwb8YxUPn844ADCLMoczcw5pyxywGVl/sVNiq2HV50oFFrI552yun0XPW0dkUyOaiQC8r95PrbfCweCj90rJPrgZwD+UynA11K3P/y441rEMBR7JWcU0A0bktc2KicjXP6PS2tJPOEIqnX8Zwm0DaqY3Md4QAgzxMX+VuApecYTHlOB8C5tVZM1t1858+dDNsBU+vYMhff89/bOGZN7juvApZrWSveszj/xpzJ9H2Z6/9n/gZAnucLa0kOVBvAV1rP1ZzZv+hHpeDR8zxhUZ0/Yv6uKCXH+YGwulprwlA08zIO92wqT+5fZhOlFP8DL1/N7N9d+lwAAAAASUVORK5CYII=)"
      ],
      "metadata": {
        "id": "YSBZo2GigOPx"
      }
    },
    {
      "cell_type": "markdown",
      "source": [
        "- 최적화된 파라미터: TfidfVectorizer의 max_df=700, ngram_range=(1, 2)와 LogisticRegression의 C=10을 적용하여 가장 좋은 검증 세트 성능을 얻음\n",
        "\n",
        "- 테스트 정확도: 최적화된 파라미터로 테스트 데이터 예측 시 정확도는 약 0.702로 크게 개선되지 않음\n",
        "\n",
        "- 다른 알고리즘 추천: 로지스틱 회귀 외에도 **서포트 벡터머신(SVM)**과 나이브 베이즈(Naive Bayes) 알고리즘을 활용해 모델을 생성할 것을 권장"
      ],
      "metadata": {
        "id": "o88YKOzygPMl"
      }
    },
    {
      "cell_type": "markdown",
      "source": [
        "# 05 감성분석"
      ],
      "metadata": {
        "id": "wBh1pCeOgaYJ"
      }
    },
    {
      "cell_type": "markdown",
      "source": [
        "- 목적: 문서의 감성(긍정/부정/기분)을 파악하여 소셜 미디어, 온라인 리뷰 등에서 활용\n",
        "\n",
        "- 감성 지수: 긍정 감성 지수와 부정 감성 지수로 나누어 합산하여 감성을 결정\n",
        "\n",
        "- 머신러닝 접근법:\n",
        "\n",
        "지도학습: 학습 데이터와 레이블을 기반으로 감성 분석 모델 학습\n",
        "\n",
        "비지도학습: 'Lexicon' 감성 어휘 사전을 이용해 문서의 감성을 판단"
      ],
      "metadata": {
        "id": "D2HxsdVTgwPI"
      }
    },
    {
      "cell_type": "markdown",
      "source": [
        "## 지도학습 기반 감성 분석 실습 - IMDB 영화평"
      ],
      "metadata": {
        "id": "8MJPPOsKg1TX"
      }
    },
    {
      "cell_type": "code",
      "source": [
        "import pandas as pd\n",
        "\n",
        "review_df = pd.read_csv('/content/drive/MyDrive/labeledTrainData.tsv',header=0,sep=\"\\t\",quoting=3)\n",
        "review_df.head(3)"
      ],
      "metadata": {
        "colab": {
          "base_uri": "https://localhost:8080/",
          "height": 143
        },
        "id": "CnDXPlG8h1NF",
        "outputId": "0c8911be-edf5-4854-df4f-be407f003c17"
      },
      "execution_count": 19,
      "outputs": [
        {
          "output_type": "execute_result",
          "data": {
            "text/plain": [
              "         id  sentiment                                             review\n",
              "0  \"5814_8\"          1  \"With all this stuff going down at the moment ...\n",
              "1  \"2381_9\"          1  \"\\\"The Classic War of the Worlds\\\" by Timothy ...\n",
              "2  \"7759_3\"          0  \"The film starts with a manager (Nicholas Bell..."
            ],
            "text/html": [
              "\n",
              "  <div id=\"df-125f113e-046e-4c2c-8a4a-502eb2715c52\" class=\"colab-df-container\">\n",
              "    <div>\n",
              "<style scoped>\n",
              "    .dataframe tbody tr th:only-of-type {\n",
              "        vertical-align: middle;\n",
              "    }\n",
              "\n",
              "    .dataframe tbody tr th {\n",
              "        vertical-align: top;\n",
              "    }\n",
              "\n",
              "    .dataframe thead th {\n",
              "        text-align: right;\n",
              "    }\n",
              "</style>\n",
              "<table border=\"1\" class=\"dataframe\">\n",
              "  <thead>\n",
              "    <tr style=\"text-align: right;\">\n",
              "      <th></th>\n",
              "      <th>id</th>\n",
              "      <th>sentiment</th>\n",
              "      <th>review</th>\n",
              "    </tr>\n",
              "  </thead>\n",
              "  <tbody>\n",
              "    <tr>\n",
              "      <th>0</th>\n",
              "      <td>\"5814_8\"</td>\n",
              "      <td>1</td>\n",
              "      <td>\"With all this stuff going down at the moment ...</td>\n",
              "    </tr>\n",
              "    <tr>\n",
              "      <th>1</th>\n",
              "      <td>\"2381_9\"</td>\n",
              "      <td>1</td>\n",
              "      <td>\"\\\"The Classic War of the Worlds\\\" by Timothy ...</td>\n",
              "    </tr>\n",
              "    <tr>\n",
              "      <th>2</th>\n",
              "      <td>\"7759_3\"</td>\n",
              "      <td>0</td>\n",
              "      <td>\"The film starts with a manager (Nicholas Bell...</td>\n",
              "    </tr>\n",
              "  </tbody>\n",
              "</table>\n",
              "</div>\n",
              "    <div class=\"colab-df-buttons\">\n",
              "\n",
              "  <div class=\"colab-df-container\">\n",
              "    <button class=\"colab-df-convert\" onclick=\"convertToInteractive('df-125f113e-046e-4c2c-8a4a-502eb2715c52')\"\n",
              "            title=\"Convert this dataframe to an interactive table.\"\n",
              "            style=\"display:none;\">\n",
              "\n",
              "  <svg xmlns=\"http://www.w3.org/2000/svg\" height=\"24px\" viewBox=\"0 -960 960 960\">\n",
              "    <path d=\"M120-120v-720h720v720H120Zm60-500h600v-160H180v160Zm220 220h160v-160H400v160Zm0 220h160v-160H400v160ZM180-400h160v-160H180v160Zm440 0h160v-160H620v160ZM180-180h160v-160H180v160Zm440 0h160v-160H620v160Z\"/>\n",
              "  </svg>\n",
              "    </button>\n",
              "\n",
              "  <style>\n",
              "    .colab-df-container {\n",
              "      display:flex;\n",
              "      gap: 12px;\n",
              "    }\n",
              "\n",
              "    .colab-df-convert {\n",
              "      background-color: #E8F0FE;\n",
              "      border: none;\n",
              "      border-radius: 50%;\n",
              "      cursor: pointer;\n",
              "      display: none;\n",
              "      fill: #1967D2;\n",
              "      height: 32px;\n",
              "      padding: 0 0 0 0;\n",
              "      width: 32px;\n",
              "    }\n",
              "\n",
              "    .colab-df-convert:hover {\n",
              "      background-color: #E2EBFA;\n",
              "      box-shadow: 0px 1px 2px rgba(60, 64, 67, 0.3), 0px 1px 3px 1px rgba(60, 64, 67, 0.15);\n",
              "      fill: #174EA6;\n",
              "    }\n",
              "\n",
              "    .colab-df-buttons div {\n",
              "      margin-bottom: 4px;\n",
              "    }\n",
              "\n",
              "    [theme=dark] .colab-df-convert {\n",
              "      background-color: #3B4455;\n",
              "      fill: #D2E3FC;\n",
              "    }\n",
              "\n",
              "    [theme=dark] .colab-df-convert:hover {\n",
              "      background-color: #434B5C;\n",
              "      box-shadow: 0px 1px 3px 1px rgba(0, 0, 0, 0.15);\n",
              "      filter: drop-shadow(0px 1px 2px rgba(0, 0, 0, 0.3));\n",
              "      fill: #FFFFFF;\n",
              "    }\n",
              "  </style>\n",
              "\n",
              "    <script>\n",
              "      const buttonEl =\n",
              "        document.querySelector('#df-125f113e-046e-4c2c-8a4a-502eb2715c52 button.colab-df-convert');\n",
              "      buttonEl.style.display =\n",
              "        google.colab.kernel.accessAllowed ? 'block' : 'none';\n",
              "\n",
              "      async function convertToInteractive(key) {\n",
              "        const element = document.querySelector('#df-125f113e-046e-4c2c-8a4a-502eb2715c52');\n",
              "        const dataTable =\n",
              "          await google.colab.kernel.invokeFunction('convertToInteractive',\n",
              "                                                    [key], {});\n",
              "        if (!dataTable) return;\n",
              "\n",
              "        const docLinkHtml = 'Like what you see? Visit the ' +\n",
              "          '<a target=\"_blank\" href=https://colab.research.google.com/notebooks/data_table.ipynb>data table notebook</a>'\n",
              "          + ' to learn more about interactive tables.';\n",
              "        element.innerHTML = '';\n",
              "        dataTable['output_type'] = 'display_data';\n",
              "        await google.colab.output.renderOutput(dataTable, element);\n",
              "        const docLink = document.createElement('div');\n",
              "        docLink.innerHTML = docLinkHtml;\n",
              "        element.appendChild(docLink);\n",
              "      }\n",
              "    </script>\n",
              "  </div>\n",
              "\n",
              "\n",
              "<div id=\"df-23c425d5-c6f9-48b8-b203-2b08d98be4d0\">\n",
              "  <button class=\"colab-df-quickchart\" onclick=\"quickchart('df-23c425d5-c6f9-48b8-b203-2b08d98be4d0')\"\n",
              "            title=\"Suggest charts\"\n",
              "            style=\"display:none;\">\n",
              "\n",
              "<svg xmlns=\"http://www.w3.org/2000/svg\" height=\"24px\"viewBox=\"0 0 24 24\"\n",
              "     width=\"24px\">\n",
              "    <g>\n",
              "        <path d=\"M19 3H5c-1.1 0-2 .9-2 2v14c0 1.1.9 2 2 2h14c1.1 0 2-.9 2-2V5c0-1.1-.9-2-2-2zM9 17H7v-7h2v7zm4 0h-2V7h2v10zm4 0h-2v-4h2v4z\"/>\n",
              "    </g>\n",
              "</svg>\n",
              "  </button>\n",
              "\n",
              "<style>\n",
              "  .colab-df-quickchart {\n",
              "      --bg-color: #E8F0FE;\n",
              "      --fill-color: #1967D2;\n",
              "      --hover-bg-color: #E2EBFA;\n",
              "      --hover-fill-color: #174EA6;\n",
              "      --disabled-fill-color: #AAA;\n",
              "      --disabled-bg-color: #DDD;\n",
              "  }\n",
              "\n",
              "  [theme=dark] .colab-df-quickchart {\n",
              "      --bg-color: #3B4455;\n",
              "      --fill-color: #D2E3FC;\n",
              "      --hover-bg-color: #434B5C;\n",
              "      --hover-fill-color: #FFFFFF;\n",
              "      --disabled-bg-color: #3B4455;\n",
              "      --disabled-fill-color: #666;\n",
              "  }\n",
              "\n",
              "  .colab-df-quickchart {\n",
              "    background-color: var(--bg-color);\n",
              "    border: none;\n",
              "    border-radius: 50%;\n",
              "    cursor: pointer;\n",
              "    display: none;\n",
              "    fill: var(--fill-color);\n",
              "    height: 32px;\n",
              "    padding: 0;\n",
              "    width: 32px;\n",
              "  }\n",
              "\n",
              "  .colab-df-quickchart:hover {\n",
              "    background-color: var(--hover-bg-color);\n",
              "    box-shadow: 0 1px 2px rgba(60, 64, 67, 0.3), 0 1px 3px 1px rgba(60, 64, 67, 0.15);\n",
              "    fill: var(--button-hover-fill-color);\n",
              "  }\n",
              "\n",
              "  .colab-df-quickchart-complete:disabled,\n",
              "  .colab-df-quickchart-complete:disabled:hover {\n",
              "    background-color: var(--disabled-bg-color);\n",
              "    fill: var(--disabled-fill-color);\n",
              "    box-shadow: none;\n",
              "  }\n",
              "\n",
              "  .colab-df-spinner {\n",
              "    border: 2px solid var(--fill-color);\n",
              "    border-color: transparent;\n",
              "    border-bottom-color: var(--fill-color);\n",
              "    animation:\n",
              "      spin 1s steps(1) infinite;\n",
              "  }\n",
              "\n",
              "  @keyframes spin {\n",
              "    0% {\n",
              "      border-color: transparent;\n",
              "      border-bottom-color: var(--fill-color);\n",
              "      border-left-color: var(--fill-color);\n",
              "    }\n",
              "    20% {\n",
              "      border-color: transparent;\n",
              "      border-left-color: var(--fill-color);\n",
              "      border-top-color: var(--fill-color);\n",
              "    }\n",
              "    30% {\n",
              "      border-color: transparent;\n",
              "      border-left-color: var(--fill-color);\n",
              "      border-top-color: var(--fill-color);\n",
              "      border-right-color: var(--fill-color);\n",
              "    }\n",
              "    40% {\n",
              "      border-color: transparent;\n",
              "      border-right-color: var(--fill-color);\n",
              "      border-top-color: var(--fill-color);\n",
              "    }\n",
              "    60% {\n",
              "      border-color: transparent;\n",
              "      border-right-color: var(--fill-color);\n",
              "    }\n",
              "    80% {\n",
              "      border-color: transparent;\n",
              "      border-right-color: var(--fill-color);\n",
              "      border-bottom-color: var(--fill-color);\n",
              "    }\n",
              "    90% {\n",
              "      border-color: transparent;\n",
              "      border-bottom-color: var(--fill-color);\n",
              "    }\n",
              "  }\n",
              "</style>\n",
              "\n",
              "  <script>\n",
              "    async function quickchart(key) {\n",
              "      const quickchartButtonEl =\n",
              "        document.querySelector('#' + key + ' button');\n",
              "      quickchartButtonEl.disabled = true;  // To prevent multiple clicks.\n",
              "      quickchartButtonEl.classList.add('colab-df-spinner');\n",
              "      try {\n",
              "        const charts = await google.colab.kernel.invokeFunction(\n",
              "            'suggestCharts', [key], {});\n",
              "      } catch (error) {\n",
              "        console.error('Error during call to suggestCharts:', error);\n",
              "      }\n",
              "      quickchartButtonEl.classList.remove('colab-df-spinner');\n",
              "      quickchartButtonEl.classList.add('colab-df-quickchart-complete');\n",
              "    }\n",
              "    (() => {\n",
              "      let quickchartButtonEl =\n",
              "        document.querySelector('#df-23c425d5-c6f9-48b8-b203-2b08d98be4d0 button');\n",
              "      quickchartButtonEl.style.display =\n",
              "        google.colab.kernel.accessAllowed ? 'block' : 'none';\n",
              "    })();\n",
              "  </script>\n",
              "</div>\n",
              "\n",
              "    </div>\n",
              "  </div>\n"
            ],
            "application/vnd.google.colaboratory.intrinsic+json": {
              "type": "dataframe",
              "variable_name": "review_df",
              "summary": "{\n  \"name\": \"review_df\",\n  \"rows\": 25000,\n  \"fields\": [\n    {\n      \"column\": \"id\",\n      \"properties\": {\n        \"dtype\": \"string\",\n        \"num_unique_values\": 25000,\n        \"samples\": [\n          \"\\\"2570_3\\\"\",\n          \"\\\"4897_8\\\"\",\n          \"\\\"8485_3\\\"\"\n        ],\n        \"semantic_type\": \"\",\n        \"description\": \"\"\n      }\n    },\n    {\n      \"column\": \"sentiment\",\n      \"properties\": {\n        \"dtype\": \"number\",\n        \"std\": 0,\n        \"min\": 0,\n        \"max\": 1,\n        \"num_unique_values\": 2,\n        \"samples\": [\n          0,\n          1\n        ],\n        \"semantic_type\": \"\",\n        \"description\": \"\"\n      }\n    },\n    {\n      \"column\": \"review\",\n      \"properties\": {\n        \"dtype\": \"string\",\n        \"num_unique_values\": 24904,\n        \"samples\": [\n          \"\\\"This is not my favorite WIP (\\\\\\\"Women in Prison\\\\\\\"), but it is one of the most famous films in the sub-genre. It is was produced by Roger Corman, who at this point had already produced a few WIPs. It is obvious that the film tries to play with the established formula. The movie takes place in an USA prison, not in a \\\\\\\"banana republic\\\\\\\" like most WIP films. I'm not sure if that was a wise move, but it is an acceptable change of pace. Writer-director Demme really gets into his job, always digging for new ways to present a familiar scenario. In fact, he is a little too ambitious for his own good. The filmmaker creates a few surreal dream sequences that are borderline pretentious but it is fun to see how hard he tries to put this film above your average chicks-in-chains flick. But do not worry, Demme still operates within the parameters of the sub-genre. There is plenty of nudity and violence, something that will satisfy hardcore fans. The film is a little slow, but it is very entertaining. The cast is good. Roberta Collins is a WIP veteran, so she does not need an introduction, and Barbara Steel is a hoot as the wheelchair-bound crazy warden. Pam Grier is sorely missed, though.\\\"\",\n          \"\\\"In 1972, after his wife left to go her own way, Elvis Presley began dating Linda Thompson. Miss Thompson, a good-humored, long haired, lovely, statuesque beauty queen, is charted to fill a void in Elvis' life. When Elvis' divorce became final, Linda was already in place as the legendary performer's live-in girlfriend and travel companion until 1976.<br /><br />This is a gaudy look at their love affair and companionship. Linda whole-heartedly tending to her lover's needs and desires. And even putting up with his swallowing medications by the handful and introducing her to her own love affair with valium. At times this movie is harsh and dark of heart; a very unattractive look at the 'King' and his queen.<br /><br />Don Johnson is absolutely awful as Elvis. Over acting to the hilt is not attractive. Stephanie Zimbalist lacks the classiness of Linda, but does the job pretty well. Supporting cast includes: John Crawford, Ruta Lee, and Rick Lenz. Watching this twice is more than enough for me, but don't let this review stop you from checking it out. For most Elvis fans that I have conferred with, this is not a favored presentation.\\\"\"\n        ],\n        \"semantic_type\": \"\",\n        \"description\": \"\"\n      }\n    }\n  ]\n}"
            }
          },
          "metadata": {},
          "execution_count": 19
        }
      ]
    },
    {
      "cell_type": "markdown",
      "source": [
        "- id： 각데이터의 id\n",
        "\n",
        "- sentiment： 영화평(review)의 Sentiment 결과 값(Target Label). 1은 긍정적 평가, 0은 부정적 평가를 의미\n",
        "- review： 영화평의 텍스트"
      ],
      "metadata": {
        "id": "Zg3b8-S2iLjd"
      }
    },
    {
      "cell_type": "code",
      "source": [
        "print(review_df['review'][0])"
      ],
      "metadata": {
        "colab": {
          "base_uri": "https://localhost:8080/"
        },
        "id": "vAy2WwFCiUuu",
        "outputId": "1e223af7-bb3e-4ca4-b9e3-9bf769457737"
      },
      "execution_count": 20,
      "outputs": [
        {
          "output_type": "stream",
          "name": "stdout",
          "text": [
            "\"With all this stuff going down at the moment with MJ i've started listening to his music, watching the odd documentary here and there, watched The Wiz and watched Moonwalker again. Maybe i just want to get a certain insight into this guy who i thought was really cool in the eighties just to maybe make up my mind whether he is guilty or innocent. Moonwalker is part biography, part feature film which i remember going to see at the cinema when it was originally released. Some of it has subtle messages about MJ's feeling towards the press and also the obvious message of drugs are bad m'kay.<br /><br />Visually impressive but of course this is all about Michael Jackson so unless you remotely like MJ in anyway then you are going to hate this and find it boring. Some may call MJ an egotist for consenting to the making of this movie BUT MJ and most of his fans would say that he made it for the fans which if true is really nice of him.<br /><br />The actual feature film bit when it finally starts is only on for 20 minutes or so excluding the Smooth Criminal sequence and Joe Pesci is convincing as a psychopathic all powerful drug lord. Why he wants MJ dead so bad is beyond me. Because MJ overheard his plans? Nah, Joe Pesci's character ranted that he wanted people to know it is he who is supplying drugs etc so i dunno, maybe he just hates MJ's music.<br /><br />Lots of cool things in this like MJ turning into a car and a robot and the whole Speed Demon sequence. Also, the director must have had the patience of a saint when it came to filming the kiddy Bad sequence as usually directors hate working with one kid let alone a whole bunch of them performing a complex dance scene.<br /><br />Bottom line, this movie is for people who like MJ on one level or another (which i think is most people). If not, then stay away. It does try and give off a wholesome message and ironically MJ's bestest buddy in this movie is a girl! Michael Jackson is truly one of the most talented people ever to grace this planet but is he guilty? Well, with all the attention i've gave this subject....hmmm well i don't know because people can be different behind closed doors, i know this for a fact. He is either an extremely nice but stupid guy or one of the most sickest liars. I hope he is not the latter.\"\n"
          ]
        }
      ]
    },
    {
      "cell_type": "markdown",
      "source": [
        "-` <br />` 태그 제거: str.replace()를 사용해 `<br />` 태그를 공백으로 변경.\n",
        "\n",
        "- 숫자/특수문자 제거: 정규 표현식 re.sub(r'[^a-zA-Z]', ' ', x)를 사용해 영어 대/소문자가 아닌 모든 문자를 공백으로 변환.\n",
        "\n",
        "- 적용 방법: re.sub()를 lambda 함수와 함께 pandas DataFrame에 적용하여 처리."
      ],
      "metadata": {
        "id": "zUJJVkyPifG4"
      }
    },
    {
      "cell_type": "code",
      "source": [
        "import re\n",
        "\n",
        "# <br /> HTML 태그는 replace 함수로 공백으로 변환\n",
        "review_df['review'] = review_df['review'].str.replace('<br />', ' ')\n",
        "\n",
        "# 파이썬의 정규 표현식 모듈인 re를 이용해 영어 문자열이 아닌 문자는 모두 공백으로 변환\n",
        "review_df['review'] = review_df['review'].apply(lambda x : re.sub(\"[^a-zA-Z]\", \" \", x))"
      ],
      "metadata": {
        "id": "cA3RZjtAix6E"
      },
      "execution_count": 22,
      "outputs": []
    },
    {
      "cell_type": "markdown",
      "source": [
        "- 결정 값 추출: sentiment 칼럼을 별도로 추출하여 결정 값 데이터 세트 생성\n",
        "\n",
        "- 피처 데이터 세트 생성: 원본 데이터에서 id와 sentiment 칼럼을 삭제하여 피처 데이터 세트 생성\n",
        "\n",
        "- 학습/테스트 데이터 분리: train_test_split()을 사용하여 학습용과 테스트용 데이터 세트로 분리"
      ],
      "metadata": {
        "id": "pYoEQWpujWKZ"
      }
    },
    {
      "cell_type": "code",
      "source": [
        "from sklearn.model_selection import train_test_split\n",
        "\n",
        "class_df = review_df['sentiment']\n",
        "feature_df = review_df.drop(['id','sentiment'],axis=1, inplace=False)\n",
        "\n",
        "X_train, X_test, y_train, y_test = train_test_split(feature_df, class_df, test_size=0.3, random_state=156)\n",
        "\n",
        "X_train.shape, X_test.shape"
      ],
      "metadata": {
        "colab": {
          "base_uri": "https://localhost:8080/"
        },
        "id": "_WbPckIWjafJ",
        "outputId": "03b59f72-9320-4a60-b201-aae9ba272b04"
      },
      "execution_count": 23,
      "outputs": [
        {
          "output_type": "execute_result",
          "data": {
            "text/plain": [
              "((17500, 1), (7500, 1))"
            ]
          },
          "metadata": {},
          "execution_count": 23
        }
      ]
    },
    {
      "cell_type": "markdown",
      "source": [
        "- 학습용 데이터는 17500개의 리뷰, 테스트용 데이터는 7500개의 리뷰로 구성"
      ],
      "metadata": {
        "id": "UJcBqR6mjy5z"
      }
    },
    {
      "cell_type": "markdown",
      "source": [
        "1. 피처 벡터화 및 분류 모델 적용:\n",
        "\n",
        "- Count 벡터화: 감상평 텍스트를 Count 벡터화하여 예측 성능을 측정.\n",
        "\n",
        "- TF-IDF 벡터화: 이후 TF-IDF 벡터화 적용하여 성능 비교.\n",
        "\n",
        "2. 분류 알고리즘: Logistic Regression을 사용하여 이진 분류 수행.\n",
        "\n",
        "3. 성능 평가:\n",
        "\n",
        "- 정확도: 테스트 데이터 세트에서 정확도 측정.\n",
        "\n",
        "- ROC-AUC: 분류 성능을 평가하기 위해 ROC-AUC도 측정."
      ],
      "metadata": {
        "id": "6ozn9e-9j4Op"
      }
    },
    {
      "cell_type": "markdown",
      "source": [
        "- 감상평(Review) 텍스트를 피처 벡터화한 후에 ML 분류 알고리즘을 적용해 예측 성능을 측정"
      ],
      "metadata": {
        "id": "UyblPdhOkBRG"
      }
    },
    {
      "cell_type": "code",
      "source": [
        "from sklearn.feature_extraction.text import CountVectorizer, TfidfVectorizer\n",
        "from sklearn.pipeline import Pipeline\n",
        "from sklearn.linear_model import LogisticRegression\n",
        "from sklearn.metrics import accuracy_score, roc_auc_score\n",
        "\n",
        "# 스톱 워드는 영어, ngram은 (1, 2)로 설정해 CountVectorization 수행.\n",
        "# LogisticRegression의 C는 10으로 설정.\n",
        "pipeline = Pipeline([\n",
        "    ('cnt_vect', CountVectorizer(stop_words='english', ngram_range=(1,2))),\n",
        "    ('lr_clf', LogisticRegression(C=10))])\n",
        "\n",
        "# Pipeline 객체를 이용해 fit(), predict()로 학습/예측 수행. predict_proba()는 roc_auc\n",
        "pipeline.fit(X_train['review'], y_train)\n",
        "pred = pipeline.predict(X_test['review'])\n",
        "pred_probs = pipeline.predict_proba(X_test['review'])[:,1]\n",
        "\n",
        "# 예측 정확도와 ROC-AUC 출력\n",
        "print('예측 정확도는 {0:.4f}, ROC-AUC는 {1:.4f}'.format(\n",
        "    accuracy_score(y_test, pred),\n",
        "    roc_auc_score(y_test, pred_probs)\n",
        "))"
      ],
      "metadata": {
        "colab": {
          "base_uri": "https://localhost:8080/"
        },
        "id": "I7dJWjbgkC3S",
        "outputId": "0fc092ea-03a0-490f-c0ea-20987dcb880e"
      },
      "execution_count": 24,
      "outputs": [
        {
          "output_type": "stream",
          "name": "stdout",
          "text": [
            "예측 정확도는 0.8848, ROC-AUC는 0.9509\n"
          ]
        }
      ]
    },
    {
      "cell_type": "markdown",
      "source": [
        "- TF-IDF 벡터화를 적용해 다시 예측 성능을 측정"
      ],
      "metadata": {
        "id": "rndG5cAPlHUC"
      }
    },
    {
      "cell_type": "code",
      "source": [
        "from sklearn.feature_extraction.text import TfidfVectorizer\n",
        "from sklearn.pipeline import Pipeline\n",
        "from sklearn.linear_model import LogisticRegression\n",
        "from sklearn.metrics import accuracy_score, roc_auc_score\n",
        "\n",
        "# 스톱 워드는 english, ngram은 (1, 2)로 설정해 TF-IDF 벡터화 수행.\n",
        "# LogisticRegression의 C는 10으로 설정.\n",
        "pipeline = Pipeline([\n",
        "    ('tfidf_vect', TfidfVectorizer(stop_words='english', ngram_range=(1, 2))),\n",
        "    ('lr_clf', LogisticRegression(solver='liblinear', C=10))\n",
        "])\n",
        "\n",
        "# Pipeline 객체를 이용해 fit(), predict()로 학습/예측 수행.\n",
        "# predict_proba()는 roc_auc 때문에 수행.\n",
        "pipeline.fit(X_train['review'], y_train)\n",
        "pred = pipeline.predict(X_test['review'])\n",
        "pred_probs = pipeline.predict_proba(X_test['review'])[:, 1]\n",
        "\n",
        "# 예측 정확도와 ROC-AUC 출력\n",
        "print('예측 정확도는 {0:.4f}, ROC-AUC는 {1:.4f}'.format(\n",
        "    accuracy_score(y_test, pred),\n",
        "    roc_auc_score(y_test, pred_probs)\n",
        "))"
      ],
      "metadata": {
        "colab": {
          "base_uri": "https://localhost:8080/"
        },
        "id": "7yNL-J_nlMdt",
        "outputId": "84d52973-6f16-4014-b584-34530ec46ac8"
      },
      "execution_count": 26,
      "outputs": [
        {
          "output_type": "stream",
          "name": "stdout",
          "text": [
            "예측 정확도는 0.8936, ROC-AUC는 0.9598\n"
          ]
        }
      ]
    },
    {
      "cell_type": "markdown",
      "source": [
        "## 비지도학습 기반 감성 분석 소개"
      ],
      "metadata": {
        "id": "e4vZir0Jl1Ea"
      }
    },
    {
      "cell_type": "markdown",
      "source": [
        "- 비지도 감성 분석: 레이블 없이 감성 사전(Lexicon) 사용, 감성 지수(긍정/부정)로 분석\n",
        "\n",
        "- NLTK의 Lexicon 모듈: 감성 사전 제공\n",
        "\n",
        "- WordNet: 단어의 시맨틱 분석, Synset(동의어 집합)으로 문맥 정보 제공"
      ],
      "metadata": {
        "id": "fJM6Ebgimeuk"
      }
    },
    {
      "cell_type": "markdown",
      "source": [
        "- NLTK 감성 사전: 예측 성능이 낮아 실제 업무에서는 다른 감성 사전 사용\n",
        "\n",
        "- 주요 감성 사전:\n",
        "\n",
        " - SentiWordNet: WordNet 기반의 감성 단어 전용 사전, 긍정/부정/객관성 지수 제공\n",
        "\n",
        " - VADER: 소셜 미디어 텍스트 감성 분석, 빠른 수행 시간, 대용량 데이터 처리에 적합\n",
        "\n",
        " - Pattern: 뛰어난 예측 성능, 파이썬 2.X에서만 사용 가능\n",
        "\n",
        "- VADER를 사용한 감성 분석이 추천되며, SentiWordNet은 예측 정확도가 낮아 잘 사용되지 않음"
      ],
      "metadata": {
        "id": "elwb97hzl2eC"
      }
    },
    {
      "cell_type": "markdown",
      "source": [
        "## SentiWordNet 을 이용한 감성 분석"
      ],
      "metadata": {
        "id": "idnHV1kHnE7h"
      }
    },
    {
      "cell_type": "markdown",
      "source": [
        "- SentiWordNet: WordNet 기반의 감성 분석을 위한 사전\n",
        "\n",
        "- Synset: WordNet의 핵심 개념으로, 단어의 의미와 문맥을 함께 제공\n",
        "\n",
        "- 설정 과정: NLTK를 셋업하고 WordNet 서브패키지 및 데이터 세트를 다운로드해야 함\n",
        "\n",
        "- SentiWordNet 사용: WordNet의 synset을 기반으로 감성 분석을 수행"
      ],
      "metadata": {
        "id": "SEh24FoOnQzz"
      }
    },
    {
      "cell_type": "code",
      "source": [
        "import nltk\n",
        "nltk.download('all')"
      ],
      "metadata": {
        "colab": {
          "base_uri": "https://localhost:8080/"
        },
        "id": "XcChqBClnVJl",
        "outputId": "7d94851b-a92d-4365-cc6e-4058ab0fa821"
      },
      "execution_count": 27,
      "outputs": [
        {
          "output_type": "stream",
          "name": "stderr",
          "text": [
            "[nltk_data] Downloading collection 'all'\n",
            "[nltk_data]    | \n",
            "[nltk_data]    | Downloading package abc to /root/nltk_data...\n",
            "[nltk_data]    |   Unzipping corpora/abc.zip.\n",
            "[nltk_data]    | Downloading package alpino to /root/nltk_data...\n",
            "[nltk_data]    |   Unzipping corpora/alpino.zip.\n",
            "[nltk_data]    | Downloading package averaged_perceptron_tagger to\n",
            "[nltk_data]    |     /root/nltk_data...\n",
            "[nltk_data]    |   Unzipping taggers/averaged_perceptron_tagger.zip.\n",
            "[nltk_data]    | Downloading package averaged_perceptron_tagger_eng to\n",
            "[nltk_data]    |     /root/nltk_data...\n",
            "[nltk_data]    |   Unzipping\n",
            "[nltk_data]    |       taggers/averaged_perceptron_tagger_eng.zip.\n",
            "[nltk_data]    | Downloading package averaged_perceptron_tagger_ru to\n",
            "[nltk_data]    |     /root/nltk_data...\n",
            "[nltk_data]    |   Unzipping\n",
            "[nltk_data]    |       taggers/averaged_perceptron_tagger_ru.zip.\n",
            "[nltk_data]    | Downloading package averaged_perceptron_tagger_rus to\n",
            "[nltk_data]    |     /root/nltk_data...\n",
            "[nltk_data]    |   Unzipping\n",
            "[nltk_data]    |       taggers/averaged_perceptron_tagger_rus.zip.\n",
            "[nltk_data]    | Downloading package basque_grammars to\n",
            "[nltk_data]    |     /root/nltk_data...\n",
            "[nltk_data]    |   Unzipping grammars/basque_grammars.zip.\n",
            "[nltk_data]    | Downloading package bcp47 to /root/nltk_data...\n",
            "[nltk_data]    | Downloading package biocreative_ppi to\n",
            "[nltk_data]    |     /root/nltk_data...\n",
            "[nltk_data]    |   Unzipping corpora/biocreative_ppi.zip.\n",
            "[nltk_data]    | Downloading package bllip_wsj_no_aux to\n",
            "[nltk_data]    |     /root/nltk_data...\n",
            "[nltk_data]    |   Unzipping models/bllip_wsj_no_aux.zip.\n",
            "[nltk_data]    | Downloading package book_grammars to\n",
            "[nltk_data]    |     /root/nltk_data...\n",
            "[nltk_data]    |   Unzipping grammars/book_grammars.zip.\n",
            "[nltk_data]    | Downloading package brown to /root/nltk_data...\n",
            "[nltk_data]    |   Unzipping corpora/brown.zip.\n",
            "[nltk_data]    | Downloading package brown_tei to /root/nltk_data...\n",
            "[nltk_data]    |   Unzipping corpora/brown_tei.zip.\n",
            "[nltk_data]    | Downloading package cess_cat to /root/nltk_data...\n",
            "[nltk_data]    |   Unzipping corpora/cess_cat.zip.\n",
            "[nltk_data]    | Downloading package cess_esp to /root/nltk_data...\n",
            "[nltk_data]    |   Unzipping corpora/cess_esp.zip.\n",
            "[nltk_data]    | Downloading package chat80 to /root/nltk_data...\n",
            "[nltk_data]    |   Unzipping corpora/chat80.zip.\n",
            "[nltk_data]    | Downloading package city_database to\n",
            "[nltk_data]    |     /root/nltk_data...\n",
            "[nltk_data]    |   Unzipping corpora/city_database.zip.\n",
            "[nltk_data]    | Downloading package cmudict to /root/nltk_data...\n",
            "[nltk_data]    |   Unzipping corpora/cmudict.zip.\n",
            "[nltk_data]    | Downloading package comparative_sentences to\n",
            "[nltk_data]    |     /root/nltk_data...\n",
            "[nltk_data]    |   Unzipping corpora/comparative_sentences.zip.\n",
            "[nltk_data]    | Downloading package comtrans to /root/nltk_data...\n",
            "[nltk_data]    | Downloading package conll2000 to /root/nltk_data...\n",
            "[nltk_data]    |   Unzipping corpora/conll2000.zip.\n",
            "[nltk_data]    | Downloading package conll2002 to /root/nltk_data...\n",
            "[nltk_data]    |   Unzipping corpora/conll2002.zip.\n",
            "[nltk_data]    | Downloading package conll2007 to /root/nltk_data...\n",
            "[nltk_data]    | Downloading package crubadan to /root/nltk_data...\n",
            "[nltk_data]    |   Unzipping corpora/crubadan.zip.\n",
            "[nltk_data]    | Downloading package dependency_treebank to\n",
            "[nltk_data]    |     /root/nltk_data...\n",
            "[nltk_data]    |   Unzipping corpora/dependency_treebank.zip.\n",
            "[nltk_data]    | Downloading package dolch to /root/nltk_data...\n",
            "[nltk_data]    |   Unzipping corpora/dolch.zip.\n",
            "[nltk_data]    | Downloading package english_wordnet to\n",
            "[nltk_data]    |     /root/nltk_data...\n",
            "[nltk_data]    |   Unzipping corpora/english_wordnet.zip.\n",
            "[nltk_data]    | Downloading package europarl_raw to\n",
            "[nltk_data]    |     /root/nltk_data...\n",
            "[nltk_data]    |   Unzipping corpora/europarl_raw.zip.\n",
            "[nltk_data]    | Downloading package extended_omw to\n",
            "[nltk_data]    |     /root/nltk_data...\n",
            "[nltk_data]    | Downloading package floresta to /root/nltk_data...\n",
            "[nltk_data]    |   Unzipping corpora/floresta.zip.\n",
            "[nltk_data]    | Downloading package framenet_v15 to\n",
            "[nltk_data]    |     /root/nltk_data...\n",
            "[nltk_data]    |   Unzipping corpora/framenet_v15.zip.\n",
            "[nltk_data]    | Downloading package framenet_v17 to\n",
            "[nltk_data]    |     /root/nltk_data...\n",
            "[nltk_data]    |   Unzipping corpora/framenet_v17.zip.\n",
            "[nltk_data]    | Downloading package gazetteers to /root/nltk_data...\n",
            "[nltk_data]    |   Unzipping corpora/gazetteers.zip.\n",
            "[nltk_data]    | Downloading package genesis to /root/nltk_data...\n",
            "[nltk_data]    |   Unzipping corpora/genesis.zip.\n",
            "[nltk_data]    | Downloading package gutenberg to /root/nltk_data...\n",
            "[nltk_data]    |   Unzipping corpora/gutenberg.zip.\n",
            "[nltk_data]    | Downloading package ieer to /root/nltk_data...\n",
            "[nltk_data]    |   Unzipping corpora/ieer.zip.\n",
            "[nltk_data]    | Downloading package inaugural to /root/nltk_data...\n",
            "[nltk_data]    |   Unzipping corpora/inaugural.zip.\n",
            "[nltk_data]    | Downloading package indian to /root/nltk_data...\n",
            "[nltk_data]    |   Unzipping corpora/indian.zip.\n",
            "[nltk_data]    | Downloading package jeita to /root/nltk_data...\n",
            "[nltk_data]    | Downloading package kimmo to /root/nltk_data...\n",
            "[nltk_data]    |   Unzipping corpora/kimmo.zip.\n",
            "[nltk_data]    | Downloading package knbc to /root/nltk_data...\n",
            "[nltk_data]    | Downloading package large_grammars to\n",
            "[nltk_data]    |     /root/nltk_data...\n",
            "[nltk_data]    |   Unzipping grammars/large_grammars.zip.\n",
            "[nltk_data]    | Downloading package lin_thesaurus to\n",
            "[nltk_data]    |     /root/nltk_data...\n",
            "[nltk_data]    |   Unzipping corpora/lin_thesaurus.zip.\n",
            "[nltk_data]    | Downloading package mac_morpho to /root/nltk_data...\n",
            "[nltk_data]    |   Unzipping corpora/mac_morpho.zip.\n",
            "[nltk_data]    | Downloading package machado to /root/nltk_data...\n",
            "[nltk_data]    | Downloading package masc_tagged to /root/nltk_data...\n",
            "[nltk_data]    | Downloading package maxent_ne_chunker to\n",
            "[nltk_data]    |     /root/nltk_data...\n",
            "[nltk_data]    |   Unzipping chunkers/maxent_ne_chunker.zip.\n",
            "[nltk_data]    | Downloading package maxent_ne_chunker_tab to\n",
            "[nltk_data]    |     /root/nltk_data...\n",
            "[nltk_data]    |   Unzipping chunkers/maxent_ne_chunker_tab.zip.\n",
            "[nltk_data]    | Downloading package maxent_treebank_pos_tagger to\n",
            "[nltk_data]    |     /root/nltk_data...\n",
            "[nltk_data]    |   Unzipping taggers/maxent_treebank_pos_tagger.zip.\n",
            "[nltk_data]    | Downloading package maxent_treebank_pos_tagger_tab to\n",
            "[nltk_data]    |     /root/nltk_data...\n",
            "[nltk_data]    |   Unzipping\n",
            "[nltk_data]    |       taggers/maxent_treebank_pos_tagger_tab.zip.\n",
            "[nltk_data]    | Downloading package moses_sample to\n",
            "[nltk_data]    |     /root/nltk_data...\n",
            "[nltk_data]    |   Unzipping models/moses_sample.zip.\n",
            "[nltk_data]    | Downloading package movie_reviews to\n",
            "[nltk_data]    |     /root/nltk_data...\n",
            "[nltk_data]    |   Unzipping corpora/movie_reviews.zip.\n",
            "[nltk_data]    | Downloading package mte_teip5 to /root/nltk_data...\n",
            "[nltk_data]    |   Unzipping corpora/mte_teip5.zip.\n",
            "[nltk_data]    | Downloading package mwa_ppdb to /root/nltk_data...\n",
            "[nltk_data]    |   Unzipping misc/mwa_ppdb.zip.\n",
            "[nltk_data]    | Downloading package names to /root/nltk_data...\n",
            "[nltk_data]    |   Unzipping corpora/names.zip.\n",
            "[nltk_data]    | Downloading package nombank.1.0 to /root/nltk_data...\n",
            "[nltk_data]    | Downloading package nonbreaking_prefixes to\n",
            "[nltk_data]    |     /root/nltk_data...\n",
            "[nltk_data]    |   Unzipping corpora/nonbreaking_prefixes.zip.\n",
            "[nltk_data]    | Downloading package nps_chat to /root/nltk_data...\n",
            "[nltk_data]    |   Unzipping corpora/nps_chat.zip.\n",
            "[nltk_data]    | Downloading package omw to /root/nltk_data...\n",
            "[nltk_data]    | Downloading package omw-1.4 to /root/nltk_data...\n",
            "[nltk_data]    | Downloading package opinion_lexicon to\n",
            "[nltk_data]    |     /root/nltk_data...\n",
            "[nltk_data]    |   Unzipping corpora/opinion_lexicon.zip.\n",
            "[nltk_data]    | Downloading package panlex_swadesh to\n",
            "[nltk_data]    |     /root/nltk_data...\n",
            "[nltk_data]    | Downloading package paradigms to /root/nltk_data...\n",
            "[nltk_data]    |   Unzipping corpora/paradigms.zip.\n",
            "[nltk_data]    | Downloading package pe08 to /root/nltk_data...\n",
            "[nltk_data]    |   Unzipping corpora/pe08.zip.\n",
            "[nltk_data]    | Downloading package perluniprops to\n",
            "[nltk_data]    |     /root/nltk_data...\n",
            "[nltk_data]    |   Unzipping misc/perluniprops.zip.\n",
            "[nltk_data]    | Downloading package pil to /root/nltk_data...\n",
            "[nltk_data]    |   Unzipping corpora/pil.zip.\n",
            "[nltk_data]    | Downloading package pl196x to /root/nltk_data...\n",
            "[nltk_data]    |   Unzipping corpora/pl196x.zip.\n",
            "[nltk_data]    | Downloading package porter_test to /root/nltk_data...\n",
            "[nltk_data]    |   Unzipping stemmers/porter_test.zip.\n",
            "[nltk_data]    | Downloading package ppattach to /root/nltk_data...\n",
            "[nltk_data]    |   Unzipping corpora/ppattach.zip.\n",
            "[nltk_data]    | Downloading package problem_reports to\n",
            "[nltk_data]    |     /root/nltk_data...\n",
            "[nltk_data]    |   Unzipping corpora/problem_reports.zip.\n",
            "[nltk_data]    | Downloading package product_reviews_1 to\n",
            "[nltk_data]    |     /root/nltk_data...\n",
            "[nltk_data]    |   Unzipping corpora/product_reviews_1.zip.\n",
            "[nltk_data]    | Downloading package product_reviews_2 to\n",
            "[nltk_data]    |     /root/nltk_data...\n",
            "[nltk_data]    |   Unzipping corpora/product_reviews_2.zip.\n",
            "[nltk_data]    | Downloading package propbank to /root/nltk_data...\n",
            "[nltk_data]    | Downloading package pros_cons to /root/nltk_data...\n",
            "[nltk_data]    |   Unzipping corpora/pros_cons.zip.\n",
            "[nltk_data]    | Downloading package ptb to /root/nltk_data...\n",
            "[nltk_data]    |   Unzipping corpora/ptb.zip.\n",
            "[nltk_data]    | Downloading package punkt to /root/nltk_data...\n",
            "[nltk_data]    |   Unzipping tokenizers/punkt.zip.\n",
            "[nltk_data]    | Downloading package punkt_tab to /root/nltk_data...\n",
            "[nltk_data]    |   Unzipping tokenizers/punkt_tab.zip.\n",
            "[nltk_data]    | Downloading package qc to /root/nltk_data...\n",
            "[nltk_data]    |   Unzipping corpora/qc.zip.\n",
            "[nltk_data]    | Downloading package reuters to /root/nltk_data...\n",
            "[nltk_data]    | Downloading package rslp to /root/nltk_data...\n",
            "[nltk_data]    |   Unzipping stemmers/rslp.zip.\n",
            "[nltk_data]    | Downloading package rte to /root/nltk_data...\n",
            "[nltk_data]    |   Unzipping corpora/rte.zip.\n",
            "[nltk_data]    | Downloading package sample_grammars to\n",
            "[nltk_data]    |     /root/nltk_data...\n",
            "[nltk_data]    |   Unzipping grammars/sample_grammars.zip.\n",
            "[nltk_data]    | Downloading package semcor to /root/nltk_data...\n",
            "[nltk_data]    | Downloading package senseval to /root/nltk_data...\n",
            "[nltk_data]    |   Unzipping corpora/senseval.zip.\n",
            "[nltk_data]    | Downloading package sentence_polarity to\n",
            "[nltk_data]    |     /root/nltk_data...\n",
            "[nltk_data]    |   Unzipping corpora/sentence_polarity.zip.\n",
            "[nltk_data]    | Downloading package sentiwordnet to\n",
            "[nltk_data]    |     /root/nltk_data...\n",
            "[nltk_data]    |   Unzipping corpora/sentiwordnet.zip.\n",
            "[nltk_data]    | Downloading package shakespeare to /root/nltk_data...\n",
            "[nltk_data]    |   Unzipping corpora/shakespeare.zip.\n",
            "[nltk_data]    | Downloading package sinica_treebank to\n",
            "[nltk_data]    |     /root/nltk_data...\n",
            "[nltk_data]    |   Unzipping corpora/sinica_treebank.zip.\n",
            "[nltk_data]    | Downloading package smultron to /root/nltk_data...\n",
            "[nltk_data]    |   Unzipping corpora/smultron.zip.\n",
            "[nltk_data]    | Downloading package snowball_data to\n",
            "[nltk_data]    |     /root/nltk_data...\n",
            "[nltk_data]    | Downloading package spanish_grammars to\n",
            "[nltk_data]    |     /root/nltk_data...\n",
            "[nltk_data]    |   Unzipping grammars/spanish_grammars.zip.\n",
            "[nltk_data]    | Downloading package state_union to /root/nltk_data...\n",
            "[nltk_data]    |   Unzipping corpora/state_union.zip.\n",
            "[nltk_data]    | Downloading package stopwords to /root/nltk_data...\n",
            "[nltk_data]    |   Unzipping corpora/stopwords.zip.\n",
            "[nltk_data]    | Downloading package subjectivity to\n",
            "[nltk_data]    |     /root/nltk_data...\n",
            "[nltk_data]    |   Unzipping corpora/subjectivity.zip.\n",
            "[nltk_data]    | Downloading package swadesh to /root/nltk_data...\n",
            "[nltk_data]    |   Unzipping corpora/swadesh.zip.\n",
            "[nltk_data]    | Downloading package switchboard to /root/nltk_data...\n",
            "[nltk_data]    |   Unzipping corpora/switchboard.zip.\n",
            "[nltk_data]    | Downloading package tagsets to /root/nltk_data...\n",
            "[nltk_data]    |   Unzipping help/tagsets.zip.\n",
            "[nltk_data]    | Downloading package tagsets_json to\n",
            "[nltk_data]    |     /root/nltk_data...\n",
            "[nltk_data]    |   Unzipping help/tagsets_json.zip.\n",
            "[nltk_data]    | Downloading package timit to /root/nltk_data...\n",
            "[nltk_data]    |   Unzipping corpora/timit.zip.\n",
            "[nltk_data]    | Downloading package toolbox to /root/nltk_data...\n",
            "[nltk_data]    |   Unzipping corpora/toolbox.zip.\n",
            "[nltk_data]    | Downloading package treebank to /root/nltk_data...\n",
            "[nltk_data]    |   Unzipping corpora/treebank.zip.\n",
            "[nltk_data]    | Downloading package twitter_samples to\n",
            "[nltk_data]    |     /root/nltk_data...\n",
            "[nltk_data]    |   Unzipping corpora/twitter_samples.zip.\n",
            "[nltk_data]    | Downloading package udhr to /root/nltk_data...\n",
            "[nltk_data]    |   Unzipping corpora/udhr.zip.\n",
            "[nltk_data]    | Downloading package udhr2 to /root/nltk_data...\n",
            "[nltk_data]    |   Unzipping corpora/udhr2.zip.\n",
            "[nltk_data]    | Downloading package unicode_samples to\n",
            "[nltk_data]    |     /root/nltk_data...\n",
            "[nltk_data]    |   Unzipping corpora/unicode_samples.zip.\n",
            "[nltk_data]    | Downloading package universal_tagset to\n",
            "[nltk_data]    |     /root/nltk_data...\n",
            "[nltk_data]    |   Unzipping taggers/universal_tagset.zip.\n",
            "[nltk_data]    | Downloading package universal_treebanks_v20 to\n",
            "[nltk_data]    |     /root/nltk_data...\n",
            "[nltk_data]    | Downloading package vader_lexicon to\n",
            "[nltk_data]    |     /root/nltk_data...\n",
            "[nltk_data]    | Downloading package verbnet to /root/nltk_data...\n",
            "[nltk_data]    |   Unzipping corpora/verbnet.zip.\n",
            "[nltk_data]    | Downloading package verbnet3 to /root/nltk_data...\n",
            "[nltk_data]    |   Unzipping corpora/verbnet3.zip.\n",
            "[nltk_data]    | Downloading package webtext to /root/nltk_data...\n",
            "[nltk_data]    |   Unzipping corpora/webtext.zip.\n",
            "[nltk_data]    | Downloading package wmt15_eval to /root/nltk_data...\n",
            "[nltk_data]    |   Unzipping models/wmt15_eval.zip.\n",
            "[nltk_data]    | Downloading package word2vec_sample to\n",
            "[nltk_data]    |     /root/nltk_data...\n",
            "[nltk_data]    |   Unzipping models/word2vec_sample.zip.\n",
            "[nltk_data]    | Downloading package wordnet to /root/nltk_data...\n",
            "[nltk_data]    | Downloading package wordnet2021 to /root/nltk_data...\n",
            "[nltk_data]    | Downloading package wordnet2022 to /root/nltk_data...\n",
            "[nltk_data]    |   Unzipping corpora/wordnet2022.zip.\n",
            "[nltk_data]    | Downloading package wordnet31 to /root/nltk_data...\n",
            "[nltk_data]    | Downloading package wordnet_ic to /root/nltk_data...\n",
            "[nltk_data]    |   Unzipping corpora/wordnet_ic.zip.\n",
            "[nltk_data]    | Downloading package words to /root/nltk_data...\n",
            "[nltk_data]    |   Unzipping corpora/words.zip.\n",
            "[nltk_data]    | Downloading package ycoe to /root/nltk_data...\n",
            "[nltk_data]    |   Unzipping corpora/ycoe.zip.\n",
            "[nltk_data]    | \n",
            "[nltk_data]  Done downloading collection all\n"
          ]
        },
        {
          "output_type": "execute_result",
          "data": {
            "text/plain": [
              "True"
            ]
          },
          "metadata": {},
          "execution_count": 27
        }
      ]
    },
    {
      "cell_type": "markdown",
      "source": [
        "- WordNet 모듈을 임포트해서 'present' 단어에 대한 Synset을 추출"
      ],
      "metadata": {
        "id": "60ZxRFYJoDlO"
      }
    },
    {
      "cell_type": "code",
      "source": [
        "from nltk.corpus import wordnet as wn\n",
        "\n",
        "term='present'\n",
        "\n",
        "# 'present'라는 단어로 wordnet의 synsets 생성\n",
        "synsets = wn.synsets(term)\n",
        "print('synsets() 반환 type:', type(synsets))\n",
        "print('synsets() 반환 값 개수:', len(synsets))\n",
        "print('synsets() 반환 값:', synsets)"
      ],
      "metadata": {
        "colab": {
          "base_uri": "https://localhost:8080/"
        },
        "id": "k2Kyrs11nnEH",
        "outputId": "438b836c-7363-4a6e-8ac6-4a0a3ab60fa0"
      },
      "execution_count": 28,
      "outputs": [
        {
          "output_type": "stream",
          "name": "stdout",
          "text": [
            "synsets() 반환 type: <class 'list'>\n",
            "synsets() 반환 값 개수: 18\n",
            "synsets() 반환 값: [Synset('present.n.01'), Synset('present.n.02'), Synset('present.n.03'), Synset('show.v.01'), Synset('present.v.02'), Synset('stage.v.01'), Synset('present.v.04'), Synset('present.v.05'), Synset('award.v.01'), Synset('give.v.08'), Synset('deliver.v.01'), Synset('introduce.v.01'), Synset('portray.v.04'), Synset('confront.v.03'), Synset('present.v.12'), Synset('salute.v.06'), Synset('present.a.01'), Synset('present.a.02')]\n"
          ]
        }
      ]
    },
    {
      "cell_type": "markdown",
      "source": [
        "- 총 18개의 서로 다른 semantic을 가지는 synset 객체가 반환\n",
        "- Synset 객체 예시: Synset('present.n.01')\n",
        "\n",
        " - present: 의미\n",
        "\n",
        " - n: 명사 품사(POS tag)\n",
        "\n",
        " - 01: 명사로서의 여러 의미 중 첫 번째 인덱스"
      ],
      "metadata": {
        "id": "x12ZHdploNxx"
      }
    },
    {
      "cell_type": "markdown",
      "source": [
        "- Synset 객체의 속성:\n",
        "\n",
        " - POS (Part of Speech): 품사를 나타냄 (예: 명사, 동사 등)\n",
        "\n",
        " - Definition: 해당 Synset의 정의(의미)\n",
        "\n",
        " - Lemma: 단어의 원형 형태, 즉 부명제"
      ],
      "metadata": {
        "id": "1p5fqbr-oZM1"
      }
    },
    {
      "cell_type": "markdown",
      "source": [
        "- synsets 리스트에 대해 각 synset의 정보를 출력하는 코드\n",
        "- 각 synset의 이름, 품사(POS), 정의, 그리고 그와 관련된 부명제(Lemmas)를 출력"
      ],
      "metadata": {
        "id": "DPHGH-60oqK5"
      }
    },
    {
      "cell_type": "code",
      "source": [
        "for synset in synsets :\n",
        "  print('###Synset name:', synset.name(), '###')\n",
        "  print('POS:', synset.lexname())\n",
        "  print('Definition:', synset.definition())\n",
        "  print('Lemmas:', synset.lemma_names())"
      ],
      "metadata": {
        "colab": {
          "base_uri": "https://localhost:8080/"
        },
        "id": "HMdlW8Z_ocen",
        "outputId": "f431fa5f-846b-43e7-f493-af2b06f11e09"
      },
      "execution_count": 29,
      "outputs": [
        {
          "output_type": "stream",
          "name": "stdout",
          "text": [
            "###Synset name: present.n.01 ###\n",
            "POS: noun.time\n",
            "Definition: the period of time that is happening now; any continuous stretch of time including the moment of speech\n",
            "Lemmas: ['present', 'nowadays']\n",
            "###Synset name: present.n.02 ###\n",
            "POS: noun.possession\n",
            "Definition: something presented as a gift\n",
            "Lemmas: ['present']\n",
            "###Synset name: present.n.03 ###\n",
            "POS: noun.communication\n",
            "Definition: a verb tense that expresses actions or states at the time of speaking\n",
            "Lemmas: ['present', 'present_tense']\n",
            "###Synset name: show.v.01 ###\n",
            "POS: verb.perception\n",
            "Definition: give an exhibition of to an interested audience\n",
            "Lemmas: ['show', 'demo', 'exhibit', 'present', 'demonstrate']\n",
            "###Synset name: present.v.02 ###\n",
            "POS: verb.communication\n",
            "Definition: bring forward and present to the mind\n",
            "Lemmas: ['present', 'represent', 'lay_out']\n",
            "###Synset name: stage.v.01 ###\n",
            "POS: verb.creation\n",
            "Definition: perform (a play), especially on a stage\n",
            "Lemmas: ['stage', 'present', 'represent']\n",
            "###Synset name: present.v.04 ###\n",
            "POS: verb.possession\n",
            "Definition: hand over formally\n",
            "Lemmas: ['present', 'submit']\n",
            "###Synset name: present.v.05 ###\n",
            "POS: verb.stative\n",
            "Definition: introduce\n",
            "Lemmas: ['present', 'pose']\n",
            "###Synset name: award.v.01 ###\n",
            "POS: verb.possession\n",
            "Definition: give, especially as an honor or reward\n",
            "Lemmas: ['award', 'present']\n",
            "###Synset name: give.v.08 ###\n",
            "POS: verb.possession\n",
            "Definition: give as a present; make a gift of\n",
            "Lemmas: ['give', 'gift', 'present']\n",
            "###Synset name: deliver.v.01 ###\n",
            "POS: verb.communication\n",
            "Definition: deliver (a speech, oration, or idea)\n",
            "Lemmas: ['deliver', 'present']\n",
            "###Synset name: introduce.v.01 ###\n",
            "POS: verb.communication\n",
            "Definition: cause to come to know personally\n",
            "Lemmas: ['introduce', 'present', 'acquaint']\n",
            "###Synset name: portray.v.04 ###\n",
            "POS: verb.creation\n",
            "Definition: represent abstractly, for example in a painting, drawing, or sculpture\n",
            "Lemmas: ['portray', 'present']\n",
            "###Synset name: confront.v.03 ###\n",
            "POS: verb.communication\n",
            "Definition: present somebody with something, usually to accuse or criticize\n",
            "Lemmas: ['confront', 'face', 'present']\n",
            "###Synset name: present.v.12 ###\n",
            "POS: verb.communication\n",
            "Definition: formally present a debutante, a representative of a country, etc.\n",
            "Lemmas: ['present']\n",
            "###Synset name: salute.v.06 ###\n",
            "POS: verb.communication\n",
            "Definition: recognize with a gesture prescribed by a military regulation; assume a prescribed position\n",
            "Lemmas: ['salute', 'present']\n",
            "###Synset name: present.a.01 ###\n",
            "POS: adj.all\n",
            "Definition: temporal sense; intermediate between past and future; now existing or happening or in consideration\n",
            "Lemmas: ['present']\n",
            "###Synset name: present.a.02 ###\n",
            "POS: adj.all\n",
            "Definition: being or existing in a specified place\n",
            "Lemmas: ['present']\n"
          ]
        }
      ]
    },
    {
      "cell_type": "markdown",
      "source": [
        "- Synset('present.n.01')과 Synset('present.n.02')는 둘 다 명사(POS: noun)지만, 서로 다른 의미를 가짐\n",
        "\n",
        " - Synset('present.n.01'): POS는 noun.time으로, 정의는 '시간적인 의미로 현재'를 나타냄\n",
        "\n",
        " - Synset('present.n.02'): POS는 noun.possession으로, 정의는 '선물'을 의미\n",
        "\n",
        "- Synset('show.v.01'): 동사(POS: verb.perception)로, 정의는 '관객에게 전시물 등을 보여주다'라는 뜻"
      ],
      "metadata": {
        "id": "NzmLdHE8o1ep"
      }
    },
    {
      "cell_type": "markdown",
      "source": [
        "- synset 객체는 path_similarity() 메서드를 사용해 단어 간 유사도를 계산\n",
        "\n",
        "- 유사도는 두 단어 간 최단 경로 기반, 1에 가까울수록 유사\n",
        "\n",
        "- 예시: 'tree', 'lion', 'tiger', 'cat', 'dog' 단어의 상호 유사도 계산"
      ],
      "metadata": {
        "id": "9ioEZePrpFu0"
      }
    },
    {
      "cell_type": "code",
      "source": [
        "# synset 객체를 단어별로 생성합니다.\n",
        "tree = wn.synset('tree.n.01')\n",
        "lion = wn.synset('lion.n.01')\n",
        "tiger = wn.synset('tiger.n.02')\n",
        "cat = wn.synset('cat.n.01')\n",
        "dog = wn.synset('dog.n.01')\n",
        "\n",
        "entities = [tree, lion, tiger, cat, dog]\n",
        "\n",
        "# 유사도를 저장할 리스트와 단어 이름 리스트를 생성합니다.\n",
        "similarities = []\n",
        "entity_names = [entity.name().split('.')[0] for entity in entities]\n",
        "\n",
        "# 단어별 synset을 반복하면서 다른 단어의 synset과 유사도를 측정합니다.\n",
        "for entity in entities:\n",
        "    similarity = [round(entity.path_similarity(compared_entity), 2)\n",
        "                  for compared_entity in entities]\n",
        "    similarities.append(similarity)\n",
        "\n",
        "# 개별 단어별 synset과 다른 단어의 synset과의 유사도를 DataFrame 형태로 저장합니다.\n",
        "similarity_df = pd.DataFrame(similarities, columns=entity_names, index=entity_names)\n",
        "similarity_df"
      ],
      "metadata": {
        "colab": {
          "base_uri": "https://localhost:8080/",
          "height": 206
        },
        "id": "MriJo6qqpIoc",
        "outputId": "2742f171-d429-4b6c-fef7-9baa81fc8d03"
      },
      "execution_count": 32,
      "outputs": [
        {
          "output_type": "execute_result",
          "data": {
            "text/plain": [
              "       tree  lion  tiger   cat   dog\n",
              "tree   1.00  0.07   0.07  0.08  0.12\n",
              "lion   0.07  1.00   0.33  0.25  0.17\n",
              "tiger  0.07  0.33   1.00  0.25  0.17\n",
              "cat    0.08  0.25   0.25  1.00  0.20\n",
              "dog    0.12  0.17   0.17  0.20  1.00"
            ],
            "text/html": [
              "\n",
              "  <div id=\"df-144f8850-c94c-49d7-a0a4-052221a01110\" class=\"colab-df-container\">\n",
              "    <div>\n",
              "<style scoped>\n",
              "    .dataframe tbody tr th:only-of-type {\n",
              "        vertical-align: middle;\n",
              "    }\n",
              "\n",
              "    .dataframe tbody tr th {\n",
              "        vertical-align: top;\n",
              "    }\n",
              "\n",
              "    .dataframe thead th {\n",
              "        text-align: right;\n",
              "    }\n",
              "</style>\n",
              "<table border=\"1\" class=\"dataframe\">\n",
              "  <thead>\n",
              "    <tr style=\"text-align: right;\">\n",
              "      <th></th>\n",
              "      <th>tree</th>\n",
              "      <th>lion</th>\n",
              "      <th>tiger</th>\n",
              "      <th>cat</th>\n",
              "      <th>dog</th>\n",
              "    </tr>\n",
              "  </thead>\n",
              "  <tbody>\n",
              "    <tr>\n",
              "      <th>tree</th>\n",
              "      <td>1.00</td>\n",
              "      <td>0.07</td>\n",
              "      <td>0.07</td>\n",
              "      <td>0.08</td>\n",
              "      <td>0.12</td>\n",
              "    </tr>\n",
              "    <tr>\n",
              "      <th>lion</th>\n",
              "      <td>0.07</td>\n",
              "      <td>1.00</td>\n",
              "      <td>0.33</td>\n",
              "      <td>0.25</td>\n",
              "      <td>0.17</td>\n",
              "    </tr>\n",
              "    <tr>\n",
              "      <th>tiger</th>\n",
              "      <td>0.07</td>\n",
              "      <td>0.33</td>\n",
              "      <td>1.00</td>\n",
              "      <td>0.25</td>\n",
              "      <td>0.17</td>\n",
              "    </tr>\n",
              "    <tr>\n",
              "      <th>cat</th>\n",
              "      <td>0.08</td>\n",
              "      <td>0.25</td>\n",
              "      <td>0.25</td>\n",
              "      <td>1.00</td>\n",
              "      <td>0.20</td>\n",
              "    </tr>\n",
              "    <tr>\n",
              "      <th>dog</th>\n",
              "      <td>0.12</td>\n",
              "      <td>0.17</td>\n",
              "      <td>0.17</td>\n",
              "      <td>0.20</td>\n",
              "      <td>1.00</td>\n",
              "    </tr>\n",
              "  </tbody>\n",
              "</table>\n",
              "</div>\n",
              "    <div class=\"colab-df-buttons\">\n",
              "\n",
              "  <div class=\"colab-df-container\">\n",
              "    <button class=\"colab-df-convert\" onclick=\"convertToInteractive('df-144f8850-c94c-49d7-a0a4-052221a01110')\"\n",
              "            title=\"Convert this dataframe to an interactive table.\"\n",
              "            style=\"display:none;\">\n",
              "\n",
              "  <svg xmlns=\"http://www.w3.org/2000/svg\" height=\"24px\" viewBox=\"0 -960 960 960\">\n",
              "    <path d=\"M120-120v-720h720v720H120Zm60-500h600v-160H180v160Zm220 220h160v-160H400v160Zm0 220h160v-160H400v160ZM180-400h160v-160H180v160Zm440 0h160v-160H620v160ZM180-180h160v-160H180v160Zm440 0h160v-160H620v160Z\"/>\n",
              "  </svg>\n",
              "    </button>\n",
              "\n",
              "  <style>\n",
              "    .colab-df-container {\n",
              "      display:flex;\n",
              "      gap: 12px;\n",
              "    }\n",
              "\n",
              "    .colab-df-convert {\n",
              "      background-color: #E8F0FE;\n",
              "      border: none;\n",
              "      border-radius: 50%;\n",
              "      cursor: pointer;\n",
              "      display: none;\n",
              "      fill: #1967D2;\n",
              "      height: 32px;\n",
              "      padding: 0 0 0 0;\n",
              "      width: 32px;\n",
              "    }\n",
              "\n",
              "    .colab-df-convert:hover {\n",
              "      background-color: #E2EBFA;\n",
              "      box-shadow: 0px 1px 2px rgba(60, 64, 67, 0.3), 0px 1px 3px 1px rgba(60, 64, 67, 0.15);\n",
              "      fill: #174EA6;\n",
              "    }\n",
              "\n",
              "    .colab-df-buttons div {\n",
              "      margin-bottom: 4px;\n",
              "    }\n",
              "\n",
              "    [theme=dark] .colab-df-convert {\n",
              "      background-color: #3B4455;\n",
              "      fill: #D2E3FC;\n",
              "    }\n",
              "\n",
              "    [theme=dark] .colab-df-convert:hover {\n",
              "      background-color: #434B5C;\n",
              "      box-shadow: 0px 1px 3px 1px rgba(0, 0, 0, 0.15);\n",
              "      filter: drop-shadow(0px 1px 2px rgba(0, 0, 0, 0.3));\n",
              "      fill: #FFFFFF;\n",
              "    }\n",
              "  </style>\n",
              "\n",
              "    <script>\n",
              "      const buttonEl =\n",
              "        document.querySelector('#df-144f8850-c94c-49d7-a0a4-052221a01110 button.colab-df-convert');\n",
              "      buttonEl.style.display =\n",
              "        google.colab.kernel.accessAllowed ? 'block' : 'none';\n",
              "\n",
              "      async function convertToInteractive(key) {\n",
              "        const element = document.querySelector('#df-144f8850-c94c-49d7-a0a4-052221a01110');\n",
              "        const dataTable =\n",
              "          await google.colab.kernel.invokeFunction('convertToInteractive',\n",
              "                                                    [key], {});\n",
              "        if (!dataTable) return;\n",
              "\n",
              "        const docLinkHtml = 'Like what you see? Visit the ' +\n",
              "          '<a target=\"_blank\" href=https://colab.research.google.com/notebooks/data_table.ipynb>data table notebook</a>'\n",
              "          + ' to learn more about interactive tables.';\n",
              "        element.innerHTML = '';\n",
              "        dataTable['output_type'] = 'display_data';\n",
              "        await google.colab.output.renderOutput(dataTable, element);\n",
              "        const docLink = document.createElement('div');\n",
              "        docLink.innerHTML = docLinkHtml;\n",
              "        element.appendChild(docLink);\n",
              "      }\n",
              "    </script>\n",
              "  </div>\n",
              "\n",
              "\n",
              "<div id=\"df-ec39bd95-f6d0-4def-bf29-898feffad957\">\n",
              "  <button class=\"colab-df-quickchart\" onclick=\"quickchart('df-ec39bd95-f6d0-4def-bf29-898feffad957')\"\n",
              "            title=\"Suggest charts\"\n",
              "            style=\"display:none;\">\n",
              "\n",
              "<svg xmlns=\"http://www.w3.org/2000/svg\" height=\"24px\"viewBox=\"0 0 24 24\"\n",
              "     width=\"24px\">\n",
              "    <g>\n",
              "        <path d=\"M19 3H5c-1.1 0-2 .9-2 2v14c0 1.1.9 2 2 2h14c1.1 0 2-.9 2-2V5c0-1.1-.9-2-2-2zM9 17H7v-7h2v7zm4 0h-2V7h2v10zm4 0h-2v-4h2v4z\"/>\n",
              "    </g>\n",
              "</svg>\n",
              "  </button>\n",
              "\n",
              "<style>\n",
              "  .colab-df-quickchart {\n",
              "      --bg-color: #E8F0FE;\n",
              "      --fill-color: #1967D2;\n",
              "      --hover-bg-color: #E2EBFA;\n",
              "      --hover-fill-color: #174EA6;\n",
              "      --disabled-fill-color: #AAA;\n",
              "      --disabled-bg-color: #DDD;\n",
              "  }\n",
              "\n",
              "  [theme=dark] .colab-df-quickchart {\n",
              "      --bg-color: #3B4455;\n",
              "      --fill-color: #D2E3FC;\n",
              "      --hover-bg-color: #434B5C;\n",
              "      --hover-fill-color: #FFFFFF;\n",
              "      --disabled-bg-color: #3B4455;\n",
              "      --disabled-fill-color: #666;\n",
              "  }\n",
              "\n",
              "  .colab-df-quickchart {\n",
              "    background-color: var(--bg-color);\n",
              "    border: none;\n",
              "    border-radius: 50%;\n",
              "    cursor: pointer;\n",
              "    display: none;\n",
              "    fill: var(--fill-color);\n",
              "    height: 32px;\n",
              "    padding: 0;\n",
              "    width: 32px;\n",
              "  }\n",
              "\n",
              "  .colab-df-quickchart:hover {\n",
              "    background-color: var(--hover-bg-color);\n",
              "    box-shadow: 0 1px 2px rgba(60, 64, 67, 0.3), 0 1px 3px 1px rgba(60, 64, 67, 0.15);\n",
              "    fill: var(--button-hover-fill-color);\n",
              "  }\n",
              "\n",
              "  .colab-df-quickchart-complete:disabled,\n",
              "  .colab-df-quickchart-complete:disabled:hover {\n",
              "    background-color: var(--disabled-bg-color);\n",
              "    fill: var(--disabled-fill-color);\n",
              "    box-shadow: none;\n",
              "  }\n",
              "\n",
              "  .colab-df-spinner {\n",
              "    border: 2px solid var(--fill-color);\n",
              "    border-color: transparent;\n",
              "    border-bottom-color: var(--fill-color);\n",
              "    animation:\n",
              "      spin 1s steps(1) infinite;\n",
              "  }\n",
              "\n",
              "  @keyframes spin {\n",
              "    0% {\n",
              "      border-color: transparent;\n",
              "      border-bottom-color: var(--fill-color);\n",
              "      border-left-color: var(--fill-color);\n",
              "    }\n",
              "    20% {\n",
              "      border-color: transparent;\n",
              "      border-left-color: var(--fill-color);\n",
              "      border-top-color: var(--fill-color);\n",
              "    }\n",
              "    30% {\n",
              "      border-color: transparent;\n",
              "      border-left-color: var(--fill-color);\n",
              "      border-top-color: var(--fill-color);\n",
              "      border-right-color: var(--fill-color);\n",
              "    }\n",
              "    40% {\n",
              "      border-color: transparent;\n",
              "      border-right-color: var(--fill-color);\n",
              "      border-top-color: var(--fill-color);\n",
              "    }\n",
              "    60% {\n",
              "      border-color: transparent;\n",
              "      border-right-color: var(--fill-color);\n",
              "    }\n",
              "    80% {\n",
              "      border-color: transparent;\n",
              "      border-right-color: var(--fill-color);\n",
              "      border-bottom-color: var(--fill-color);\n",
              "    }\n",
              "    90% {\n",
              "      border-color: transparent;\n",
              "      border-bottom-color: var(--fill-color);\n",
              "    }\n",
              "  }\n",
              "</style>\n",
              "\n",
              "  <script>\n",
              "    async function quickchart(key) {\n",
              "      const quickchartButtonEl =\n",
              "        document.querySelector('#' + key + ' button');\n",
              "      quickchartButtonEl.disabled = true;  // To prevent multiple clicks.\n",
              "      quickchartButtonEl.classList.add('colab-df-spinner');\n",
              "      try {\n",
              "        const charts = await google.colab.kernel.invokeFunction(\n",
              "            'suggestCharts', [key], {});\n",
              "      } catch (error) {\n",
              "        console.error('Error during call to suggestCharts:', error);\n",
              "      }\n",
              "      quickchartButtonEl.classList.remove('colab-df-spinner');\n",
              "      quickchartButtonEl.classList.add('colab-df-quickchart-complete');\n",
              "    }\n",
              "    (() => {\n",
              "      let quickchartButtonEl =\n",
              "        document.querySelector('#df-ec39bd95-f6d0-4def-bf29-898feffad957 button');\n",
              "      quickchartButtonEl.style.display =\n",
              "        google.colab.kernel.accessAllowed ? 'block' : 'none';\n",
              "    })();\n",
              "  </script>\n",
              "</div>\n",
              "\n",
              "  <div id=\"id_020e8f7e-98f6-4267-b421-6794206a4fb3\">\n",
              "    <style>\n",
              "      .colab-df-generate {\n",
              "        background-color: #E8F0FE;\n",
              "        border: none;\n",
              "        border-radius: 50%;\n",
              "        cursor: pointer;\n",
              "        display: none;\n",
              "        fill: #1967D2;\n",
              "        height: 32px;\n",
              "        padding: 0 0 0 0;\n",
              "        width: 32px;\n",
              "      }\n",
              "\n",
              "      .colab-df-generate:hover {\n",
              "        background-color: #E2EBFA;\n",
              "        box-shadow: 0px 1px 2px rgba(60, 64, 67, 0.3), 0px 1px 3px 1px rgba(60, 64, 67, 0.15);\n",
              "        fill: #174EA6;\n",
              "      }\n",
              "\n",
              "      [theme=dark] .colab-df-generate {\n",
              "        background-color: #3B4455;\n",
              "        fill: #D2E3FC;\n",
              "      }\n",
              "\n",
              "      [theme=dark] .colab-df-generate:hover {\n",
              "        background-color: #434B5C;\n",
              "        box-shadow: 0px 1px 3px 1px rgba(0, 0, 0, 0.15);\n",
              "        filter: drop-shadow(0px 1px 2px rgba(0, 0, 0, 0.3));\n",
              "        fill: #FFFFFF;\n",
              "      }\n",
              "    </style>\n",
              "    <button class=\"colab-df-generate\" onclick=\"generateWithVariable('similarity_df')\"\n",
              "            title=\"Generate code using this dataframe.\"\n",
              "            style=\"display:none;\">\n",
              "\n",
              "  <svg xmlns=\"http://www.w3.org/2000/svg\" height=\"24px\"viewBox=\"0 0 24 24\"\n",
              "       width=\"24px\">\n",
              "    <path d=\"M7,19H8.4L18.45,9,17,7.55,7,17.6ZM5,21V16.75L18.45,3.32a2,2,0,0,1,2.83,0l1.4,1.43a1.91,1.91,0,0,1,.58,1.4,1.91,1.91,0,0,1-.58,1.4L9.25,21ZM18.45,9,17,7.55Zm-12,3A5.31,5.31,0,0,0,4.9,8.1,5.31,5.31,0,0,0,1,6.5,5.31,5.31,0,0,0,4.9,4.9,5.31,5.31,0,0,0,6.5,1,5.31,5.31,0,0,0,8.1,4.9,5.31,5.31,0,0,0,12,6.5,5.46,5.46,0,0,0,6.5,12Z\"/>\n",
              "  </svg>\n",
              "    </button>\n",
              "    <script>\n",
              "      (() => {\n",
              "      const buttonEl =\n",
              "        document.querySelector('#id_020e8f7e-98f6-4267-b421-6794206a4fb3 button.colab-df-generate');\n",
              "      buttonEl.style.display =\n",
              "        google.colab.kernel.accessAllowed ? 'block' : 'none';\n",
              "\n",
              "      buttonEl.onclick = () => {\n",
              "        google.colab.notebook.generateWithVariable('similarity_df');\n",
              "      }\n",
              "      })();\n",
              "    </script>\n",
              "  </div>\n",
              "\n",
              "    </div>\n",
              "  </div>\n"
            ],
            "application/vnd.google.colaboratory.intrinsic+json": {
              "type": "dataframe",
              "variable_name": "similarity_df",
              "summary": "{\n  \"name\": \"similarity_df\",\n  \"rows\": 5,\n  \"fields\": [\n    {\n      \"column\": \"tree\",\n      \"properties\": {\n        \"dtype\": \"number\",\n        \"std\": 0.40971941618624813,\n        \"min\": 0.07,\n        \"max\": 1.0,\n        \"num_unique_values\": 4,\n        \"samples\": [\n          0.07,\n          0.12,\n          1.0\n        ],\n        \"semantic_type\": \"\",\n        \"description\": \"\"\n      }\n    },\n    {\n      \"column\": \"lion\",\n      \"properties\": {\n        \"dtype\": \"number\",\n        \"std\": 0.3683476618630828,\n        \"min\": 0.07,\n        \"max\": 1.0,\n        \"num_unique_values\": 5,\n        \"samples\": [\n          1.0,\n          0.17,\n          0.33\n        ],\n        \"semantic_type\": \"\",\n        \"description\": \"\"\n      }\n    },\n    {\n      \"column\": \"tiger\",\n      \"properties\": {\n        \"dtype\": \"number\",\n        \"std\": 0.3683476618630828,\n        \"min\": 0.07,\n        \"max\": 1.0,\n        \"num_unique_values\": 5,\n        \"samples\": [\n          0.33,\n          0.17,\n          1.0\n        ],\n        \"semantic_type\": \"\",\n        \"description\": \"\"\n      }\n    },\n    {\n      \"column\": \"cat\",\n      \"properties\": {\n        \"dtype\": \"number\",\n        \"std\": 0.36664696916789047,\n        \"min\": 0.08,\n        \"max\": 1.0,\n        \"num_unique_values\": 4,\n        \"samples\": [\n          0.25,\n          0.2,\n          0.08\n        ],\n        \"semantic_type\": \"\",\n        \"description\": \"\"\n      }\n    },\n    {\n      \"column\": \"dog\",\n      \"properties\": {\n        \"dtype\": \"number\",\n        \"std\": 0.3745263675630862,\n        \"min\": 0.12,\n        \"max\": 1.0,\n        \"num_unique_values\": 4,\n        \"samples\": [\n          0.17,\n          1.0,\n          0.12\n        ],\n        \"semantic_type\": \"\",\n        \"description\": \"\"\n      }\n    }\n  ]\n}"
            }
          },
          "metadata": {},
          "execution_count": 32
        }
      ]
    },
    {
      "cell_type": "markdown",
      "source": [
        "- lion은 tree와의 유사도가 0.07로 가장 적고,\n",
        "tiger와는 유사도가 0.33으로 가장 큼"
      ],
      "metadata": {
        "id": "BVtMlttAp0cB"
      }
    },
    {
      "cell_type": "markdown",
      "source": [
        "- SentiWordNet은 Senti_Synset 클래스를 제공\n",
        "\n",
        "- senti_synsets()는 Senti_Synset 객체를 리스트로 반환"
      ],
      "metadata": {
        "id": "F30wtVABp-xR"
      }
    },
    {
      "cell_type": "code",
      "source": [
        "import nltk\n",
        "from nltk.corpus import sentiwordnet as sentiwordnet\n",
        "\n",
        "senti_synsets = list(sentiwordnet.senti_synsets('slow'))\n",
        "print('senti_synsets() 반환 type:', type(senti_synsets))\n",
        "print('senti_synsets() 반환 값 개수:', len(senti_synsets))\n",
        "print('senti_synsets() 반환 값:', senti_synsets)"
      ],
      "metadata": {
        "colab": {
          "base_uri": "https://localhost:8080/"
        },
        "id": "Q6h2L03ZqA1G",
        "outputId": "383d09eb-1cd3-4e67-a97a-ccc3f48ceae3"
      },
      "execution_count": 34,
      "outputs": [
        {
          "output_type": "stream",
          "name": "stdout",
          "text": [
            "senti_synsets() 반환 type: <class 'list'>\n",
            "senti_synsets() 반환 값 개수: 11\n",
            "senti_synsets() 반환 값: [SentiSynset('decelerate.v.01'), SentiSynset('slow.v.02'), SentiSynset('slow.v.03'), SentiSynset('slow.a.01'), SentiSynset('slow.a.02'), SentiSynset('dense.s.04'), SentiSynset('slow.a.04'), SentiSynset('boring.s.01'), SentiSynset('dull.s.08'), SentiSynset('slowly.r.01'), SentiSynset('behind.r.03')]\n"
          ]
        }
      ]
    },
    {
      "cell_type": "markdown",
      "source": [
        "- SentiSynset 객체는 감성 지수와 객관성 지수를 가짐\n",
        "\n",
        "- 감성 지수는 긍정 감성 지수와 부정 감성 지수로 나뉨\n",
        "\n",
        "- 객관성 지수는 감성적이지 않으면 1이 되고, 감성 지수는 0이 됨"
      ],
      "metadata": {
        "id": "w1snkTjnqW0a"
      }
    },
    {
      "cell_type": "code",
      "source": [
        "import nltk\n",
        "from nltk.corpus import sentiwordnet as swn\n",
        "\n",
        "father = swn.senti_synset('father.n.01')\n",
        "print('father 긍정감성 지수:', father.pos_score())\n",
        "print('father 부정감성 지수:', father.neg_score())\n",
        "print('father 객관성 지수:', father.obj_score)\n",
        "print('\\n')\n",
        "fabulous = swn.senti_synset('fabulous.a.01')\n",
        "print('fabulous 긍정감성 지수:', fabulous.pos_score())\n",
        "print('fabilous 부정감성 지수:', fabulous.neg_score)"
      ],
      "metadata": {
        "colab": {
          "base_uri": "https://localhost:8080/"
        },
        "id": "817iqePgqZmg",
        "outputId": "052c793b-116d-47a5-faf7-b21fd3230210"
      },
      "execution_count": 37,
      "outputs": [
        {
          "output_type": "stream",
          "name": "stdout",
          "text": [
            "father 긍정감성 지수: 0.0\n",
            "father 부정감성 지수: 0.0\n",
            "father 객관성 지수: <bound method SentiSynset.obj_score of SentiSynset('father.n.01')>\n",
            "\n",
            "\n",
            "fabulous 긍정감성 지수: 0.875\n",
            "fabilous 부정감성 지수: <bound method SentiSynset.neg_score of SentiSynset('fabulous.s.01')>\n"
          ]
        }
      ]
    },
    {
      "cell_type": "markdown",
      "source": [
        "- father: 객관적인 단어로 객관성 지수 1.0, 긍정/부정 감성 지수 모두 0\n",
        "\n",
        "- fabulous: 감성 단어로 긍정 감성 지수 0.875, 부정 감성 지수 0.125"
      ],
      "metadata": {
        "id": "6DHwtfV4rOTp"
      }
    },
    {
      "cell_type": "markdown",
      "source": [
        "SentiWordNet을 이용한 영화 감상평 감성 분석 순서:\n",
        "\n",
        "1. 문서를 문장 단위로 분해\n",
        "\n",
        "2. 문장을 단어 단위로 토큰화하고 품사 태깅\n",
        "\n",
        "3. 품사 태깅된 단어로 synset 객체와 senti_synset 객체 생성\n",
        "\n",
        "4. senti_synset 객체에서 긍정 감성/부정 감성 지수 합산 후 임계치로 감성 판단\n",
        "\n",
        "주요 처리 과정:\n",
        "\n",
        "- 품사 태깅: 내부 함수를 생성하여 품사 태깅 수행\n",
        "\n",
        "- 어근 추출 (Lemmatization): 단어의 기본형 추출\n",
        "\n",
        "- SentiSynset 사용: 긍정/부정 감성 지수를 기반으로 감성 판단"
      ],
      "metadata": {
        "id": "c4sdC6xCriaB"
      }
    },
    {
      "cell_type": "code",
      "source": [
        "from nltk.corpus import wordnet as wn\n",
        "\n",
        "# 간단한 NTLK PennTreebank Tag를 기반으로 WordNet 기반의 품사 Tag로 변환\n",
        "def penn_to_wn(tag):\n",
        "    if tag.startswith('J'):\n",
        "        return wn.ADJ\n",
        "    elif tag.startswith('N'):\n",
        "        return wn.NOUN\n",
        "    elif tag.startswith('R'):\n",
        "        return wn.ADV\n",
        "    elif tag.startswith('V'):\n",
        "        return wn.VERB"
      ],
      "metadata": {
        "id": "iZCrd7qyrp-0"
      },
      "execution_count": 41,
      "outputs": []
    },
    {
      "cell_type": "markdown",
      "source": [
        "- 문서 → 문장 단위 분해\n",
        "\n",
        "- 문장 → 단어 토큰화 및 품사 태깅\n",
        "\n",
        "- SentiSynset 생성\n",
        "\n",
        "- 긍정/부정 감성 지수 합산\n",
        "\n",
        "- 합산된 감성 지수로 긍정/부정 예측"
      ],
      "metadata": {
        "id": "bE9Z0kOrsXEE"
      }
    },
    {
      "cell_type": "code",
      "source": [
        "from nltk.stem import WordNetLemmatizer\n",
        "from nltk.corpus import sentiwordnet as swn\n",
        "from nltk import sent_tokenize, word_tokenize, pos_tag\n",
        "from nltk.corpus import wordnet as wn\n",
        "\n",
        "# NLTK PennTreebank Tag를 WordNet 품사 태그로 변환\n",
        "def penn_to_wn(tag):\n",
        "    if tag.startswith('J'):\n",
        "        return wn.ADJ\n",
        "    elif tag.startswith('N'):\n",
        "        return wn.NOUN\n",
        "    elif tag.startswith('R'):\n",
        "        return wn.ADV\n",
        "    elif tag.startswith('V'):\n",
        "        return wn.VERB\n",
        "\n",
        "# SentiWordNet을 이용한 감성 지수 계산 함수\n",
        "def swn_polarity(text):\n",
        "    sentiment = 0.0  # 감성 지수 초기화\n",
        "    lemmatizer = WordNetLemmatizer()\n",
        "\n",
        "    raw_sentences = sent_tokenize(text)  # 문장 단위로 분리\n",
        "\n",
        "    # 문장별로 처리\n",
        "    for raw_sentence in raw_sentences:\n",
        "        tagged_sentence = pos_tag(word_tokenize(raw_sentence))  # 품사 태깅\n",
        "        for word, tag in tagged_sentence:\n",
        "            # WordNet 기반 품사 태깅과 어근 추출\n",
        "            wn_tag = penn_to_wn(tag)\n",
        "            if wn_tag not in (wn.NOUN, wn.ADJ, wn.ADV):\n",
        "                continue  # 명사, 형용사, 부사만 처리\n",
        "            lemma = lemmatizer.lemmatize(word, pos=wn_tag)\n",
        "            if not lemma:\n",
        "                continue\n",
        "            synsets = wn.synsets(lemma, pos=wn_tag)  # Synset 객체 생성\n",
        "            if not synsets:\n",
        "                continue\n",
        "            synset = synsets[0]\n",
        "            swn_synset = swn.senti_synset(synset.name())  # SentiWordNet의 감성 synset 추출\n",
        "            sentiment += (swn_synset.pos_score() - swn_synset.neg_score())  # 감성 지수 계산\n",
        "\n",
        "    # 총 합산된 감성 지수가 0 이상이면 긍정(Positive), 그렇지 않으면 부정(Negative)\n",
        "    if sentiment >= 0:\n",
        "        return 1  # 긍정\n",
        "    return 0  # 부정"
      ],
      "metadata": {
        "id": "qEh0jBSRsZ2E"
      },
      "execution_count": 43,
      "outputs": []
    },
    {
      "cell_type": "markdown",
      "source": [
        "- swn_polarity(text) 함수를 review_df의 각 감상평에 적용하여 긍정/부정 감성을 예측\n",
        "\n",
        "- apply(lambda x: swn_polarity(x))로 precis 칼럼에 감성 분석 결과 저장\n",
        "\n",
        "- 실제 감성(sentiment)과 예측 결과(precis)를 비교하여 정확도, 정밀도, 재현율 계산"
      ],
      "metadata": {
        "id": "oA4LGJ5huYaO"
      }
    },
    {
      "cell_type": "code",
      "source": [
        "review_df['preds'] = review_df['review'].apply(lambda x : swn_polarity(x))\n",
        "y_target = review_df['sentiment'].values\n",
        "preds = review_df['preds'].values"
      ],
      "metadata": {
        "id": "Y-ql7sYrubUg"
      },
      "execution_count": 44,
      "outputs": []
    },
    {
      "cell_type": "markdown",
      "source": [
        "- SentiWordNet의 감성 분석 예측 성능"
      ],
      "metadata": {
        "id": "jlBcTAI1xccw"
      }
    },
    {
      "cell_type": "code",
      "source": [
        "from sklearn.metrics import accuracy_score, confusion_matrix, precision_score\n",
        "from sklearn.metrics import recall_score, f1_score, roc_auc_score\n",
        "import numpy as np\n",
        "print(confusion_matrix(y_target, preds))\n",
        "print(\"정활도:\", np.round(accuracy_score(y_target, preds), 4))\n",
        "print(\"정밀도:\", np.round(precision_score(y_target, preds), 4))\n",
        "print(\"재현율:\", np.round(recall_score(y_target, preds), 4))"
      ],
      "metadata": {
        "colab": {
          "base_uri": "https://localhost:8080/"
        },
        "id": "bi9McnZpxdli",
        "outputId": "66bd2de1-ea9d-484f-c8f3-a37aab4f3d78"
      },
      "execution_count": 45,
      "outputs": [
        {
          "output_type": "stream",
          "name": "stdout",
          "text": [
            "[[7669 4831]\n",
            " [3635 8865]]\n",
            "정활도: 0.6614\n",
            "정밀도: 0.6473\n",
            "재현율: 0.7092\n"
          ]
        }
      ]
    },
    {
      "cell_type": "markdown",
      "source": [
        "## VADER 를이용한 감성분석\n",
        "\n",
        "- VADER는 소셜 미디어 감성 분석을 위한 룰 기반 Lexicon.\n",
        "\n",
        "- NLTK 서브 모듈 또는 별도 패키지(vaderSentiment)로 설치 가능.\n",
        "\n",
        "- SentimentIntensityAnalyzer 클래스를 사용해 감성 분석 수행.\n",
        "\n",
        "- 예시로 IMDB 감상평 하나에 대해 감성 분석 후 결과 확인"
      ],
      "metadata": {
        "id": "KSoncCTJx0Q2"
      }
    },
    {
      "cell_type": "code",
      "source": [
        "from nltk.sentiment.vader import SentimentIntensityAnalyzer\n",
        "\n",
        "# VADER를 사용하여 첫 번째 IMDB 리뷰(review_df['review'][0])에 대한 감성 분석 수행\n",
        "senti_analyzer = SentimentIntensityAnalyzer()\n",
        "senti_scores = senti_analyzer.polarity_scores(review_df['review'][0])\n",
        "print(senti_scores)"
      ],
      "metadata": {
        "colab": {
          "base_uri": "https://localhost:8080/"
        },
        "id": "Z51kG1b4x-rY",
        "outputId": "8c21d370-0b5e-494e-8962-19a5dfa9e962"
      },
      "execution_count": 46,
      "outputs": [
        {
          "output_type": "stream",
          "name": "stdout",
          "text": [
            "{'neg': 0.13, 'neu': 0.743, 'pos': 0.127, 'compound': -0.7943}\n"
          ]
        }
      ]
    },
    {
      "cell_type": "markdown",
      "source": [
        "pos: 긍정적인 감성 점수\n",
        "\n",
        "neu: 중립적인 감성 점수\n",
        "\n",
        "neg: 부정적인 감성 점수\n",
        "\n",
        "compound: 종합적인 감성 점수 (긍정, 부정, 중립을 종합한 지표)"
      ],
      "metadata": {
        "id": "DMKT4YduyWNS"
      }
    },
    {
      "cell_type": "markdown",
      "source": [
        "- VADER를 사용한 감성 분석 :\n",
        "\n",
        " - SentimentIntensityAnalyzer 객체를 생성하고, polarity_scores() 메서드로 감성 점수를 구함\n",
        "\n",
        " - 반환되는 감성 점수는 neg, neu, pos, compound의 네 가지 값\n",
        "\n",
        " - compound 값으로 감성 판단:\n",
        "\n",
        "   - compound 값이 0.1 이상이면 긍정 감성, 그 이하이면 부정 감성으로 예측\n",
        "\n",
        "- 임계값은 상황에 따라 조정하여 예측 성능을 최적화할 수 있음"
      ],
      "metadata": {
        "id": "tS6GnFPOyZGr"
      }
    },
    {
      "cell_type": "markdown",
      "source": [
        "VADER를 이용한 IMDB 감성 분석:\n",
        "\n",
        "- vader_polarity() 함수:\n",
        "\n",
        " - 입력 파라미터: 영화 감상평 텍스트, 긍정/부정 임계값(threshold)\n",
        "\n",
        " - SentimentIntensityAnalyzer의 polarity_scores() 메서드를 사용하여 감성 점수를 계산하고, 그 결과를 기준으로 긍정/부정을 판단\n",
        "\n",
        "- 분석 과정:\n",
        "\n",
        "1. apply(lambda x: vader_polarity(x))를 사용하여 review_df DataFrame의 각 영화 감상평에 대해 감성 분석 수행\n",
        "\n",
        "2. 결과는 vader_preds라는 새로운 칼럼에 저장\n",
        "\n",
        "3. 저장된 감성 분석 결과를 이용해 VADER의 예측 성능을 평가"
      ],
      "metadata": {
        "id": "m3-16KVVynET"
      }
    },
    {
      "cell_type": "code",
      "source": [
        "def vader_polarity(review, threshold=0.1):\n",
        "    analyzer = SentimentIntensityAnalyzer()\n",
        "    scores = analyzer.polarity_scores(review)\n",
        "    # compound 값에 기반해 threshold 입력값보다 크면 1, 그렇지 않으면 0을 반환\n",
        "    agg_score = scores['compound']\n",
        "    final_sentiment = 1 if agg_score >= threshold else 0\n",
        "    return final_sentiment\n",
        "\n",
        "# review_df에 감성 분석 결과를 'vader_preds' 칼럼으로 저장\n",
        "review_df['vader_preds'] = review_df['review'].apply(lambda x: vader_polarity(x, threshold=0.1))\n",
        "\n",
        "# 실제 값과 예측값 추출\n",
        "y_target = review_df['sentiment'].values\n",
        "vader_preds = review_df['vader_preds'].values\n",
        "\n",
        "# 혼동 행렬 및 성능 평가 출력\n",
        "print(confusion_matrix(y_target, vader_preds))\n",
        "print(\"정확도:\", np.round(accuracy_score(y_target, vader_preds), 4))\n",
        "print(\"정밀도:\", np.round(precision_score(y_target, vader_preds), 4))\n",
        "print(\"재현율:\", np.round(recall_score(y_target, vader_preds), 4))"
      ],
      "metadata": {
        "colab": {
          "base_uri": "https://localhost:8080/"
        },
        "id": "1w0JR2B_y2LM",
        "outputId": "6c91e958-7f12-454e-d44e-e773a25a2f1b"
      },
      "execution_count": 48,
      "outputs": [
        {
          "output_type": "stream",
          "name": "stdout",
          "text": [
            "[[ 6747  5753]\n",
            " [ 1858 10642]]\n",
            "정확도: 0.6956\n",
            "정밀도: 0.6491\n",
            "재현율: 0.8514\n"
          ]
        }
      ]
    },
    {
      "cell_type": "markdown",
      "source": [
        "- 정확도가 SentiWordNet보다 향상됐고, 특히 재현율은 약 85.14%로 매우 크게 향상"
      ],
      "metadata": {
        "id": "xHUka1r73lan"
      }
    },
    {
      "cell_type": "markdown",
      "source": [
        "![image.png](data:image/png;base64,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)"
      ],
      "metadata": {
        "id": "IyN45GYE3pp2"
      }
    }
  ]
}