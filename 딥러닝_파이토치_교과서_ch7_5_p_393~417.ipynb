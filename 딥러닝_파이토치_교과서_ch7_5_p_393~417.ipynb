{
  "nbformat": 4,
  "nbformat_minor": 0,
  "metadata": {
    "colab": {
      "provenance": [],
      "mount_file_id": "19m4zKwYKitIngSSR4xrRR7ZqFFp8KG24",
      "authorship_tag": "ABX9TyNVKbPze6aYH3hOK98wdUmo",
      "include_colab_link": true
    },
    "kernelspec": {
      "name": "python3",
      "display_name": "Python 3"
    },
    "language_info": {
      "name": "python"
    }
  },
  "cells": [
    {
      "cell_type": "markdown",
      "metadata": {
        "id": "view-in-github",
        "colab_type": "text"
      },
      "source": [
        "<a href=\"https://colab.research.google.com/github/smpark0520/ESAA/blob/main/%EB%94%A5%EB%9F%AC%EB%8B%9D_%ED%8C%8C%EC%9D%B4%ED%86%A0%EC%B9%98_%EA%B5%90%EA%B3%BC%EC%84%9C_ch7_5_p_393~417.ipynb\" target=\"_parent\"><img src=\"https://colab.research.google.com/assets/colab-badge.svg\" alt=\"Open In Colab\"/></a>"
      ]
    },
    {
      "cell_type": "markdown",
      "source": [
        "# 7.5 LSTM"
      ],
      "metadata": {
        "id": "3rDCT2LQ8cv7"
      }
    },
    {
      "cell_type": "markdown",
      "source": [
        "* RNN의 단점: 기울기 소실 문제\n",
        "* 원인: 반복적 가중치 곱으로 기울기 감소\n",
        "* 해결책: LSTM, GRU 같은 확장 구조 사용\n"
      ],
      "metadata": {
        "id": "r-LZXu5G9f9k"
      }
    },
    {
      "cell_type": "markdown",
      "source": [
        "## 7.5.1 LSTM 구조"
      ],
      "metadata": {
        "id": "jJozXcPR8fda"
      }
    },
    {
      "cell_type": "markdown",
      "source": [
        "### LSTM 순전파\n",
        "\n",
        "LSTM은 **기울기 소실 문제**를 해결하기 위해 다음과 같은 **3가지 게이트**를 사용:\n",
        "\n",
        "### 1. 망각 게이트 (Forget Gate)\n",
        "\n",
        "* 역할: **과거 정보의 보존 여부 결정**\n",
        "* 수식:\n",
        "\n",
        "  $$\n",
        "  f_t = \\sigma(W_f [h_{t-1}, x_t]) \\\\\n",
        "  C_t = f_t \\cdot C_{t-1}\n",
        "  $$\n",
        "* \\$\\sigma\\$ 값 → 0: 버림 / 1: 유지\n",
        "\n",
        "---\n",
        "\n",
        "### 2. 입력 게이트 (Input Gate)\n",
        "\n",
        "* 역할: **현재 입력을 셀 상태에 반영**\n",
        "* 수식:\n",
        "\n",
        "  $$\n",
        "  i_t = \\sigma(W_i [h_{t-1}, x_t]) \\\\\n",
        "  \\tilde{C}_t = \\tanh(W_c [h_{t-1}, x_t]) \\\\\n",
        "  C_t = C_{t-1} + i_t \\cdot \\tilde{C}_t\n",
        "  $$\n",
        "* \\$\\sigma\\$ 값 → 0: 차단 / 1: 허용\n",
        "\n",
        "---\n",
        "\n",
        "### 3. 출력 게이트 (Output Gate)\n",
        "\n",
        "* 역할: **은닉 상태 (출력값) 결정**\n",
        "* 수식:\n",
        "\n",
        "  $$\n",
        "  o_t = \\sigma(W_o [h_{t-1}, x_t]) \\\\\n",
        "  h_t = o_t \\cdot \\tanh(C_{t-1})\n",
        "  $$\n",
        "\n",
        "\n",
        "\n",
        "\n"
      ],
      "metadata": {
        "id": "ytklZL_YBV4w"
      }
    },
    {
      "cell_type": "markdown",
      "source": [
        "###  LSTM 역전파 요약\n",
        "\n",
        "\n",
        "* **LSTM : 셀 상태를 통해 역전파**를 수행 →\n",
        "  **\"중단 없는 기울기 (Uninterrupted Gradient Flow)\"**\n",
        "* 오차가 **모든 시점의 셀에 연속적으로 전파**됨\n",
        "* 입력 방향으로도 오차가 전파됨 → \\$x\\_t\\$ 까지도 영향\n",
        "\n",
        "---\n",
        "\n",
        "###  주요 수식 (출력 방향으로 역전파)\n",
        "\n",
        "* 출력값에 대한 활성화 함수:\n",
        "\n",
        "  $$\n",
        "  h_t = \\tanh(W \\cdot [h_{t-1}, x_t])\n",
        "  $$\n",
        "\n",
        "* 셀 상태를 기준으로 연쇄적으로 오차 전파:\n",
        "\n",
        "  * \\$C\\_t\\$ → \\$C\\_{t-1}\\$ (셀 단위 전파)\n",
        "  * \\$C\\_t\\$ → \\$x\\_t\\$ (입력 방향 전파)\n",
        "\n",
        "\n"
      ],
      "metadata": {
        "id": "2fdDeUTCDlN-"
      }
    },
    {
      "cell_type": "markdown",
      "source": [
        "## 7.5.2 LSTM 셀 구현"
      ],
      "metadata": {
        "id": "_pcexDvBD4ZA"
      }
    },
    {
      "cell_type": "markdown",
      "source": [
        "- 라이브러리 호출"
      ],
      "metadata": {
        "id": "FB8sJ2x3Eujt"
      }
    },
    {
      "cell_type": "code",
      "execution_count": 1,
      "metadata": {
        "id": "RPEijIWY74kJ"
      },
      "outputs": [],
      "source": [
        "import torch\n",
        "import torch.nn as nn\n",
        "import torchvision.transforms as transforms\n",
        "import torchvision.datasets as dataset\n",
        "from torch.autograd import Variable\n",
        "from torch.nn import Parameter\n",
        "from torch import Tensor\n",
        "import torch.nn.functional as F\n",
        "from torch.utils.data import DataLoader\n",
        "import math\n",
        "\n",
        "device = torch.device('cuda:0' if torch.cuda.is_available() else 'cpu')\n",
        "cuda = True if torch.cuda.is_available() else False\n",
        "\n",
        "Tensor = torch.cuda.FloatTensor if cuda else torch.FloatTensor\n",
        "\n",
        "torch.manual_seed(125)\n",
        "if torch.cuda.is_available():\n",
        "  torch.cuda.manual_seed_all(125)"
      ]
    },
    {
      "cell_type": "markdown",
      "source": [
        "- 데이터 전처리"
      ],
      "metadata": {
        "id": "xKGKRxIf65Vy"
      }
    },
    {
      "cell_type": "code",
      "source": [
        "import torchvision.transforms as transforms\n",
        "\n",
        "mnist_transform = transforms.Compose([\n",
        "    transforms.ToTensor(),\n",
        "    transforms.Normalize((0.5,), (1.0,))\n",
        "]) # 평균을 0.5, 표준편차를 1.0으로 데이터 정규화"
      ],
      "metadata": {
        "id": "bVikJO6n66mN"
      },
      "execution_count": 2,
      "outputs": []
    },
    {
      "cell_type": "markdown",
      "source": [
        "- 데이터셋 내려받기"
      ],
      "metadata": {
        "id": "uDqrn1vD7hy6"
      }
    },
    {
      "cell_type": "code",
      "source": [
        "from torchvision.datasets import MNIST\n",
        "\n",
        "download_root = '../080289-main/chap07/MNIST_DATASET'\n",
        "\n",
        "train_dataset = MNIST(download_root, transform=mnist_transform,\n",
        "                      train=True, download=True)\n",
        "valid_dataset = MNIST(download_root, transform=mnist_transform,\n",
        "                     train=False, download=True)\n",
        "test_dataset = MNIST(download_root, transform=mnist_transform,\n",
        "                    train=False, download=True)"
      ],
      "metadata": {
        "colab": {
          "base_uri": "https://localhost:8080/"
        },
        "id": "Av_hp3cy7jAd",
        "outputId": "7c77c262-d298-4a12-fccc-ae500505ad0e"
      },
      "execution_count": 3,
      "outputs": [
        {
          "output_type": "stream",
          "name": "stderr",
          "text": [
            "100%|██████████| 9.91M/9.91M [00:00<00:00, 36.3MB/s]\n",
            "100%|██████████| 28.9k/28.9k [00:00<00:00, 1.22MB/s]\n",
            "100%|██████████| 1.65M/1.65M [00:00<00:00, 10.5MB/s]\n",
            "100%|██████████| 4.54k/4.54k [00:00<00:00, 6.37MB/s]\n"
          ]
        }
      ]
    },
    {
      "cell_type": "markdown",
      "source": [
        "- 데이터셋을 메모리로 가져오기"
      ],
      "metadata": {
        "id": "O0eJFBFp8B7m"
      }
    },
    {
      "cell_type": "code",
      "source": [
        "batch_size = 64\n",
        "train_loader = DataLoader(dataset=train_dataset,\n",
        "                         batch_size=batch_size,\n",
        "                         shuffle=True)\n",
        "valid_loader = DataLoader(dataset=test_dataset,\n",
        "                         batch_size=batch_size,\n",
        "                         shuffle=True)\n",
        "test_loader = DataLoader(dataset=test_dataset,\n",
        "                         batch_size=batch_size,\n",
        "                         shuffle=True)"
      ],
      "metadata": {
        "id": "1iWTtJqM8V8Y"
      },
      "execution_count": 4,
      "outputs": []
    },
    {
      "cell_type": "markdown",
      "source": [
        "- 변수 값 지정"
      ],
      "metadata": {
        "id": "NAMpqlhN9DTH"
      }
    },
    {
      "cell_type": "code",
      "source": [
        "batch_size=100\n",
        "n_iters=6000\n",
        "num_epochs=n_iters/(len(train_dataset) / batch_size)\n",
        "num_epochs = int(num_epochs)"
      ],
      "metadata": {
        "id": "Ck97Mdwq9GCj"
      },
      "execution_count": 5,
      "outputs": []
    },
    {
      "cell_type": "markdown",
      "source": [
        "- LSTM 셀 네트워크 구축"
      ],
      "metadata": {
        "id": "ZgWFrNjJ9SCa"
      }
    },
    {
      "cell_type": "code",
      "source": [
        "class LSTMCell(nn.Module) :\n",
        "    def __init__(self, input_size, hidden_size, bias=True) :\n",
        "        super(LSTMCell, self).__init__()\n",
        "        self.input_size = input_size\n",
        "        self.hidden_size = hidden_size\n",
        "        self.bias = bias\n",
        "        self.x2h = nn.Linear(input_size, 4*hidden_size, bias=bias)\n",
        "        self.h2h = nn.Linear(hidden_size, 4*hidden_size, bias=bias)\n",
        "        self.reset_parameters()\n",
        "\n",
        "    def reset_parameters(self) :\n",
        "        std = 1.0 / math.sqrt(self.hidden_size)\n",
        "        for w in self.parameters() :\n",
        "            w.data.uniform_(-std, std)\n",
        "\n",
        "    def forward(self, x, hidden) :\n",
        "        hx, cx = hidden\n",
        "        x = x.view(-1, x.size(1))\n",
        "\n",
        "        gates = self.x2h(x) + self.h2h(hx)\n",
        "        gates = gates.squeeze()\n",
        "        ingate, forgetgate, cellgate, outgate = gates.chunk(4, 1)\n",
        "\n",
        "        ingate = F.sigmoid(ingate) # 입력 게이트에 시그모이드 적용\n",
        "        forgetgate = F.sigmoid(forgetgate) # 망각 게이트에 시그모이드 적용\n",
        "        cellgate = F.tanh(cellgate) # 셀 게이트에 탄젠트 적용\n",
        "        outgate = F.sigmoid(outgate) # 출력 게이트에 시그모이드 적용\n",
        "\n",
        "        cy = torch.mul(cx, forgetgate) + torch.mul(ingate, cellgate)\n",
        "        hy = torch.mul(outgate, F.tanh(cy))\n",
        "\n",
        "        return (hy, cy)"
      ],
      "metadata": {
        "id": "lQk5DDQV9auG"
      },
      "execution_count": 6,
      "outputs": []
    },
    {
      "cell_type": "markdown",
      "source": [
        "- LSTM 셀의 전반적인 네트워크"
      ],
      "metadata": {
        "id": "ah2xQc4a986p"
      }
    },
    {
      "cell_type": "code",
      "source": [
        "class LSTMModel(nn.Module) :\n",
        "   def __init__(self, input_dim, hidden_dim, layer_dim, output_dim, bias=True) :\n",
        "       super(LSTMModel, self).__init__()\n",
        "       self.hidden_dim = hidden_dim\n",
        "\n",
        "       self.layer_dim = layer_dim\n",
        "       self.lstm = LSTMCell(input_dim, hidden_dim, layer_dim)\n",
        "       self.fc = nn.Linear(hidden_dim, output_dim)\n",
        "\n",
        "   def forward(self, x) :\n",
        "       if torch.cuda.is_available() :\n",
        "           h0 = Variable(torch.zeros(self.layer_dim, x.size(0), self.hidden_dim).cuda())\n",
        "       else :\n",
        "           h0 = Variable(torch.zeros(self.layer_dim, x.size(0), self.hidden_dim))\n",
        "\n",
        "       if torch.cuda.is_available() :\n",
        "           c0 = Variable(torch.zeros(self.layer_dim, x.size(0), self.hidden_dim).cuda())\n",
        "       else :\n",
        "           c0 = Variable(torch.zeros(self.layer_dim, x.size(0), hidden_dim))\n",
        "\n",
        "       outs = []\n",
        "       cn =  c0[0,:,:]\n",
        "       hn = h0[0,:,:]\n",
        "\n",
        "       for seq in range(x.size(1)) :\n",
        "           hn, cn = self.lstm(x[:, seq, :], (hn, cn))\n",
        "           outs.append(hn)\n",
        "\n",
        "       out = outs[-1].squeeze()\n",
        "       out = self.fc(out)\n",
        "       return out"
      ],
      "metadata": {
        "id": "vrm4FA8B-BxK"
      },
      "execution_count": 7,
      "outputs": []
    },
    {
      "cell_type": "markdown",
      "source": [
        "- 옵티마이저와 손실 함수 지정"
      ],
      "metadata": {
        "id": "bDwA_BLD-G1L"
      }
    },
    {
      "cell_type": "code",
      "source": [
        "input_dim=28\n",
        "hidden_dim=128\n",
        "layer_dim=1\n",
        "output_dim=18\n",
        "\n",
        "model =  LSTMModel(input_dim, hidden_dim, layer_dim, output_dim)\n",
        "if torch.cuda.is_available() :\n",
        "   model.cuda()\n",
        "\n",
        "criterion = nn.CrossEntropyLoss()\n",
        "learning_rate =0.1\n",
        "optimizer = torch.optim.SGD(model.parameters(), lr=learning_rate)"
      ],
      "metadata": {
        "id": "XWuEEBZ5-R0H"
      },
      "execution_count": 8,
      "outputs": []
    },
    {
      "cell_type": "markdown",
      "source": [
        "- 모델 학습 및 성능 확인"
      ],
      "metadata": {
        "id": "BOtu82SX-UQA"
      }
    },
    {
      "cell_type": "code",
      "source": [
        "seq_dim=28\n",
        "loss_list = []\n",
        "iter = 0\n",
        "for epoch in range(num_epochs) :\n",
        "   for i, (images ,labels) in enumerate(train_loader) :\n",
        "       if torch.cuda.is_available() :\n",
        "           images = Variable(images.view(-1, seq_dim, input_dim).cuda())\n",
        "           labels = Variable(labels.cuda())\n",
        "\n",
        "       else :\n",
        "           images = Variable(images.view(-1, seq_dim, input_dim))\n",
        "           labels = Variable(labels)\n",
        "\n",
        "       optimizer.zero_grad()\n",
        "       outputs = model(images)\n",
        "       loss = criterion(outputs, labels)\n",
        "\n",
        "       if torch.cuda.is_available() :\n",
        "           loss.cuda()\n",
        "\n",
        "       loss.backward()\n",
        "       optimizer.step()\n",
        "       loss_list.append(loss.item())\n",
        "       iter += 1\n",
        "\n",
        "\n",
        "       if iter % 500 == 0 :\n",
        "           correct = 0\n",
        "           total = 0\n",
        "\n",
        "           for images, labels in valid_loader :\n",
        "\n",
        "               if torch.cuda.is_available() :\n",
        "                   images = Variable(images.view(-1, seq_dim, input_dim).cuda())\n",
        "               else :\n",
        "                   images = Variable(images.view(-1, seq_dim, input_dim))\n",
        "\n",
        "               outputs = model(images)\n",
        "               _, predicted = torch.max(outputs.data, 1)\n",
        "\n",
        "               total += labels.size(0)\n",
        "               if torch.cuda.is_available() :\n",
        "                   correct += (predicted.cpu() == labels.cpu()).sum()\n",
        "\n",
        "               else :\n",
        "                   correct += (predicted == labels).sum()\n",
        "\n",
        "           accuracy = 100 * correct / total\n",
        "           print(f'Iteration : {iter} Loss : {loss.item()} Accuracy : {accuracy}')"
      ],
      "metadata": {
        "colab": {
          "base_uri": "https://localhost:8080/"
        },
        "id": "w-K50jQ6-YAS",
        "outputId": "853a639d-9533-4896-a62b-98f2c66b5fdf"
      },
      "execution_count": 9,
      "outputs": [
        {
          "output_type": "stream",
          "name": "stdout",
          "text": [
            "Iteration : 500 Loss : 2.134519100189209 Accuracy : 30.81999969482422\n",
            "Iteration : 1000 Loss : 0.6222419142723083 Accuracy : 79.87999725341797\n",
            "Iteration : 1500 Loss : 0.39754799008369446 Accuracy : 84.13999938964844\n",
            "Iteration : 2000 Loss : 0.10906948149204254 Accuracy : 93.88999938964844\n",
            "Iteration : 2500 Loss : 0.032319746911525726 Accuracy : 95.86000061035156\n",
            "Iteration : 3000 Loss : 0.08920536190271378 Accuracy : 95.73999786376953\n",
            "Iteration : 3500 Loss : 0.150232195854187 Accuracy : 96.6500015258789\n",
            "Iteration : 4000 Loss : 0.11283843219280243 Accuracy : 96.41000366210938\n",
            "Iteration : 4500 Loss : 0.043899863958358765 Accuracy : 97.54000091552734\n",
            "Iteration : 5000 Loss : 0.03765476495027542 Accuracy : 97.3499984741211\n",
            "Iteration : 5500 Loss : 0.008539587259292603 Accuracy : 97.45999908447266\n",
            "Iteration : 6000 Loss : 0.12326741218566895 Accuracy : 97.55000305175781\n",
            "Iteration : 6500 Loss : 0.034107912331819534 Accuracy : 97.95999908447266\n",
            "Iteration : 7000 Loss : 0.03855565935373306 Accuracy : 97.83999633789062\n",
            "Iteration : 7500 Loss : 0.15051724016666412 Accuracy : 97.52999877929688\n",
            "Iteration : 8000 Loss : 0.13184405863285065 Accuracy : 98.05999755859375\n",
            "Iteration : 8500 Loss : 0.07732900232076645 Accuracy : 98.0\n",
            "Iteration : 9000 Loss : 0.022684957832098007 Accuracy : 98.16000366210938\n"
          ]
        }
      ]
    },
    {
      "cell_type": "markdown",
      "source": [
        "- 정확도가 98%로 상당이 높은 것을 확인할 수 있음"
      ],
      "metadata": {
        "id": "A5daHzBvCjhL"
      }
    },
    {
      "cell_type": "markdown",
      "source": [
        "- 테스트 데이터셋을 이용한 모델 예측 성능 확"
      ],
      "metadata": {
        "id": "t2CptTN6CnDp"
      }
    },
    {
      "cell_type": "code",
      "source": [
        "def evaluate(model, val_iter) :\n",
        "    corrects, total, total_loss = 0, 0, 0\n",
        "    model.eval()\n",
        "    for images, labels in val_iter :\n",
        "        if torch.cuda.is_available() :\n",
        "            images = Variable(images.view(-1, seq_dim, input_dim).cuda())\n",
        "        else :\n",
        "            images = Variable(images.view(-1, seq_dim, input_dim).to(device))\n",
        "\n",
        "        logit = model(images).to(device)\n",
        "        loss = F.cross_entropy(logit, labels, reduction='sum')\n",
        "        _, predicted = torch.max(logit.data, 1)\n",
        "        total += labels.size(0)\n",
        "        total_loss += loss.item()\n",
        "        corrects += (predicted == labels).sum()\n",
        "\n",
        "    avg_loss = total_loss / len(val_iter.dataset)\n",
        "    avg_accuracy = corrects / total\n",
        "    return avg_loss, avg_accuracy"
      ],
      "metadata": {
        "id": "-LAxCYmFCrGq"
      },
      "execution_count": 10,
      "outputs": []
    },
    {
      "cell_type": "markdown",
      "source": [
        "- 모델 예측 성능 확인"
      ],
      "metadata": {
        "id": "gBSVzO7hCuxt"
      }
    },
    {
      "cell_type": "code",
      "source": [
        "test_loss, test_acc = evaluate(model, test_loader)\n",
        "print(f'Test Loss : {test_loss:5.2f} | Test Accuracy : {test_acc:5.2f}')"
      ],
      "metadata": {
        "colab": {
          "base_uri": "https://localhost:8080/"
        },
        "id": "uw9vxN4mCw2-",
        "outputId": "814a0470-98ce-480e-82e8-2e92bf3102fe"
      },
      "execution_count": 11,
      "outputs": [
        {
          "output_type": "stream",
          "name": "stdout",
          "text": [
            "Test Loss :  0.06 | Test Accuracy :  0.98\n"
          ]
        }
      ]
    },
    {
      "cell_type": "markdown",
      "source": [
        "## 7.5.3 LSTM 계층 구현"
      ],
      "metadata": {
        "id": "cUmF1_2WC2o9"
      }
    },
    {
      "cell_type": "markdown",
      "source": [
        "- 라이브러리 호출"
      ],
      "metadata": {
        "id": "HWCOdgoOC4Z3"
      }
    },
    {
      "cell_type": "code",
      "source": [
        "import os\n",
        "import time\n",
        "\n",
        "import numpy as np\n",
        "import pandas as pd\n",
        "import matplotlib.pyplot as plt\n",
        "\n",
        "import torch\n",
        "import torch.nn as nn\n",
        "from torch.utils.data import TensorDataset, DataLoader\n",
        "from torch.autograd import Variable\n",
        "from tqdm import tqdm_notebook\n",
        "from sklearn.preprocessing import StandardScaler, MinMaxScaler\n",
        "from sklearn.model_selection import train_test_split\n",
        "\n",
        "device = torch.device('cuda:0' if torch.cuda.is_available() else 'cpu')\n",
        "\n",
        "data = pd.read_csv('/content/drive/MyDrive/25-1 ESAA OB/SBUX.csv')\n",
        "print(data.dtypes)"
      ],
      "metadata": {
        "colab": {
          "base_uri": "https://localhost:8080/"
        },
        "id": "AdyiLhm7C3KQ",
        "outputId": "a8cf589d-7c86-4fdd-868d-fd08fbaf31d0"
      },
      "execution_count": 12,
      "outputs": [
        {
          "output_type": "stream",
          "name": "stdout",
          "text": [
            "Date          object\n",
            "Open         float64\n",
            "High         float64\n",
            "Low          float64\n",
            "Close        float64\n",
            "Adj Close    float64\n",
            "Volume         int64\n",
            "dtype: object\n"
          ]
        }
      ]
    },
    {
      "cell_type": "markdown",
      "source": [
        "- 날짜 갈럼을 인텍스로 사용"
      ],
      "metadata": {
        "id": "I2o5pGKyEq2N"
      }
    },
    {
      "cell_type": "code",
      "source": [
        "print(data.columns)"
      ],
      "metadata": {
        "colab": {
          "base_uri": "https://localhost:8080/"
        },
        "id": "2q276YEzFCUQ",
        "outputId": "5dbd6528-7194-4315-9c5b-b4925273e4a3"
      },
      "execution_count": 13,
      "outputs": [
        {
          "output_type": "stream",
          "name": "stdout",
          "text": [
            "Index(['Date', 'Open', 'High', 'Low', 'Close', 'Adj Close', 'Volume'], dtype='object')\n"
          ]
        }
      ]
    },
    {
      "cell_type": "code",
      "source": [
        "data['Date'] = pd.to_datetime(data['Date'])\n",
        "data.set_index('Date', inplace=True)"
      ],
      "metadata": {
        "id": "NDUj_FYREthr"
      },
      "execution_count": 14,
      "outputs": []
    },
    {
      "cell_type": "markdown",
      "source": [
        "- 데이터 형식 변경"
      ],
      "metadata": {
        "id": "F19yDlHSFT_p"
      }
    },
    {
      "cell_type": "code",
      "source": [
        "data['Volume'] = data['Volume'].astype(float)"
      ],
      "metadata": {
        "id": "xYf4GfW0FU_G"
      },
      "execution_count": 15,
      "outputs": []
    },
    {
      "cell_type": "markdown",
      "source": [
        "-  훈련과 레이블 분리"
      ],
      "metadata": {
        "id": "oegf_TtXFbHl"
      }
    },
    {
      "cell_type": "code",
      "source": [
        "X = data.iloc[:, :-1]\n",
        "y = data.iloc[:, 5:6]\n",
        "print(X)\n",
        "print(y)"
      ],
      "metadata": {
        "colab": {
          "base_uri": "https://localhost:8080/"
        },
        "id": "2YNOu3AjFc8V",
        "outputId": "2a3360c7-e718-4255-82d2-8c525c6b6adb"
      },
      "execution_count": 16,
      "outputs": [
        {
          "output_type": "stream",
          "name": "stdout",
          "text": [
            "                  Open        High         Low       Close   Adj Close\n",
            "Date                                                                  \n",
            "2019-12-11   86.260002   86.870003   85.849998   86.589996   84.145752\n",
            "2019-12-12   88.000000   88.889999   87.540001   88.209999   85.720032\n",
            "2019-12-13   88.019997   88.790001   87.580002   88.669998   86.167046\n",
            "2019-12-16   89.139999   89.300003   88.430000   88.779999   86.273941\n",
            "2019-12-17   88.870003   88.970001   87.470001   88.129997   85.642288\n",
            "...                ...         ...         ...         ...         ...\n",
            "2020-12-04  101.349998  102.940002  101.070000  102.279999  101.442787\n",
            "2020-12-07  102.010002  102.220001  100.690002  101.410004  100.579918\n",
            "2020-12-08  100.370003  101.570000  100.010002  101.209999  100.381554\n",
            "2020-12-09  101.940002  102.209999  100.099998  100.400002   99.578186\n",
            "2020-12-10  103.510002  106.089996  102.750000  105.389999  104.527336\n",
            "\n",
            "[253 rows x 5 columns]\n",
            "                Volume\n",
            "Date                  \n",
            "2019-12-11   4921900.0\n",
            "2019-12-12  10282100.0\n",
            "2019-12-13   6714100.0\n",
            "2019-12-16   6705600.0\n",
            "2019-12-17   7296900.0\n",
            "...                ...\n",
            "2020-12-04   6952700.0\n",
            "2020-12-07   4514800.0\n",
            "2020-12-08   3911300.0\n",
            "2020-12-09   6629900.0\n",
            "2020-12-10  12939200.0\n",
            "\n",
            "[253 rows x 1 columns]\n"
          ]
        }
      ]
    },
    {
      "cell_type": "markdown",
      "source": [
        "-  데이터 분포 조정"
      ],
      "metadata": {
        "id": "lRSwcGR9Fgz5"
      }
    },
    {
      "cell_type": "code",
      "source": [
        "ms = MinMaxScaler()\n",
        "ss = StandardScaler()\n",
        "\n",
        "X_ss = ss.fit_transform(X)\n",
        "y_ms = ms.fit_transform(y)\n",
        "\n",
        "X_train = X_ss[:200, :]\n",
        "X_test = X_ss[200:, :]\n",
        "\n",
        "y_train = y_ms[:200, :]\n",
        "y_test = y_ms[200:, :]\n",
        "\n",
        "print('Training Shape :', X_train.shape, y_train.shape)\n",
        "print('Testing Shape :', X_test.shape, y_test.shape)"
      ],
      "metadata": {
        "colab": {
          "base_uri": "https://localhost:8080/"
        },
        "id": "9r06h-BqFjR6",
        "outputId": "820e8d91-42c6-4e68-e241-90573b70ae27"
      },
      "execution_count": 17,
      "outputs": [
        {
          "output_type": "stream",
          "name": "stdout",
          "text": [
            "Training Shape : (200, 5) (200, 1)\n",
            "Testing Shape : (53, 5) (53, 1)\n"
          ]
        }
      ]
    },
    {
      "cell_type": "markdown",
      "source": [
        "- 데이터셋의 형태 및 크기 조정"
      ],
      "metadata": {
        "id": "ryNbDySTFl1h"
      }
    },
    {
      "cell_type": "code",
      "source": [
        "X_train_tensors = Variable(torch.Tensor(X_train))\n",
        "X_test_tensors = Variable(torch.Tensor(X_test))\n",
        "\n",
        "y_train_tensors = Variable(torch.Tensor(y_train))\n",
        "y_test_tensors = Variable(torch.Tensor(y_test))\n",
        "\n",
        "X_train_tensors_f = torch.reshape(X_train_tensors, (X_train_tensors.shape[0],\n",
        "                                                  1, X_train_tensors.shape[1]))\n",
        "X_test_tensors_f = torch.reshape(X_test_tensors, (X_test_tensors.shape[0],\n",
        "                                                 1, X_test_tensors.shape[1]))\n",
        "\n",
        "print('Training Shape :', X_train_tensors_f.shape, y_train_tensors.shape)\n",
        "print('Testing Shape :', X_test_tensors_f.shape, y_test_tensors.shape)"
      ],
      "metadata": {
        "colab": {
          "base_uri": "https://localhost:8080/"
        },
        "id": "ECxZzLRwFnzT",
        "outputId": "a9ac80ab-1711-48ba-c04c-1c9ac2ecc9b4"
      },
      "execution_count": 18,
      "outputs": [
        {
          "output_type": "stream",
          "name": "stdout",
          "text": [
            "Training Shape : torch.Size([200, 1, 5]) torch.Size([200, 1])\n",
            "Testing Shape : torch.Size([53, 1, 5]) torch.Size([53, 1])\n"
          ]
        }
      ]
    },
    {
      "cell_type": "markdown",
      "source": [
        "-  LSTM 네트워크"
      ],
      "metadata": {
        "id": "M59A-zLZFqoP"
      }
    },
    {
      "cell_type": "code",
      "source": [
        "class LSTM(nn.Module) :\n",
        "    def __init__(self, num_classes, input_size, hidden_size, num_layers, seq_length) :\n",
        "        super(LSTM, self).__init__()\n",
        "        self.num_classes = num_classes\n",
        "        self.num_layers = num_layers\n",
        "        self.input_size = input_size\n",
        "        self.hidden_size = hidden_size\n",
        "        self.seq_length = seq_length\n",
        "\n",
        "        self.lstm = nn.LSTM(input_size=input_size, hidden_size=hidden_size,\n",
        "                           num_layers=num_layers, batch_first=True)\n",
        "        self.fc_1 = nn.Linear(hidden_size, 128)\n",
        "        self.fc = nn.Linear(128, num_classes)\n",
        "        self.relu = nn.ReLU()\n",
        "\n",
        "    def forward(self, x) :\n",
        "        h_0 = Variable(torch.zeros(self.num_layers, x.size(0), self.hidden_size))\n",
        "        c_0 = Variable(torch.zeros(self.num_layers, x.size(0), self.hidden_size))\n",
        "        output, (hn, cn) = self.lstm(x, (h_0, c_0))\n",
        "        hn = hn.view(-1, self.hidden_size)\n",
        "        out = self.relu(hn)\n",
        "        out = self.fc_1(out)\n",
        "        out = self.relu(out)\n",
        "        out = self.fc(out)\n",
        "        return out"
      ],
      "metadata": {
        "id": "vHUWmyU7FsvT"
      },
      "execution_count": 19,
      "outputs": []
    },
    {
      "cell_type": "markdown",
      "source": [
        "- 변수 값 설정\n"
      ],
      "metadata": {
        "id": "w5kv5mh0Fuu5"
      }
    },
    {
      "cell_type": "code",
      "source": [
        "num_epochs = 1000\n",
        "lr = 0.0001\n",
        "\n",
        "input_size=5\n",
        "hidden_size=2\n",
        "num_layers=1\n",
        "\n",
        "num_classes=1\n",
        "model = LSTM(num_classes, input_size, hidden_size, num_layers, X_train_tensors_f.shape[1])\n",
        "\n",
        "criterion = torch.nn.MSELoss()\n",
        "optimizer = torch.optim.Adam(model.parameters(), lr=learning_rate)"
      ],
      "metadata": {
        "id": "FyjRbVLRFxn0"
      },
      "execution_count": 20,
      "outputs": []
    },
    {
      "cell_type": "markdown",
      "source": [
        "- 모델 학습"
      ],
      "metadata": {
        "id": "SO9pBmHIFz1I"
      }
    },
    {
      "cell_type": "code",
      "source": [
        "for epoch in range(num_epochs) :\n",
        "    outputs = model.forward(X_train_tensors_f)\n",
        "    optimizer.zero_grad()\n",
        "    loss = criterion(outputs, y_train_tensors)\n",
        "    loss.backward()\n",
        "\n",
        "    optimizer.step()\n",
        "    if epoch % 100 == 0 :\n",
        "        print(f'Epoch : {epoch}, loss : {loss.item():1.5f}')"
      ],
      "metadata": {
        "colab": {
          "base_uri": "https://localhost:8080/"
        },
        "id": "1bsS4dmIF2dh",
        "outputId": "930d71e6-9b02-4657-c7f0-3f52ce5588a9"
      },
      "execution_count": 21,
      "outputs": [
        {
          "output_type": "stream",
          "name": "stdout",
          "text": [
            "Epoch : 0, loss : 0.14250\n",
            "Epoch : 100, loss : 0.01529\n",
            "Epoch : 200, loss : 0.01107\n",
            "Epoch : 300, loss : 0.01075\n",
            "Epoch : 400, loss : 0.01075\n",
            "Epoch : 500, loss : 0.01086\n",
            "Epoch : 600, loss : 0.01093\n",
            "Epoch : 700, loss : 0.01060\n",
            "Epoch : 800, loss : 0.01063\n",
            "Epoch : 900, loss : 0.01060\n"
          ]
        }
      ]
    },
    {
      "cell_type": "markdown",
      "source": [
        "- 모댈 예측 결과를 출력하기 위한 데이터 크기 재구성"
      ],
      "metadata": {
        "id": "GfypCpBjF5sh"
      }
    },
    {
      "cell_type": "code",
      "source": [
        "df_x_ss = ss.transform(data.iloc[:, :-1])\n",
        "df_y_ms = ms.transform(data.iloc[:, -1:])\n",
        "\n",
        "df_x_ss = Variable(torch.Tensor(df_x_ss))\n",
        "df_y_ms = Variable(torch.Tensor(df_y_ms))\n",
        "df_x_ss = torch.reshape(df_x_ss, (df_x_ss.shape[0], 1, df_x_ss.shape[1]))\n",
        "train_predict = model(df_x_ss)\n",
        "predicted = train_predict.data.numpy()\n",
        "label_y = df_y_ms.data.numpy()\n",
        "\n",
        "predicted = ms.inverse_transform(predicted)\n",
        "label_y = ms.inverse_transform(label_y)\n",
        "plt.figure(figsize=(10, 6))\n",
        "plt.axvline(x=200, c='r', linestyle='--')\n",
        "\n",
        "plt.plot(label_y, label='Actual Data')\n",
        "plt.plot(predicted, label='Predicted Data')\n",
        "plt.title('Time-Series Prediction')\n",
        "plt.legend()\n",
        "plt.show()"
      ],
      "metadata": {
        "colab": {
          "base_uri": "https://localhost:8080/",
          "height": 545
        },
        "id": "0_hxvotXF8WB",
        "outputId": "c4091492-b89d-4dc7-d95b-478fe5f2f5a6"
      },
      "execution_count": 22,
      "outputs": [
        {
          "output_type": "display_data",
          "data": {
            "text/plain": [
              "<Figure size 1000x600 with 1 Axes>"
            ],
            "image/png": "[encoded data removed]"
          },
          "metadata": {}
        }
      ]
    }
  ]
}